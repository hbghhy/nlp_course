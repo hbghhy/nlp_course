{
 "cells": [
  {
   "cell_type": "markdown",
   "metadata": {
    "colab_type": "text",
    "id": "wwY-RPHX-qu2"
   },
   "source": [
    "# Large scale text analysis with deep learning (3 points)\n",
    "\n",
    "Today we're gonna apply the newly learned tools for the task of predicting job salary.\n",
    "\n",
    "<img src=\"https://kaggle2.blob.core.windows.net/competitions/kaggle/3342/media/salary%20prediction%20engine%20v2.png\" width=400px>\n",
    "\n",
    "_Special thanks to [Oleg Vasilev](https://github.com/Omrigan/) for the core assignment idea._"
   ]
  },
  {
   "cell_type": "code",
   "execution_count": 0,
   "metadata": {
    "colab": {},
    "colab_type": "code",
    "id": "TsoxWPAK-qu5"
   },
   "outputs": [],
   "source": [
    "import numpy as np\n",
    "import pandas as pd\n",
    "import matplotlib.pyplot as plt\n",
    "%matplotlib inline"
   ]
  },
  {
   "cell_type": "markdown",
   "metadata": {
    "colab_type": "text",
    "id": "Loe5BwmG-qu8"
   },
   "source": [
    "### About the challenge\n",
    "For starters, let's download and unpack the data from [here](https://www.dropbox.com/s/5msc5ix7ndyba10/Train_rev1.csv.tar.gz?dl=0). \n",
    "\n",
    "You can also get it from [yadisk url](https://yadi.sk/d/vVEOWPFY3NruT7) the competition [page](https://www.kaggle.com/c/job-salary-prediction/data) (pick `Train_rev1.*`)."
   ]
  },
  {
   "cell_type": "code",
   "execution_count": 2,
   "metadata": {
    "colab": {
     "base_uri": "https://localhost:8080/",
     "height": 136
    },
    "colab_type": "code",
    "id": "E6-yCTNk-qu8",
    "outputId": "636a64e4-b716-4864-c9ac-ec835c0f8844"
   },
   "outputs": [
    {
     "name": "stdout",
     "output_type": "stream",
     "text": [
      "  % Total    % Received % Xferd  Average Speed   Time    Time     Time  Current\n",
      "                                 Dload  Upload   Total   Spent    Left  Speed\n",
      "\r",
      "  0     0    0     0    0     0      0      0 --:--:-- --:--:-- --:--:--     0\r",
      "  0     0    0     0    0     0      0      0 --:--:-- --:--:-- --:--:--     0\r",
      "  0     0    0     0    0     0      0      0 --:--:-- --:--:-- --:--:--     0\n",
      "  0     0    0     0    0     0      0      0 --:--:-- --:--:-- --:--:--     0\n",
      "100  119M  100  119M    0     0  34.5M      0  0:00:03  0:00:03 --:--:-- 51.1M\n",
      "Train_rev1.csv\n"
     ]
    },
    {
     "data": {
      "text/plain": [
       "(244768, 12)"
      ]
     },
     "execution_count": 2,
     "metadata": {
      "tags": []
     },
     "output_type": "execute_result"
    }
   ],
   "source": [
    "!curl -L https://www.dropbox.com/s/5msc5ix7ndyba10/Train_rev1.csv.tar.gz?dl=1 -o Train_rev1.csv.tar.gz\n",
    "!tar -xvzf ./Train_rev1.csv.tar.gz\n",
    "data = pd.read_csv(\"./Train_rev1.csv\", index_col=None)\n",
    "data.shape"
   ]
  },
  {
   "cell_type": "markdown",
   "metadata": {
    "colab_type": "text",
    "id": "okZpkzI1-qvB"
   },
   "source": [
    "One problem with salary prediction is that it's oddly distributed: there are many people who are paid standard salaries and a few that get tons o money. The distribution is fat-tailed on the right side, which is inconvenient for MSE minimization.\n",
    "\n",
    "There are several techniques to combat this: using a different loss function, predicting log-target instead of raw target or even replacing targets with their percentiles among all salaries in the training set. We gonna use logarithm for now.\n",
    "\n",
    "_You can read more [in the official description](https://www.kaggle.com/c/job-salary-prediction#description)._"
   ]
  },
  {
   "cell_type": "code",
   "execution_count": 3,
   "metadata": {
    "colab": {
     "base_uri": "https://localhost:8080/",
     "height": 265
    },
    "colab_type": "code",
    "id": "w84uTCFV-qvB",
    "outputId": "e42f21db-4b82-4b53-ab47-653599c521f7"
   },
   "outputs": [
    {
     "data": {
      "image/png": "[encoded data removed]",
      "text/plain": [
       "<matplotlib.figure.Figure at 0x7fea959e3f98>"
      ]
     },
     "metadata": {
      "tags": []
     },
     "output_type": "display_data"
    }
   ],
   "source": [
    "data['Log1pSalary'] = np.log1p(data['SalaryNormalized']).astype('float32')\n",
    "\n",
    "plt.figure(figsize=[8, 4])\n",
    "plt.subplot(1, 2, 1)\n",
    "plt.hist(data[\"SalaryNormalized\"], bins=20);\n",
    "\n",
    "plt.subplot(1, 2, 2)\n",
    "plt.hist(data['Log1pSalary'], bins=20);"
   ]
  },
  {
   "cell_type": "markdown",
   "metadata": {
    "colab_type": "text",
    "id": "r3YJAOnw-qvE"
   },
   "source": [
    "Our task is to predict one number, __Log1pSalary__.\n",
    "\n",
    "To do so, our model can access a number of features:\n",
    "* Free text: __`Title`__ and  __`FullDescription`__\n",
    "* Categorical: __`Category`__, __`Company`__, __`LocationNormalized`__, __`ContractType`__, and __`ContractTime`__."
   ]
  },
  {
   "cell_type": "code",
   "execution_count": 4,
   "metadata": {
    "colab": {
     "base_uri": "https://localhost:8080/",
     "height": 281
    },
    "colab_type": "code",
    "id": "xH1nFLMY-qvF",
    "outputId": "52066918-7584-4b23-867b-b65a5255abaa"
   },
   "outputs": [
    {
     "data": {
      "text/html": [
       "<div>\n",
       "<style scoped>\n",
       "    .dataframe tbody tr th:only-of-type {\n",
       "        vertical-align: middle;\n",
       "    }\n",
       "\n",
       "    .dataframe tbody tr th {\n",
       "        vertical-align: top;\n",
       "    }\n",
       "\n",
       "    .dataframe thead th {\n",
       "        text-align: right;\n",
       "    }\n",
       "</style>\n",
       "<table border=\"1\" class=\"dataframe\">\n",
       "  <thead>\n",
       "    <tr style=\"text-align: right;\">\n",
       "      <th></th>\n",
       "      <th>Id</th>\n",
       "      <th>Title</th>\n",
       "      <th>FullDescription</th>\n",
       "      <th>LocationRaw</th>\n",
       "      <th>LocationNormalized</th>\n",
       "      <th>ContractType</th>\n",
       "      <th>ContractTime</th>\n",
       "      <th>Company</th>\n",
       "      <th>Category</th>\n",
       "      <th>SalaryRaw</th>\n",
       "      <th>SalaryNormalized</th>\n",
       "      <th>SourceName</th>\n",
       "      <th>Log1pSalary</th>\n",
       "    </tr>\n",
       "  </thead>\n",
       "  <tbody>\n",
       "    <tr>\n",
       "      <th>41137</th>\n",
       "      <td>68373618</td>\n",
       "      <td>Data Analyst  Financial Services</td>\n",
       "      <td>Data Analyst required for a leading Financial ...</td>\n",
       "      <td>City of London London England</td>\n",
       "      <td>The City</td>\n",
       "      <td>NaN</td>\n",
       "      <td>NaN</td>\n",
       "      <td>Matchtech</td>\n",
       "      <td>IT Jobs</td>\n",
       "      <td>39000 -42000 per annum</td>\n",
       "      <td>40500</td>\n",
       "      <td>gojobsearch.co.uk</td>\n",
       "      <td>10.609082</td>\n",
       "    </tr>\n",
       "    <tr>\n",
       "      <th>47091</th>\n",
       "      <td>68573375</td>\n",
       "      <td>Senior Accountant</td>\n",
       "      <td>Senior Accountant Bristol ****  **** A wellest...</td>\n",
       "      <td>Gloucestershire - Bristol</td>\n",
       "      <td>UK</td>\n",
       "      <td>full_time</td>\n",
       "      <td>permanent</td>\n",
       "      <td>UKStaffsearch</td>\n",
       "      <td>Accounting &amp; Finance Jobs</td>\n",
       "      <td>35000 - 55000</td>\n",
       "      <td>45000</td>\n",
       "      <td>ukstaffsearch.com</td>\n",
       "      <td>10.714440</td>\n",
       "    </tr>\n",
       "    <tr>\n",
       "      <th>233789</th>\n",
       "      <td>72481895</td>\n",
       "      <td>Data Analyst</td>\n",
       "      <td>My Client based in Leeds City Centre is a glob...</td>\n",
       "      <td>Leeds</td>\n",
       "      <td>Leeds</td>\n",
       "      <td>NaN</td>\n",
       "      <td>contract</td>\n",
       "      <td>Selection Group Ltd</td>\n",
       "      <td>Accounting &amp; Finance Jobs</td>\n",
       "      <td>7.50 - 8.70 p/hr</td>\n",
       "      <td>15552</td>\n",
       "      <td>jobsite.co.uk</td>\n",
       "      <td>9.652009</td>\n",
       "    </tr>\n",
       "  </tbody>\n",
       "</table>\n",
       "</div>"
      ],
      "text/plain": [
       "              Id                             Title  \\\n",
       "41137   68373618  Data Analyst  Financial Services   \n",
       "47091   68573375                 Senior Accountant   \n",
       "233789  72481895                      Data Analyst   \n",
       "\n",
       "                                          FullDescription  \\\n",
       "41137   Data Analyst required for a leading Financial ...   \n",
       "47091   Senior Accountant Bristol ****  **** A wellest...   \n",
       "233789  My Client based in Leeds City Centre is a glob...   \n",
       "\n",
       "                          LocationRaw LocationNormalized ContractType  \\\n",
       "41137   City of London London England           The City          NaN   \n",
       "47091       Gloucestershire - Bristol                 UK    full_time   \n",
       "233789                          Leeds              Leeds          NaN   \n",
       "\n",
       "       ContractTime              Company                   Category  \\\n",
       "41137           NaN            Matchtech                    IT Jobs   \n",
       "47091     permanent        UKStaffsearch  Accounting & Finance Jobs   \n",
       "233789     contract  Selection Group Ltd  Accounting & Finance Jobs   \n",
       "\n",
       "                     SalaryRaw  SalaryNormalized         SourceName  \\\n",
       "41137   39000 -42000 per annum             40500  gojobsearch.co.uk   \n",
       "47091            35000 - 55000             45000  ukstaffsearch.com   \n",
       "233789        7.50 - 8.70 p/hr             15552      jobsite.co.uk   \n",
       "\n",
       "        Log1pSalary  \n",
       "41137     10.609082  \n",
       "47091     10.714440  \n",
       "233789     9.652009  "
      ]
     },
     "execution_count": 4,
     "metadata": {
      "tags": []
     },
     "output_type": "execute_result"
    }
   ],
   "source": [
    "text_columns = [\"Title\", \"FullDescription\"]\n",
    "categorical_columns = [\"Category\", \"Company\", \"LocationNormalized\", \"ContractType\", \"ContractTime\"]\n",
    "target_column = \"Log1pSalary\"\n",
    "\n",
    "data[categorical_columns] = data[categorical_columns].fillna('NaN') # cast missing values to string \"NaN\"\n",
    "\n",
    "data.sample(3)"
   ]
  },
  {
   "cell_type": "markdown",
   "metadata": {
    "colab_type": "text",
    "id": "OkJUCD8F-qvH"
   },
   "source": [
    "### Preprocessing text data\n",
    "\n",
    "Just like last week, applying NLP to a problem begins from tokenization: splitting raw text into sequences of tokens (words, punctuation, etc).\n",
    "\n",
    "__Your task__ is to lowercase and tokenize all texts under `Title` and `FullDescription` columns. Store the tokenized data as a __space-separated__ string of tokens for performance reasons.\n",
    "\n",
    "It's okay to use nltk tokenizers. Assertions were designed for WordPunctTokenizer, slight deviations are okay."
   ]
  },
  {
   "cell_type": "code",
   "execution_count": 5,
   "metadata": {
    "colab": {
     "base_uri": "https://localhost:8080/",
     "height": 102
    },
    "colab_type": "code",
    "id": "VXp_IKi--qvH",
    "outputId": "f324f0d5-705b-4dc5-b8ce-87dbd0f2c33f"
   },
   "outputs": [
    {
     "name": "stdout",
     "output_type": "stream",
     "text": [
      "Raw text:\n",
      "2         Mathematical Modeller / Simulation Analyst / O...\n",
      "100002    A successful and high achieving specialist sch...\n",
      "200002    Web Designer  HTML, CSS, JavaScript, Photoshop...\n",
      "Name: FullDescription, dtype: object\n"
     ]
    }
   ],
   "source": [
    "print(\"Raw text:\")\n",
    "print(data[\"FullDescription\"][2::100000])"
   ]
  },
  {
   "cell_type": "code",
   "execution_count": 0,
   "metadata": {
    "colab": {},
    "colab_type": "code",
    "id": "CjssuIwv-qvJ"
   },
   "outputs": [],
   "source": [
    "import nltk\n",
    "tokenizer = nltk.tokenize.WordPunctTokenizer()\n",
    "\n",
    "# see task above\n",
    "preprocess = lambda text: ' '.join(tokenizer.tokenize(str(text).lower()))\n",
    "\n",
    "for col in text_columns:\n",
    "  data[col]=data[col].map(preprocess)"
   ]
  },
  {
   "cell_type": "markdown",
   "metadata": {
    "colab_type": "text",
    "id": "VVt3N_j7-qvL"
   },
   "source": [
    "Now we can assume that our text is a space-separated list of tokens:"
   ]
  },
  {
   "cell_type": "code",
   "execution_count": 7,
   "metadata": {
    "colab": {
     "base_uri": "https://localhost:8080/",
     "height": 102
    },
    "colab_type": "code",
    "id": "Mjxxc7Ai-qvM",
    "outputId": "f358668c-705c-4cfe-98df-a64fe89cf746"
   },
   "outputs": [
    {
     "name": "stdout",
     "output_type": "stream",
     "text": [
      "Tokenized:\n",
      "2         mathematical modeller / simulation analyst / o...\n",
      "100002    a successful and high achieving specialist sch...\n",
      "200002    web designer html , css , javascript , photosh...\n",
      "Name: FullDescription, dtype: object\n"
     ]
    }
   ],
   "source": [
    "print(\"Tokenized:\")\n",
    "print(data[\"FullDescription\"][2::100000])\n",
    "assert data[\"FullDescription\"][2][:50] == 'mathematical modeller / simulation analyst / opera'\n",
    "assert data[\"Title\"][54321] == 'international digital account manager ( german )'"
   ]
  },
  {
   "cell_type": "markdown",
   "metadata": {
    "colab_type": "text",
    "id": "EM8jlzRj-qvP"
   },
   "source": [
    "Not all words are equally useful. Some of them are typos or rare words that are only present a few times. \n",
    "\n",
    "Let's count how many times is each word present in the data so that we can build a \"white list\" of known words."
   ]
  },
  {
   "cell_type": "code",
   "execution_count": 0,
   "metadata": {
    "colab": {},
    "colab_type": "code",
    "id": "Pz5RRLqJ-qvP"
   },
   "outputs": [],
   "source": [
    "# Count how many times does each token occur in both \"Title\" and \"FullDescription\" in total\n",
    "# build a dictionary { token -> it's count }\n",
    "\n",
    "from collections import Counter\n",
    "\n",
    "token_counts = Counter()\n",
    "for col in text_columns:\n",
    "  for text in data[col]:\n",
    "    token_counts.update(text.split())\n",
    "\n",
    "# hint: you may or may not want to use collections.Counter"
   ]
  },
  {
   "cell_type": "code",
   "execution_count": 9,
   "metadata": {
    "colab": {
     "base_uri": "https://localhost:8080/",
     "height": 204
    },
    "colab_type": "code",
    "id": "4Z-JJgIW-qvR",
    "outputId": "f395713c-acb3-4d70-8980-c0636829f09d"
   },
   "outputs": [
    {
     "name": "stdout",
     "output_type": "stream",
     "text": [
      "Total unique tokens : 202704\n",
      "('and', 2657388)\n",
      "('.', 2523216)\n",
      "(',', 2318606)\n",
      "('the', 2080994)\n",
      "('to', 2019884)\n",
      "...\n",
      "('stephanietraveltraderecruitmnt', 1)\n",
      "('ruabon', 1)\n",
      "('lowehays', 1)\n",
      "Correct!\n"
     ]
    }
   ],
   "source": [
    "print(\"Total unique tokens :\", len(token_counts))\n",
    "print('\\n'.join(map(str, token_counts.most_common(n=5))))\n",
    "print('...')\n",
    "print('\\n'.join(map(str, token_counts.most_common()[-3:])))\n",
    "\n",
    "assert token_counts.most_common(1)[0][1] in  range(2600000, 2700000)\n",
    "assert len(token_counts) in range(200000, 210000)\n",
    "print('Correct!')"
   ]
  },
  {
   "cell_type": "code",
   "execution_count": 10,
   "metadata": {
    "colab": {
     "base_uri": "https://localhost:8080/",
     "height": 279
    },
    "colab_type": "code",
    "id": "L2yMG4Dp-qvT",
    "outputId": "76ed2ccd-6fe3-4367-ad77-e16c8a4270b0"
   },
   "outputs": [
    {
     "data": {
      "image/png": "[encoded data removed]",
      "text/plain": [
       "<matplotlib.figure.Figure at 0x7fea95fd6ac8>"
      ]
     },
     "metadata": {
      "tags": []
     },
     "output_type": "display_data"
    }
   ],
   "source": [
    "# Let's see how many words are there for each count\n",
    "plt.hist(list(token_counts.values()), range=[0, 10**4], bins=50, log=True)\n",
    "plt.xlabel(\"Word counts\");"
   ]
  },
  {
   "cell_type": "markdown",
   "metadata": {
    "colab_type": "text",
    "id": "YhR3gxZv-qvV"
   },
   "source": [
    "Now filter tokens a list of all tokens that occur at least 10 times."
   ]
  },
  {
   "cell_type": "code",
   "execution_count": 0,
   "metadata": {
    "colab": {},
    "colab_type": "code",
    "id": "WS4IbNLa-qvW"
   },
   "outputs": [],
   "source": [
    "min_count = 10\n",
    "\n",
    "# tokens from token_counts keys that had at least min_count occurrences throughout the dataset\n",
    "tokens = [word for word,cnt in token_counts.items() if cnt>min_count]"
   ]
  },
  {
   "cell_type": "code",
   "execution_count": 12,
   "metadata": {
    "colab": {
     "base_uri": "https://localhost:8080/",
     "height": 51
    },
    "colab_type": "code",
    "id": "TOh3lwkz-qvZ",
    "outputId": "4af0a17c-ccf9-4aba-e617-b29c4e9c6e19"
   },
   "outputs": [
    {
     "name": "stdout",
     "output_type": "stream",
     "text": [
      "Vocabulary size: 32456\n",
      "Correct!\n"
     ]
    }
   ],
   "source": [
    "# Add a special tokens for unknown and empty words\n",
    "UNK, PAD = \"UNK\", \"PAD\"\n",
    "tokens = [UNK, PAD] + sorted(tokens)\n",
    "print(\"Vocabulary size:\", len(tokens))\n",
    "\n",
    "assert type(tokens) == list\n",
    "assert len(tokens) in range(32000, 35000)\n",
    "assert 'me' in tokens\n",
    "assert UNK in tokens\n",
    "print(\"Correct!\")"
   ]
  },
  {
   "cell_type": "markdown",
   "metadata": {
    "colab_type": "text",
    "id": "wibPdNdF-qvb"
   },
   "source": [
    "Build an inverse token index: a dictionary from token(string) to it's index in `tokens` (int)"
   ]
  },
  {
   "cell_type": "code",
   "execution_count": 0,
   "metadata": {
    "colab": {},
    "colab_type": "code",
    "id": "zxQxwSCC-qvc"
   },
   "outputs": [],
   "source": [
    "token_to_id = {token:index for index,token in enumerate(tokens)}"
   ]
  },
  {
   "cell_type": "code",
   "execution_count": 14,
   "metadata": {
    "colab": {
     "base_uri": "https://localhost:8080/",
     "height": 34
    },
    "colab_type": "code",
    "id": "W9QCmD6M-qvd",
    "outputId": "287062fd-a138-450a-ac73-c7b259fa139e"
   },
   "outputs": [
    {
     "name": "stdout",
     "output_type": "stream",
     "text": [
      "Correct!\n"
     ]
    }
   ],
   "source": [
    "assert isinstance(token_to_id, dict)\n",
    "assert len(token_to_id) == len(tokens)\n",
    "for tok in tokens:\n",
    "    assert tokens[token_to_id[tok]] == tok\n",
    "\n",
    "print(\"Correct!\")"
   ]
  },
  {
   "cell_type": "markdown",
   "metadata": {
    "colab_type": "text",
    "id": "DFcKqhGo-qvg"
   },
   "source": [
    "And finally, let's use the vocabulary you've built to map text lines into neural network-digestible matrices."
   ]
  },
  {
   "cell_type": "code",
   "execution_count": 0,
   "metadata": {
    "colab": {},
    "colab_type": "code",
    "id": "GqAFzMWg-qvg"
   },
   "outputs": [],
   "source": [
    "UNK_IX, PAD_IX = map(token_to_id.get, [UNK, PAD])\n",
    "\n",
    "def as_matrix(sequences, max_len=None):\n",
    "    \"\"\" Convert a list of tokens into a matrix with padding \"\"\"\n",
    "    if isinstance(sequences[0], str):\n",
    "        sequences = list(map(str.split, sequences))\n",
    "        \n",
    "    max_len = min(max(map(len, sequences)), max_len or float('inf'))\n",
    "    \n",
    "    matrix = np.full((len(sequences), max_len), np.int32(PAD_IX))\n",
    "    for i,seq in enumerate(sequences):\n",
    "        row_ix = [token_to_id.get(word, UNK_IX) for word in seq[:max_len]]\n",
    "        matrix[i, :len(row_ix)] = row_ix\n",
    "    \n",
    "    return matrix"
   ]
  },
  {
   "cell_type": "code",
   "execution_count": 16,
   "metadata": {
    "colab": {
     "base_uri": "https://localhost:8080/",
     "height": 170
    },
    "colab_type": "code",
    "id": "fJzobWZy-qvj",
    "outputId": "37c375e2-0a93-4aff-9725-8fa73362ad8a"
   },
   "outputs": [
    {
     "name": "stdout",
     "output_type": "stream",
     "text": [
      "Lines:\n",
      "engineering systems analyst\n",
      "hr assistant\n",
      "senior ec & i engineer\n",
      "\n",
      "Matrix:\n",
      "[[10273 28655  2055     1     1]\n",
      " [14296  2700     1     1     1]\n",
      " [26272  9698    14 14484 10270]]\n"
     ]
    }
   ],
   "source": [
    "print(\"Lines:\")\n",
    "print('\\n'.join(data[\"Title\"][::100000].values), end='\\n\\n')\n",
    "print(\"Matrix:\")\n",
    "print(as_matrix(data[\"Title\"][::100000]))"
   ]
  },
  {
   "cell_type": "markdown",
   "metadata": {
    "colab_type": "text",
    "id": "PHAYAGjT-qvk"
   },
   "source": [
    "Now let's  encode the categirical data we have.\n",
    "\n",
    "As usual, we shall use one-hot encoding for simplicity. Kudos if you implement more advanced encodings: tf-idf, pseudo-time-series, etc."
   ]
  },
  {
   "cell_type": "code",
   "execution_count": 17,
   "metadata": {
    "colab": {
     "base_uri": "https://localhost:8080/",
     "height": 51
    },
    "colab_type": "code",
    "id": "wvbxc9gK-qvl",
    "outputId": "d429a56a-925f-4cc6-e680-668f209bdb77"
   },
   "outputs": [
    {
     "data": {
      "text/plain": [
       "DictVectorizer(dtype=<class 'numpy.float32'>, separator='=', sort=True,\n",
       "        sparse=False)"
      ]
     },
     "execution_count": 17,
     "metadata": {
      "tags": []
     },
     "output_type": "execute_result"
    }
   ],
   "source": [
    "from sklearn.feature_extraction import DictVectorizer\n",
    "\n",
    "# we only consider top-1k most frequent companies to minimize memory usage\n",
    "top_companies, top_counts = zip(*Counter(data['Company']).most_common(1000))\n",
    "recognized_companies = set(top_companies)\n",
    "data[\"Company\"] = data[\"Company\"].apply(lambda comp: comp if comp in recognized_companies else \"Other\")\n",
    "\n",
    "categorical_vectorizer = DictVectorizer(dtype=np.float32, sparse=False)\n",
    "categorical_vectorizer.fit(data[categorical_columns].apply(dict, axis=1))"
   ]
  },
  {
   "cell_type": "markdown",
   "metadata": {
    "colab_type": "text",
    "id": "zp19SLb9-qvn"
   },
   "source": [
    "### The deep learning part\n",
    "\n",
    "Once we've learned to tokenize the data, let's design a machine learning experiment.\n",
    "\n",
    "As before, we won't focus too much on validation, opting for a simple train-test split.\n",
    "\n",
    "__To be completely rigorous,__ we've comitted a small crime here: we used the whole data for tokenization and vocabulary building. A more strict way would be to do that part on training set only. You may want to do that and measure the magnitude of changes."
   ]
  },
  {
   "cell_type": "code",
   "execution_count": 18,
   "metadata": {
    "colab": {
     "base_uri": "https://localhost:8080/",
     "height": 51
    },
    "colab_type": "code",
    "id": "Wu7sX5y4-qvn",
    "outputId": "df7c8a35-4d1c-439b-f2e3-83e3a4029fbd"
   },
   "outputs": [
    {
     "name": "stdout",
     "output_type": "stream",
     "text": [
      "Train size =  195814\n",
      "Validation size =  48954\n"
     ]
    }
   ],
   "source": [
    "from sklearn.model_selection import train_test_split\n",
    "\n",
    "data_train, data_val = train_test_split(data, test_size=0.2, random_state=42)\n",
    "data_train.index = range(len(data_train))\n",
    "data_val.index = range(len(data_val))\n",
    "\n",
    "print(\"Train size = \", len(data_train))\n",
    "print(\"Validation size = \", len(data_val))"
   ]
  },
  {
   "cell_type": "code",
   "execution_count": 0,
   "metadata": {
    "colab": {},
    "colab_type": "code",
    "id": "6tgnrzmH-qvp"
   },
   "outputs": [],
   "source": [
    "def make_batch(data, max_len=None, word_dropout=0):\n",
    "    \"\"\"\n",
    "    Creates a keras-friendly dict from the batch data.\n",
    "    :param word_dropout: replaces token index with UNK_IX with this probability\n",
    "    :returns: a dict with {'title' : int64[batch, title_max_len]\n",
    "    \"\"\"\n",
    "    batch = {}\n",
    "    batch[\"Title\"] = as_matrix(data[\"Title\"].values, max_len)\n",
    "    batch[\"FullDescription\"] = as_matrix(data[\"FullDescription\"].values, max_len)\n",
    "    batch['Categorical'] = categorical_vectorizer.transform(data[categorical_columns].apply(dict, axis=1))\n",
    "    \n",
    "    if word_dropout != 0:\n",
    "        batch[\"FullDescription\"] = apply_word_dropout(batch[\"FullDescription\"], 1. - word_dropout)\n",
    "    \n",
    "    if target_column in data.columns:\n",
    "        batch[target_column] = data[target_column].values\n",
    "    \n",
    "    return batch\n",
    "\n",
    "def apply_word_dropout(matrix, keep_prop, replace_with=UNK_IX, pad_ix=PAD_IX,):\n",
    "    dropout_mask = np.random.choice(2, np.shape(matrix), p=[keep_prop, 1 - keep_prop])\n",
    "    dropout_mask &= matrix != pad_ix\n",
    "    return np.choose(dropout_mask, [matrix, np.full_like(matrix, replace_with)])"
   ]
  },
  {
   "cell_type": "code",
   "execution_count": 20,
   "metadata": {
    "colab": {
     "base_uri": "https://localhost:8080/",
     "height": 238
    },
    "colab_type": "code",
    "id": "TWxCLI5d-qvr",
    "outputId": "42a49939-a239-4e36-ceff-2318306193c0"
   },
   "outputs": [
    {
     "data": {
      "text/plain": [
       "{'Categorical': array([[0., 0., 0., ..., 0., 0., 0.],\n",
       "        [0., 0., 0., ..., 0., 0., 0.],\n",
       "        [0., 0., 0., ..., 0., 0., 0.]], dtype=float32),\n",
       " 'FullDescription': array([[26272, 28401, 31999, 31307,   909, 26272, 28401, 31999, 15662,\n",
       "         31307],\n",
       "        [27772,   187, 18227, 19056, 14801, 22008,  3848, 24230,   836,\n",
       "            77],\n",
       "        [29212, 20872, 19591,  6092, 15662,  7773, 26125,   909, 28895,\n",
       "         16876]], dtype=int32),\n",
       " 'Log1pSalary': array([ 9.71154 , 10.463132, 10.71444 ], dtype=float32),\n",
       " 'Title': array([[26272, 28401, 31999,     1,     1,     1,     1],\n",
       "        [27772,   187, 18227, 19056, 14801, 22008,  3848],\n",
       "        [10082, 28895, 16876,    31,  8281, 27695,    61]], dtype=int32)}"
      ]
     },
     "execution_count": 20,
     "metadata": {
      "tags": []
     },
     "output_type": "execute_result"
    }
   ],
   "source": [
    "make_batch(data_train[:3], max_len=10)"
   ]
  },
  {
   "cell_type": "markdown",
   "metadata": {
    "colab_type": "text",
    "id": "d7Atmijv-qvs"
   },
   "source": [
    "#### Architecture\n",
    "\n",
    "Our basic model consists of three branches:\n",
    "* Title encoder\n",
    "* Description encoder\n",
    "* Categorical features encoder\n",
    "\n",
    "We will then feed all 3 branches into one common network that predicts salary.\n",
    "\n",
    "<img src=\"https://github.com/yandexdataschool/nlp_course/raw/master/resources/w2_conv_arch.png\" width=600px>"
   ]
  },
  {
   "cell_type": "markdown",
   "metadata": {
    "colab_type": "text",
    "id": "auB69Czd-qvt"
   },
   "source": [
    "This clearly doesn't fit into keras' __Sequential__ interface. To build such a network, one will have to use __[Keras Functional API](https://keras.io/models/model/)__."
   ]
  },
  {
   "cell_type": "code",
   "execution_count": 21,
   "metadata": {
    "colab": {
     "base_uri": "https://localhost:8080/",
     "height": 34
    },
    "colab_type": "code",
    "id": "y6iQiPWl-qvt",
    "outputId": "52a0b2fc-65c3-4077-9b19-6110a05db231"
   },
   "outputs": [
    {
     "name": "stderr",
     "output_type": "stream",
     "text": [
      "Using TensorFlow backend.\n"
     ]
    }
   ],
   "source": [
    "import keras\n",
    "import keras.layers as L"
   ]
  },
  {
   "cell_type": "code",
   "execution_count": 0,
   "metadata": {
    "colab": {},
    "colab_type": "code",
    "id": "sz0S7hZ3-qvv"
   },
   "outputs": [],
   "source": [
    "def build_model(n_tokens=len(tokens), n_cat_features=len(categorical_vectorizer.vocabulary_), hid_size=64):\n",
    "    \"\"\" Build a model that maps three data sources to a single linear output: predicted log1p(salary) \"\"\"\n",
    "    \n",
    "    l_title = L.Input(shape=[None], name=\"Title\")\n",
    "    l_descr = L.Input(shape=[None], name=\"FullDescription\")\n",
    "    l_categ = L.Input(shape=[n_cat_features], name=\"Categorical\")\n",
    "    \n",
    "    # Build your monster!\n",
    "    \n",
    "\n",
    "    \n",
    "    title_emb=L.Embedding(n_tokens,hid_size,input_length=10)(l_title)\n",
    "    descr_emb=L.Embedding(n_tokens,hid_size,input_length=10)(l_descr)\n",
    "    \n",
    "    \n",
    "    \n",
    "    \n",
    "    categ=L.Dense(hid_size,activation='relu',kernel_initializer='he_uniform')(l_categ)\n",
    "    \n",
    "    title_conv=L.Conv1D(64, 3)(title_emb)\n",
    "    decsr_conv=L.Conv1D(64, 3)(descr_emb)\n",
    "    \n",
    "    title_pool=L.GlobalMaxPooling1D()(title_conv)\n",
    "    descr_pool=L.GlobalMaxPooling1D()(decsr_conv)\n",
    "    \n",
    "        \n",
    "    x = L.concatenate([title_pool, descr_pool, categ])\n",
    "    x = L.Dense(64, activation='relu')(x)\n",
    "    x = L.Dense(64, activation='relu')(x)\n",
    "    \n",
    "    \n",
    "    output_layer =L.Dense(1, activation='linear')(x)\n",
    "    # end of your code\n",
    "    \n",
    "    model = keras.models.Model(inputs=[l_title, l_descr, l_categ], outputs=[output_layer])\n",
    "    model.compile('adam', 'mean_squared_error', metrics=['mean_absolute_error'])\n",
    "    return model\n",
    "    "
   ]
  },
  {
   "cell_type": "code",
   "execution_count": 40,
   "metadata": {
    "colab": {
     "base_uri": "https://localhost:8080/",
     "height": 646
    },
    "colab_type": "code",
    "id": "IwXlB6wb-qvw",
    "outputId": "ab11a32b-d819-4a4b-9962-21bfc5083585"
   },
   "outputs": [
    {
     "name": "stdout",
     "output_type": "stream",
     "text": [
      "__________________________________________________________________________________________________\n",
      "Layer (type)                    Output Shape         Param #     Connected to                     \n",
      "==================================================================================================\n",
      "Title (InputLayer)              (None, None)         0                                            \n",
      "__________________________________________________________________________________________________\n",
      "FullDescription (InputLayer)    (None, None)         0                                            \n",
      "__________________________________________________________________________________________________\n",
      "embedding_13 (Embedding)        (None, 10, 64)       2077184     Title[0][0]                      \n",
      "__________________________________________________________________________________________________\n",
      "embedding_14 (Embedding)        (None, 10, 64)       2077184     FullDescription[0][0]            \n",
      "__________________________________________________________________________________________________\n",
      "conv1d_13 (Conv1D)              (None, 8, 64)        12352       embedding_13[0][0]               \n",
      "__________________________________________________________________________________________________\n",
      "conv1d_14 (Conv1D)              (None, 8, 64)        12352       embedding_14[0][0]               \n",
      "__________________________________________________________________________________________________\n",
      "Categorical (InputLayer)        (None, 3768)         0                                            \n",
      "__________________________________________________________________________________________________\n",
      "global_max_pooling1d_9 (GlobalM (None, 64)           0           conv1d_13[0][0]                  \n",
      "__________________________________________________________________________________________________\n",
      "global_max_pooling1d_10 (Global (None, 64)           0           conv1d_14[0][0]                  \n",
      "__________________________________________________________________________________________________\n",
      "dense_16 (Dense)                (None, 64)           241216      Categorical[0][0]                \n",
      "__________________________________________________________________________________________________\n",
      "concatenate_6 (Concatenate)     (None, 192)          0           global_max_pooling1d_9[0][0]     \n",
      "                                                                 global_max_pooling1d_10[0][0]    \n",
      "                                                                 dense_16[0][0]                   \n",
      "__________________________________________________________________________________________________\n",
      "dense_17 (Dense)                (None, 64)           12352       concatenate_6[0][0]              \n",
      "__________________________________________________________________________________________________\n",
      "dense_18 (Dense)                (None, 64)           4160        dense_17[0][0]                   \n",
      "__________________________________________________________________________________________________\n",
      "dense_19 (Dense)                (None, 1)            65          dense_18[0][0]                   \n",
      "==================================================================================================\n",
      "Total params: 4,436,865\n",
      "Trainable params: 4,436,865\n",
      "Non-trainable params: 0\n",
      "__________________________________________________________________________________________________\n"
     ]
    }
   ],
   "source": [
    "model = build_model()\n",
    "model.summary()\n",
    "\n",
    "dummy_pred = model.predict(make_batch(data_train[:100]))\n",
    "dummy_loss = model.train_on_batch(make_batch(data_train[:100]), data_train['Log1pSalary'][:100])[0]\n",
    "assert dummy_pred.shape == (100, 1)\n",
    "assert len(np.unique(dummy_pred)) > 20, \"model returns suspiciously few unique outputs. Check your initialization\"\n",
    "assert np.ndim(dummy_loss) == 0 and 0. <= dummy_loss <= 250., \"make sure you minimize MSE\""
   ]
  },
  {
   "cell_type": "markdown",
   "metadata": {
    "colab_type": "text",
    "id": "1EPiuo7L-qvy"
   },
   "source": [
    "#### Training and evaluation\n",
    "\n",
    "As usual, we gonna feed our monster with random minibatches of data. \n",
    "\n",
    "As we train, we want to monitor not only loss function, which is computed in log-space, but also the actual error measured in dollars."
   ]
  },
  {
   "cell_type": "code",
   "execution_count": 0,
   "metadata": {
    "colab": {},
    "colab_type": "code",
    "id": "7fyNG0pJ-qvz"
   },
   "outputs": [],
   "source": [
    "def iterate_minibatches(data, batch_size=256, shuffle=True, cycle=False, **kwargs):\n",
    "    \"\"\" iterates minibatches of data in random order \"\"\"\n",
    "    while True:\n",
    "        indices = np.arange(len(data))\n",
    "        if shuffle:\n",
    "            indices = np.random.permutation(indices)\n",
    "\n",
    "        for start in range(0, len(indices), batch_size):\n",
    "            batch = make_batch(data.iloc[indices[start : start + batch_size]], **kwargs)\n",
    "            target = batch.pop(target_column)\n",
    "            yield batch, target\n",
    "        \n",
    "        if not cycle: break"
   ]
  },
  {
   "cell_type": "markdown",
   "metadata": {
    "colab_type": "text",
    "id": "kNAz1owV-qv0"
   },
   "source": [
    "### Model training\n",
    "\n",
    "We can now fit our model the usual minibatch way. The interesting part is that we train on an infinite stream of minibatches, produced by `iterate_minibatches` function."
   ]
  },
  {
   "cell_type": "code",
   "execution_count": 42,
   "metadata": {
    "colab": {
     "base_uri": "https://localhost:8080/",
     "height": 1074
    },
    "colab_type": "code",
    "id": "e0uhoxWX-qv1",
    "outputId": "d7ce6f76-662a-4ac4-93bb-690ead172524"
   },
   "outputs": [
    {
     "name": "stdout",
     "output_type": "stream",
     "text": [
      "Epoch 1/30\n",
      "765/765 [==============================] - 81s 106ms/step - loss: 2.6418 - mean_absolute_error: 0.5951 - val_loss: 0.0874 - val_mean_absolute_error: 0.2216\n",
      "Epoch 2/30\n",
      "765/765 [==============================] - 79s 103ms/step - loss: 0.0682 - mean_absolute_error: 0.1938 - val_loss: 0.0673 - val_mean_absolute_error: 0.1917\n",
      "Epoch 3/30\n",
      "765/765 [==============================] - 79s 103ms/step - loss: 0.0526 - mean_absolute_error: 0.1693 - val_loss: 0.0618 - val_mean_absolute_error: 0.1833\n",
      "Epoch 4/30\n",
      "765/765 [==============================] - 79s 103ms/step - loss: 0.0439 - mean_absolute_error: 0.1546 - val_loss: 0.0608 - val_mean_absolute_error: 0.1819\n",
      "Epoch 5/30\n",
      "765/765 [==============================] - 79s 104ms/step - loss: 0.0378 - mean_absolute_error: 0.1438 - val_loss: 0.0577 - val_mean_absolute_error: 0.1760\n",
      "Epoch 6/30\n",
      "765/765 [==============================] - 79s 104ms/step - loss: 0.0342 - mean_absolute_error: 0.1376 - val_loss: 0.0725 - val_mean_absolute_error: 0.2062\n",
      "Epoch 7/30\n",
      "765/765 [==============================] - 79s 103ms/step - loss: 0.0299 - mean_absolute_error: 0.1286 - val_loss: 0.0580 - val_mean_absolute_error: 0.1763\n",
      "Epoch 8/30\n",
      "765/765 [==============================] - 78s 103ms/step - loss: 0.0272 - mean_absolute_error: 0.1232 - val_loss: 0.0574 - val_mean_absolute_error: 0.1746\n",
      "Epoch 9/30\n",
      "  3/765 [..............................] - ETA: 1:26 - loss: 0.0276 - mean_absolute_error: 0.1261"
     ]
    },
    {
     "name": "stderr",
     "output_type": "stream",
     "text": [
      "/usr/local/lib/python3.6/dist-packages/keras/callbacks.py:122: UserWarning: Method on_batch_end() is slow compared to the batch update (0.117752). Check your callbacks.\n",
      "  % delta_t_median)\n"
     ]
    },
    {
     "name": "stdout",
     "output_type": "stream",
     "text": [
      "765/765 [==============================] - 79s 103ms/step - loss: 0.0248 - mean_absolute_error: 0.1179 - val_loss: 0.0576 - val_mean_absolute_error: 0.1754\n",
      "Epoch 10/30\n",
      "765/765 [==============================] - 79s 103ms/step - loss: 0.0228 - mean_absolute_error: 0.1130 - val_loss: 0.0575 - val_mean_absolute_error: 0.1756\n",
      "Epoch 11/30\n",
      "765/765 [==============================] - 80s 104ms/step - loss: 0.0219 - mean_absolute_error: 0.1111 - val_loss: 0.0612 - val_mean_absolute_error: 0.1814\n",
      "Epoch 12/30\n",
      "765/765 [==============================] - 79s 103ms/step - loss: 0.0202 - mean_absolute_error: 0.1070 - val_loss: 0.0548 - val_mean_absolute_error: 0.1696\n",
      "Epoch 13/30\n",
      "765/765 [==============================] - 79s 103ms/step - loss: 0.0184 - mean_absolute_error: 0.1019 - val_loss: 0.0549 - val_mean_absolute_error: 0.1683\n",
      "Epoch 14/30\n",
      "765/765 [==============================] - 79s 103ms/step - loss: 0.0179 - mean_absolute_error: 0.1006 - val_loss: 0.0545 - val_mean_absolute_error: 0.1678\n",
      "Epoch 15/30\n",
      "765/765 [==============================] - 79s 103ms/step - loss: 0.0166 - mean_absolute_error: 0.0969 - val_loss: 0.0546 - val_mean_absolute_error: 0.1676\n",
      "Epoch 16/30\n",
      "765/765 [==============================] - 79s 103ms/step - loss: 0.0157 - mean_absolute_error: 0.0943 - val_loss: 0.0553 - val_mean_absolute_error: 0.1697\n",
      "Epoch 17/30\n",
      "765/765 [==============================] - 79s 103ms/step - loss: 0.0154 - mean_absolute_error: 0.0937 - val_loss: 0.0548 - val_mean_absolute_error: 0.1690\n",
      "Epoch 18/30\n",
      "765/765 [==============================] - 78s 103ms/step - loss: 0.0145 - mean_absolute_error: 0.0907 - val_loss: 0.0538 - val_mean_absolute_error: 0.1655\n",
      "Epoch 19/30\n",
      "765/765 [==============================] - 79s 103ms/step - loss: 0.0140 - mean_absolute_error: 0.0890 - val_loss: 0.0540 - val_mean_absolute_error: 0.1660\n",
      "Epoch 20/30\n",
      "765/765 [==============================] - 79s 103ms/step - loss: 0.0134 - mean_absolute_error: 0.0873 - val_loss: 0.0560 - val_mean_absolute_error: 0.1714\n",
      "Epoch 21/30\n",
      "765/765 [==============================] - 79s 103ms/step - loss: 0.0131 - mean_absolute_error: 0.0864 - val_loss: 0.0536 - val_mean_absolute_error: 0.1645\n",
      "Epoch 22/30\n",
      "765/765 [==============================] - 79s 103ms/step - loss: 0.0128 - mean_absolute_error: 0.0856 - val_loss: 0.0565 - val_mean_absolute_error: 0.1705\n",
      "Epoch 23/30\n",
      "765/765 [==============================] - 78s 102ms/step - loss: 0.0120 - mean_absolute_error: 0.0827 - val_loss: 0.0559 - val_mean_absolute_error: 0.1716\n",
      "Epoch 24/30\n",
      "765/765 [==============================] - 79s 103ms/step - loss: 0.0117 - mean_absolute_error: 0.0817 - val_loss: 0.0542 - val_mean_absolute_error: 0.1657\n",
      "Epoch 25/30\n",
      "765/765 [==============================] - 79s 103ms/step - loss: 0.0113 - mean_absolute_error: 0.0803 - val_loss: 0.0542 - val_mean_absolute_error: 0.1659\n",
      "Epoch 26/30\n",
      "765/765 [==============================] - 79s 103ms/step - loss: 0.0112 - mean_absolute_error: 0.0801 - val_loss: 0.0539 - val_mean_absolute_error: 0.1660\n",
      "Epoch 27/30\n",
      "765/765 [==============================] - 79s 103ms/step - loss: 0.0111 - mean_absolute_error: 0.0797 - val_loss: 0.0539 - val_mean_absolute_error: 0.1640\n",
      "Epoch 28/30\n",
      "765/765 [==============================] - 79s 103ms/step - loss: 0.0106 - mean_absolute_error: 0.0779 - val_loss: 0.0532 - val_mean_absolute_error: 0.1647\n",
      "Epoch 29/30\n",
      "765/765 [==============================] - 79s 104ms/step - loss: 0.0106 - mean_absolute_error: 0.0780 - val_loss: 0.0605 - val_mean_absolute_error: 0.1817\n",
      "Epoch 30/30\n",
      "765/765 [==============================] - 79s 103ms/step - loss: 0.0103 - mean_absolute_error: 0.0769 - val_loss: 0.0572 - val_mean_absolute_error: 0.1746\n"
     ]
    },
    {
     "data": {
      "text/plain": [
       "<keras.callbacks.History at 0x7fea4508fc50>"
      ]
     },
     "execution_count": 42,
     "metadata": {
      "tags": []
     },
     "output_type": "execute_result"
    }
   ],
   "source": [
    "batch_size = 256\n",
    "epochs = 30            # definitely too small\n",
    "steps_per_epoch = (len(data_train) - 1) // batch_size + 1#100  # for full pass over data: (len(data_train) - 1) // batch_size + 1\n",
    "\n",
    "model = build_model()\n",
    "\n",
    "model.fit_generator(iterate_minibatches(data_train, batch_size, cycle=True, word_dropout=0.05), \n",
    "                    epochs=epochs, steps_per_epoch=steps_per_epoch,\n",
    "                    \n",
    "                    validation_data=iterate_minibatches(data_val, batch_size, cycle=True),\n",
    "                    validation_steps=data_val.shape[0] // batch_size\n",
    "                   )"
   ]
  },
  {
   "cell_type": "code",
   "execution_count": 43,
   "metadata": {
    "colab": {
     "base_uri": "https://localhost:8080/",
     "height": 119
    },
    "colab_type": "code",
    "id": "tEYGr_RG-qv3",
    "outputId": "5329a8f5-a1ab-47ed-e28a-5605f9774c56"
   },
   "outputs": [
    {
     "name": "stdout",
     "output_type": "stream",
     "text": [
      "Train results:\n",
      "Mean square error: 0.01221\n",
      "Mean absolute error: 0.08982\n",
      "Val results:\n",
      "Mean square error: 0.05778\n",
      "Mean absolute error: 0.17529\n"
     ]
    }
   ],
   "source": [
    "def print_metrics(model, data, batch_size=batch_size, name=\"\", **kw):\n",
    "    squared_error = abs_error = num_samples = 0.0\n",
    "    for batch_x, batch_y in iterate_minibatches(data, batch_size=batch_size, shuffle=False, **kw):\n",
    "        batch_pred = model.predict(batch_x)[:, 0]\n",
    "        squared_error += np.sum(np.square(batch_pred - batch_y))\n",
    "        abs_error += np.sum(np.abs(batch_pred - batch_y))\n",
    "        num_samples += len(batch_y)\n",
    "    print(\"%s results:\" % (name or \"\"))\n",
    "    print(\"Mean square error: %.5f\" % (squared_error / num_samples))\n",
    "    print(\"Mean absolute error: %.5f\" % (abs_error / num_samples))\n",
    "    return squared_error, abs_error\n",
    "    \n",
    "print_metrics(model, data_train, name='Train')\n",
    "print_metrics(model, data_val, name='Val');"
   ]
  },
  {
   "cell_type": "markdown",
   "metadata": {
    "colab_type": "text",
    "id": "3Fb6uCyW-qv4"
   },
   "source": [
    "### Bonus part: explaining model predictions\n",
    "\n",
    "It's usually a good idea to understand how your model works before you let it make actual decisions. It's simple for linear models: just see which words learned positive or negative weights. However, its much harder for neural networks that learn complex nonlinear dependencies.\n",
    "\n",
    "There are, however, some ways to look inside the black box:\n",
    "* Seeing how model responds to input perturbations\n",
    "* Finding inputs that maximize/minimize activation of some chosen neurons (_read more [on distill.pub](https://distill.pub/2018/building-blocks/)_)\n",
    "* Building local linear approximations to your neural network: [article](https://arxiv.org/abs/1602.04938), [eli5 library](https://github.com/TeamHG-Memex/eli5/tree/master/eli5/formatters)\n",
    "\n",
    "Today we gonna try the first method just because it's the simplest one."
   ]
  },
  {
   "cell_type": "code",
   "execution_count": 0,
   "metadata": {
    "colab": {},
    "colab_type": "code",
    "id": "xKA18nBO-qv4"
   },
   "outputs": [],
   "source": [
    "def explain(model, sample, col_name='Title'):\n",
    "    \"\"\" Computes the effect each word had on model predictions \"\"\"\n",
    "    sample = dict(sample)\n",
    "    sample_col_tokens = [tokens[token_to_id.get(tok, 0)] for tok in sample[col_name].split()]\n",
    "    data_drop_one_token = pd.DataFrame([sample] * (len(sample_col_tokens) + 1))\n",
    "\n",
    "    for drop_i in range(len(sample_col_tokens)):\n",
    "        data_drop_one_token.loc[drop_i, col_name] = ' '.join(UNK if i == drop_i else tok\n",
    "                                                   for i, tok in enumerate(sample_col_tokens)) \n",
    "\n",
    "    *predictions_drop_one_token, baseline_pred = model.predict(make_batch(data_drop_one_token))[:, 0]\n",
    "    diffs = baseline_pred - predictions_drop_one_token\n",
    "    return list(zip(sample_col_tokens, diffs))"
   ]
  },
  {
   "cell_type": "code",
   "execution_count": 0,
   "metadata": {
    "colab": {},
    "colab_type": "code",
    "id": "yeL8xYOj-qv7"
   },
   "outputs": [],
   "source": [
    "from IPython.display import HTML, display_html\n",
    "\n",
    "def draw_html(tokens_and_weights, cmap=plt.get_cmap(\"bwr\"), display=True,\n",
    "              token_template=\"\"\"<span style=\"background-color: {color_hex}\">{token}</span>\"\"\",\n",
    "              font_style=\"font-size:14px;\"\n",
    "             ):\n",
    "    \n",
    "    def get_color_hex(weight):\n",
    "        rgba = cmap(1. / (1 + np.exp(weight)), bytes=True)\n",
    "        return '#%02X%02X%02X' % rgba[:3]\n",
    "    \n",
    "    tokens_html = [\n",
    "        token_template.format(token=token, color_hex=get_color_hex(weight))\n",
    "        for token, weight in tokens_and_weights\n",
    "    ]\n",
    "    \n",
    "    \n",
    "    raw_html = \"\"\"<p style=\"{}\">{}</p>\"\"\".format(font_style, ' '.join(tokens_html))\n",
    "    if display:\n",
    "        display_html(HTML(raw_html))\n",
    "        \n",
    "    return raw_html\n",
    "    "
   ]
  },
  {
   "cell_type": "code",
   "execution_count": 46,
   "metadata": {
    "colab": {
     "base_uri": "https://localhost:8080/",
     "height": 212
    },
    "colab_type": "code",
    "id": "2ZjoO_z--qv8",
    "outputId": "f7d075e5-7389-421e-abd9-2bbfe8da8cde"
   },
   "outputs": [
    {
     "data": {
      "text/html": [
       "<p style=\"font-size:20px;\"><span style=\"background-color: #FFE8E8\">sales</span> <span style=\"background-color: #FFF0F0\">specialist</span> <span style=\"background-color: #FF2929\">iv</span> <span style=\"background-color: #FF5656\">access</span> <span style=\"background-color: #FFECEC\">and</span> <span style=\"background-color: #FF5151\">infusion</span></p>"
      ]
     },
     "metadata": {
      "tags": []
     },
     "output_type": "display_data"
    },
    {
     "data": {
      "text/html": [
       "<p style=\"font-size:14px;\"><span style=\"background-color: #F8F8FF\">sales</span> <span style=\"background-color: #FFEEEE\">representative</span> <span style=\"background-color: #EAEAFF\">medical</span> <span style=\"background-color: #FAFAFF\">sales</span> <span style=\"background-color: #FAFAFF\">iv</span> <span style=\"background-color: #FEFEFF\">access</span> <span style=\"background-color: #FEFEFF\">and</span> <span style=\"background-color: #FEFEFF\">infusion</span> <span style=\"background-color: #FEFEFF\">an</span> <span style=\"background-color: #FFE2E2\">opportunity</span> <span style=\"background-color: #FEFEFF\">to</span> <span style=\"background-color: #FEFEFF\">work</span> <span style=\"background-color: #FCFCFF\">for</span> <span style=\"background-color: #FFECEC\">the</span> <span style=\"background-color: #FCFCFF\">industry</span> <span style=\"background-color: #FEFEFF\">leading</span> <span style=\"background-color: #FFF4F4\">manufacturer</span> <span style=\"background-color: #FFFEFE\">of</span> <span style=\"background-color: #FEFEFF\">iv</span> <span style=\"background-color: #FEFEFF\">access</span> <span style=\"background-color: #FEFEFF\">and</span> <span style=\"background-color: #FEFEFF\">infusion</span> <span style=\"background-color: #FEFEFF\">solutions</span> <span style=\"background-color: #FFFCFC\">.</span> <span style=\"background-color: #FFDCDC\">formally</span> <span style=\"background-color: #E8E8FF\">recognised</span> <span style=\"background-color: #FEFEFF\">as</span> <span style=\"background-color: #FEFEFF\">the</span> <span style=\"background-color: #FFF6F6\">number</span> <span style=\"background-color: #FEFEFF\">****</span> <span style=\"background-color: #FFEEEE\">company</span> <span style=\"background-color: #FEFEFF\">in</span> <span style=\"background-color: #FAFAFF\">this</span> <span style=\"background-color: #D8D8FF\">market</span> <span style=\"background-color: #FEFEFF\">space</span> <span style=\"background-color: #FFFAFA\">,</span> <span style=\"background-color: #FFF6F6\">our</span> <span style=\"background-color: #FAFAFF\">client</span> <span style=\"background-color: #FCFCFF\">are</span> <span style=\"background-color: #FEFEFF\">an</span> <span style=\"background-color: #FFD8D8\">ethical</span> <span style=\"background-color: #F6F6FF\">and</span> <span style=\"background-color: #F6F6FF\">dynamic</span> <span style=\"background-color: #FFEEEE\">organisation</span> <span style=\"background-color: #FEFEFF\">absolutely</span> <span style=\"background-color: #FEFEFF\">committed</span> <span style=\"background-color: #E8E8FF\">to</span> <span style=\"background-color: #F6F6FF\">the</span> <span style=\"background-color: #F3F3FF\">advancement</span> <span style=\"background-color: #F6F6FF\">of</span> <span style=\"background-color: #F6F6FF\">innovative</span> <span style=\"background-color: #FAFAFF\">technologies</span> <span style=\"background-color: #FEFEFF\">.</span> <span style=\"background-color: #FEFEFF\">job</span> <span style=\"background-color: #FEFEFF\">title</span> <span style=\"background-color: #FEFEFF\">:</span> <span style=\"background-color: #FEFEFF\">sales</span> <span style=\"background-color: #FFFEFE\">specialist</span> <span style=\"background-color: #FEFEFF\">iv</span> <span style=\"background-color: #FEFEFF\">access</span> <span style=\"background-color: #FEFEFF\">and</span> <span style=\"background-color: #FEFEFF\">infusion</span> <span style=\"background-color: #FEFEFF\">selling</span> <span style=\"background-color: #FEFEFF\">:</span> <span style=\"background-color: #FFFAFA\">medication</span> <span style=\"background-color: #CACAFF\">delivery</span> <span style=\"background-color: #FEFEFF\">solutions</span> <span style=\"background-color: #FFFCFC\">selling</span> <span style=\"background-color: #D2D2FF\">to</span> <span style=\"background-color: #C3C3FF\">:</span> <span style=\"background-color: #CACAFF\">iv</span> <span style=\"background-color: #E2E2FF\">teams</span> <span style=\"background-color: #FEFEFF\">,</span> <span style=\"background-color: #FFD8D8\">infection</span> <span style=\"background-color: #D8D8FF\">control</span> <span style=\"background-color: #EAEAFF\">,</span> <span style=\"background-color: #E3E3FF\">lead</span> <span style=\"background-color: #FEFEFF\">intensive</span> <span style=\"background-color: #FEFEFF\">care</span> <span style=\"background-color: #FFF0F0\">nurse</span> <span style=\"background-color: #FEFEFF\">specialists</span> <span style=\"background-color: #FFFEFE\">,</span> <span style=\"background-color: #FFF8F8\">ward</span> <span style=\"background-color: #FFE4E4\">managers</span> <span style=\"background-color: #FEFEFF\">territory</span> <span style=\"background-color: #FEFEFF\">:</span> <span style=\"background-color: #FEFEFF\">east</span> <span style=\"background-color: #FEFEFF\">midlands</span> <span style=\"background-color: #FEFEFF\">location</span> <span style=\"background-color: #FEFEFF\">:</span> <span style=\"background-color: #D3D3FF\">east</span> <span style=\"background-color: #D6D6FF\">midlands</span> <span style=\"background-color: #ECECFF\">package</span> <span style=\"background-color: #FEFEFF\">:</span> <span style=\"background-color: #FEFEFF\">basic</span> <span style=\"background-color: #FEFEFF\">:</span> <span style=\"background-color: #FEFEFF\">****</span> <span style=\"background-color: #FEFEFF\">k</span> <span style=\"background-color: #FFF4F4\">****</span> <span style=\"background-color: #FEFEFF\">k</span> <span style=\"background-color: #FEFEFF\">,</span> <span style=\"background-color: #FFE8E8\">uncapped</span> <span style=\"background-color: #FEFEFF\">bonus</span> <span style=\"background-color: #F8F8FF\">in</span> <span style=\"background-color: #F8F8FF\">addition</span> <span style=\"background-color: #F8F8FF\">,</span> <span style=\"background-color: #FFD2D2\">full</span> <span style=\"background-color: #FEFEFF\">corporate</span> <span style=\"background-color: #FEFEFF\">benefits</span> <span style=\"background-color: #FEFEFF\">company</span> <span style=\"background-color: #FEFEFF\">information</span> <span style=\"background-color: #F8F8FF\">hugely</span> <span style=\"background-color: #FFD6D6\">ethical</span> <span style=\"background-color: #FEFEFF\">and</span> <span style=\"background-color: #FEFEFF\">professional</span> <span style=\"background-color: #FEFEFF\">global</span> <span style=\"background-color: #FEFEFF\">organisation</span> <span style=\"background-color: #FEFEFF\">extremely</span> <span style=\"background-color: #EAEAFF\">well</span> <span style=\"background-color: #F2F2FF\">established</span> <span style=\"background-color: #EAEAFF\">in</span> <span style=\"background-color: #FFF4F4\">the</span> <span style=\"background-color: #FFFEFE\">uk</span> <span style=\"background-color: #FEFEFF\">the</span> <span style=\"background-color: #FFEAEA\">market</span> <span style=\"background-color: #FFE0E0\">leader</span> <span style=\"background-color: #FFFEFE\">across</span> <span style=\"background-color: #FEFEFF\">all</span> <span style=\"background-color: #FEFEFF\">of</span> <span style=\"background-color: #FEFEFF\">their</span> <span style=\"background-color: #FEFEFF\">core</span> <span style=\"background-color: #FEFEFF\">business</span> <span style=\"background-color: #FEFEFF\">areas</span> <span style=\"background-color: #FEFEFF\">focus</span> <span style=\"background-color: #FEFEFF\">on</span> <span style=\"background-color: #FFBCBC\">providing</span> <span style=\"background-color: #FFFCFC\">cutting</span> <span style=\"background-color: #EAEAFF\">edge</span> <span style=\"background-color: #B2B2FF\">solutions</span> <span style=\"background-color: #C0C0FF\">along</span> <span style=\"background-color: #F0F0FF\">with</span> <span style=\"background-color: #FEFEFF\">outstanding</span> <span style=\"background-color: #FFF4F4\">service</span> <span style=\"background-color: #FEFEFF\">and</span> <span style=\"background-color: #FEFEFF\">support</span> <span style=\"background-color: #FFFAFA\">a</span> <span style=\"background-color: #FFFEFE\">business</span> <span style=\"background-color: #ECECFF\">that</span> <span style=\"background-color: #FEFEFF\">retain</span> <span style=\"background-color: #ECECFF\">talented</span> <span style=\"background-color: #FEFEFF\">personnel</span> <span style=\"background-color: #FEFEFF\">by</span> <span style=\"background-color: #FFF6F6\">offering</span> <span style=\"background-color: #FFF2F2\">a</span> <span style=\"background-color: #F3F3FF\">strong</span> <span style=\"background-color: #F3F3FF\">platform</span> <span style=\"background-color: #FEFEFF\">for</span> <span style=\"background-color: #FFECEC\">career</span> <span style=\"background-color: #FEFEFF\">development</span> <span style=\"background-color: #FEFEFF\">sales</span> <span style=\"background-color: #FFFEFE\">specialist</span> <span style=\"background-color: #FEFEFF\">iv</span> <span style=\"background-color: #FEFEFF\">access</span> <span style=\"background-color: #FEFEFF\">and</span> <span style=\"background-color: #FEFEFF\">infusion</span> <span style=\"background-color: #FEFEFF\">you</span> <span style=\"background-color: #FEFEFF\">must</span> <span style=\"background-color: #FEFEFF\">have</span> <span style=\"background-color: #FEFEFF\">/</span> <span style=\"background-color: #FEFEFF\">be</span> <span style=\"background-color: #FEFEFF\">the</span> <span style=\"background-color: #FEFEFF\">following</span> <span style=\"background-color: #FEFEFF\">at</span> <span style=\"background-color: #E3E3FF\">least</span> <span style=\"background-color: #FFFEFE\">2</span> <span style=\"background-color: #E8E8FF\">years</span> <span style=\"background-color: #FFF6F6\">medical</span> <span style=\"background-color: #FEFEFF\">device</span> <span style=\"background-color: #FFFCFC\">sales</span> <span style=\"background-color: #FEFEFF\">experience</span> <span style=\"background-color: #FEFEFF\">.</span> <span style=\"background-color: #FEFEFF\">candidates</span> <span style=\"background-color: #FEFEFF\">who</span> <span style=\"background-color: #FEFEFF\">have</span> <span style=\"background-color: #FFFEFE\">sold</span> <span style=\"background-color: #FEFEFF\">disposables</span> <span style=\"background-color: #FEFEFF\">/</span> <span style=\"background-color: #FEFEFF\">consumables</span> <span style=\"background-color: #FEFEFF\">or</span> <span style=\"background-color: #FFD2D2\">similar</span> <span style=\"background-color: #FFFEFE\">into</span> <span style=\"background-color: #FFEEEE\">hospitals</span> <span style=\"background-color: #FEFEFF\">would</span> <span style=\"background-color: #FFF2F2\">be</span> <span style=\"background-color: #FEFEFF\">of</span> <span style=\"background-color: #FEFEFF\">particular</span> <span style=\"background-color: #F6F6FF\">interest</span> <span style=\"background-color: #F6F6FF\">.</span> <span style=\"background-color: #FAFAFF\">candidates</span> <span style=\"background-color: #FEFEFF\">must</span> <span style=\"background-color: #FEFEFF\">have</span> <span style=\"background-color: #FFF0F0\">sold</span> <span style=\"background-color: #FFEAEA\">into</span> <span style=\"background-color: #D8D8FF\">hospitals</span> <span style=\"background-color: #C8C8FF\">demonstrable</span> <span style=\"background-color: #F0F0FF\">performance</span> <span style=\"background-color: #FEFEFF\">and</span> <span style=\"background-color: #E3E3FF\">achievements</span> <span style=\"background-color: #F2F2FF\">so</span> <span style=\"background-color: #FFC6C6\">far</span> <span style=\"background-color: #FFAEAE\">personable</span> <span style=\"background-color: #FFFAFA\">,</span> <span style=\"background-color: #FF8686\">adaptable</span> <span style=\"background-color: #FFECEC\">and</span> <span style=\"background-color: #FFBEBE\">willing</span> <span style=\"background-color: #FFFEFE\">to</span> <span style=\"background-color: #FEFEFF\">learn</span> <span style=\"background-color: #FEFEFF\">keen</span> <span style=\"background-color: #FEFEFF\">and</span> <span style=\"background-color: #FEFEFF\">eager</span> <span style=\"background-color: #FEFEFF\">to</span> <span style=\"background-color: #FEFEFF\">be</span> <span style=\"background-color: #FEFEFF\">a</span> <span style=\"background-color: #FEFEFF\">success</span> <span style=\"background-color: #FEFEFF\">candidates</span> <span style=\"background-color: #FEFEFF\">must</span> <span style=\"background-color: #FEFEFF\">have</span> <span style=\"background-color: #FEFEFF\">a</span> <span style=\"background-color: #FEFEFF\">degree</span> <span style=\"background-color: #FEFEFF\">or</span> <span style=\"background-color: #FEFEFF\">at</span> <span style=\"background-color: #FEFEFF\">least</span> <span style=\"background-color: #FEFEFF\">be</span> <span style=\"background-color: #FFE8E8\">able</span> <span style=\"background-color: #FEFEFF\">to</span> <span style=\"background-color: #FCFCFF\">show</span> <span style=\"background-color: #FCFCFF\">a</span> <span style=\"background-color: #FCFCFF\">strong</span> <span style=\"background-color: #FEFEFF\">ability</span> <span style=\"background-color: #FEFEFF\">to</span> <span style=\"background-color: #FEFEFF\">learn</span> <span style=\"background-color: #FEFEFF\">role</span> <span style=\"background-color: #FFFAFA\">information</span> <span style=\"background-color: #FEFEFF\">managing</span> <span style=\"background-color: #FEFEFF\">the</span> <span style=\"background-color: #FFD6D6\">east</span> <span style=\"background-color: #FEFEFF\">midlands</span> <span style=\"background-color: #FEFEFF\">region</span> <span style=\"background-color: #FEFEFF\">selling</span> <span style=\"background-color: #FEFEFF\">across</span> <span style=\"background-color: #FEFEFF\">the</span> <span style=\"background-color: #FFFCFC\">company</span> <span style=\"background-color: #FFF6F6\">'</span> <span style=\"background-color: #FAFAFF\">s</span> <span style=\"background-color: #FAFAFF\">range</span> <span style=\"background-color: #FEFEFF\">of</span> <span style=\"background-color: #FEFEFF\">iv</span> <span style=\"background-color: #FEFEFF\">and</span> <span style=\"background-color: #FEFEFF\">infusion</span> <span style=\"background-color: #FEFEFF\">solutions</span> <span style=\"background-color: #BCBCFF\">portfolio</span> <span style=\"background-color: #B0B0FF\">selling</span> <span style=\"background-color: #FFF2F2\">into</span> <span style=\"background-color: #F8F8FF\">lead</span> <span style=\"background-color: #F3F3FF\">intensive</span> <span style=\"background-color: #FEFEFF\">care</span> <span style=\"background-color: #FFF0F0\">nurse</span> <span style=\"background-color: #FEFEFF\">specialists</span> <span style=\"background-color: #FFFEFE\">,</span> <span style=\"background-color: #FFF8F8\">ward</span> <span style=\"background-color: #FFEAEA\">managers</span> <span style=\"background-color: #FFFCFC\">,</span> <span style=\"background-color: #FFD3D3\">iv</span> <span style=\"background-color: #FFEEEE\">teams</span> <span style=\"background-color: #FEFEFF\">,</span> <span style=\"background-color: #FFD8D8\">infection</span> <span style=\"background-color: #FEFEFF\">control</span> <span style=\"background-color: #FEFEFF\">teams</span> <span style=\"background-color: #FEFEFF\">,</span> <span style=\"background-color: #FFFAFA\">procurement</span> <span style=\"background-color: #FEFEFF\">sales</span> <span style=\"background-color: #FFFEFE\">specialist</span> <span style=\"background-color: #FEFEFF\">iv</span> <span style=\"background-color: #FEFEFF\">access</span> <span style=\"background-color: #FEFEFF\">and</span> <span style=\"background-color: #FEFEFF\">infusion</span> <span style=\"background-color: #FEFEFF\">candidates</span> <span style=\"background-color: #FEFEFF\">must</span> <span style=\"background-color: #FEFEFF\">be</span> <span style=\"background-color: #FFECEC\">eligible</span> <span style=\"background-color: #FCFCFF\">to</span> <span style=\"background-color: #FCFCFF\">work</span> <span style=\"background-color: #FFEEEE\">and</span> <span style=\"background-color: #FAFAFF\">live</span> <span style=\"background-color: #D3D3FF\">in</span> <span style=\"background-color: #FEFEFF\">the</span> <span style=\"background-color: #FEFEFF\">uk</span> <span style=\"background-color: #FEFEFF\">.</span> <span style=\"background-color: #FEFEFF\">please</span> <span style=\"background-color: #FEFEFF\">contact</span> <span style=\"background-color: #FEFEFF\">allan</span> <span style=\"background-color: #FEFEFF\">waller</span> <span style=\"background-color: #FEFEFF\">on</span> <span style=\"background-color: #FFF6F6\">****</span> <span style=\"background-color: #FEFEFF\">****</span> <span style=\"background-color: #FEFEFF\">****</span> <span style=\"background-color: #FEFEFF\">or</span> <span style=\"background-color: #FFDCDC\">please</span> <span style=\"background-color: #FCFCFF\">hit</span> <span style=\"background-color: #FFEEEE\">the</span> <span style=\"background-color: #FCFCFF\">apply</span> <span style=\"background-color: #FEFEFF\">button</span> <span style=\"background-color: #FFFAFA\">.</span> <span style=\"background-color: #FEFEFF\">this</span> <span style=\"background-color: #D2D2FF\">job</span> <span style=\"background-color: #C0C0FF\">was</span> <span style=\"background-color: #DEDEFF\">originally</span> <span style=\"background-color: #B3B3FF\">posted</span> <span style=\"background-color: #FFFEFE\">as</span> <span style=\"background-color: #F2F2FF\">www</span> <span style=\"background-color: #EEEEFF\">.</span> <span style=\"background-color: #F8F8FF\">salestarget</span> <span style=\"background-color: #FFFAFA\">.</span> <span style=\"background-color: #FFFEFE\">co</span> <span style=\"background-color: #FFFEFE\">.</span> <span style=\"background-color: #FFFEFE\">uk</span> <span style=\"background-color: #FFF4F4\">/</span> <span style=\"background-color: #F8F8FF\">jobseeking</span> <span style=\"background-color: #F8F8FF\">/</span> <span style=\"background-color: #FFFEFE\">UNK</span> <span style=\"background-color: #FFF6F6\">****</span></p>"
      ]
     },
     "metadata": {
      "tags": []
     },
     "output_type": "display_data"
    }
   ],
   "source": [
    "i = 36605\n",
    "tokens_and_weights = explain(model, data.loc[i], \"Title\")\n",
    "draw_html([(tok, weight * 5) for tok, weight in tokens_and_weights], font_style='font-size:20px;');\n",
    "\n",
    "tokens_and_weights = explain(model, data.loc[i], \"FullDescription\")\n",
    "draw_html([(tok, weight * 10) for tok, weight in tokens_and_weights]);"
   ]
  },
  {
   "cell_type": "code",
   "execution_count": 47,
   "metadata": {
    "colab": {
     "base_uri": "https://localhost:8080/",
     "height": 93
    },
    "colab_type": "code",
    "id": "sKQNldcx-qv9",
    "outputId": "82a2eebf-c1b0-4526-d927-d20550ff2fda"
   },
   "outputs": [
    {
     "data": {
      "text/html": [
       "<p style=\"font-size:20px;\"><span style=\"background-color: #FFFEFE\">cleaning</span> <span style=\"background-color: #FFFEFE\">operative</span></p>"
      ]
     },
     "metadata": {
      "tags": []
     },
     "output_type": "display_data"
    },
    {
     "data": {
      "text/html": [
       "<p style=\"font-size:14px;\"><span style=\"background-color: #FFFEFE\">12</span> <span style=\"background-color: #FFFEFE\">.</span> <span style=\"background-color: #FFFEFE\">5</span> <span style=\"background-color: #FFFEFE\">hours</span> <span style=\"background-color: #FFFEFE\">per</span> <span style=\"background-color: #FFFEFE\">week</span> <span style=\"background-color: #FFFEFE\">monday</span> <span style=\"background-color: #FFFEFE\">friday</span> <span style=\"background-color: #FFFEFE\">9am</span> <span style=\"background-color: #FFFEFE\">11</span> <span style=\"background-color: #FFFEFE\">.</span> <span style=\"background-color: #FFFEFE\">30am</span> <span style=\"background-color: #FFFEFE\">duties</span> <span style=\"background-color: #FFFEFE\">to</span> <span style=\"background-color: #FFFEFE\">include</span> <span style=\"background-color: #FFFEFE\">sweeping</span> <span style=\"background-color: #FFFEFE\">,</span> <span style=\"background-color: #FFFEFE\">mopping</span> <span style=\"background-color: #FFFEFE\">,</span> <span style=\"background-color: #FFFEFE\">vacuuming</span> <span style=\"background-color: #FFFEFE\">,</span> <span style=\"background-color: #FFFEFE\">buffing</span> <span style=\"background-color: #FFFEFE\">,</span> <span style=\"background-color: #FFFEFE\">cleaning</span> <span style=\"background-color: #FFFEFE\">staff</span> <span style=\"background-color: #FFFEFE\">toilets</span> <span style=\"background-color: #FFFEFE\">and</span> <span style=\"background-color: #FFFEFE\">rest</span> <span style=\"background-color: #FFFEFE\">room</span> <span style=\"background-color: #FFFEFE\">.</span> <span style=\"background-color: #FFFEFE\">must</span> <span style=\"background-color: #FFFEFE\">be</span> <span style=\"background-color: #FFFEFE\">able</span> <span style=\"background-color: #FFFEFE\">to</span> <span style=\"background-color: #FFFEFE\">read</span> <span style=\"background-color: #FFFEFE\">as</span> <span style=\"background-color: #FFFEFE\">they</span> <span style=\"background-color: #FFFEFE\">will</span> <span style=\"background-color: #FFFEFE\">be</span> <span style=\"background-color: #FFFEFE\">using</span> <span style=\"background-color: #FFFEFE\">UNK</span> <span style=\"background-color: #FFFEFE\">which</span> <span style=\"background-color: #FFFEFE\">need</span> <span style=\"background-color: #FFFEFE\">UNK</span> <span style=\"background-color: #FFFEFE\">as</span> <span style=\"background-color: #FFFEFE\">per</span> <span style=\"background-color: #FFFEFE\">instructions</span> <span style=\"background-color: #FFFEFE\">on</span> <span style=\"background-color: #FFFEFE\">the</span> <span style=\"background-color: #FFFEFE\">containers</span> <span style=\"background-color: #FFFEFE\">.</span> <span style=\"background-color: #FFFEFE\">sucessfull</span> <span style=\"background-color: #FFFEFE\">applicants</span> <span style=\"background-color: #FFFEFE\">will</span> <span style=\"background-color: #FFFEFE\">be</span> <span style=\"background-color: #FFFEFE\">trained</span> <span style=\"background-color: #FFFEFE\">on</span> <span style=\"background-color: #FFFEFE\">all</span> <span style=\"background-color: #FFFEFE\">electrical</span> <span style=\"background-color: #FFFEFE\">appliances</span> <span style=\"background-color: #FFFEFE\">and</span> <span style=\"background-color: #FFFEFE\">UNK</span> <span style=\"background-color: #FFFEFE\">of</span> <span style=\"background-color: #FFFEFE\">cleaning</span> <span style=\"background-color: #FFFEFE\">materials</span> <span style=\"background-color: #FFFEFE\">.</span></p>"
      ]
     },
     "metadata": {
      "tags": []
     },
     "output_type": "display_data"
    }
   ],
   "source": [
    "i = 12077\n",
    "tokens_and_weights = explain(model, data.loc[i], \"Title\")\n",
    "draw_html([(tok, weight * 5) for tok, weight in tokens_and_weights], font_style='font-size:20px;');\n",
    "\n",
    "tokens_and_weights = explain(model, data.loc[i], \"FullDescription\")\n",
    "draw_html([(tok, weight * 10) for tok, weight in tokens_and_weights]);"
   ]
  },
  {
   "cell_type": "code",
   "execution_count": 48,
   "metadata": {
    "colab": {
     "base_uri": "https://localhost:8080/",
     "height": 178
    },
    "colab_type": "code",
    "id": "9ujDPGfK-qv-",
    "outputId": "bdf4ca06-2f61-469d-e08d-605feb4f56fb"
   },
   "outputs": [
    {
     "name": "stdout",
     "output_type": "stream",
     "text": [
      "Index: 125943\n",
      "Salary (gbp): 2979.6978\n"
     ]
    },
    {
     "data": {
      "text/html": [
       "<p style=\"font-size:20px;\"><span style=\"background-color: #E6E6FF\">management</span> <span style=\"background-color: #FF2929\">accountant</span> <span style=\"background-color: #FF6E6E\">manufacturing</span></p>"
      ]
     },
     "metadata": {
      "tags": []
     },
     "output_type": "display_data"
    },
    {
     "data": {
      "text/html": [
       "<p style=\"font-size:14px;\"><span style=\"background-color: #FFFEFE\">job</span> <span style=\"background-color: #FFFEFE\">title</span> <span style=\"background-color: #FFFEFE\">:</span> <span style=\"background-color: #D6D6FF\">management</span> <span style=\"background-color: #DADAFF\">accountant</span> <span style=\"background-color: #D8D8FF\">manufacturing</span> <span style=\"background-color: #F3F3FF\">location</span> <span style=\"background-color: #FFF6F6\">:</span> <span style=\"background-color: #FFEEEE\">loughborough</span> <span style=\"background-color: #FEFEFF\">salary</span> <span style=\"background-color: #FFFCFC\">:</span> <span style=\"background-color: #FFFEFE\">****</span> <span style=\"background-color: #FFFEFE\">****</span> <span style=\"background-color: #E8E8FF\">this</span> <span style=\"background-color: #E8E8FF\">is</span> <span style=\"background-color: #E8E8FF\">an</span> <span style=\"background-color: #FFFEFE\">exciting</span> <span style=\"background-color: #FFFEFE\">opportunity</span> <span style=\"background-color: #F6F6FF\">for</span> <span style=\"background-color: #F6F6FF\">a</span> <span style=\"background-color: #FFF6F6\">recently</span> <span style=\"background-color: #DEDEFF\">qualified</span> <span style=\"background-color: #E0E0FF\">accountant</span> <span style=\"background-color: #F3F3FF\">to</span> <span style=\"background-color: #FEFEFF\">join</span> <span style=\"background-color: #FEFEFF\">a</span> <span style=\"background-color: #FFFAFA\">growing</span> <span style=\"background-color: #FFFEFE\">sme</span> <span style=\"background-color: #F0F0FF\">business</span> <span style=\"background-color: #EEEEFF\">in</span> <span style=\"background-color: #F3F3FF\">the</span> <span style=\"background-color: #E6E6FF\">loughborough</span> <span style=\"background-color: #C2C2FF\">area</span> <span style=\"background-color: #FAFAFF\">.</span> <span style=\"background-color: #FFFEFE\">working</span> <span style=\"background-color: #FFEAEA\">closely</span> <span style=\"background-color: #FFFCFC\">with</span> <span style=\"background-color: #FFFAFA\">financial</span> <span style=\"background-color: #FEFEFF\">and</span> <span style=\"background-color: #FFFEFE\">non</span> <span style=\"background-color: #FFFEFE\">financial</span> <span style=\"background-color: #FFFEFE\">teams</span> <span style=\"background-color: #FFFEFE\">the</span> <span style=\"background-color: #FFEEEE\">successful</span> <span style=\"background-color: #FFFEFE\">candidate</span> <span style=\"background-color: #FFFEFE\">will</span> <span style=\"background-color: #F8F8FF\">be</span> <span style=\"background-color: #E6E6FF\">responsible</span> <span style=\"background-color: #E6E6FF\">for</span> <span style=\"background-color: #FFFCFC\">providing</span> <span style=\"background-color: #FFE8E8\">clear</span> <span style=\"background-color: #FFFEFE\">and</span> <span style=\"background-color: #FFF6F6\">accurate</span> <span style=\"background-color: #FFFEFE\">analysis</span> <span style=\"background-color: #FFFEFE\">,</span> <span style=\"background-color: #FFEEEE\">assist</span> <span style=\"background-color: #FFFEFE\">the</span> <span style=\"background-color: #FAFAFF\">financial</span> <span style=\"background-color: #FFFCFC\">controller</span> <span style=\"background-color: #EAEAFF\">with</span> <span style=\"background-color: #FFF0F0\">coordinating</span> <span style=\"background-color: #FFFEFE\">month</span> <span style=\"background-color: #FFFEFE\">end</span> <span style=\"background-color: #FFCACA\">close</span> <span style=\"background-color: #FFC0C0\">,</span> <span style=\"background-color: #FFFEFE\">produce</span> <span style=\"background-color: #FFFEFE\">monthly</span> <span style=\"background-color: #FEFEFF\">trial</span> <span style=\"background-color: #FFE8E8\">balance</span> <span style=\"background-color: #FAFAFF\">and</span> <span style=\"background-color: #FFF4F4\">management</span> <span style=\"background-color: #FFFEFE\">accounts</span> <span style=\"background-color: #E8E8FF\">,</span> <span style=\"background-color: #FFBCBC\">weekly</span> <span style=\"background-color: #F0F0FF\">and</span> <span style=\"background-color: #F8F8FF\">period</span> <span style=\"background-color: #EAEAFF\">end</span> <span style=\"background-color: #F6F6FF\">stock</span> <span style=\"background-color: #FFFCFC\">reconciliations</span> <span style=\"background-color: #FFFEFE\">,</span> <span style=\"background-color: #FFEEEE\">monthly</span> <span style=\"background-color: #FFFEFE\">stock</span> <span style=\"background-color: #FFF2F2\">reporting</span> <span style=\"background-color: #EAEAFF\">and</span> <span style=\"background-color: #F6F6FF\">analysis</span> <span style=\"background-color: #FFD3D3\">and</span> <span style=\"background-color: #FFFEFE\">take</span> <span style=\"background-color: #FFF0F0\">responsibility</span> <span style=\"background-color: #FFFEFE\">for</span> <span style=\"background-color: #FFFEFE\">the</span> <span style=\"background-color: #FAFAFF\">cost</span> <span style=\"background-color: #B3B3FF\">model</span> <span style=\"background-color: #E8E8FF\">,</span> <span style=\"background-color: #FAFAFF\">looking</span> <span style=\"background-color: #FFFEFE\">at</span> <span style=\"background-color: #FFFEFE\">purchasing</span> <span style=\"background-color: #FFFEFE\">,</span> <span style=\"background-color: #FFFEFE\">managing</span> <span style=\"background-color: #FFFEFE\">costs</span> <span style=\"background-color: #FAFAFF\">a</span> <span style=\"background-color: #FAFAFF\">minimum</span> <span style=\"background-color: #FFD3D3\">of</span> <span style=\"background-color: #FFF6F6\">4</span> <span style=\"background-color: #FFFEFE\">years</span> <span style=\"background-color: #FFFEFE\">experience</span> <span style=\"background-color: #FFF8F8\">in</span> <span style=\"background-color: #FFC6C6\">a</span> <span style=\"background-color: #FAFAFF\">financial</span> <span style=\"background-color: #FAFAFF\">role</span> <span style=\"background-color: #FCFCFF\">with</span> <span style=\"background-color: #F0F0FF\">evidence</span> <span style=\"background-color: #F0F0FF\">of</span> <span style=\"background-color: #F0F0FF\">business</span> <span style=\"background-color: #FEFEFF\">partnering</span> <span style=\"background-color: #FFF2F2\">as</span> <span style=\"background-color: #FFF8F8\">well</span> <span style=\"background-color: #FFFEFE\">as</span> <span style=\"background-color: #E2E2FF\">strong</span> <span style=\"background-color: #FFFAFA\">stock</span> <span style=\"background-color: #FFFCFC\">experience</span> <span style=\"background-color: #FFF6F6\">in</span> <span style=\"background-color: #FFE8E8\">a</span> <span style=\"background-color: #FFFEFE\">manufacturing</span> <span style=\"background-color: #FFFEFE\">organisation</span> <span style=\"background-color: #FFFEFE\">.</span> <span style=\"background-color: #FFFEFE\">cima</span> <span style=\"background-color: #FFFCFC\">,</span> <span style=\"background-color: #E0E0FF\">aca</span> <span style=\"background-color: #FFF0F0\">or</span> <span style=\"background-color: #FFECEC\">acca</span> <span style=\"background-color: #FFFAFA\">qualified</span> <span style=\"background-color: #FAFAFF\">strong</span> <span style=\"background-color: #FFF0F0\">excel</span> <span style=\"background-color: #FFFEFE\">skills</span> <span style=\"background-color: #FFFEFE\">v</span> <span style=\"background-color: #FFF2F2\">:</span> <span style=\"background-color: #FF5151\">lookups</span> <span style=\"background-color: #FFF0F0\">and</span> <span style=\"background-color: #FFB3B3\">pivot</span> <span style=\"background-color: #FEFEFF\">tables</span> <span style=\"background-color: #F0F0FF\">excellent</span> <span style=\"background-color: #F2F2FF\">interpersonal</span> <span style=\"background-color: #F2F2FF\">and</span> <span style=\"background-color: #FFFEFE\">communication</span> <span style=\"background-color: #FFE8E8\">skills</span> <span style=\"background-color: #FCFCFF\">are</span> <span style=\"background-color: #FFFAFA\">needed</span> <span style=\"background-color: #FFFEFE\">to</span> <span style=\"background-color: #FFFEFE\">effectively</span> <span style=\"background-color: #FFFEFE\">work</span> <span style=\"background-color: #FFFEFE\">with</span> <span style=\"background-color: #EEEEFF\">stakeholders</span> <span style=\"background-color: #F0F0FF\">at</span> <span style=\"background-color: #EEEEFF\">all</span> <span style=\"background-color: #FFFEFE\">levels</span> <span style=\"background-color: #E3E3FF\">of</span> <span style=\"background-color: #A8A8FF\">the</span> <span style=\"background-color: #C3C3FF\">business</span> <span style=\"background-color: #F2F2FF\">.</span> <span style=\"background-color: #FAFAFF\">macildowie</span> <span style=\"background-color: #FFFEFE\">associates</span> <span style=\"background-color: #FFFEFE\">is</span> <span style=\"background-color: #FCFCFF\">acting</span> <span style=\"background-color: #FCFCFF\">as</span> <span style=\"background-color: #FCFCFF\">an</span> <span style=\"background-color: #E6E6FF\">employment</span> <span style=\"background-color: #EEEEFF\">agency</span> <span style=\"background-color: #DEDEFF\">in</span> <span style=\"background-color: #FFD3D3\">relation</span> <span style=\"background-color: #ECECFF\">to</span> <span style=\"background-color: #ECECFF\">this</span> <span style=\"background-color: #F3F3FF\">vacancy</span> <span style=\"background-color: #FCFCFF\">.</span> <span style=\"background-color: #D6D6FF\">this</span> <span style=\"background-color: #D6D6FF\">job</span> <span style=\"background-color: #E8E8FF\">was</span> <span style=\"background-color: #E2E2FF\">originally</span> <span style=\"background-color: #BABAFF\">posted</span> <span style=\"background-color: #FFFEFE\">as</span> <span style=\"background-color: #F8F8FF\">www</span> <span style=\"background-color: #F8F8FF\">.</span> <span style=\"background-color: #F6F6FF\">totaljobs</span> <span style=\"background-color: #F6F6FF\">.</span> <span style=\"background-color: #FFFEFE\">com</span> <span style=\"background-color: #FFF4F4\">/</span> <span style=\"background-color: #E3E3FF\">jobseeking</span> <span style=\"background-color: #E3E3FF\">/</span> <span style=\"background-color: #FFFEFE\">UNK</span> <span style=\"background-color: #FFFAFA\">****</span></p>"
      ]
     },
     "metadata": {
      "tags": []
     },
     "output_type": "display_data"
    }
   ],
   "source": [
    "i = np.random.randint(len(data))\n",
    "print(\"Index:\", i)\n",
    "print(\"Salary (gbp):\", np.expm1(model.predict(make_batch(data.iloc[i: i+1]))[0, 0]))\n",
    "\n",
    "tokens_and_weights = explain(model, data.loc[i], \"Title\")\n",
    "draw_html([(tok, weight * 5) for tok, weight in tokens_and_weights], font_style='font-size:20px;');\n",
    "\n",
    "tokens_and_weights = explain(model, data.loc[i], \"FullDescription\")\n",
    "draw_html([(tok, weight * 10) for tok, weight in tokens_and_weights]);"
   ]
  },
  {
   "cell_type": "markdown",
   "metadata": {
    "colab_type": "text",
    "id": "QPqGHfnT-qwA"
   },
   "source": [
    "__Terrible start-up idea #1962:__ make a tool that automaticaly rephrases your job description (or CV) to meet salary expectations :)"
   ]
  }
 ],
 "metadata": {
  "accelerator": "GPU",
  "colab": {
   "collapsed_sections": [],
   "name": "“seminar.ipynb”的副本",
   "provenance": [],
   "version": "0.3.2"
  },
  "hide_input": false,
  "kernelspec": {
   "display_name": "Python 3",
   "language": "python",
   "name": "python3"
  },
  "language_info": {
   "codemirror_mode": {
    "name": "ipython",
    "version": 3
   },
   "file_extension": ".py",
   "mimetype": "text/x-python",
   "name": "python",
   "nbconvert_exporter": "python",
   "pygments_lexer": "ipython3",
   "version": "3.6.5"
  },
  "nbTranslate": {
   "displayLangs": [
    "*"
   ],
   "hotkey": "alt-t",
   "langInMainMenu": true,
   "sourceLang": "en",
   "targetLang": "fr",
   "useGoogleTranslate": true
  },
  "varInspector": {
   "cols": {
    "lenName": 16,
    "lenType": 16,
    "lenVar": 40
   },
   "kernels_config": {
    "python": {
     "delete_cmd_postfix": "",
     "delete_cmd_prefix": "del ",
     "library": "var_list.py",
     "varRefreshCmd": "print(var_dic_list())"
    },
    "r": {
     "delete_cmd_postfix": ") ",
     "delete_cmd_prefix": "rm(",
     "library": "var_list.r",
     "varRefreshCmd": "cat(var_dic_list()) "
    }
   },
   "types_to_exclude": [
    "module",
    "function",
    "builtin_function_or_method",
    "instance",
    "_Feature"
   ],
   "window_display": false
  }
 },
 "nbformat": 4,
 "nbformat_minor": 1
}
