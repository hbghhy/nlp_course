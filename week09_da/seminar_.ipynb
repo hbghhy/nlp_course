{
  "nbformat": 4,
  "nbformat_minor": 0,
  "metadata": {
    "colab": {
      "name": "“seminar.ipynb”的副本",
      "version": "0.3.2",
      "provenance": [],
      "collapsed_sections": [],
      "toc_visible": true
    },
    "kernelspec": {
      "name": "python3",
      "display_name": "Python 3"
    },
    "accelerator": "GPU"
  },
  "cells": [
    {
      "metadata": {
        "id": "7L1kJ8_oLaoJ",
        "colab_type": "text"
      },
      "cell_type": "markdown",
      "source": [
        "## Domain adaptation (5 pts total)\n",
        "\n",
        "In this seminar you will adapt a pre-trained machine translation model for the hotel review translation task you solved a few weeks ago. \n",
        "\n",
        "This time it comes with a few complications:\n",
        "* Harder task: __en -> ru__ instead of __ru -> en__\n",
        "* You are given a model pre-trained on WMT. Visit [statmt.org](http://statmt.org/) for more details.\n",
        "* The baseline model already includes attention and some hacks\n",
        "\n",
        "With luck and skills on your side, you will adapt it to improve hotel translation quality."
      ]
    },
    {
      "metadata": {
        "id": "pc7xWiNNLaoJ",
        "colab_type": "code",
        "outputId": "e76facfe-b7a2-48bc-f7d6-d22b4f0ea1b0",
        "colab": {
          "base_uri": "https://localhost:8080/",
          "height": 955
        }
      },
      "cell_type": "code",
      "source": [
        "!pip3 install subword-nmt &> log\n",
        "!wget https://github.com/yandexdataschool/nlp_course/raw/master/week09_da/data.tar.gz\n",
        "!wget https://raw.githubusercontent.com/yandexdataschool/nlp_course/master/week09_da/utils.py\n",
        "!tar -xvzf data.tar.gz\n",
        "!mv data/* .\n",
        "!wget https://www.dropbox.com/s/xm73pjug7eq1rff/model-pretrained.npz?dl=1 -O model-pretrained.npz"
      ],
      "execution_count": 1,
      "outputs": [
        {
          "output_type": "stream",
          "text": [
            "--2019-01-22 03:50:37--  https://github.com/yandexdataschool/nlp_course/raw/master/week09_da/data.tar.gz\n",
            "Resolving github.com (github.com)... 192.30.253.113, 192.30.253.112\n",
            "Connecting to github.com (github.com)|192.30.253.113|:443... connected.\n",
            "HTTP request sent, awaiting response... 302 Found\n",
            "Location: https://raw.githubusercontent.com/yandexdataschool/nlp_course/master/week09_da/data.tar.gz [following]\n",
            "--2019-01-22 03:50:38--  https://raw.githubusercontent.com/yandexdataschool/nlp_course/master/week09_da/data.tar.gz\n",
            "Resolving raw.githubusercontent.com (raw.githubusercontent.com)... 151.101.0.133, 151.101.64.133, 151.101.128.133, ...\n",
            "Connecting to raw.githubusercontent.com (raw.githubusercontent.com)|151.101.0.133|:443... connected.\n",
            "HTTP request sent, awaiting response... 200 OK\n",
            "Length: 3242995 (3.1M) [application/octet-stream]\n",
            "Saving to: ‘data.tar.gz.3’\n",
            "\n",
            "\rdata.tar.gz.3         0%[                    ]       0  --.-KB/s               \rdata.tar.gz.3       100%[===================>]   3.09M  --.-KB/s    in 0.1s    \n",
            "\n",
            "2019-01-22 03:50:39 (27.0 MB/s) - ‘data.tar.gz.3’ saved [3242995/3242995]\n",
            "\n",
            "--2019-01-22 03:50:42--  https://raw.githubusercontent.com/yandexdataschool/nlp_course/master/week09_da/utils.py\n",
            "Resolving raw.githubusercontent.com (raw.githubusercontent.com)... 151.101.0.133, 151.101.64.133, 151.101.128.133, ...\n",
            "Connecting to raw.githubusercontent.com (raw.githubusercontent.com)|151.101.0.133|:443... connected.\n",
            "HTTP request sent, awaiting response... 200 OK\n",
            "Length: 15430 (15K) [text/plain]\n",
            "Saving to: ‘utils.py.4’\n",
            "\n",
            "utils.py.4          100%[===================>]  15.07K  --.-KB/s    in 0.01s   \n",
            "\n",
            "2019-01-22 03:50:42 (1.15 MB/s) - ‘utils.py.4’ saved [15430/15430]\n",
            "\n",
            "data/\n",
            "data/tokens.ru\n",
            "data/train.domain.ru\n",
            "data/tokens.en\n",
            "data/bpe_rules.en\n",
            "data/train.domain.en\n",
            "data/bpe_rules.ru\n",
            "--2019-01-22 03:50:55--  https://www.dropbox.com/s/xm73pjug7eq1rff/model-pretrained.npz?dl=1\n",
            "Resolving www.dropbox.com (www.dropbox.com)... 162.125.82.1, 2620:100:6032:1::a27d:5201\n",
            "Connecting to www.dropbox.com (www.dropbox.com)|162.125.82.1|:443... connected.\n",
            "HTTP request sent, awaiting response... 301 Moved Permanently\n",
            "Location: /s/dl/xm73pjug7eq1rff/model-pretrained.npz [following]\n",
            "--2019-01-22 03:50:55--  https://www.dropbox.com/s/dl/xm73pjug7eq1rff/model-pretrained.npz\n",
            "Reusing existing connection to www.dropbox.com:443.\n",
            "HTTP request sent, awaiting response... 302 Found\n",
            "Location: https://uc7bb2f7410bcbef91cde9bd75c7.dl.dropboxusercontent.com/cd/0/get/AZ01WwER5ZwVVy6Pe1Av-SrbytnmCcjbZkw13cD7sJ_qw7anv0lFNyoSgQlW7v-9w5A3RKl-C7HhYmCKoyxGWCyYzAI1Nrlhflvy8tElEMDhRZfeWUVNDkXBGGo8vUvbYiZ-cvwN0u6b48WGc5-DO144tcLL8OPDNr6Ap99pPAbe8oJ_XMrRkPCdGEYKsKTtjI8/file?dl=1# [following]\n",
            "--2019-01-22 03:50:56--  https://uc7bb2f7410bcbef91cde9bd75c7.dl.dropboxusercontent.com/cd/0/get/AZ01WwER5ZwVVy6Pe1Av-SrbytnmCcjbZkw13cD7sJ_qw7anv0lFNyoSgQlW7v-9w5A3RKl-C7HhYmCKoyxGWCyYzAI1Nrlhflvy8tElEMDhRZfeWUVNDkXBGGo8vUvbYiZ-cvwN0u6b48WGc5-DO144tcLL8OPDNr6Ap99pPAbe8oJ_XMrRkPCdGEYKsKTtjI8/file?dl=1\n",
            "Resolving uc7bb2f7410bcbef91cde9bd75c7.dl.dropboxusercontent.com (uc7bb2f7410bcbef91cde9bd75c7.dl.dropboxusercontent.com)... 162.125.82.6, 2620:100:6032:6::a27d:5206\n",
            "Connecting to uc7bb2f7410bcbef91cde9bd75c7.dl.dropboxusercontent.com (uc7bb2f7410bcbef91cde9bd75c7.dl.dropboxusercontent.com)|162.125.82.6|:443... connected.\n",
            "HTTP request sent, awaiting response... 200 OK\n",
            "Length: 145546138 (139M) [application/binary]\n",
            "Saving to: ‘model-pretrained.npz’\n",
            "\n",
            "model-pretrained.np 100%[===================>] 138.80M  29.3MB/s    in 8.1s    \n",
            "\n",
            "2019-01-22 03:51:05 (17.2 MB/s) - ‘model-pretrained.npz’ saved [145546138/145546138]\n",
            "\n"
          ],
          "name": "stdout"
        }
      ]
    },
    {
      "metadata": {
        "id": "CN1WvIhmLaoM",
        "colab_type": "text"
      },
      "cell_type": "markdown",
      "source": [
        "### Data preprocessing\n",
        "\n",
        "We provide you with a pre-trained model that uses Byte Pair Encodings [(bpe)](https://github.com/rsennrich/subword-nmt) to segment rare words into sub-word units. \n",
        "\n",
        "It is important that we fine-tune our model using the same set of BPE rules."
      ]
    },
    {
      "metadata": {
        "id": "2mnJ7DEYLaoN",
        "colab_type": "code",
        "colab": {}
      },
      "cell_type": "code",
      "source": [
        "import numpy as np\n",
        "from nltk.tokenize import WordPunctTokenizer\n",
        "from subword_nmt.apply_bpe import BPE\n",
        "tokenizer = WordPunctTokenizer()\n",
        "def tokenize(x):\n",
        "    return ' '.join(tokenizer.tokenize(x.lower()))\n",
        "\n",
        "bpe = {}\n",
        "for lang in ['en', 'ru']:\n",
        "    bpe[lang] = BPE(open('./bpe_rules.' + lang))"
      ],
      "execution_count": 0,
      "outputs": []
    },
    {
      "metadata": {
        "id": "hsqy83qXLaoQ",
        "colab_type": "code",
        "outputId": "96142526-bb77-4292-bc10-bd33ca472f69",
        "colab": {
          "base_uri": "https://localhost:8080/",
          "height": 34
        }
      },
      "cell_type": "code",
      "source": [
        "print(bpe['ru'].process_line(tokenize(\"Скажи: какого цвета глаза у ветра?\")))"
      ],
      "execution_count": 3,
      "outputs": [
        {
          "output_type": "stream",
          "text": [
            "ска@@ жи : какого цвета глаза у вет@@ ра ?\n"
          ],
          "name": "stdout"
        }
      ]
    },
    {
      "metadata": {
        "id": "w6lSKaUoLaoS",
        "colab_type": "code",
        "outputId": "70413027-b503-410f-f3da-534b275a1ee6",
        "colab": {
          "base_uri": "https://localhost:8080/",
          "height": 85
        }
      },
      "cell_type": "code",
      "source": [
        "data_inp_raw = list(open('./train.domain.en'))\n",
        "data_out_raw = list(open('./train.domain.ru'))\n",
        "\n",
        "print(data_inp_raw[0])\n",
        "print(data_out_raw[0])"
      ],
      "execution_count": 4,
      "outputs": [
        {
          "output_type": "stream",
          "text": [
            "cordelia hotel is situated in tbilisi , a 3 - minute walk away from saint trinity church .\n",
            "\n",
            "отель cordelia расположен в тбилиси , в 3 минутах ходьбы от свято - троицкого собора .\n",
            "\n"
          ],
          "name": "stdout"
        }
      ]
    },
    {
      "metadata": {
        "id": "6mtTlUcILaoU",
        "colab_type": "code",
        "colab": {}
      },
      "cell_type": "code",
      "source": [
        "# convert lines into space-separated tokenized bpe units\n",
        "\n",
        "data_inp = [bpe['en'].process_line(tokenize(sentence)) for sentence in data_inp_raw]\n",
        "data_out = [bpe['ru'].process_line(tokenize(sentence)) for sentence in data_out_raw]"
      ],
      "execution_count": 0,
      "outputs": []
    },
    {
      "metadata": {
        "id": "YW6cvS45LaoW",
        "colab_type": "code",
        "colab": {}
      },
      "cell_type": "code",
      "source": [
        "assert data_inp[0] == 'cor@@ del@@ ia hotel is situated in t@@ bil@@ isi , a 3 - minute walk away from saint tr@@ inity church .'\n",
        "assert data_out[500] == 'некоторые номера также располага@@ ют бал@@ ко@@ ном или тер@@ ра@@ со@@ й .'"
      ],
      "execution_count": 0,
      "outputs": []
    },
    {
      "metadata": {
        "id": "2PB2rtvrLaoY",
        "colab_type": "code",
        "colab": {}
      },
      "cell_type": "code",
      "source": [
        "from sklearn.model_selection import train_test_split\n",
        "data_inp, data_out = map(np.array, [data_inp, data_out])\n",
        "train_inp, dev_inp, train_out, dev_out = train_test_split(data_inp, data_out, test_size=3000,\n",
        "                                                          random_state=42)"
      ],
      "execution_count": 0,
      "outputs": []
    },
    {
      "metadata": {
        "id": "-jHVhNdFLaoa",
        "colab_type": "text"
      },
      "cell_type": "markdown",
      "source": [
        "### Model\n",
        "\n",
        "For this assignment, you are given a pre-trained neural machine translation model:\n",
        "* bidirectional LSTM encoder\n",
        "* single LSTM decoder with additive attention\n",
        "\n",
        "It was trained till convergence on the general dataset of news, websites and literature.\n"
      ]
    },
    {
      "metadata": {
        "id": "E5yCQNY7Laob",
        "colab_type": "code",
        "outputId": "d3bdbc2f-f575-44eb-bc85-922a07237bcb",
        "colab": {
          "base_uri": "https://localhost:8080/",
          "height": 34
        }
      },
      "cell_type": "code",
      "source": [
        "import numpy as np\n",
        "import tensorflow as tf\n",
        "import utils\n",
        "#tf.enable_eager_execution()\n",
        "tf.reset_default_graph()\n",
        "sess = tf.InteractiveSession()\n",
        "\n",
        "inp_voc = utils.Vocab(open('tokens.en').read().split('\\n'))\n",
        "out_voc = utils.Vocab(open('tokens.ru').read().split('\\n'))\n",
        "\n",
        "model = utils.Model('mod', inp_voc, out_voc)\n",
        "utils.load(tf.trainable_variables(), 'model-pretrained.npz')"
      ],
      "execution_count": 8,
      "outputs": [
        {
          "output_type": "stream",
          "text": [
            "Using TensorFlow backend.\n"
          ],
          "name": "stderr"
        }
      ]
    },
    {
      "metadata": {
        "id": "HsEnlSbjLaoe",
        "colab_type": "code",
        "outputId": "49cea11c-b6cb-430a-c5bb-777687ee3e77",
        "colab": {
          "base_uri": "https://localhost:8080/",
          "height": 34
        }
      },
      "cell_type": "code",
      "source": [
        "src = 'i am the monument to all your sins'\n",
        "src = bpe['en'].process_line(tokenize(src))\n",
        "trans, _ = model.translate_lines([src])\n",
        "print(trans)"
      ],
      "execution_count": 9,
      "outputs": [
        {
          "output_type": "stream",
          "text": [
            "['я - памят@@ ник всем гре@@ ха@@ м']\n"
          ],
          "name": "stdout"
        }
      ]
    },
    {
      "metadata": {
        "id": "SIl0GFM0Laog",
        "colab_type": "text"
      },
      "cell_type": "markdown",
      "source": [
        "### Estimate baseline quality\n",
        "\n",
        "As before, we shall estimate our model's quality using [BLEU](https://en.wikipedia.org/wiki/BLEU) metric.\n",
        "\n",
        "This metric simply computes which fraction of predicted n-grams is actually present in the reference translation. It does so for n=1,2,3 and 4 and computes the geometric average with penalty if translation is shorter than reference.\n",
        "\n",
        "One important thing about BLEU is that it is usually computed on a __corpora level__:\n",
        "* first you count precisions over the entire test set\n",
        "* then you do the geometric averaging and apply penalties"
      ]
    },
    {
      "metadata": {
        "id": "7E6G34JOLaog",
        "colab_type": "code",
        "colab": {}
      },
      "cell_type": "code",
      "source": [
        "from nltk.translate.bleu_score import corpus_bleu\n",
        "def bleu(references, translations):\n",
        "    \"\"\" Estimates corpora-level BLEU score of predicted translations given references \"\"\"\n",
        "    return corpus_bleu([[ref.split()] for ref in references], \n",
        "                       [trans.split() for trans in translations]) * 100"
      ],
      "execution_count": 0,
      "outputs": []
    },
    {
      "metadata": {
        "id": "9llfQgbRLaok",
        "colab_type": "code",
        "outputId": "daae661f-d3a7-413d-9fc7-00956c2135eb",
        "colab": {
          "base_uri": "https://localhost:8080/",
          "height": 34
        }
      },
      "cell_type": "code",
      "source": [
        "bleu(['a cat sat on a mat', 'i love bees'], \n",
        "     ['a cat sat on a cat', 'i hate people'])"
      ],
      "execution_count": 11,
      "outputs": [
        {
          "output_type": "execute_result",
          "data": {
            "text/plain": [
              "58.143073696821936"
            ]
          },
          "metadata": {
            "tags": []
          },
          "execution_count": 11
        }
      ]
    },
    {
      "metadata": {
        "id": "oSl7sU8hLaol",
        "colab_type": "text"
      },
      "cell_type": "markdown",
      "source": [
        "__Task 1 (1 point):__ evaluate baseline BLEU\n"
      ]
    },
    {
      "metadata": {
        "id": "kGeeSuTULaom",
        "colab_type": "code",
        "colab": {}
      },
      "cell_type": "code",
      "source": [
        "def evaluate(model, inp_lines, out_lines):\n",
        "    \"\"\"\n",
        "    Estimates model's corpora level bleu\n",
        "    :param inp_lines: a list of BPE strings in source language\n",
        "    :param out_lines: a list of BPE strings in target language\n",
        "    :returns: model's BLEU (float scalar)\n",
        "    \n",
        "    Important:\n",
        "    * Make sure to de-BPEize both translations and references. You can do that with str.replace\n",
        "    * Use model.translate_lines with default max_len\n",
        "    * If you're low on RAM, split data in several batches and translate sequentially\n",
        "    \"\"\"\n",
        "    trans, _ = model.translate_lines(inp_lines)\n",
        "    #print(trans)\n",
        "    \n",
        "    return bleu(map(lambda x:x.replace('@@ ',''),out_lines),map(lambda x:x.replace('@@ ',''),trans))"
      ],
      "execution_count": 0,
      "outputs": []
    },
    {
      "metadata": {
        "id": "jS3bzT4sLaon",
        "colab_type": "code",
        "outputId": "912b882d-1fa5-426a-91c8-956e6303c75d",
        "colab": {
          "base_uri": "https://localhost:8080/",
          "height": 34
        }
      },
      "cell_type": "code",
      "source": [
        "evaluate(model, dev_inp[:500], dev_out[:500])"
      ],
      "execution_count": 13,
      "outputs": [
        {
          "output_type": "execute_result",
          "data": {
            "text/plain": [
              "20.720304370020497"
            ]
          },
          "metadata": {
            "tags": []
          },
          "execution_count": 13
        }
      ]
    },
    {
      "metadata": {
        "id": "w_ft912OLaop",
        "colab_type": "text"
      },
      "cell_type": "markdown",
      "source": [
        "### Naive training (1.5 points)\n",
        "\n",
        "The simplest thing you can do in supervised domain adaptation is to simply fine-tune your model on the target domain data.\n",
        "\n",
        "Here's a reminder of what training objective looks like:\n",
        "$$ L = {\\frac1{|D|}} \\sum_{X, Y \\in D} \\sum_{y_t \\in Y} - \\log p(y_t \\mid y_1, \\dots, y_{t-1}, X, \\theta) $$\n",
        "\n",
        "where $|D|$ is the __total length of all sequences__.\n",
        "\n"
      ]
    },
    {
      "metadata": {
        "scrolled": true,
        "id": "59Dqqda6Laoq",
        "colab_type": "code",
        "colab": {}
      },
      "cell_type": "code",
      "source": [
        "from utils import select_values_over_last_axis\n",
        "\n",
        "def compute_loss(model, inp, out, **flags):\n",
        "    \"\"\"\n",
        "    Compute loss (float32 scalar) as in the formula above\n",
        "    :param inp: input tokens matrix, int32[batch, time]\n",
        "    :param out: reference tokens matrix, int32[batch, time]\n",
        "    \"\"\"\n",
        "    first_state = model.encode(inp, **flags)\n",
        "    batch_size = tf.shape(inp)[0]\n",
        "    bos = tf.fill([batch_size], model.out_voc.bos_ix)\n",
        "    first_logits = tf.log(tf.one_hot(bos, len(model.out_voc)) + 1e-30)\n",
        "    \n",
        "    def step(blob, y_prev):\n",
        "        h_prev = blob[:-1]\n",
        "        h_new, logits = model.decode(h_prev, y_prev, **flags)\n",
        "        return list(h_new) + [logits]\n",
        "\n",
        "    *states_seq, logits_seq = tf.scan(step,\n",
        "                                       initializer=list(first_state) + [first_logits],\n",
        "                                       elems=tf.transpose(out))\n",
        "\n",
        "    # gather state and logits, each of shape [time, batch, ...]\n",
        "    logits_seq = tf.concat((first_logits[None], logits_seq),axis=0)\n",
        "    #convert from [time, batch,...] to [batch, time, ...]\n",
        "    logits_seq = tf.transpose(logits_seq, [1, 0, 2])\n",
        "    \n",
        "    logprobs_seq = tf.nn.log_softmax(logits_seq, dim=-1)\n",
        "    \n",
        "    logp_out = select_values_over_last_axis(logprobs_seq, out)\n",
        "    mask = utils.infer_mask(out, out_voc.eos_ix)\n",
        "    return -tf.reduce_sum(logp_out * mask) / tf.reduce_sum(mask)"
      ],
      "execution_count": 0,
      "outputs": []
    },
    {
      "metadata": {
        "id": "3s2OOrxHLaos",
        "colab_type": "text"
      },
      "cell_type": "markdown",
      "source": [
        "### Training loop"
      ]
    },
    {
      "metadata": {
        "id": "i9NXey_7Laos",
        "colab_type": "code",
        "outputId": "84541895-087c-4f2f-8e7c-e896ae9921ed",
        "colab": {
          "base_uri": "https://localhost:8080/",
          "height": 88
        }
      },
      "cell_type": "code",
      "source": [
        "inp = tf.placeholder('int32', [None, None])\n",
        "out = tf.placeholder('int32', [None, None])\n",
        "\n",
        "loss = compute_loss(model, inp, out)\n",
        "\n",
        "train_step = tf.train.AdamOptimizer().minimize(loss)\n",
        "utils.initialize_uninitialized()"
      ],
      "execution_count": 15,
      "outputs": [
        {
          "output_type": "stream",
          "text": [
            "WARNING:tensorflow:From <ipython-input-14-bf9cafc0a3f6>:28: calling log_softmax (from tensorflow.python.ops.nn_ops) with dim is deprecated and will be removed in a future version.\n",
            "Instructions for updating:\n",
            "dim is deprecated, use axis instead\n"
          ],
          "name": "stdout"
        }
      ]
    },
    {
      "metadata": {
        "scrolled": false,
        "id": "52irsZSjLaov",
        "colab_type": "code",
        "colab": {}
      },
      "cell_type": "code",
      "source": [
        "import matplotlib.pyplot as plt\n",
        "%matplotlib inline\n",
        "from IPython.display import clear_output\n",
        "from tqdm import tqdm, trange\n",
        "\n",
        "batch_size = 32\n",
        "metrics = {'train_loss': [], 'dev_bleu': [] }"
      ],
      "execution_count": 0,
      "outputs": []
    },
    {
      "metadata": {
        "id": "KB26_UY4Laoy",
        "colab_type": "code",
        "outputId": "f2f291cd-ff9a-49f6-e7e4-0505ef2ce2b8",
        "colab": {
          "base_uri": "https://localhost:8080/",
          "height": 1267
        }
      },
      "cell_type": "code",
      "source": [
        "for _ in trange(10000):\n",
        "    step = len(metrics['train_loss']) + 1\n",
        "    batch_ix = np.random.randint(len(train_inp), size=32)\n",
        "    feed_dict = {\n",
        "        inp: inp_voc.to_matrix(train_inp[batch_ix]),\n",
        "        out: out_voc.to_matrix(train_out[batch_ix]),\n",
        "    }\n",
        "    \n",
        "    loss_t, _ = sess.run([loss, train_step], feed_dict)\n",
        "    metrics['train_loss'].append((step, loss_t))\n",
        "    \n",
        "    if step % 100 == 0:\n",
        "        metrics['dev_bleu'].append((step, evaluate(model, dev_inp, dev_out)))\n",
        "        \n",
        "        clear_output(True)\n",
        "        plt.figure(figsize=(12,4))\n",
        "        for i, (name, history) in enumerate(sorted(metrics.items())):\n",
        "            plt.subplot(1, len(metrics), i + 1)\n",
        "            plt.title(name)\n",
        "            plt.plot(*zip(*history))\n",
        "            plt.grid()\n",
        "        plt.show()\n",
        "        print(\"Mean loss=%.3f\" % np.mean(metrics['train_loss'][-10:], axis=0)[1], flush=True)\n",
        "        \n",
        "# Note: it's okay if bleu oscillates up and down as long as it gets better on average over long term (e.g. 5k batches)"
      ],
      "execution_count": 17,
      "outputs": [
        {
          "output_type": "display_data",
          "data": {
            "image/png": "[encoded data removed]",
            "text/plain": [
              "<Figure size 864x288 with 2 Axes>"
            ]
          },
          "metadata": {
            "tags": []
          }
        },
        {
          "output_type": "stream",
          "text": [
            "Mean loss=0.850\n"
          ],
          "name": "stdout"
        },
        {
          "output_type": "stream",
          "text": [
            " 10%|█         | 1004/10000 [24:36<9:44:42,  3.90s/it] "
          ],
          "name": "stderr"
        },
        {
          "output_type": "error",
          "ename": "KeyboardInterrupt",
          "evalue": "ignored",
          "traceback": [
            "\u001b[0;31m---------------------------------------------------------------------------\u001b[0m",
            "\u001b[0;31mKeyboardInterrupt\u001b[0m                         Traceback (most recent call last)",
            "\u001b[0;32m<ipython-input-17-46c7072593ee>\u001b[0m in \u001b[0;36m<module>\u001b[0;34m()\u001b[0m\n\u001b[1;32m      7\u001b[0m     }\n\u001b[1;32m      8\u001b[0m \u001b[0;34m\u001b[0m\u001b[0m\n\u001b[0;32m----> 9\u001b[0;31m     \u001b[0mloss_t\u001b[0m\u001b[0;34m,\u001b[0m \u001b[0m_\u001b[0m \u001b[0;34m=\u001b[0m \u001b[0msess\u001b[0m\u001b[0;34m.\u001b[0m\u001b[0mrun\u001b[0m\u001b[0;34m(\u001b[0m\u001b[0;34m[\u001b[0m\u001b[0mloss\u001b[0m\u001b[0;34m,\u001b[0m \u001b[0mtrain_step\u001b[0m\u001b[0;34m]\u001b[0m\u001b[0;34m,\u001b[0m \u001b[0mfeed_dict\u001b[0m\u001b[0;34m)\u001b[0m\u001b[0;34m\u001b[0m\u001b[0;34m\u001b[0m\u001b[0m\n\u001b[0m\u001b[1;32m     10\u001b[0m     \u001b[0mmetrics\u001b[0m\u001b[0;34m[\u001b[0m\u001b[0;34m'train_loss'\u001b[0m\u001b[0;34m]\u001b[0m\u001b[0;34m.\u001b[0m\u001b[0mappend\u001b[0m\u001b[0;34m(\u001b[0m\u001b[0;34m(\u001b[0m\u001b[0mstep\u001b[0m\u001b[0;34m,\u001b[0m \u001b[0mloss_t\u001b[0m\u001b[0;34m)\u001b[0m\u001b[0;34m)\u001b[0m\u001b[0;34m\u001b[0m\u001b[0;34m\u001b[0m\u001b[0m\n\u001b[1;32m     11\u001b[0m \u001b[0;34m\u001b[0m\u001b[0m\n",
            "\u001b[0;32m/usr/local/lib/python3.6/dist-packages/tensorflow/python/client/session.py\u001b[0m in \u001b[0;36mrun\u001b[0;34m(self, fetches, feed_dict, options, run_metadata)\u001b[0m\n\u001b[1;32m    927\u001b[0m     \u001b[0;32mtry\u001b[0m\u001b[0;34m:\u001b[0m\u001b[0;34m\u001b[0m\u001b[0;34m\u001b[0m\u001b[0m\n\u001b[1;32m    928\u001b[0m       result = self._run(None, fetches, feed_dict, options_ptr,\n\u001b[0;32m--> 929\u001b[0;31m                          run_metadata_ptr)\n\u001b[0m\u001b[1;32m    930\u001b[0m       \u001b[0;32mif\u001b[0m \u001b[0mrun_metadata\u001b[0m\u001b[0;34m:\u001b[0m\u001b[0;34m\u001b[0m\u001b[0;34m\u001b[0m\u001b[0m\n\u001b[1;32m    931\u001b[0m         \u001b[0mproto_data\u001b[0m \u001b[0;34m=\u001b[0m \u001b[0mtf_session\u001b[0m\u001b[0;34m.\u001b[0m\u001b[0mTF_GetBuffer\u001b[0m\u001b[0;34m(\u001b[0m\u001b[0mrun_metadata_ptr\u001b[0m\u001b[0;34m)\u001b[0m\u001b[0;34m\u001b[0m\u001b[0;34m\u001b[0m\u001b[0m\n",
            "\u001b[0;32m/usr/local/lib/python3.6/dist-packages/tensorflow/python/client/session.py\u001b[0m in \u001b[0;36m_run\u001b[0;34m(self, handle, fetches, feed_dict, options, run_metadata)\u001b[0m\n\u001b[1;32m   1150\u001b[0m     \u001b[0;32mif\u001b[0m \u001b[0mfinal_fetches\u001b[0m \u001b[0;32mor\u001b[0m \u001b[0mfinal_targets\u001b[0m \u001b[0;32mor\u001b[0m \u001b[0;34m(\u001b[0m\u001b[0mhandle\u001b[0m \u001b[0;32mand\u001b[0m \u001b[0mfeed_dict_tensor\u001b[0m\u001b[0;34m)\u001b[0m\u001b[0;34m:\u001b[0m\u001b[0;34m\u001b[0m\u001b[0;34m\u001b[0m\u001b[0m\n\u001b[1;32m   1151\u001b[0m       results = self._do_run(handle, final_targets, final_fetches,\n\u001b[0;32m-> 1152\u001b[0;31m                              feed_dict_tensor, options, run_metadata)\n\u001b[0m\u001b[1;32m   1153\u001b[0m     \u001b[0;32melse\u001b[0m\u001b[0;34m:\u001b[0m\u001b[0;34m\u001b[0m\u001b[0;34m\u001b[0m\u001b[0m\n\u001b[1;32m   1154\u001b[0m       \u001b[0mresults\u001b[0m \u001b[0;34m=\u001b[0m \u001b[0;34m[\u001b[0m\u001b[0;34m]\u001b[0m\u001b[0;34m\u001b[0m\u001b[0;34m\u001b[0m\u001b[0m\n",
            "\u001b[0;32m/usr/local/lib/python3.6/dist-packages/tensorflow/python/client/session.py\u001b[0m in \u001b[0;36m_do_run\u001b[0;34m(self, handle, target_list, fetch_list, feed_dict, options, run_metadata)\u001b[0m\n\u001b[1;32m   1326\u001b[0m     \u001b[0;32mif\u001b[0m \u001b[0mhandle\u001b[0m \u001b[0;32mis\u001b[0m \u001b[0;32mNone\u001b[0m\u001b[0;34m:\u001b[0m\u001b[0;34m\u001b[0m\u001b[0;34m\u001b[0m\u001b[0m\n\u001b[1;32m   1327\u001b[0m       return self._do_call(_run_fn, feeds, fetches, targets, options,\n\u001b[0;32m-> 1328\u001b[0;31m                            run_metadata)\n\u001b[0m\u001b[1;32m   1329\u001b[0m     \u001b[0;32melse\u001b[0m\u001b[0;34m:\u001b[0m\u001b[0;34m\u001b[0m\u001b[0;34m\u001b[0m\u001b[0m\n\u001b[1;32m   1330\u001b[0m       \u001b[0;32mreturn\u001b[0m \u001b[0mself\u001b[0m\u001b[0;34m.\u001b[0m\u001b[0m_do_call\u001b[0m\u001b[0;34m(\u001b[0m\u001b[0m_prun_fn\u001b[0m\u001b[0;34m,\u001b[0m \u001b[0mhandle\u001b[0m\u001b[0;34m,\u001b[0m \u001b[0mfeeds\u001b[0m\u001b[0;34m,\u001b[0m \u001b[0mfetches\u001b[0m\u001b[0;34m)\u001b[0m\u001b[0;34m\u001b[0m\u001b[0;34m\u001b[0m\u001b[0m\n",
            "\u001b[0;32m/usr/local/lib/python3.6/dist-packages/tensorflow/python/client/session.py\u001b[0m in \u001b[0;36m_do_call\u001b[0;34m(self, fn, *args)\u001b[0m\n\u001b[1;32m   1332\u001b[0m   \u001b[0;32mdef\u001b[0m \u001b[0m_do_call\u001b[0m\u001b[0;34m(\u001b[0m\u001b[0mself\u001b[0m\u001b[0;34m,\u001b[0m \u001b[0mfn\u001b[0m\u001b[0;34m,\u001b[0m \u001b[0;34m*\u001b[0m\u001b[0margs\u001b[0m\u001b[0;34m)\u001b[0m\u001b[0;34m:\u001b[0m\u001b[0;34m\u001b[0m\u001b[0;34m\u001b[0m\u001b[0m\n\u001b[1;32m   1333\u001b[0m     \u001b[0;32mtry\u001b[0m\u001b[0;34m:\u001b[0m\u001b[0;34m\u001b[0m\u001b[0;34m\u001b[0m\u001b[0m\n\u001b[0;32m-> 1334\u001b[0;31m       \u001b[0;32mreturn\u001b[0m \u001b[0mfn\u001b[0m\u001b[0;34m(\u001b[0m\u001b[0;34m*\u001b[0m\u001b[0margs\u001b[0m\u001b[0;34m)\u001b[0m\u001b[0;34m\u001b[0m\u001b[0;34m\u001b[0m\u001b[0m\n\u001b[0m\u001b[1;32m   1335\u001b[0m     \u001b[0;32mexcept\u001b[0m \u001b[0merrors\u001b[0m\u001b[0;34m.\u001b[0m\u001b[0mOpError\u001b[0m \u001b[0;32mas\u001b[0m \u001b[0me\u001b[0m\u001b[0;34m:\u001b[0m\u001b[0;34m\u001b[0m\u001b[0;34m\u001b[0m\u001b[0m\n\u001b[1;32m   1336\u001b[0m       \u001b[0mmessage\u001b[0m \u001b[0;34m=\u001b[0m \u001b[0mcompat\u001b[0m\u001b[0;34m.\u001b[0m\u001b[0mas_text\u001b[0m\u001b[0;34m(\u001b[0m\u001b[0me\u001b[0m\u001b[0;34m.\u001b[0m\u001b[0mmessage\u001b[0m\u001b[0;34m)\u001b[0m\u001b[0;34m\u001b[0m\u001b[0;34m\u001b[0m\u001b[0m\n",
            "\u001b[0;32m/usr/local/lib/python3.6/dist-packages/tensorflow/python/client/session.py\u001b[0m in \u001b[0;36m_run_fn\u001b[0;34m(feed_dict, fetch_list, target_list, options, run_metadata)\u001b[0m\n\u001b[1;32m   1317\u001b[0m       \u001b[0mself\u001b[0m\u001b[0;34m.\u001b[0m\u001b[0m_extend_graph\u001b[0m\u001b[0;34m(\u001b[0m\u001b[0;34m)\u001b[0m\u001b[0;34m\u001b[0m\u001b[0;34m\u001b[0m\u001b[0m\n\u001b[1;32m   1318\u001b[0m       return self._call_tf_sessionrun(\n\u001b[0;32m-> 1319\u001b[0;31m           options, feed_dict, fetch_list, target_list, run_metadata)\n\u001b[0m\u001b[1;32m   1320\u001b[0m \u001b[0;34m\u001b[0m\u001b[0m\n\u001b[1;32m   1321\u001b[0m     \u001b[0;32mdef\u001b[0m \u001b[0m_prun_fn\u001b[0m\u001b[0;34m(\u001b[0m\u001b[0mhandle\u001b[0m\u001b[0;34m,\u001b[0m \u001b[0mfeed_dict\u001b[0m\u001b[0;34m,\u001b[0m \u001b[0mfetch_list\u001b[0m\u001b[0;34m)\u001b[0m\u001b[0;34m:\u001b[0m\u001b[0;34m\u001b[0m\u001b[0;34m\u001b[0m\u001b[0m\n",
            "\u001b[0;32m/usr/local/lib/python3.6/dist-packages/tensorflow/python/client/session.py\u001b[0m in \u001b[0;36m_call_tf_sessionrun\u001b[0;34m(self, options, feed_dict, fetch_list, target_list, run_metadata)\u001b[0m\n\u001b[1;32m   1405\u001b[0m     return tf_session.TF_SessionRun_wrapper(\n\u001b[1;32m   1406\u001b[0m         \u001b[0mself\u001b[0m\u001b[0;34m.\u001b[0m\u001b[0m_session\u001b[0m\u001b[0;34m,\u001b[0m \u001b[0moptions\u001b[0m\u001b[0;34m,\u001b[0m \u001b[0mfeed_dict\u001b[0m\u001b[0;34m,\u001b[0m \u001b[0mfetch_list\u001b[0m\u001b[0;34m,\u001b[0m \u001b[0mtarget_list\u001b[0m\u001b[0;34m,\u001b[0m\u001b[0;34m\u001b[0m\u001b[0;34m\u001b[0m\u001b[0m\n\u001b[0;32m-> 1407\u001b[0;31m         run_metadata)\n\u001b[0m\u001b[1;32m   1408\u001b[0m \u001b[0;34m\u001b[0m\u001b[0m\n\u001b[1;32m   1409\u001b[0m   \u001b[0;32mdef\u001b[0m \u001b[0m_call_tf_sessionprun\u001b[0m\u001b[0;34m(\u001b[0m\u001b[0mself\u001b[0m\u001b[0;34m,\u001b[0m \u001b[0mhandle\u001b[0m\u001b[0;34m,\u001b[0m \u001b[0mfeed_dict\u001b[0m\u001b[0;34m,\u001b[0m \u001b[0mfetch_list\u001b[0m\u001b[0;34m)\u001b[0m\u001b[0;34m:\u001b[0m\u001b[0;34m\u001b[0m\u001b[0;34m\u001b[0m\u001b[0m\n",
            "\u001b[0;31mKeyboardInterrupt\u001b[0m: "
          ]
        }
      ]
    },
    {
      "metadata": {
        "id": "HslDXXpBLao0",
        "colab_type": "code",
        "colab": {}
      },
      "cell_type": "code",
      "source": [
        "assert np.mean(metrics['dev_bleu'][-10:], axis=0)[1] > 30, \"We kind of need a higher bleu BLEU from you. Kind of right now.\""
      ],
      "execution_count": 0,
      "outputs": []
    },
    {
      "metadata": {
        "id": "m40AuE44Lao1",
        "colab_type": "code",
        "colab": {
          "base_uri": "https://localhost:8080/",
          "height": 207
        },
        "outputId": "382653b7-4d7a-490f-b05a-94f5dd54e5b9"
      },
      "cell_type": "code",
      "source": [
        "#print translations of some random dev lines\n",
        "temp=np.random.choice(dev_inp,10)\n",
        "trans, _ = model.translate_lines(temp)\n",
        "for i,tran in enumerate(trans):\n",
        "    #print(i)\n",
        "    print(temp[i],' -> ',tran)"
      ],
      "execution_count": 23,
      "outputs": [
        {
          "output_type": "stream",
          "text": [
            "offering a fitness centre , la ros@@ ari@@ o is located in qui@@ to , a 10 - minute drive from the city ’ s historic centre .  ->  отель la ro@@ ss@@ ar@@ io с фитнес - центром расположен в городе ки@@ то , в 10 минутах езды от истори@@ ческого центра города .\n",
            "this 2 - floor stone house has a living room with several sof@@ as , a fire@@ place and a flat - screen tv .  ->  в доме для отпу@@ ска 2 эта@@ ж камен@@ ный дом располагает гости@@ ной с ди@@ ва@@ нами , ка@@ ми@@ ном и телевизором с плоским экраном .\n",
            "the apartments offer a balcony and a seating area .  ->  в апарта@@ ментах есть бал@@ кон и гости@@ ная зона .\n",
            "horiz@@ on stage performing arts center is 10 minutes ’ drive away . west ed@@ mon@@ ton core is less than 40 minutes ’ drive from the hotel .  ->  поезд@@ ка до центра исполнитель@@ ского искусства гори@@ зо@@ н@@ т _UNK_ 10 минут езды на автомоби@@ ле от отеля .\n",
            "a 3@@ g usb internet adap@@ tor can be used free of charge for wireless internet access .  ->  бесплатный wifi доступен бесплатный wi - fi .\n",
            "bo@@ dru@@ m city centre is 23 km from the property . mil@@ as - bo@@ dru@@ m airport is 60 km away .  ->  расстояние до центра бо@@ дру@@ ма составляет 23 км , а до аэропорта ми@@ ла@@ с - бо@@ дру@@ м _UNK_ 60 км .\n",
            "the property offers free parking .  ->  на территории обу@@ строен@@ а бесплатная парковка .\n",
            "a bus stop is located directly opposite the hotel , offering connections to a@@ stra@@ kh@@ an city centre .  ->  напротив отеля , расположен@@ ном прямо напротив отеля , напротив отеля , напротив центра а@@ стра@@ ха@@ ни , можно добраться до центра города а@@ стра@@ ха@@ ни .\n",
            "offering panor@@ amic sea - views , holiday home ch@@ ery is located in ri@@ va lig@@ ure , a few steps from the nearest beach .  ->  госте@@ вой дом ho@@ li@@ day home ch@@ er@@ y с па@@ но@@ рам@@ ным видом на море расположен в ри@@ в@@ ском - ли@@ гу@@ ре , в нескольких минутах ходьбы от ближай@@ шего пляжа .\n",
            "each of the rooms at child@@ ress inn is furnished with a seating area and a cable tv .  ->  в каждом номере отеля ch@@ il@@ ch@@ er@@ en inn установлен гости@@ ный уголок и кабе@@ льное телевид@@ ение .\n"
          ],
          "name": "stdout"
        }
      ]
    },
    {
      "metadata": {
        "id": "4PQxYvTCLao3",
        "colab_type": "text"
      },
      "cell_type": "markdown",
      "source": [
        "### Domain adaptation with KL penalty (2.5 pts)\n",
        "\n",
        "The problem with fine-tuning is that model can stray too far from the original parameters and forget useful information. One way to mitigate this problem is to use KL penalty:\n",
        "\n",
        "$$ Loss = (1 - \\lambda) \\cdot L_{xent} + \\lambda \\cdot {1 \\over N} \\underset {x, y_t} \\sum KL(P_{teacher}(y_t|x, y_0, ..., y_{t-1}) || P_{student}(y_t|x, y_0, ..., y_{t-1}))$$\n",
        "__Note:__ make sure you only optimize student weights (i.e. don't train teacher network)"
      ]
    },
    {
      "metadata": {
        "id": "PNW6delOLao3",
        "colab_type": "code",
        "colab": {
          "base_uri": "https://localhost:8080/",
          "height": 88
        },
        "outputId": "a6a91fa4-a4f5-4826-e6db-2b4de39c13e8"
      },
      "cell_type": "code",
      "source": [
        "tf.reset_default_graph()\n",
        "#tf.enable_eager_execution()\n",
        "sess = tf.InteractiveSession()\n",
        "\n",
        "model = utils.Model('mod', inp_voc, out_voc)\n",
        "utils.load(tf.trainable_variables(), 'model-pretrained.npz')\n",
        "\n",
        "teacher = utils.Model('teacher', inp_voc, out_voc)\n",
        "\n",
        "teacher_ckpt = np.load('model-pretrained.npz')\n",
        "teacher_ckpt = { name.replace('mod/', 'teacher/'): teacher_ckpt[name] for name in teacher_ckpt}\n",
        "np.savez('teacher.npz', **teacher_ckpt)\n",
        "utils.load(tf.trainable_variables(), 'teacher.npz')"
      ],
      "execution_count": 16,
      "outputs": [
        {
          "output_type": "stream",
          "text": [
            "/usr/local/lib/python3.6/dist-packages/tensorflow/python/client/session.py:1702: UserWarning: An interactive session is already active. This can cause out-of-memory errors in some cases. You must explicitly call `InteractiveSession.close()` to release resources held by the other session(s).\n",
            "  warnings.warn('An interactive session is already active. This can '\n",
            "Variables not initialized: mod/enc_fw/i2c:0 mod/enc_fw/h2c:0 mod/enc_fw/b_c:0 mod/enc_fw/i2f:0 mod/enc_fw/h2f:0 mod/enc_fw/b_f:0 mod/enc_fw/i2i:0 mod/enc_fw/h2i:0 mod/enc_fw/b_i:0 mod/enc_fw/i2o:0 mod/enc_fw/h2o:0 mod/enc_fw/b_o:0 mod/enc_bw/i2c:0 mod/enc_bw/h2c:0 mod/enc_bw/b_c:0 mod/enc_bw/i2f:0 mod/enc_bw/h2f:0 mod/enc_bw/b_f:0 mod/enc_bw/i2i:0 mod/enc_bw/h2i:0 mod/enc_bw/b_i:0 mod/enc_bw/i2o:0 mod/enc_bw/h2o:0 mod/enc_bw/b_o:0 mod/decoder/i2c:0 mod/decoder/h2c:0 mod/decoder/b_c:0 mod/decoder/i2f:0 mod/decoder/h2f:0 mod/decoder/b_f:0 mod/decoder/i2i:0 mod/decoder/h2i:0 mod/decoder/b_i:0 mod/decoder/i2o:0 mod/decoder/h2o:0 mod/decoder/b_o:0 mod/attn/dec:0 mod/attn/enc:0 mod/attn/vec:0 mod/embedding_1/embeddings:0 mod/embedding_2/embeddings:0 mod/dense_1/kernel:0 mod/dense_1/bias:0\n"
          ],
          "name": "stderr"
        }
      ]
    },
    {
      "metadata": {
        "id": "2QuFF2t2Lao5",
        "colab_type": "code",
        "colab": {}
      },
      "cell_type": "code",
      "source": [
        "\n",
        "def compute_loss_with_kl(model, teacher, inp, out, lambda_coeff=0.25, **flags):\n",
        "    \"\"\"\n",
        "    Compute loss (float32 scalar) as in the formula above\n",
        "    :param inp: input tokens matrix, int32[batch, time]\n",
        "    :param out: reference tokens matrix, int32[batch, time]\n",
        "    :param lambda_coeff: lambda from the formula above.\n",
        "    \n",
        "    use lambda_coeff from outer scope\n",
        "    \"\"\"\n",
        "    with tf.variable_scope(\"student\"):\n",
        "        first_state = model.encode(inp, **flags)\n",
        "        batch_size = tf.shape(inp)[0]\n",
        "        bos = tf.fill([batch_size], model.out_voc.bos_ix)\n",
        "        first_logits = tf.log(tf.one_hot(bos, len(model.out_voc)) + 1e-30)\n",
        "\n",
        "        def step(blob, y_prev):\n",
        "            h_prev = blob[:-1]\n",
        "            h_new, logits = model.decode(h_prev, y_prev, **flags)\n",
        "            return list(h_new) + [logits]\n",
        "\n",
        "        *states_seq, logits_seq = tf.scan(step,\n",
        "                                           initializer=list(first_state) + [first_logits],\n",
        "                                           elems=tf.transpose(out))\n",
        "\n",
        "        # gather state and logits, each of shape [time, batch, ...]\n",
        "        logits_seq = tf.concat((first_logits[None], logits_seq),axis=0)\n",
        "        #convert from [time, batch,...] to [batch, time, ...]\n",
        "        logits_seq = tf.transpose(logits_seq, [1, 0, 2])\n",
        "\n",
        "        logprobs_seq = tf.nn.log_softmax(logits_seq, dim=-1)\n",
        "\n",
        "        logp_out = select_values_over_last_axis(logprobs_seq, out)\n",
        "        mask = utils.infer_mask(out, out_voc.eos_ix)\n",
        "\n",
        "        loss = (lambda_coeff-1)*tf.reduce_sum(logp_out * mask) / tf.reduce_sum(mask)\n",
        "    with tf.variable_scope(\"teacher\"):\n",
        "        first_state = teacher.encode(inp, **flags)\n",
        "        #print(first_state)\n",
        "        bos = tf.fill([batch_size], model.out_voc.bos_ix)\n",
        "        first_logits = tf.log(tf.one_hot(bos, len(model.out_voc)) + 1e-30)\n",
        "\n",
        "        def step(blob, y_prev):\n",
        "            h_prev = blob[:-1]\n",
        "            h_new, logits = teacher.decode(h_prev, y_prev, **flags)\n",
        "            return list(h_new) + [logits]\n",
        "\n",
        "        *states_seq, logits_seq = tf.scan(step,\n",
        "                                           initializer=list(first_state) + [first_logits],\n",
        "                                           elems=tf.transpose(out))\n",
        "\n",
        "        # gather state and logits, each of shape [time, batch, ...]\n",
        "        logits_seq = tf.concat((first_logits[None], logits_seq),axis=0)\n",
        "        #convert from [time, batch,...] to [batch, time, ...]\n",
        "        logits_seq = tf.transpose(logits_seq, [1, 0, 2])\n",
        "        logprobs_seq = tf.nn.log_softmax(logits_seq, dim=-1)\n",
        "        #logq_out=select_values_over_last_axis(logprobs_seq,out)\n",
        "        q_out=select_values_over_last_axis( tf.nn.softmax(logits_seq, dim=-1),out)\n",
        "        loss += lambda_coeff*tf.reduce_sum(-(q_out*logp_out)*mask) / tf.reduce_sum(mask)\n",
        "        \n",
        "    #print(loss)\n",
        "    \n",
        "    return loss"
      ],
      "execution_count": 0,
      "outputs": []
    },
    {
      "metadata": {
        "id": "0fSmGUs1Lao8",
        "colab_type": "code",
        "colab": {
          "base_uri": "https://localhost:8080/",
          "height": 88
        },
        "outputId": "1bd24278-32d3-48d3-d2c9-829de11215eb"
      },
      "cell_type": "code",
      "source": [
        "### Do it yourself: create training step operations and \n",
        "# feel free to copy the code from simple fine-tuning\n",
        "inp = tf.placeholder('int32', [None, None])\n",
        "out = tf.placeholder('int32', [None, None])\n",
        "\n",
        "loss = compute_loss_with_kl(model,teacher ,inp, out)\n",
        "\n",
        "train_step = tf.train.AdamOptimizer().minimize(loss,var_list = model.weights)\n",
        "utils.initialize_uninitialized()"
      ],
      "execution_count": 18,
      "outputs": [
        {
          "output_type": "stream",
          "text": [
            "WARNING:tensorflow:From <ipython-input-17-59547d2d6f64>:58: calling softmax (from tensorflow.python.ops.nn_ops) with dim is deprecated and will be removed in a future version.\n",
            "Instructions for updating:\n",
            "dim is deprecated, use axis instead\n"
          ],
          "name": "stdout"
        }
      ]
    },
    {
      "metadata": {
        "id": "u_ftjxyfLao9",
        "colab_type": "code",
        "colab": {
          "base_uri": "https://localhost:8080/",
          "height": 1267
        },
        "outputId": "8b19d5a0-e2db-478d-cf0e-806e678bde49"
      },
      "cell_type": "code",
      "source": [
        "import matplotlib.pyplot as plt\n",
        "%matplotlib inline\n",
        "from IPython.display import clear_output\n",
        "from tqdm import tqdm, trange\n",
        "\n",
        "batch_size = 32\n",
        "metrics = {'train_loss': [], 'dev_bleu': [] }\n",
        "\n",
        "for _ in trange(10000):\n",
        "    step = len(metrics['train_loss']) + 1\n",
        "    batch_ix = np.random.randint(len(train_inp), size=32)\n",
        "    feed_dict = {\n",
        "        inp: inp_voc.to_matrix(train_inp[batch_ix]),\n",
        "        out: out_voc.to_matrix(train_out[batch_ix]),\n",
        "    }\n",
        "    \n",
        "    loss_t, _ = sess.run([loss, train_step], feed_dict)\n",
        "    metrics['train_loss'].append((step, loss_t))\n",
        "    \n",
        "    if step % 100 == 0:\n",
        "        metrics['dev_bleu'].append((step, evaluate(model, dev_inp, dev_out)))\n",
        "        \n",
        "        clear_output(True)\n",
        "        plt.figure(figsize=(12,4))\n",
        "        for i, (name, history) in enumerate(sorted(metrics.items())):\n",
        "            plt.subplot(1, len(metrics), i + 1)\n",
        "            plt.title(name)\n",
        "            plt.plot(*zip(*history))\n",
        "            plt.grid()\n",
        "        plt.show()\n",
        "        print(\"Mean loss=%.3f\" % np.mean(metrics['train_loss'][-10:], axis=0)[1], flush=True)\n",
        "        \n",
        "# Note: it's okay if bleu oscillates up and down as long as it gets better on average over long term (e.g. 5k batches)"
      ],
      "execution_count": 19,
      "outputs": [
        {
          "output_type": "display_data",
          "data": {
            "image/png": "[encoded data removed]",
            "text/plain": [
              "<Figure size 864x288 with 2 Axes>"
            ]
          },
          "metadata": {
            "tags": []
          }
        },
        {
          "output_type": "stream",
          "text": [
            "Mean loss=0.480\n"
          ],
          "name": "stdout"
        },
        {
          "output_type": "stream",
          "text": [
            " 23%|██▎       | 2297/10000 [1:08:17<2:55:27,  1.37s/it]"
          ],
          "name": "stderr"
        },
        {
          "output_type": "error",
          "ename": "KeyboardInterrupt",
          "evalue": "ignored",
          "traceback": [
            "\u001b[0;31m---------------------------------------------------------------------------\u001b[0m",
            "\u001b[0;31mKeyboardInterrupt\u001b[0m                         Traceback (most recent call last)",
            "\u001b[0;32m<ipython-input-19-15ea3317a16d>\u001b[0m in \u001b[0;36m<module>\u001b[0;34m()\u001b[0m\n\u001b[1;32m     15\u001b[0m     }\n\u001b[1;32m     16\u001b[0m \u001b[0;34m\u001b[0m\u001b[0m\n\u001b[0;32m---> 17\u001b[0;31m     \u001b[0mloss_t\u001b[0m\u001b[0;34m,\u001b[0m \u001b[0m_\u001b[0m \u001b[0;34m=\u001b[0m \u001b[0msess\u001b[0m\u001b[0;34m.\u001b[0m\u001b[0mrun\u001b[0m\u001b[0;34m(\u001b[0m\u001b[0;34m[\u001b[0m\u001b[0mloss\u001b[0m\u001b[0;34m,\u001b[0m \u001b[0mtrain_step\u001b[0m\u001b[0;34m]\u001b[0m\u001b[0;34m,\u001b[0m \u001b[0mfeed_dict\u001b[0m\u001b[0;34m)\u001b[0m\u001b[0;34m\u001b[0m\u001b[0;34m\u001b[0m\u001b[0m\n\u001b[0m\u001b[1;32m     18\u001b[0m     \u001b[0mmetrics\u001b[0m\u001b[0;34m[\u001b[0m\u001b[0;34m'train_loss'\u001b[0m\u001b[0;34m]\u001b[0m\u001b[0;34m.\u001b[0m\u001b[0mappend\u001b[0m\u001b[0;34m(\u001b[0m\u001b[0;34m(\u001b[0m\u001b[0mstep\u001b[0m\u001b[0;34m,\u001b[0m \u001b[0mloss_t\u001b[0m\u001b[0;34m)\u001b[0m\u001b[0;34m)\u001b[0m\u001b[0;34m\u001b[0m\u001b[0;34m\u001b[0m\u001b[0m\n\u001b[1;32m     19\u001b[0m \u001b[0;34m\u001b[0m\u001b[0m\n",
            "\u001b[0;32m/usr/local/lib/python3.6/dist-packages/tensorflow/python/client/session.py\u001b[0m in \u001b[0;36mrun\u001b[0;34m(self, fetches, feed_dict, options, run_metadata)\u001b[0m\n\u001b[1;32m    927\u001b[0m     \u001b[0;32mtry\u001b[0m\u001b[0;34m:\u001b[0m\u001b[0;34m\u001b[0m\u001b[0;34m\u001b[0m\u001b[0m\n\u001b[1;32m    928\u001b[0m       result = self._run(None, fetches, feed_dict, options_ptr,\n\u001b[0;32m--> 929\u001b[0;31m                          run_metadata_ptr)\n\u001b[0m\u001b[1;32m    930\u001b[0m       \u001b[0;32mif\u001b[0m \u001b[0mrun_metadata\u001b[0m\u001b[0;34m:\u001b[0m\u001b[0;34m\u001b[0m\u001b[0;34m\u001b[0m\u001b[0m\n\u001b[1;32m    931\u001b[0m         \u001b[0mproto_data\u001b[0m \u001b[0;34m=\u001b[0m \u001b[0mtf_session\u001b[0m\u001b[0;34m.\u001b[0m\u001b[0mTF_GetBuffer\u001b[0m\u001b[0;34m(\u001b[0m\u001b[0mrun_metadata_ptr\u001b[0m\u001b[0;34m)\u001b[0m\u001b[0;34m\u001b[0m\u001b[0;34m\u001b[0m\u001b[0m\n",
            "\u001b[0;32m/usr/local/lib/python3.6/dist-packages/tensorflow/python/client/session.py\u001b[0m in \u001b[0;36m_run\u001b[0;34m(self, handle, fetches, feed_dict, options, run_metadata)\u001b[0m\n\u001b[1;32m   1150\u001b[0m     \u001b[0;32mif\u001b[0m \u001b[0mfinal_fetches\u001b[0m \u001b[0;32mor\u001b[0m \u001b[0mfinal_targets\u001b[0m \u001b[0;32mor\u001b[0m \u001b[0;34m(\u001b[0m\u001b[0mhandle\u001b[0m \u001b[0;32mand\u001b[0m \u001b[0mfeed_dict_tensor\u001b[0m\u001b[0;34m)\u001b[0m\u001b[0;34m:\u001b[0m\u001b[0;34m\u001b[0m\u001b[0;34m\u001b[0m\u001b[0m\n\u001b[1;32m   1151\u001b[0m       results = self._do_run(handle, final_targets, final_fetches,\n\u001b[0;32m-> 1152\u001b[0;31m                              feed_dict_tensor, options, run_metadata)\n\u001b[0m\u001b[1;32m   1153\u001b[0m     \u001b[0;32melse\u001b[0m\u001b[0;34m:\u001b[0m\u001b[0;34m\u001b[0m\u001b[0;34m\u001b[0m\u001b[0m\n\u001b[1;32m   1154\u001b[0m       \u001b[0mresults\u001b[0m \u001b[0;34m=\u001b[0m \u001b[0;34m[\u001b[0m\u001b[0;34m]\u001b[0m\u001b[0;34m\u001b[0m\u001b[0;34m\u001b[0m\u001b[0m\n",
            "\u001b[0;32m/usr/local/lib/python3.6/dist-packages/tensorflow/python/client/session.py\u001b[0m in \u001b[0;36m_do_run\u001b[0;34m(self, handle, target_list, fetch_list, feed_dict, options, run_metadata)\u001b[0m\n\u001b[1;32m   1326\u001b[0m     \u001b[0;32mif\u001b[0m \u001b[0mhandle\u001b[0m \u001b[0;32mis\u001b[0m \u001b[0;32mNone\u001b[0m\u001b[0;34m:\u001b[0m\u001b[0;34m\u001b[0m\u001b[0;34m\u001b[0m\u001b[0m\n\u001b[1;32m   1327\u001b[0m       return self._do_call(_run_fn, feeds, fetches, targets, options,\n\u001b[0;32m-> 1328\u001b[0;31m                            run_metadata)\n\u001b[0m\u001b[1;32m   1329\u001b[0m     \u001b[0;32melse\u001b[0m\u001b[0;34m:\u001b[0m\u001b[0;34m\u001b[0m\u001b[0;34m\u001b[0m\u001b[0m\n\u001b[1;32m   1330\u001b[0m       \u001b[0;32mreturn\u001b[0m \u001b[0mself\u001b[0m\u001b[0;34m.\u001b[0m\u001b[0m_do_call\u001b[0m\u001b[0;34m(\u001b[0m\u001b[0m_prun_fn\u001b[0m\u001b[0;34m,\u001b[0m \u001b[0mhandle\u001b[0m\u001b[0;34m,\u001b[0m \u001b[0mfeeds\u001b[0m\u001b[0;34m,\u001b[0m \u001b[0mfetches\u001b[0m\u001b[0;34m)\u001b[0m\u001b[0;34m\u001b[0m\u001b[0;34m\u001b[0m\u001b[0m\n",
            "\u001b[0;32m/usr/local/lib/python3.6/dist-packages/tensorflow/python/client/session.py\u001b[0m in \u001b[0;36m_do_call\u001b[0;34m(self, fn, *args)\u001b[0m\n\u001b[1;32m   1332\u001b[0m   \u001b[0;32mdef\u001b[0m \u001b[0m_do_call\u001b[0m\u001b[0;34m(\u001b[0m\u001b[0mself\u001b[0m\u001b[0;34m,\u001b[0m \u001b[0mfn\u001b[0m\u001b[0;34m,\u001b[0m \u001b[0;34m*\u001b[0m\u001b[0margs\u001b[0m\u001b[0;34m)\u001b[0m\u001b[0;34m:\u001b[0m\u001b[0;34m\u001b[0m\u001b[0;34m\u001b[0m\u001b[0m\n\u001b[1;32m   1333\u001b[0m     \u001b[0;32mtry\u001b[0m\u001b[0;34m:\u001b[0m\u001b[0;34m\u001b[0m\u001b[0;34m\u001b[0m\u001b[0m\n\u001b[0;32m-> 1334\u001b[0;31m       \u001b[0;32mreturn\u001b[0m \u001b[0mfn\u001b[0m\u001b[0;34m(\u001b[0m\u001b[0;34m*\u001b[0m\u001b[0margs\u001b[0m\u001b[0;34m)\u001b[0m\u001b[0;34m\u001b[0m\u001b[0;34m\u001b[0m\u001b[0m\n\u001b[0m\u001b[1;32m   1335\u001b[0m     \u001b[0;32mexcept\u001b[0m \u001b[0merrors\u001b[0m\u001b[0;34m.\u001b[0m\u001b[0mOpError\u001b[0m \u001b[0;32mas\u001b[0m \u001b[0me\u001b[0m\u001b[0;34m:\u001b[0m\u001b[0;34m\u001b[0m\u001b[0;34m\u001b[0m\u001b[0m\n\u001b[1;32m   1336\u001b[0m       \u001b[0mmessage\u001b[0m \u001b[0;34m=\u001b[0m \u001b[0mcompat\u001b[0m\u001b[0;34m.\u001b[0m\u001b[0mas_text\u001b[0m\u001b[0;34m(\u001b[0m\u001b[0me\u001b[0m\u001b[0;34m.\u001b[0m\u001b[0mmessage\u001b[0m\u001b[0;34m)\u001b[0m\u001b[0;34m\u001b[0m\u001b[0;34m\u001b[0m\u001b[0m\n",
            "\u001b[0;32m/usr/local/lib/python3.6/dist-packages/tensorflow/python/client/session.py\u001b[0m in \u001b[0;36m_run_fn\u001b[0;34m(feed_dict, fetch_list, target_list, options, run_metadata)\u001b[0m\n\u001b[1;32m   1317\u001b[0m       \u001b[0mself\u001b[0m\u001b[0;34m.\u001b[0m\u001b[0m_extend_graph\u001b[0m\u001b[0;34m(\u001b[0m\u001b[0;34m)\u001b[0m\u001b[0;34m\u001b[0m\u001b[0;34m\u001b[0m\u001b[0m\n\u001b[1;32m   1318\u001b[0m       return self._call_tf_sessionrun(\n\u001b[0;32m-> 1319\u001b[0;31m           options, feed_dict, fetch_list, target_list, run_metadata)\n\u001b[0m\u001b[1;32m   1320\u001b[0m \u001b[0;34m\u001b[0m\u001b[0m\n\u001b[1;32m   1321\u001b[0m     \u001b[0;32mdef\u001b[0m \u001b[0m_prun_fn\u001b[0m\u001b[0;34m(\u001b[0m\u001b[0mhandle\u001b[0m\u001b[0;34m,\u001b[0m \u001b[0mfeed_dict\u001b[0m\u001b[0;34m,\u001b[0m \u001b[0mfetch_list\u001b[0m\u001b[0;34m)\u001b[0m\u001b[0;34m:\u001b[0m\u001b[0;34m\u001b[0m\u001b[0;34m\u001b[0m\u001b[0m\n",
            "\u001b[0;32m/usr/local/lib/python3.6/dist-packages/tensorflow/python/client/session.py\u001b[0m in \u001b[0;36m_call_tf_sessionrun\u001b[0;34m(self, options, feed_dict, fetch_list, target_list, run_metadata)\u001b[0m\n\u001b[1;32m   1405\u001b[0m     return tf_session.TF_SessionRun_wrapper(\n\u001b[1;32m   1406\u001b[0m         \u001b[0mself\u001b[0m\u001b[0;34m.\u001b[0m\u001b[0m_session\u001b[0m\u001b[0;34m,\u001b[0m \u001b[0moptions\u001b[0m\u001b[0;34m,\u001b[0m \u001b[0mfeed_dict\u001b[0m\u001b[0;34m,\u001b[0m \u001b[0mfetch_list\u001b[0m\u001b[0;34m,\u001b[0m \u001b[0mtarget_list\u001b[0m\u001b[0;34m,\u001b[0m\u001b[0;34m\u001b[0m\u001b[0;34m\u001b[0m\u001b[0m\n\u001b[0;32m-> 1407\u001b[0;31m         run_metadata)\n\u001b[0m\u001b[1;32m   1408\u001b[0m \u001b[0;34m\u001b[0m\u001b[0m\n\u001b[1;32m   1409\u001b[0m   \u001b[0;32mdef\u001b[0m \u001b[0m_call_tf_sessionprun\u001b[0m\u001b[0;34m(\u001b[0m\u001b[0mself\u001b[0m\u001b[0;34m,\u001b[0m \u001b[0mhandle\u001b[0m\u001b[0;34m,\u001b[0m \u001b[0mfeed_dict\u001b[0m\u001b[0;34m,\u001b[0m \u001b[0mfetch_list\u001b[0m\u001b[0;34m)\u001b[0m\u001b[0;34m:\u001b[0m\u001b[0;34m\u001b[0m\u001b[0;34m\u001b[0m\u001b[0m\n",
            "\u001b[0;31mKeyboardInterrupt\u001b[0m: "
          ]
        }
      ]
    },
    {
      "metadata": {
        "id": "ECk6lHptLao_",
        "colab_type": "code",
        "colab": {
          "base_uri": "https://localhost:8080/",
          "height": 207
        },
        "outputId": "735629ac-37a6-44e4-a4fc-88b1de5f8d28"
      },
      "cell_type": "code",
      "source": [
        "### Do it yourself: estimate the final quality\n",
        "# feel free to reuse the code from simple fine-tuning\n",
        "#print translations of some random dev lines\n",
        "temp=np.random.choice(dev_inp,10)\n",
        "trans, _ = model.translate_lines(temp)\n",
        "for i,tran in enumerate(trans):\n",
        "    #print(i)\n",
        "    print(temp[i],' -> ',tran)"
      ],
      "execution_count": 20,
      "outputs": [
        {
          "output_type": "stream",
          "text": [
            "it offers classic - style accommodation with a garden and furnished terrace .  ->  к услугам гостей оформ@@ ленные в класси@@ ческом стиле номера с са@@ дом и ме@@ бли@@ рованной тер@@ ра@@ со@@ й .\n",
            "sen@@ ec@@ a ni@@ ag@@ ara casino is 28 miles from the hotel .  ->  казино sen@@ ec@@ a ni@@ ag@@ ar@@ a находится в 28 , 8 км от отеля .\n",
            "f@@ m rental is 1 . 1 km from army historic museum and for@@ t of cop@@ ac@@ ab@@ ana and 1 . 3 km from i@@ pan@@ ema beach ' s post 8 .  ->  апартаменты f@@ m r@@ ent@@ al находятся в 1 , 1 км от истори@@ ческого музея армии и фор@@ та ко@@ па@@ ка@@ ба@@ на , а также в 1 , 3 км от пля@@ жей и@@ пане@@ ма би@@ ч .\n",
            "tow@@ els are provided .  ->  гостям предоставляются поло@@ тен@@ ца .\n",
            "the alp@@ ine - style rooms are fitted with a private bathroom featuring a shower .  ->  в числе удобств номеров в аль@@ пи@@ й@@ ском стиле с собственной ванной комна@@ той с душем .\n",
            "the bathroom comes with a shower .  ->  в ванной комнате установлен душ .\n",
            "the four - bedroom cott@@ age provides a satellite tv , free wifi and a dvd / cd player .  ->  в кот@@ те@@ дж@@ ном кот@@ те@@ дж@@ ном кот@@ те@@ дж@@ ном есть спутнико@@ вое телевид@@ ение , бесплатный wi - fi и dvd / cd - пле@@ ер .\n",
            "guests can c@@ ook in the kitchen equipped with fri@@ dge , sto@@ ve , microwave and electric ke@@ ttle , and there is also a sn@@ ack bar on site .  ->  гости могут пригото@@ вить е@@ ду на кух@@ не , осна@@ щен@@ ной холоди@@ ль@@ ником , пли@@ той , микровол@@ новой пе@@ чью и электри@@ ческим чай@@ ником .\n",
            "the property is 35 km from semin@@ y@@ ak area and 36 km from n@@ gur@@ ah ra@@ i international airport .  ->  апартаменты находятся в 35 км от района се@@ мин@@ ья@@ к и в 36 км от международного аэропорта н@@ гу@@ рах - ра@@ й .\n",
            "just a short walk from the beach , this hotel is located in the city of mar@@ mar@@ is and provides guests with the ideal family ge@@ ta@@ way .  ->  этот отель расположен в городе мар@@ мари@@ с , всего в нескольких минутах ходьбы от пляжа . гости могут по@@ завтра@@ ка@@ ть и иде@@ ально под@@ ходить к вашим услугам гостей отеля идеаль@@ ной семей@@ ной г@@ лю@@ й .\n"
          ],
          "name": "stdout"
        }
      ]
    },
    {
      "metadata": {
        "id": "gViKkcLWLapB",
        "colab_type": "text"
      },
      "cell_type": "markdown",
      "source": [
        "### Bonus tasks:\n",
        "Both tasks start at 3 points for basic solution and a ton more if you do something as awesome as the stuff from the lecture.\n",
        "\n",
        "1. __Domain adaptation with unlabeled data:__\n",
        " * In machine translation, it's relatively easy to obtain unparallel data. For the hotels task, there's almost 10x as large a corpora available if you \n",
        " * Download the full data [here](https://yadi.sk/d/zrYuTKQ63S33m3)\n",
        " * The dataset was originally provided by [Tilde](https://www.tilde.com/). Huge thanks to them! :)\n",
        " * The goal is simple: improve the model using the extra data. You can use proxy labels, pre-train as language model or do literally anything else.\n",
        " * Using extra out-of-domain data, whether parallel or not, is also encouraged. Here's [statmt](http://www.statmt.org/) with parallel corpora section at the bottom.\n",
        "\n",
        " \n",
        "2. __Beam search:__\n",
        " * While it's not related to domain adaption, beam search is a good general way to improve model inference.\n",
        " * The key idea of beam search if to consider not top-1 but top-K hypotheses at each step\n",
        " * In the example below, k=4\n",
        " * Whenever a hypothesis in top-K is finished (with a `_EOS_`), record it and remember it's score.\n",
        " * Iterate until all hypotheses are already worse than the best finished hypo."
      ]
    },
    {
      "metadata": {
        "id": "w6ZmkJ_OLapC",
        "colab_type": "code",
        "colab": {}
      },
      "cell_type": "code",
      "source": [
        "!wget https://raw.githubusercontent.com/yandexdataschool/nlp_course/master/resources/beam_search.html 2> log\n",
        "from IPython.display import HTML\n",
        "# source: parlament does not support the amendment freeing tymoshenko\n",
        "HTML('./beam_search.html')"
      ],
      "execution_count": 0,
      "outputs": []
    }
  ]
}