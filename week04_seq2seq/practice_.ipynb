{
  "nbformat": 4,
  "nbformat_minor": 0,
  "metadata": {
    "colab": {
      "name": "“practice.ipynb”的副本",
      "version": "0.3.2",
      "provenance": [],
      "collapsed_sections": [
        "WQDgqiBcXsNa"
      ]
    },
    "kernelspec": {
      "name": "python3",
      "display_name": "Python 3"
    },
    "accelerator": "GPU"
  },
  "cells": [
    {
      "metadata": {
        "id": "rA6MHgCiXsMl",
        "colab_type": "text"
      },
      "cell_type": "markdown",
      "source": [
        "## Seminar and homework (10 points total)\n",
        "\n",
        "Today we shall compose encoder-decoder neural networks and apply them to the task of machine translation.\n",
        "\n",
        "![img](https://esciencegroup.files.wordpress.com/2016/03/seq2seq.jpg)\n",
        "_(img: esciencegroup.files.wordpress.com)_\n",
        "\n",
        "\n",
        "Encoder-decoder architectures are about converting anything to anything, including\n",
        " * Machine translation and spoken dialogue systems\n",
        " * [Image captioning](http://mscoco.org/dataset/#captions-challenge2015) and [image2latex](https://openai.com/requests-for-research/#im2latex) (convolutional encoder, recurrent decoder)\n",
        " * Generating [images by captions](https://arxiv.org/abs/1511.02793) (recurrent encoder, convolutional decoder)\n",
        " * Grapheme2phoneme - convert words to transcripts"
      ]
    },
    {
      "metadata": {
        "id": "VLc8x6F7XsMn",
        "colab_type": "text"
      },
      "cell_type": "markdown",
      "source": [
        "## Our task: machine translation\n",
        "\n",
        "We gonna try our encoder-decoder models on russian to english machine translation problem. More specifically, we'll translate hotel and hostel descriptions. This task shows the scale of machine translation while not requiring you to train your model for weeks if you don't use GPU.\n",
        "\n",
        "Before we get to the architecture, there's some preprocessing to be done. ~~Go tokenize~~ Alright, this time we've done preprocessing for you. As usual, the data will be tokenized with WordPunctTokenizer.\n",
        "\n",
        "However, there's one more thing to do. Our data lines contain unique rare words. If we operate on a word level, we will have to deal with large vocabulary size. If instead we use character-level models, it would take lots of iterations to process a sequence. This time we're gonna pick something inbetween.\n",
        "\n",
        "One popular approach is called [Byte Pair Encoding](https://github.com/rsennrich/subword-nmt) aka __BPE__. The algorithm starts with a character-level tokenization and then iteratively merges most frequent pairs for N iterations. This results in frequent words being merged into a single token and rare words split into syllables or even characters.\n",
        "\n"
      ]
    },
    {
      "metadata": {
        "id": "qThhnfQ3XsMo",
        "colab_type": "code",
        "colab": {}
      },
      "cell_type": "code",
      "source": [
        "!pip3 install subword-nmt &> log\n",
        "!wget https://raw.githubusercontent.com/yandexdataschool/nlp_course/master/week04_seq2seq/data.txt -O data.txt 2> log\n",
        "!wget https://github.com/yandexdataschool/nlp_course/raw/master/week04_seq2seq/utils.py -O utils.py 2> log\n",
        "!wget https://github.com/yandexdataschool/nlp_course/raw/master/week04_seq2seq/dummy_checkpoint.npz -O dummy_checkpoint.npz 2> log\n",
        "#thanks to tilda and deephack teams for the data"
      ],
      "execution_count": 0,
      "outputs": []
    },
    {
      "metadata": {
        "id": "F_6H2K9rXsMr",
        "colab_type": "code",
        "colab": {}
      },
      "cell_type": "code",
      "source": [
        "from nltk.tokenize import WordPunctTokenizer\n",
        "from subword_nmt.learn_bpe import learn_bpe\n",
        "from subword_nmt.apply_bpe import BPE\n",
        "tokenizer = WordPunctTokenizer()\n",
        "def tokenize(x):\n",
        "    return ' '.join(tokenizer.tokenize(x.lower()))\n",
        "\n",
        "# split and tokenize the data\n",
        "with open('train.en', 'w') as f_src,  open('train.ru', 'w') as f_dst:\n",
        "    for line in open('data.txt'):\n",
        "        src_line, dst_line = line.strip().split('\\t')\n",
        "        f_src.write(tokenize(src_line) + '\\n')\n",
        "        f_dst.write(tokenize(dst_line) + '\\n')\n",
        "\n",
        "# build and apply bpe vocs\n",
        "bpe = {}\n",
        "for lang in ['en', 'ru']:\n",
        "    learn_bpe(open('./train.' + lang), open('bpe_rules.' + lang, 'w'), num_symbols=8000)\n",
        "    bpe[lang] = BPE(open('./bpe_rules.' + lang))\n",
        "    \n",
        "    with open('train.bpe.' + lang, 'w') as f_out:\n",
        "        for line in open('train.' + lang):\n",
        "            f_out.write(bpe[lang].process_line(line.strip()) + '\\n')"
      ],
      "execution_count": 0,
      "outputs": []
    },
    {
      "metadata": {
        "id": "_sLzm07NXsMu",
        "colab_type": "text"
      },
      "cell_type": "markdown",
      "source": [
        "### Building vocabularies\n",
        "\n",
        "We now need to build vocabularies that map strings to token ids and vice versa. We're gonna need these fellas when we feed training data into model or convert output matrices into words."
      ]
    },
    {
      "metadata": {
        "id": "jfnWDtXRXsMu",
        "colab_type": "code",
        "colab": {}
      },
      "cell_type": "code",
      "source": [
        "import numpy as np\n",
        "import matplotlib.pyplot as plt\n",
        "%matplotlib inline"
      ],
      "execution_count": 0,
      "outputs": []
    },
    {
      "metadata": {
        "id": "ZEn7Fb8QXsMx",
        "colab_type": "code",
        "outputId": "47dff39f-61aa-42e4-d7a7-c20b247d1fa4",
        "colab": {
          "base_uri": "https://localhost:8080/",
          "height": 170
        }
      },
      "cell_type": "code",
      "source": [
        "data_inp = np.array(open('./train.bpe.ru').read().split('\\n'))\n",
        "data_out = np.array(open('./train.bpe.en').read().split('\\n'))\n",
        "\n",
        "from sklearn.model_selection import train_test_split\n",
        "train_inp, dev_inp, train_out, dev_out = train_test_split(data_inp, data_out, test_size=3000,\n",
        "                                                          random_state=42)\n",
        "for i in range(3):\n",
        "    print('inp:', train_inp[i])\n",
        "    print('out:', train_out[i], end='\\n\\n')"
      ],
      "execution_count": 4,
      "outputs": [
        {
          "output_type": "stream",
          "text": [
            "inp: на территории обустроена бесплатная частная парковка .\n",
            "out: free private parking is available on site .\n",
            "\n",
            "inp: кроме того , в 5 минутах ходьбы работают многочисленные бары и рестораны .\n",
            "out: guests can find many bars and restaurants within a 5 - minute walk .\n",
            "\n",
            "inp: отель san mi@@ gu@@ el расположен в центре мор@@ ели@@ и , в 750 метрах от главной площади города и кафедрального собора .\n",
            "out: hotel san miguel is located in central more@@ lia , 750 metres from the city ’ s main square and cathedral .\n",
            "\n"
          ],
          "name": "stdout"
        }
      ]
    },
    {
      "metadata": {
        "id": "sjrgLV1aXsMz",
        "colab_type": "code",
        "colab": {}
      },
      "cell_type": "code",
      "source": [
        "from utils import Vocab\n",
        "inp_voc = Vocab.from_lines(train_inp)\n",
        "out_voc = Vocab.from_lines(train_out)"
      ],
      "execution_count": 0,
      "outputs": []
    },
    {
      "metadata": {
        "id": "51zo8ymnXsM1",
        "colab_type": "code",
        "outputId": "5fc49507-e305-4084-9e31-f83be439b060",
        "colab": {
          "base_uri": "https://localhost:8080/",
          "height": 221
        }
      },
      "cell_type": "code",
      "source": [
        "# Here's how you cast lines into ids and backwards.\n",
        "batch_lines = sorted(train_inp, key=len)[5:10]\n",
        "batch_ids = inp_voc.to_matrix(batch_lines)\n",
        "batch_lines_restored = inp_voc.to_lines(batch_ids)\n",
        "\n",
        "print(\"lines\")\n",
        "print(batch_lines)\n",
        "print(\"\\nwords to ids (0 = bos, 1 = eos):\")\n",
        "print(batch_ids)\n",
        "print(\"\\nback to words\")\n",
        "print(batch_lines_restored)"
      ],
      "execution_count": 6,
      "outputs": [
        {
          "output_type": "stream",
          "text": [
            "lines\n",
            "['гостевой дом r .', 'до афин — 20 км .', 'работает боулинг .', 'оборудован балкон .', 'подключен wi - fi .']\n",
            "\n",
            "words to ids (0 = bos, 1 = eos):\n",
            "[[   0 2688 2943 1108   29    1    1    1]\n",
            " [   0 2922 1834 8035   59 3800   29    1]\n",
            " [   0 6030 2083   29    1    1    1    1]\n",
            " [   0 4927 1870   29    1    1    1    1]\n",
            " [   0 5549 1453   27  592   29    1    1]]\n",
            "\n",
            "back to words\n",
            "['гостевой дом r .', 'до афин — 20 км .', 'работает боулинг .', 'оборудован балкон .', 'подключен wi - fi .']\n"
          ],
          "name": "stdout"
        }
      ]
    },
    {
      "metadata": {
        "id": "WeYZvrwYXsM4",
        "colab_type": "text"
      },
      "cell_type": "markdown",
      "source": [
        "Draw source and translation length distributions to estimate the scope of the task."
      ]
    },
    {
      "metadata": {
        "id": "dYWHWBLrXsM4",
        "colab_type": "code",
        "outputId": "a8ae43ab-ce28-4072-acaf-3dc719dd91d4",
        "colab": {
          "base_uri": "https://localhost:8080/",
          "height": 280
        }
      },
      "cell_type": "code",
      "source": [
        "plt.figure(figsize=[8, 4])\n",
        "plt.subplot(1, 2, 1)\n",
        "plt.title(\"source length\")\n",
        "plt.hist(list(map(len, map(str.split, train_inp))), bins=20);\n",
        "\n",
        "plt.subplot(1, 2, 2)\n",
        "plt.title(\"translation length\")\n",
        "plt.hist(list(map(len, map(str.split, train_out))), bins=20);"
      ],
      "execution_count": 7,
      "outputs": [
        {
          "output_type": "display_data",
          "data": {
            "image/png": "[encoded data removed]",
            "text/plain": [
              "<matplotlib.figure.Figure at 0x7f779e2e8fd0>"
            ]
          },
          "metadata": {
            "tags": []
          }
        }
      ]
    },
    {
      "metadata": {
        "id": "4P7zEjwIXsM6",
        "colab_type": "text"
      },
      "cell_type": "markdown",
      "source": [
        "### Encoder-decoder model\n",
        "\n",
        "The code below contas a template for a simple encoder-decoder model: single GRU encoder/decoder, no attention or anything. This model is implemented for you as a reference and a baseline for your homework assignment."
      ]
    },
    {
      "metadata": {
        "id": "x68OdVOAXsM7",
        "colab_type": "code",
        "outputId": "710aeea0-61e5-460b-8404-caa9a05e4a86",
        "colab": {
          "base_uri": "https://localhost:8080/",
          "height": 34
        }
      },
      "cell_type": "code",
      "source": [
        "import tensorflow as tf\n",
        "import keras.layers as L\n",
        "from utils import infer_length, infer_mask"
      ],
      "execution_count": 8,
      "outputs": [
        {
          "output_type": "stream",
          "text": [
            "Using TensorFlow backend.\n"
          ],
          "name": "stderr"
        }
      ]
    },
    {
      "metadata": {
        "id": "GC3Ny7ftXsM-",
        "colab_type": "code",
        "colab": {}
      },
      "cell_type": "code",
      "source": [
        "class BasicModel:\n",
        "    def __init__(self, name, inp_voc, out_voc, emb_size=64, hid_size=128):\n",
        "        \"\"\"\n",
        "        A simple encoder-decoder model\n",
        "        \"\"\"\n",
        "        self.name, self.inp_voc, self.out_voc = name, inp_voc, out_voc\n",
        "\n",
        "        with tf.variable_scope(name):\n",
        "            self.emb_inp = L.Embedding(len(inp_voc), emb_size)\n",
        "            self.emb_out = L.Embedding(len(out_voc), emb_size)\n",
        "            self.enc0 = tf.nn.rnn_cell.GRUCell(hid_size)\n",
        "\n",
        "            self.dec_start = L.Dense(hid_size)\n",
        "            self.dec0 = tf.nn.rnn_cell.GRUCell(hid_size)\n",
        "            self.logits = L.Dense(len(out_voc))\n",
        "\n",
        "            # prepare to translate_lines\n",
        "            self.inp = tf.placeholder('int32', [None, None])\n",
        "            self.initial_state = self.prev_state = self.encode(self.inp)\n",
        "            self.prev_tokens = tf.placeholder('int32', [None])\n",
        "            self.next_state, self.next_logits = self.decode(self.prev_state, self.prev_tokens)\n",
        "        \n",
        "        self.weights = tf.get_collection(tf.GraphKeys.TRAINABLE_VARIABLES, scope=name)\n",
        "\n",
        "    def encode(self, inp, **flags):\n",
        "        \"\"\"\n",
        "        Takes symbolic input sequence, computes initial state\n",
        "        :param inp: matrix of input tokens [batch, time]\n",
        "        :returns: initial decoder state tensors, one or many\n",
        "        \"\"\"\n",
        "        inp_lengths = infer_length(inp, self.inp_voc.eos_ix)\n",
        "        inp_emb = self.emb_inp(inp)\n",
        "        with tf.variable_scope('enc0'):\n",
        "            _, enc_last = tf.nn.dynamic_rnn(\n",
        "                              self.enc0, inp_emb,\n",
        "                              sequence_length=inp_lengths,\n",
        "                              dtype = inp_emb.dtype)\n",
        "        dec_start = self.dec_start(enc_last)\n",
        "        return [dec_start]\n",
        "\n",
        "    def decode(self, prev_state, prev_tokens, **flags):\n",
        "        \"\"\"\n",
        "        Takes previous decoder state and tokens, returns new state and logits for next tokens\n",
        "        :param prev_state: a list of previous decoder state tensors\n",
        "        :param prev_tokens: previous output tokens, an int vector of [batch_size]\n",
        "        :return: a list of next decoder state tensors, a tensor of logits [batch, n_tokens]\n",
        "        \"\"\"\n",
        "        [prev_dec] = prev_state\n",
        "        prev_emb = self.emb_out(prev_tokens[:,None])[:,0]\n",
        "        with tf.variable_scope('dec0'):\n",
        "            new_dec_out, new_dec_state = self.dec0(prev_emb, prev_dec)\n",
        "        output_logits = self.logits(new_dec_out)\n",
        "        return [new_dec_state], output_logits\n",
        "\n",
        "    def translate_lines(self, inp_lines, max_len=100):\n",
        "        \"\"\"\n",
        "        Translates a list of lines by greedily selecting most likely next token at each step\n",
        "        :returns: a list of output lines, a sequence of model states at each step\n",
        "        \"\"\"\n",
        "        state = sess.run(self.initial_state, {self.inp: inp_voc.to_matrix(inp_lines)})\n",
        "        outputs = [[self.out_voc.bos_ix] for _ in range(len(inp_lines))]\n",
        "        all_states = [state]\n",
        "        finished = [False] * len(inp_lines)\n",
        "\n",
        "        for t in range(max_len):\n",
        "            state, logits = sess.run([self.next_state, self.next_logits], {**dict(zip(self.prev_state, state)),\n",
        "                                           self.prev_tokens: [out_i[-1] for out_i in outputs]})\n",
        "            next_tokens = np.argmax(logits, axis=-1)\n",
        "            all_states.append(state)\n",
        "            for i in range(len(next_tokens)):\n",
        "                outputs[i].append(next_tokens[i])\n",
        "                finished[i] |= next_tokens[i] == self.out_voc.eos_ix\n",
        "        return out_voc.to_lines(outputs), all_states"
      ],
      "execution_count": 0,
      "outputs": []
    },
    {
      "metadata": {
        "id": "BGkK4eO7XsNB",
        "colab_type": "code",
        "colab": {}
      },
      "cell_type": "code",
      "source": [
        "tf.reset_default_graph()\n",
        "sess = tf.InteractiveSession()\n",
        "# ^^^ if you get \"variable *** already exists\": re-run this cell again - it will clear all tf operations youve 'built\n",
        "\n",
        "model = BasicModel('model', inp_voc, out_voc)\n",
        "sess.run(tf.global_variables_initializer())"
      ],
      "execution_count": 0,
      "outputs": []
    },
    {
      "metadata": {
        "id": "gwLAAMVZXsNC",
        "colab_type": "text"
      },
      "cell_type": "markdown",
      "source": [
        "### Training loss (2 points)\n",
        "\n",
        "Our training objetive is almost the same as it was for neural language models:\n",
        "$$ L = {\\frac1{|D|}} \\sum_{X, Y \\in D} \\sum_{y_t \\in Y} - \\log p(y_t \\mid y_1, \\dots, y_{t-1}, X, \\theta) $$\n",
        "\n",
        "where $|D|$ is the __total length of all sequences__, including BOS and first EOS, but excluding PAD."
      ]
    },
    {
      "metadata": {
        "id": "aFzhfO6KXsND",
        "colab_type": "code",
        "colab": {}
      },
      "cell_type": "code",
      "source": [
        "def compute_logits(model, inp, out, **flags):\n",
        "    \"\"\"\n",
        "    :param inp: input tokens matrix, int32[batch, time]\n",
        "    :param out: reference tokens matrix, int32[batch, time]\n",
        "    :returns: logits of shape [batch, time, voc_size]\n",
        "    \n",
        "    * logits must be a linear output of your neural network.\n",
        "    * logits [:, 0, :] should always predic BOS\n",
        "    * logits [:, -1, :] should be probabilities of last token in out\n",
        "    This function should NOT return logits predicted when taking out[:, -1] as y_prev\n",
        "    \"\"\"\n",
        "    batch_size = tf.shape(inp)[0]\n",
        "    \n",
        "    # Encode inp, get initial state\n",
        "    first_state = model.encode(inp)\n",
        "    \n",
        "    # initial logits: always predict BOS\n",
        "    first_logits = tf.log(tf.one_hot(tf.fill([batch_size], model.out_voc.bos_ix),\n",
        "                                     len(model.out_voc)) + 1e-30)\n",
        "    \n",
        "    # Decode step\n",
        "    def step(prev_state, y_prev):\n",
        "        # Given previous state, obtain next state and next token logits\n",
        "        \n",
        "        return model.decode(prev_state[0], y_prev)\n",
        "\n",
        "    # You can now use tf.scan to run step several times.\n",
        "    # use tf.transpose(out) as elems (to process one time-step at a time)\n",
        "    # docs: https://www.tensorflow.org/api_docs/python/tf/scan\n",
        "    \n",
        "    state,predict=tf.scan(step,tf.transpose(out),initializer=(first_state,first_logits))\n",
        "    \n",
        "    logits_seq = predict[:-1,:,:]\n",
        "    \n",
        "    # prepend first_logits to logits_seq\n",
        "    logits_seq = tf.concat([tf.expand_dims(first_logits,axis=0),logits_seq],axis=0)\n",
        "    \n",
        "    # Make sure you convert logits_seq from [time, batch, voc_size] to [batch, time, voc_size]\n",
        "    logits_seq =tf.transpose(logits_seq,perm=[1,0,2])\n",
        "    \n",
        "    return logits_seq"
      ],
      "execution_count": 0,
      "outputs": []
    },
    {
      "metadata": {
        "id": "nZCzfF3KXsNF",
        "colab_type": "code",
        "colab": {}
      },
      "cell_type": "code",
      "source": [
        "from utils import load\n",
        "load(tf.trainable_variables(), 'dummy_checkpoint.npz')\n",
        "dummy_inp = tf.constant(inp_voc.to_matrix(train_inp[:3]))\n",
        "dummy_out = tf.constant(out_voc.to_matrix(train_out[:3]))\n",
        "dummy_logits = sess.run(compute_logits(model, dummy_inp, dummy_out))\n",
        "dummy_ref = np.array([-0.13257082, -0.11084784, -0.09024167, -0.14910498], dtype='float32')\n",
        "assert np.allclose(dummy_logits.sum(-1)[0, 1:5], dummy_ref)\n",
        "ref_shape = (dummy_out.shape[0], dummy_out.shape[1], len(out_voc))\n",
        "assert dummy_logits.shape == ref_shape, \"Your logits shape should be {} but got {}\".format(dummy_logits.shape, ref_shape)\n",
        "assert all(dummy_logits[:, 0].argmax(-1) == out_voc.bos_ix), \"first step must always be BOS\""
      ],
      "execution_count": 0,
      "outputs": []
    },
    {
      "metadata": {
        "scrolled": true,
        "id": "tGUFAvksXsNG",
        "colab_type": "code",
        "colab": {}
      },
      "cell_type": "code",
      "source": [
        "from utils import select_values_over_last_axis\n",
        "\n",
        "def compute_loss(model, inp, out, **flags):\n",
        "    \"\"\"\n",
        "    Compute loss (float32 scalar) as in the formula above\n",
        "    :param inp: input tokens matrix, int32[batch, time]\n",
        "    :param out: reference tokens matrix, int32[batch, time]\n",
        "    \n",
        "    In order to pass the tests, your function should\n",
        "    * include loss at first EOS but not the subsequent ones\n",
        "    * divide sum of losses by a sum of input lengths (use infer_length or infer_mask)\n",
        "    \"\"\"\n",
        "    mask = infer_mask(out, out_voc.eos_ix)    \n",
        "    logits_seq = compute_logits(model, inp, out, **flags)\n",
        "    \n",
        "    # Compute loss as per instructions above\n",
        "    \n",
        "    \n",
        "    return tf.losses.softmax_cross_entropy(\n",
        "                tf.one_hot(out,len(model.out_voc)),\n",
        "                logits_seq,\n",
        "                weights=mask\n",
        "            )"
      ],
      "execution_count": 0,
      "outputs": []
    },
    {
      "metadata": {
        "id": "HuMyJyIHXsNJ",
        "colab_type": "code",
        "outputId": "0bff3341-3bad-4d88-b280-d165742719fc",
        "colab": {
          "base_uri": "https://localhost:8080/",
          "height": 34
        }
      },
      "cell_type": "code",
      "source": [
        "dummy_loss = sess.run(compute_loss(model, dummy_inp, dummy_out))\n",
        "print(\"Loss:\", dummy_loss)\n",
        "assert np.allclose(dummy_loss, 8.425, rtol=0.1, atol=0.1), \"We're sorry for your loss\""
      ],
      "execution_count": 14,
      "outputs": [
        {
          "output_type": "stream",
          "text": [
            "Loss: 8.424398\n"
          ],
          "name": "stdout"
        }
      ]
    },
    {
      "metadata": {
        "id": "1ecI1jxAXsNK",
        "colab_type": "text"
      },
      "cell_type": "markdown",
      "source": [
        "### Evaluation: BLEU\n",
        "\n",
        "Machine translation is commonly evaluated with [BLEU](https://en.wikipedia.org/wiki/BLEU) score. This metric simply computes which fraction of predicted n-grams is actually present in the reference translation. It does so for n=1,2,3 and 4 and computes the geometric average with penalty if translation is shorter than reference.\n",
        "\n",
        "While BLEU [has many drawbacks](http://www.cs.jhu.edu/~ccb/publications/re-evaluating-the-role-of-bleu-in-mt-research.pdf), it still remains the most commonly used metric and one of the simplest to compute.\n",
        "__Note:__ in this assignment we measure token-level bleu with bpe tokens. Most scientific papers report word-level bleu. You can measure it by undoing BPE encoding before computing BLEU. Please stay with the token-level bleu for this assignment, however.\n"
      ]
    },
    {
      "metadata": {
        "id": "-GFUkqnzXsNL",
        "colab_type": "code",
        "colab": {}
      },
      "cell_type": "code",
      "source": [
        "from nltk.translate.bleu_score import corpus_bleu\n",
        "def compute_bleu(model, inp_lines, out_lines, **flags):\n",
        "    \"\"\" Estimates corpora-level BLEU score of model's translations given inp and reference out \"\"\"\n",
        "    translations, _ = model.translate_lines(inp_lines, **flags)\n",
        "    # Note: if you experience out-of-memory error, split input lines into batches and translate separately\n",
        "    return corpus_bleu([[ref] for ref in out_lines], translations) * 100"
      ],
      "execution_count": 0,
      "outputs": []
    },
    {
      "metadata": {
        "id": "7cAs7MFEXsNO",
        "colab_type": "code",
        "outputId": "ebcea6f5-e62b-4f27-eee5-c2fe307bb3e4",
        "colab": {
          "base_uri": "https://localhost:8080/",
          "height": 34
        }
      },
      "cell_type": "code",
      "source": [
        "compute_bleu(model, dev_inp, dev_out)"
      ],
      "execution_count": 16,
      "outputs": [
        {
          "output_type": "execute_result",
          "data": {
            "text/plain": [
              "4.764888431368293"
            ]
          },
          "metadata": {
            "tags": []
          },
          "execution_count": 16
        }
      ]
    },
    {
      "metadata": {
        "id": "8zOg663FXsNQ",
        "colab_type": "text"
      },
      "cell_type": "markdown",
      "source": [
        "### Training loop\n",
        "\n",
        "Training encoder-decoder models isn't that different from any other models: sample batches, compute loss, backprop and update"
      ]
    },
    {
      "metadata": {
        "id": "IIkzQ5SYXsNS",
        "colab_type": "code",
        "colab": {}
      },
      "cell_type": "code",
      "source": [
        "inp = tf.placeholder('int32', [None, None])\n",
        "out = tf.placeholder('int32', [None, None])\n",
        "\n",
        "loss = compute_loss(model, inp, out)\n",
        "\n",
        "train_step = tf.train.AdamOptimizer().minimize(loss)"
      ],
      "execution_count": 0,
      "outputs": []
    },
    {
      "metadata": {
        "scrolled": false,
        "id": "Z8Z1thVTXsNT",
        "colab_type": "code",
        "colab": {}
      },
      "cell_type": "code",
      "source": [
        "from IPython.display import clear_output\n",
        "from tqdm import tqdm, trange\n",
        "metrics = {'train_loss': [], 'dev_bleu': [] }\n",
        "\n",
        "sess.run(tf.global_variables_initializer())\n",
        "batch_size = 32"
      ],
      "execution_count": 0,
      "outputs": []
    },
    {
      "metadata": {
        "scrolled": true,
        "id": "b0j2Z5-wXsNV",
        "colab_type": "code",
        "outputId": "2052a08d-324a-4b9c-d4fe-ffa19339752a",
        "colab": {
          "base_uri": "https://localhost:8080/",
          "height": 314
        }
      },
      "cell_type": "code",
      "source": [
        "for _ in trange(25000):\n",
        "    step = len(metrics['train_loss']) + 1\n",
        "    batch_ix = np.random.randint(len(train_inp), size=batch_size)\n",
        "    feed_dict = {\n",
        "        inp: inp_voc.to_matrix(train_inp[batch_ix]),\n",
        "        out: out_voc.to_matrix(train_out[batch_ix]),\n",
        "    }\n",
        "    \n",
        "    loss_t, _ = sess.run([loss, train_step], feed_dict)\n",
        "    metrics['train_loss'].append((step, loss_t))\n",
        "    \n",
        "    if step % 100 == 0:\n",
        "        metrics['dev_bleu'].append((step, compute_bleu(model, dev_inp, dev_out)))\n",
        "        \n",
        "        clear_output(True)\n",
        "        plt.figure(figsize=(12,4))\n",
        "        for i, (name, history) in enumerate(sorted(metrics.items())):\n",
        "            plt.subplot(1, len(metrics), i + 1)\n",
        "            plt.title(name)\n",
        "            plt.plot(*zip(*history))\n",
        "            plt.grid()\n",
        "        plt.show()\n",
        "        print(\"Mean loss=%.3f\" % np.mean(metrics['train_loss'][-10:], axis=0)[1], flush=True)\n",
        "        \n",
        "# Note: it's okay if bleu oscillates up and down as long as it gets better on average over long term (e.g. 5k batches)"
      ],
      "execution_count": 0,
      "outputs": [
        {
          "output_type": "display_data",
          "data": {
            "image/png": "[encoded data removed]",
            "text/plain": [
              "<matplotlib.figure.Figure at 0x7fec2cd10d68>"
            ]
          },
          "metadata": {
            "tags": []
          }
        },
        {
          "output_type": "stream",
          "text": [
            "Mean loss=1.695\n"
          ],
          "name": "stdout"
        },
        {
          "output_type": "stream",
          "text": [
            "\r100%|██████████| 25000/25000 [1:49:47<00:00,  2.23s/it]\n"
          ],
          "name": "stderr"
        }
      ]
    },
    {
      "metadata": {
        "id": "PCnvfPXAXsNX",
        "colab_type": "code",
        "colab": {}
      },
      "cell_type": "code",
      "source": [
        "assert np.mean(metrics['dev_bleu'][-10:], axis=0)[1] > 35, \"We kind of need a higher bleu BLEU from you. Kind of right now.\""
      ],
      "execution_count": 0,
      "outputs": []
    },
    {
      "metadata": {
        "id": "Ng9wdWsQXsNZ",
        "colab_type": "code",
        "outputId": "15476f72-2a65-4f31-dcd2-0afc8a49e047",
        "colab": {
          "base_uri": "https://localhost:8080/",
          "height": 323
        }
      },
      "cell_type": "code",
      "source": [
        "for inp_line, trans_line in zip(dev_inp[::500], model.translate_lines(dev_inp[::500])[0]):\n",
        "    print(inp_line)\n",
        "    print(trans_line)\n",
        "    print()"
      ],
      "execution_count": 0,
      "outputs": [
        {
          "output_type": "stream",
          "text": [
            "в распоряжении гостей общая кухня и общая гостиная .\n",
            "there is a shared kitchen and a shared kitchen .\n",
            "\n",
            "кроме того , предоставляется прокат велосипедов , услуги трансфера и бесплатная парковка .\n",
            "bike rental and car hire are available at the property .\n",
            "\n",
            "расстояние до города ки@@ сси@@ м@@ ми составляет 26 км .\n",
            "universal studios is 26 km from the property .\n",
            "\n",
            "апартаменты в пент@@ хаусе с общим открытым бассейном , садом , кондиционером и террасой для загара расположены в 5 минутах ходьбы от пляжа на курорте ка@@ бо - рой .\n",
            "located in the centre of alanya , this apartment features a terrace . the property is a 5 - minute walk from the beach and a peaceful balcony .\n",
            "\n",
            "апартаменты mo@@ s@@ co@@ w point - loft red square находятся в москве , в 200 метрах от большого театра .\n",
            "apartment in budget univer@@ ya is located in moscow , 400 metres from the cathedral of opera and ballet .\n",
            "\n",
            "в вашем распоряжении собственная ванная комната с душем и полотенцами .\n",
            "featuring a shower , private bathroom also comes with towels .\n",
            "\n"
          ],
          "name": "stdout"
        }
      ]
    },
    {
      "metadata": {
        "id": "WQDgqiBcXsNa",
        "colab_type": "text"
      },
      "cell_type": "markdown",
      "source": [
        "### Your Attention Required (4 points)\n",
        "\n",
        "In this section we want you to improve over the basic model by implementing a simple attention mechanism.\n",
        "\n",
        "This is gonna be a two-parter: building the __attention layer__ and using it for an __attentive seq2seq model__."
      ]
    },
    {
      "metadata": {
        "id": "YQgQYG12XsNb",
        "colab_type": "text"
      },
      "cell_type": "markdown",
      "source": [
        "### Attention layer\n",
        "\n",
        "Here you will have to implement a layer that computes a simple additive attention:\n",
        "\n",
        "Given encoder sequence $ h^e_0, h^e_1, h^e_2, ..., h^e_T$ and a single decoder state $h^d$,\n",
        "\n",
        "* Compute logits with a 2-layer neural network\n",
        "$$a_t = linear_{out}(tanh(linear_{e}(h^e_t) + linear_{d}(h_d)))$$\n",
        "* Get probabilities from logits, \n",
        "$$ p_t = {{e ^ {a_t}} \\over { \\sum_\\tau e^{a_\\tau} }} $$\n",
        "\n",
        "* Add up encoder states with probabilities to get __attention response__\n",
        "$$ attn = \\sum_t p_t \\cdot h^e_t $$\n",
        "\n",
        "You can learn more about attention layers in the leture slides or [from this post](https://distill.pub/2016/augmented-rnns/)."
      ]
    },
    {
      "metadata": {
        "id": "YK7ZxxVUXsNc",
        "colab_type": "code",
        "colab": {}
      },
      "cell_type": "code",
      "source": [
        "class AttentionLayer:\n",
        "    def __init__(self, name, enc_size, dec_size, hid_size, activ=tf.tanh,):\n",
        "        \"\"\" A layer that computes additive attention response and weights \"\"\"\n",
        "        self.name = name\n",
        "        self.enc_size = enc_size # num units in encoder state\n",
        "        self.dec_size = dec_size # num units in decoder state\n",
        "        self.hid_size = hid_size # attention layer hidden units\n",
        "        self.activ = activ       # attention layer hidden nonlinearity\n",
        "\n",
        "        with tf.variable_scope(name):\n",
        "            # YOUR CODE - create layer variables\n",
        "            \n",
        "            self.linear_e = L.Dense(hid_size)\n",
        "            self.linear_d = L.Dense(hid_size)\n",
        "            self.logits = L.Dense(1)\n",
        "\n",
        "\n",
        "    def __call__(self, enc, dec, inp_mask):\n",
        "        \"\"\"\n",
        "        Computes attention response and weights\n",
        "        :param enc: encoder activation sequence, float32[batch_size, ninp, enc_size]\n",
        "        :param dec: single decoder state used as \"query\", float32[batch_size, dec_size]\n",
        "        :param inp_mask: mask on enc activatons (0 after first eos), float32 [batch_size, ninp]\n",
        "        :returns: attn[batch_size, enc_size], probs[batch_size, ninp]\n",
        "            - attn - attention response vector (weighted sum of enc)\n",
        "            - probs - attention weights after softmax\n",
        "        \"\"\"\n",
        "        with tf.variable_scope(self.name):\n",
        "            \n",
        "            # Compute logits\n",
        "            logits=self.logits(self.activ(self.linear_e(enc)+self.linear_d(dec)[:,None,:]))\n",
        "            logits = tf.squeeze(logits, 2)\n",
        "            \n",
        "            # Apply mask - if mask is 0, logits should be -inf or -1e9\n",
        "            # You may need tf.where\n",
        "            logits=tf.where(tf.cast(inp_mask,tf.bool),logits,tf.fill(tf.shape(logits),-1e9))\n",
        "            \n",
        "            \n",
        "            # Compute attention probabilities (softmax)\n",
        "            probs = tf.nn.softmax(logits,axis=1)\n",
        "            \n",
        "            # Compute attention response using enc and probs\n",
        "            attn = tf.reduce_sum(enc*probs[:,:,None],axis=1)\n",
        "            #print(attn.shape)\n",
        "            \n",
        "            return attn, probs"
      ],
      "execution_count": 0,
      "outputs": []
    },
    {
      "metadata": {
        "id": "Az91fK1cXsNd",
        "colab_type": "text"
      },
      "cell_type": "markdown",
      "source": [
        "### Seq2seq model with attention\n",
        "\n",
        "You can now use the attention layer to build a network. The simplest way to implement attention is to use it in decoder phase:\n",
        "![img](https://i.imgur.com/6fKHlHb.png)\n",
        "_image from distill.pub [article](https://distill.pub/2016/augmented-rnns/)_\n",
        "\n",
        "On every step, use __previous__ decoder state to obtain attention response. Then feed concat this response to the inputs of next attetion layer.\n",
        "\n",
        "The key implementation detail here is __model state__. Put simply, you can add any tensor into the list of `encode` outputs. You will then have access to them at each `decode` step. This may include:\n",
        "* Last RNN hidden states (as in basic model)\n",
        "* The whole sequence of encoder outputs (to attend to) and mask\n",
        "* Attention probabilities (to visualize)\n",
        "\n",
        "_There are, of course, alternative ways to wire attention into your network and different kinds of attention. Take a look at [this](https://arxiv.org/abs/1609.08144), [this](https://arxiv.org/abs/1706.03762) and [this](https://arxiv.org/abs/1808.03867) for ideas. And for image captioning/im2latex there's [visual attention](https://arxiv.org/abs/1502.03044)_"
      ]
    },
    {
      "metadata": {
        "id": "8FcV1JZ2XsNe",
        "colab_type": "code",
        "colab": {}
      },
      "cell_type": "code",
      "source": [
        "class AttentiveModel(BasicModel):\n",
        "    def __init__(self, name, inp_voc, out_voc,\n",
        "                 emb_size=64, hid_size=128, attn_size=128):\n",
        "        \"\"\" Translation model that uses attention. See instructions above. \"\"\"\n",
        "        self.name = name\n",
        "        self.inp_voc = inp_voc\n",
        "        self.out_voc = out_voc\n",
        "\n",
        "        with tf.variable_scope(name):\n",
        "            \n",
        "            # YOUR CODE - define model layers\n",
        "            \n",
        "            self.emb_inp = L.Embedding(len(inp_voc), emb_size)\n",
        "            self.emb_out = L.Embedding(len(out_voc), emb_size)\n",
        "            self.enc0 = tf.nn.rnn_cell.GRUCell(hid_size)\n",
        "            self.attn=AttentionLayer('attn',hid_size,hid_size,attn_size)\n",
        "            self.dec_start = L.Dense(hid_size)\n",
        "            \n",
        "            self.dec0 = tf.nn.rnn_cell.GRUCell(hid_size)\n",
        "            self.logits = L.Dense(len(out_voc))\n",
        "            \n",
        "            # END OF YOUR CODE\n",
        "            \n",
        "            # prepare to translate_lines\n",
        "            self.inp = tf.placeholder('int32', [None, None])\n",
        "            self.initial_state = self.prev_state = self.encode(self.inp)\n",
        "            self.prev_tokens = tf.placeholder('int32', [None])\n",
        "            self.next_state, self.next_logits = self.decode(self.prev_state, self.prev_tokens)\n",
        "\n",
        "        self.weights = tf.get_collection(tf.GraphKeys.TRAINABLE_VARIABLES, scope=name)\n",
        "\n",
        "    def encode(self, inp, **flags):\n",
        "        \"\"\"\n",
        "        Takes symbolic input sequence, computes initial state\n",
        "        :param inp: matrix of input tokens [batch, time]\n",
        "        :return: a list of initial decoder state tensors\n",
        "        \"\"\"\n",
        "        \n",
        "        # encode input sequence, create initial decoder states\n",
        "        inp_lengths = infer_length(inp, self.inp_voc.eos_ix)\n",
        "        inp_mask = infer_mask(inp, self.inp_voc.eos_ix)\n",
        "\n",
        "        inp_emb = self.emb_inp(inp)\n",
        "        with tf.variable_scope('enc0'):\n",
        "            enc_output, enc_last_state = tf.nn.dynamic_rnn(\n",
        "                              self.enc0, inp_emb,\n",
        "                              sequence_length=inp_lengths,\n",
        "                              dtype = inp_emb.dtype)\n",
        "            dec_start = self.dec_start(enc_last_state)\n",
        "        \n",
        "        \n",
        "        # apply attention layer from initial decoder hidden state\n",
        "        attn,first_attn_probas = self.attn(enc_output,dec_start,inp_mask)\n",
        "        \n",
        "        # Build first state: include\n",
        "        # * initial states for decoder recurrent layers\n",
        "        # * encoder sequence and encoder attn mask (for attention)\n",
        "        # * make sure that last state item is attention probabilities tensor\n",
        "        \n",
        "        first_state = [dec_start,enc_output,inp_mask, first_attn_probas]\n",
        "        return first_state\n",
        "\n",
        "    def decode(self, prev_state, prev_tokens, **flags):\n",
        "        \"\"\"\n",
        "        Takes previous decoder state and tokens, returns new state and logits\n",
        "        :param prev_state: a list of previous decoder state tensors\n",
        "        :param prev_tokens: previous output tokens, an int vector of [batch_size]\n",
        "        :return: a list of next decoder state tensors, a tensor of logits [batch,n_tokens]\n",
        "        \"\"\"\n",
        "        # Unpack your state: you will get tensors in the same order that you've packed in encode\n",
        "        [dec_start,enc_output,inp_mask, prev_attn_probas] = prev_state\n",
        "        \n",
        "        \n",
        "        # Perform decoder step\n",
        "        # * predict next attn response and attn probas given previous decoder state\n",
        "        # * use prev token embedding and attn response to update decoder states (concatenate and feed into decoder cell)\n",
        "        # * predict logits\n",
        "        \n",
        "        next_attn_response, next_attn_probas = self.attn(enc_output,dec_start,inp_mask)\n",
        "        \n",
        "        \n",
        "        prev_emb = self.emb_out(prev_tokens[:,None])[:,0]\n",
        "        #print(dec_start.shape,tf.concat([prev_emb,next_attn_response],axis=1).shape)\n",
        "        with tf.variable_scope('dec0'):\n",
        "            new_dec_out, new_dec_state = self.dec0(tf.concat([prev_emb,next_attn_response],axis=1), dec_start)\n",
        "        \n",
        "\n",
        "        output_logits=self.logits(new_dec_out)\n",
        "        \n",
        "        # Pack new state:\n",
        "        # * replace previous decoder state with next one\n",
        "        # * copy encoder sequence and mask from prev_state\n",
        "        # * append new attention probas\n",
        "        next_state = [new_dec_state,enc_output,inp_mask, next_attn_probas]\n",
        "        #print(output_logits.shape)\n",
        "        return next_state, output_logits\n"
      ],
      "execution_count": 0,
      "outputs": []
    },
    {
      "metadata": {
        "id": "J2X9xJPbXsNf",
        "colab_type": "code",
        "outputId": "a26deacd-0d6f-41a6-cbc8-40018796033c",
        "colab": {
          "base_uri": "https://localhost:8080/",
          "height": 71
        }
      },
      "cell_type": "code",
      "source": [
        "# WARNING! this cell will clear your TF graph from the regular model. All trained variables will be gone!\n",
        "tf.reset_default_graph()\n",
        "sess = tf.InteractiveSession()\n",
        "model = AttentiveModel('model_attn', inp_voc, out_voc)"
      ],
      "execution_count": 19,
      "outputs": [
        {
          "output_type": "stream",
          "text": [
            "/usr/local/lib/python3.6/dist-packages/tensorflow/python/client/session.py:1702: UserWarning: An interactive session is already active. This can cause out-of-memory errors in some cases. You must explicitly call `InteractiveSession.close()` to release resources held by the other session(s).\n",
            "  warnings.warn('An interactive session is already active. This can '\n"
          ],
          "name": "stderr"
        }
      ]
    },
    {
      "metadata": {
        "id": "8Pn5j2MuXsNh",
        "colab_type": "text"
      },
      "cell_type": "markdown",
      "source": [
        "### Training attentive model\n",
        "\n",
        "We'll reuse the infrastructure you've built for the regular model. I hope you didn't hard-code anything :)"
      ]
    },
    {
      "metadata": {
        "id": "RQggovAbXsNi",
        "colab_type": "code",
        "colab": {}
      },
      "cell_type": "code",
      "source": [
        "inp = tf.placeholder('int32', [None, None])\n",
        "out = tf.placeholder('int32', [None, None])\n",
        "\n",
        "loss = compute_loss(model, inp, out)\n",
        "train_step = tf.train.AdamOptimizer().minimize(loss)"
      ],
      "execution_count": 0,
      "outputs": []
    },
    {
      "metadata": {
        "id": "nzhys-CuXsNl",
        "colab_type": "code",
        "colab": {}
      },
      "cell_type": "code",
      "source": [
        "from IPython.display import clear_output\n",
        "from tqdm import tqdm, trange\n",
        "\n",
        "metrics = {'train_loss': [], 'dev_bleu': []}\n",
        "sess.run(tf.global_variables_initializer())\n",
        "batch_size = 32"
      ],
      "execution_count": 0,
      "outputs": []
    },
    {
      "metadata": {
        "id": "USAM-OroXsNn",
        "colab_type": "code",
        "outputId": "c767539a-8c5e-4268-8d24-e7efb8ec70a1",
        "colab": {
          "base_uri": "https://localhost:8080/",
          "height": 314
        }
      },
      "cell_type": "code",
      "source": [
        "for _ in trange(25000):\n",
        "    step = len(metrics['train_loss']) + 1\n",
        "    batch_ix = np.random.randint(len(train_inp), size=batch_size)\n",
        "    feed_dict = {\n",
        "        inp: inp_voc.to_matrix(train_inp[batch_ix]),\n",
        "        out: out_voc.to_matrix(train_out[batch_ix]),\n",
        "    }\n",
        "    \n",
        "    loss_t, _ = sess.run([loss, train_step], feed_dict)\n",
        "    metrics['train_loss'].append((step, loss_t))\n",
        "    \n",
        "    if step % 100 == 0:\n",
        "        metrics['dev_bleu'].append((step, compute_bleu(model, dev_inp, dev_out)))\n",
        "        \n",
        "        clear_output(True)\n",
        "        plt.figure(figsize=(12,4))\n",
        "        for i, (name, history) in enumerate(sorted(metrics.items())):\n",
        "            plt.subplot(1, len(metrics), i + 1)\n",
        "            plt.title(name)\n",
        "            plt.plot(*zip(*history))\n",
        "            plt.grid()\n",
        "        plt.show()\n",
        "        print(\"Mean loss=%.3f\" % np.mean(metrics['train_loss'][-10:], axis=0)[1], flush=True)\n",
        "\n",
        "# Your model may train slower than the basic one. check that it's at least >30 bleu by 5k steps\n",
        "# Also: you don't have to train for 25k steps. It was chosen by a squirrel."
      ],
      "execution_count": 22,
      "outputs": [
        {
          "output_type": "display_data",
          "data": {
            "image/png": "[encoded data removed]",
            "text/plain": [
              "<matplotlib.figure.Figure at 0x7f77a125dd68>"
            ]
          },
          "metadata": {
            "tags": []
          }
        },
        {
          "output_type": "stream",
          "text": [
            "Mean loss=1.371\n"
          ],
          "name": "stdout"
        },
        {
          "output_type": "stream",
          "text": [
            "\r100%|██████████| 25000/25000 [2:11:53<00:00,  3.05s/it]\n"
          ],
          "name": "stderr"
        }
      ]
    },
    {
      "metadata": {
        "id": "KoHPlk2JXsNp",
        "colab_type": "code",
        "colab": {}
      },
      "cell_type": "code",
      "source": [
        "assert np.mean(metrics['dev_bleu'][-10:], axis=0)[1] > 45, \"Something might be wrong with the model...\""
      ],
      "execution_count": 0,
      "outputs": []
    },
    {
      "metadata": {
        "id": "1PXNMkzQXsNr",
        "colab_type": "code",
        "colab": {
          "base_uri": "https://localhost:8080/",
          "height": 47
        },
        "outputId": "574448c6-721b-493c-dcaa-75c6eb736f61"
      },
      "cell_type": "code",
      "source": [
        "import bokeh.plotting as pl\n",
        "import bokeh.models as bm\n",
        "from bokeh.io import output_notebook, show\n",
        "output_notebook()\n",
        "\n",
        "def draw_attention(inp_line, translation, probs):\n",
        "    \"\"\" An intentionally ambiguous function to visualize attention weights \"\"\"\n",
        "    inp_tokens = inp_voc.tokenize(inp_line)\n",
        "    trans_tokens = out_voc.tokenize(translation)\n",
        "    probs = probs[:len(trans_tokens), :len(inp_tokens)]\n",
        "    \n",
        "    fig = pl.figure(x_range=(0, len(inp_tokens)), y_range=(0, len(trans_tokens)),\n",
        "                    x_axis_type=None, y_axis_type=None, tools=[])\n",
        "    fig.image([probs[::-1]], 0, 0, len(inp_tokens), len(trans_tokens))\n",
        "\n",
        "    fig.add_layout(bm.LinearAxis(axis_label='source tokens'), 'above')\n",
        "    fig.xaxis.ticker = np.arange(len(inp_tokens)) + 0.5\n",
        "    fig.xaxis.major_label_overrides = dict(zip(np.arange(len(inp_tokens)) + 0.5, inp_tokens))\n",
        "    fig.xaxis.major_label_orientation = 45\n",
        "\n",
        "    fig.add_layout(bm.LinearAxis(axis_label='translation tokens'), 'left')\n",
        "    fig.yaxis.ticker = np.arange(len(trans_tokens)) + 0.5\n",
        "    fig.yaxis.major_label_overrides = dict(zip(np.arange(len(trans_tokens)) + 0.5, trans_tokens[::-1]))\n",
        "\n",
        "    show(fig)"
      ],
      "execution_count": 24,
      "outputs": [
        {
          "output_type": "display_data",
          "data": {
            "text/html": [
              "\n",
              "    <div class=\"bk-root\">\n",
              "        <a href=\"https://bokeh.pydata.org\" target=\"_blank\" class=\"bk-logo bk-logo-small bk-logo-notebook\"></a>\n",
              "        <span id=\"1001\">Loading BokehJS ...</span>\n",
              "    </div>"
            ]
          },
          "metadata": {
            "tags": []
          }
        },
        {
          "output_type": "display_data",
          "data": {
            "application/javascript": [
              "\n",
              "(function(root) {\n",
              "  function now() {\n",
              "    return new Date();\n",
              "  }\n",
              "\n",
              "  var force = true;\n",
              "\n",
              "  if (typeof (root._bokeh_onload_callbacks) === \"undefined\" || force === true) {\n",
              "    root._bokeh_onload_callbacks = [];\n",
              "    root._bokeh_is_loading = undefined;\n",
              "  }\n",
              "\n",
              "  var JS_MIME_TYPE = 'application/javascript';\n",
              "  var HTML_MIME_TYPE = 'text/html';\n",
              "  var EXEC_MIME_TYPE = 'application/vnd.bokehjs_exec.v0+json';\n",
              "  var CLASS_NAME = 'output_bokeh rendered_html';\n",
              "\n",
              "  /**\n",
              "   * Render data to the DOM node\n",
              "   */\n",
              "  function render(props, node) {\n",
              "    var script = document.createElement(\"script\");\n",
              "    node.appendChild(script);\n",
              "  }\n",
              "\n",
              "  /**\n",
              "   * Handle when an output is cleared or removed\n",
              "   */\n",
              "  function handleClearOutput(event, handle) {\n",
              "    var cell = handle.cell;\n",
              "\n",
              "    var id = cell.output_area._bokeh_element_id;\n",
              "    var server_id = cell.output_area._bokeh_server_id;\n",
              "    // Clean up Bokeh references\n",
              "    if (id != null && id in Bokeh.index) {\n",
              "      Bokeh.index[id].model.document.clear();\n",
              "      delete Bokeh.index[id];\n",
              "    }\n",
              "\n",
              "    if (server_id !== undefined) {\n",
              "      // Clean up Bokeh references\n",
              "      var cmd = \"from bokeh.io.state import curstate; print(curstate().uuid_to_server['\" + server_id + \"'].get_sessions()[0].document.roots[0]._id)\";\n",
              "      cell.notebook.kernel.execute(cmd, {\n",
              "        iopub: {\n",
              "          output: function(msg) {\n",
              "            var id = msg.content.text.trim();\n",
              "            if (id in Bokeh.index) {\n",
              "              Bokeh.index[id].model.document.clear();\n",
              "              delete Bokeh.index[id];\n",
              "            }\n",
              "          }\n",
              "        }\n",
              "      });\n",
              "      // Destroy server and session\n",
              "      var cmd = \"import bokeh.io.notebook as ion; ion.destroy_server('\" + server_id + \"')\";\n",
              "      cell.notebook.kernel.execute(cmd);\n",
              "    }\n",
              "  }\n",
              "\n",
              "  /**\n",
              "   * Handle when a new output is added\n",
              "   */\n",
              "  function handleAddOutput(event, handle) {\n",
              "    var output_area = handle.output_area;\n",
              "    var output = handle.output;\n",
              "\n",
              "    // limit handleAddOutput to display_data with EXEC_MIME_TYPE content only\n",
              "    if ((output.output_type != \"display_data\") || (!output.data.hasOwnProperty(EXEC_MIME_TYPE))) {\n",
              "      return\n",
              "    }\n",
              "\n",
              "    var toinsert = output_area.element.find(\".\" + CLASS_NAME.split(' ')[0]);\n",
              "\n",
              "    if (output.metadata[EXEC_MIME_TYPE][\"id\"] !== undefined) {\n",
              "      toinsert[toinsert.length - 1].firstChild.textContent = output.data[JS_MIME_TYPE];\n",
              "      // store reference to embed id on output_area\n",
              "      output_area._bokeh_element_id = output.metadata[EXEC_MIME_TYPE][\"id\"];\n",
              "    }\n",
              "    if (output.metadata[EXEC_MIME_TYPE][\"server_id\"] !== undefined) {\n",
              "      var bk_div = document.createElement(\"div\");\n",
              "      bk_div.innerHTML = output.data[HTML_MIME_TYPE];\n",
              "      var script_attrs = bk_div.children[0].attributes;\n",
              "      for (var i = 0; i < script_attrs.length; i++) {\n",
              "        toinsert[toinsert.length - 1].firstChild.setAttribute(script_attrs[i].name, script_attrs[i].value);\n",
              "      }\n",
              "      // store reference to server id on output_area\n",
              "      output_area._bokeh_server_id = output.metadata[EXEC_MIME_TYPE][\"server_id\"];\n",
              "    }\n",
              "  }\n",
              "\n",
              "  function register_renderer(events, OutputArea) {\n",
              "\n",
              "    function append_mime(data, metadata, element) {\n",
              "      // create a DOM node to render to\n",
              "      var toinsert = this.create_output_subarea(\n",
              "        metadata,\n",
              "        CLASS_NAME,\n",
              "        EXEC_MIME_TYPE\n",
              "      );\n",
              "      this.keyboard_manager.register_events(toinsert);\n",
              "      // Render to node\n",
              "      var props = {data: data, metadata: metadata[EXEC_MIME_TYPE]};\n",
              "      render(props, toinsert[toinsert.length - 1]);\n",
              "      element.append(toinsert);\n",
              "      return toinsert\n",
              "    }\n",
              "\n",
              "    /* Handle when an output is cleared or removed */\n",
              "    events.on('clear_output.CodeCell', handleClearOutput);\n",
              "    events.on('delete.Cell', handleClearOutput);\n",
              "\n",
              "    /* Handle when a new output is added */\n",
              "    events.on('output_added.OutputArea', handleAddOutput);\n",
              "\n",
              "    /**\n",
              "     * Register the mime type and append_mime function with output_area\n",
              "     */\n",
              "    OutputArea.prototype.register_mime_type(EXEC_MIME_TYPE, append_mime, {\n",
              "      /* Is output safe? */\n",
              "      safe: true,\n",
              "      /* Index of renderer in `output_area.display_order` */\n",
              "      index: 0\n",
              "    });\n",
              "  }\n",
              "\n",
              "  // register the mime type if in Jupyter Notebook environment and previously unregistered\n",
              "  if (root.Jupyter !== undefined) {\n",
              "    var events = require('base/js/events');\n",
              "    var OutputArea = require('notebook/js/outputarea').OutputArea;\n",
              "\n",
              "    if (OutputArea.prototype.mime_types().indexOf(EXEC_MIME_TYPE) == -1) {\n",
              "      register_renderer(events, OutputArea);\n",
              "    }\n",
              "  }\n",
              "\n",
              "  \n",
              "  if (typeof (root._bokeh_timeout) === \"undefined\" || force === true) {\n",
              "    root._bokeh_timeout = Date.now() + 5000;\n",
              "    root._bokeh_failed_load = false;\n",
              "  }\n",
              "\n",
              "  var NB_LOAD_WARNING = {'data': {'text/html':\n",
              "     \"<div style='background-color: #fdd'>\\n\"+\n",
              "     \"<p>\\n\"+\n",
              "     \"BokehJS does not appear to have successfully loaded. If loading BokehJS from CDN, this \\n\"+\n",
              "     \"may be due to a slow or bad network connection. Possible fixes:\\n\"+\n",
              "     \"</p>\\n\"+\n",
              "     \"<ul>\\n\"+\n",
              "     \"<li>re-rerun `output_notebook()` to attempt to load from CDN again, or</li>\\n\"+\n",
              "     \"<li>use INLINE resources instead, as so:</li>\\n\"+\n",
              "     \"</ul>\\n\"+\n",
              "     \"<code>\\n\"+\n",
              "     \"from bokeh.resources import INLINE\\n\"+\n",
              "     \"output_notebook(resources=INLINE)\\n\"+\n",
              "     \"</code>\\n\"+\n",
              "     \"</div>\"}};\n",
              "\n",
              "  function display_loaded() {\n",
              "    var el = document.getElementById(\"1001\");\n",
              "    if (el != null) {\n",
              "      el.textContent = \"BokehJS is loading...\";\n",
              "    }\n",
              "    if (root.Bokeh !== undefined) {\n",
              "      if (el != null) {\n",
              "        el.textContent = \"BokehJS \" + root.Bokeh.version + \" successfully loaded.\";\n",
              "      }\n",
              "    } else if (Date.now() < root._bokeh_timeout) {\n",
              "      setTimeout(display_loaded, 100)\n",
              "    }\n",
              "  }\n",
              "\n",
              "\n",
              "  function run_callbacks() {\n",
              "    try {\n",
              "      root._bokeh_onload_callbacks.forEach(function(callback) { callback() });\n",
              "    }\n",
              "    finally {\n",
              "      delete root._bokeh_onload_callbacks\n",
              "    }\n",
              "    console.info(\"Bokeh: all callbacks have finished\");\n",
              "  }\n",
              "\n",
              "  function load_libs(js_urls, callback) {\n",
              "    root._bokeh_onload_callbacks.push(callback);\n",
              "    if (root._bokeh_is_loading > 0) {\n",
              "      console.log(\"Bokeh: BokehJS is being loaded, scheduling callback at\", now());\n",
              "      return null;\n",
              "    }\n",
              "    if (js_urls == null || js_urls.length === 0) {\n",
              "      run_callbacks();\n",
              "      return null;\n",
              "    }\n",
              "    console.log(\"Bokeh: BokehJS not loaded, scheduling load and callback at\", now());\n",
              "    root._bokeh_is_loading = js_urls.length;\n",
              "    for (var i = 0; i < js_urls.length; i++) {\n",
              "      var url = js_urls[i];\n",
              "      var s = document.createElement('script');\n",
              "      s.src = url;\n",
              "      s.async = false;\n",
              "      s.onreadystatechange = s.onload = function() {\n",
              "        root._bokeh_is_loading--;\n",
              "        if (root._bokeh_is_loading === 0) {\n",
              "          console.log(\"Bokeh: all BokehJS libraries loaded\");\n",
              "          run_callbacks()\n",
              "        }\n",
              "      };\n",
              "      s.onerror = function() {\n",
              "        console.warn(\"failed to load library \" + url);\n",
              "      };\n",
              "      console.log(\"Bokeh: injecting script tag for BokehJS library: \", url);\n",
              "      document.getElementsByTagName(\"head\")[0].appendChild(s);\n",
              "    }\n",
              "  };var element = document.getElementById(\"1001\");\n",
              "  if (element == null) {\n",
              "    console.log(\"Bokeh: ERROR: autoload.js configured with elementid '1001' but no matching script tag was found. \")\n",
              "    return false;\n",
              "  }\n",
              "\n",
              "  var js_urls = [\"https://cdn.pydata.org/bokeh/release/bokeh-1.0.3.min.js\", \"https://cdn.pydata.org/bokeh/release/bokeh-widgets-1.0.3.min.js\", \"https://cdn.pydata.org/bokeh/release/bokeh-tables-1.0.3.min.js\", \"https://cdn.pydata.org/bokeh/release/bokeh-gl-1.0.3.min.js\"];\n",
              "\n",
              "  var inline_js = [\n",
              "    function(Bokeh) {\n",
              "      Bokeh.set_log_level(\"info\");\n",
              "    },\n",
              "    \n",
              "    function(Bokeh) {\n",
              "      \n",
              "    },\n",
              "    function(Bokeh) {\n",
              "      console.log(\"Bokeh: injecting CSS: https://cdn.pydata.org/bokeh/release/bokeh-1.0.3.min.css\");\n",
              "      Bokeh.embed.inject_css(\"https://cdn.pydata.org/bokeh/release/bokeh-1.0.3.min.css\");\n",
              "      console.log(\"Bokeh: injecting CSS: https://cdn.pydata.org/bokeh/release/bokeh-widgets-1.0.3.min.css\");\n",
              "      Bokeh.embed.inject_css(\"https://cdn.pydata.org/bokeh/release/bokeh-widgets-1.0.3.min.css\");\n",
              "      console.log(\"Bokeh: injecting CSS: https://cdn.pydata.org/bokeh/release/bokeh-tables-1.0.3.min.css\");\n",
              "      Bokeh.embed.inject_css(\"https://cdn.pydata.org/bokeh/release/bokeh-tables-1.0.3.min.css\");\n",
              "    }\n",
              "  ];\n",
              "\n",
              "  function run_inline_js() {\n",
              "    \n",
              "    if ((root.Bokeh !== undefined) || (force === true)) {\n",
              "      for (var i = 0; i < inline_js.length; i++) {\n",
              "        inline_js[i].call(root, root.Bokeh);\n",
              "      }if (force === true) {\n",
              "        display_loaded();\n",
              "      }} else if (Date.now() < root._bokeh_timeout) {\n",
              "      setTimeout(run_inline_js, 100);\n",
              "    } else if (!root._bokeh_failed_load) {\n",
              "      console.log(\"Bokeh: BokehJS failed to load within specified timeout.\");\n",
              "      root._bokeh_failed_load = true;\n",
              "    } else if (force !== true) {\n",
              "      var cell = $(document.getElementById(\"1001\")).parents('.cell').data().cell;\n",
              "      cell.output_area.append_execute_result(NB_LOAD_WARNING)\n",
              "    }\n",
              "\n",
              "  }\n",
              "\n",
              "  if (root._bokeh_is_loading === 0) {\n",
              "    console.log(\"Bokeh: BokehJS loaded, going straight to plotting\");\n",
              "    run_inline_js();\n",
              "  } else {\n",
              "    load_libs(js_urls, function() {\n",
              "      console.log(\"Bokeh: BokehJS plotting callback run at\", now());\n",
              "      run_inline_js();\n",
              "    });\n",
              "  }\n",
              "}(window));"
            ],
            "application/vnd.bokehjs_load.v0+json": "\n(function(root) {\n  function now() {\n    return new Date();\n  }\n\n  var force = true;\n\n  if (typeof (root._bokeh_onload_callbacks) === \"undefined\" || force === true) {\n    root._bokeh_onload_callbacks = [];\n    root._bokeh_is_loading = undefined;\n  }\n\n  \n\n  \n  if (typeof (root._bokeh_timeout) === \"undefined\" || force === true) {\n    root._bokeh_timeout = Date.now() + 5000;\n    root._bokeh_failed_load = false;\n  }\n\n  var NB_LOAD_WARNING = {'data': {'text/html':\n     \"<div style='background-color: #fdd'>\\n\"+\n     \"<p>\\n\"+\n     \"BokehJS does not appear to have successfully loaded. If loading BokehJS from CDN, this \\n\"+\n     \"may be due to a slow or bad network connection. Possible fixes:\\n\"+\n     \"</p>\\n\"+\n     \"<ul>\\n\"+\n     \"<li>re-rerun `output_notebook()` to attempt to load from CDN again, or</li>\\n\"+\n     \"<li>use INLINE resources instead, as so:</li>\\n\"+\n     \"</ul>\\n\"+\n     \"<code>\\n\"+\n     \"from bokeh.resources import INLINE\\n\"+\n     \"output_notebook(resources=INLINE)\\n\"+\n     \"</code>\\n\"+\n     \"</div>\"}};\n\n  function display_loaded() {\n    var el = document.getElementById(\"1001\");\n    if (el != null) {\n      el.textContent = \"BokehJS is loading...\";\n    }\n    if (root.Bokeh !== undefined) {\n      if (el != null) {\n        el.textContent = \"BokehJS \" + root.Bokeh.version + \" successfully loaded.\";\n      }\n    } else if (Date.now() < root._bokeh_timeout) {\n      setTimeout(display_loaded, 100)\n    }\n  }\n\n\n  function run_callbacks() {\n    try {\n      root._bokeh_onload_callbacks.forEach(function(callback) { callback() });\n    }\n    finally {\n      delete root._bokeh_onload_callbacks\n    }\n    console.info(\"Bokeh: all callbacks have finished\");\n  }\n\n  function load_libs(js_urls, callback) {\n    root._bokeh_onload_callbacks.push(callback);\n    if (root._bokeh_is_loading > 0) {\n      console.log(\"Bokeh: BokehJS is being loaded, scheduling callback at\", now());\n      return null;\n    }\n    if (js_urls == null || js_urls.length === 0) {\n      run_callbacks();\n      return null;\n    }\n    console.log(\"Bokeh: BokehJS not loaded, scheduling load and callback at\", now());\n    root._bokeh_is_loading = js_urls.length;\n    for (var i = 0; i < js_urls.length; i++) {\n      var url = js_urls[i];\n      var s = document.createElement('script');\n      s.src = url;\n      s.async = false;\n      s.onreadystatechange = s.onload = function() {\n        root._bokeh_is_loading--;\n        if (root._bokeh_is_loading === 0) {\n          console.log(\"Bokeh: all BokehJS libraries loaded\");\n          run_callbacks()\n        }\n      };\n      s.onerror = function() {\n        console.warn(\"failed to load library \" + url);\n      };\n      console.log(\"Bokeh: injecting script tag for BokehJS library: \", url);\n      document.getElementsByTagName(\"head\")[0].appendChild(s);\n    }\n  };var element = document.getElementById(\"1001\");\n  if (element == null) {\n    console.log(\"Bokeh: ERROR: autoload.js configured with elementid '1001' but no matching script tag was found. \")\n    return false;\n  }\n\n  var js_urls = [\"https://cdn.pydata.org/bokeh/release/bokeh-1.0.3.min.js\", \"https://cdn.pydata.org/bokeh/release/bokeh-widgets-1.0.3.min.js\", \"https://cdn.pydata.org/bokeh/release/bokeh-tables-1.0.3.min.js\", \"https://cdn.pydata.org/bokeh/release/bokeh-gl-1.0.3.min.js\"];\n\n  var inline_js = [\n    function(Bokeh) {\n      Bokeh.set_log_level(\"info\");\n    },\n    \n    function(Bokeh) {\n      \n    },\n    function(Bokeh) {\n      console.log(\"Bokeh: injecting CSS: https://cdn.pydata.org/bokeh/release/bokeh-1.0.3.min.css\");\n      Bokeh.embed.inject_css(\"https://cdn.pydata.org/bokeh/release/bokeh-1.0.3.min.css\");\n      console.log(\"Bokeh: injecting CSS: https://cdn.pydata.org/bokeh/release/bokeh-widgets-1.0.3.min.css\");\n      Bokeh.embed.inject_css(\"https://cdn.pydata.org/bokeh/release/bokeh-widgets-1.0.3.min.css\");\n      console.log(\"Bokeh: injecting CSS: https://cdn.pydata.org/bokeh/release/bokeh-tables-1.0.3.min.css\");\n      Bokeh.embed.inject_css(\"https://cdn.pydata.org/bokeh/release/bokeh-tables-1.0.3.min.css\");\n    }\n  ];\n\n  function run_inline_js() {\n    \n    if ((root.Bokeh !== undefined) || (force === true)) {\n      for (var i = 0; i < inline_js.length; i++) {\n        inline_js[i].call(root, root.Bokeh);\n      }if (force === true) {\n        display_loaded();\n      }} else if (Date.now() < root._bokeh_timeout) {\n      setTimeout(run_inline_js, 100);\n    } else if (!root._bokeh_failed_load) {\n      console.log(\"Bokeh: BokehJS failed to load within specified timeout.\");\n      root._bokeh_failed_load = true;\n    } else if (force !== true) {\n      var cell = $(document.getElementById(\"1001\")).parents('.cell').data().cell;\n      cell.output_area.append_execute_result(NB_LOAD_WARNING)\n    }\n\n  }\n\n  if (root._bokeh_is_loading === 0) {\n    console.log(\"Bokeh: BokehJS loaded, going straight to plotting\");\n    run_inline_js();\n  } else {\n    load_libs(js_urls, function() {\n      console.log(\"Bokeh: BokehJS plotting callback run at\", now());\n      run_inline_js();\n    });\n  }\n}(window));"
          },
          "metadata": {
            "tags": []
          }
        }
      ]
    },
    {
      "metadata": {
        "id": "5lF0s7cGXsNt",
        "colab_type": "code",
        "colab": {}
      },
      "cell_type": "code",
      "source": [
        "inp = dev_inp[::500]\n",
        "\n",
        "trans, states = model.translate_lines(inp)\n",
        "\n",
        "# select attention probs from model state (you may need to change this for your custom model)\n",
        "attention_probs = np.stack([state[-1] for state in states], axis=1)"
      ],
      "execution_count": 0,
      "outputs": []
    },
    {
      "metadata": {
        "scrolled": false,
        "id": "8HMvWQV_XsNv",
        "colab_type": "code",
        "colab": {
          "base_uri": "https://localhost:8080/",
          "height": 3047
        },
        "outputId": "44d794bc-6450-4e05-e51b-fed80a10a312"
      },
      "cell_type": "code",
      "source": [
        "for i in range(5):\n",
        "    draw_attention(inp[i], trans[i], attention_probs[i])\n",
        "output_notebook()"
      ],
      "execution_count": 27,
      "outputs": [
        {
          "output_type": "display_data",
          "data": {
            "text/html": [
              "\n",
              "\n",
              "\n",
              "\n",
              "\n",
              "\n",
              "  <div class=\"bk-root\" id=\"edbb88e6-9e02-4603-a998-abe4b78042e9\" data-root-id=\"1387\"></div>\n"
            ]
          },
          "metadata": {
            "tags": []
          }
        },
        {
          "output_type": "display_data",
          "data": {
            "application/javascript": [
              "(function(root) {\n",
              "  function embed_document(root) {\n",
              "    \n",
              "  var docs_json = {\"60772b4e-210a-4364-9ee8-529b86976717\":{\"roots\":{\"references\":[{\"attributes\":{\"above\":[{\"id\":\"1404\",\"type\":\"LinearAxis\"}],\"left\":[{\"id\":\"1407\",\"type\":\"LinearAxis\"}],\"renderers\":[{\"id\":\"1402\",\"type\":\"GlyphRenderer\"},{\"id\":\"1404\",\"type\":\"LinearAxis\"},{\"id\":\"1407\",\"type\":\"LinearAxis\"}],\"title\":{\"id\":\"1440\",\"type\":\"Title\"},\"toolbar\":{\"id\":\"1396\",\"type\":\"Toolbar\"},\"x_range\":{\"id\":\"1388\",\"type\":\"Range1d\"},\"x_scale\":{\"id\":\"1392\",\"type\":\"LinearScale\"},\"y_range\":{\"id\":\"1390\",\"type\":\"Range1d\"},\"y_scale\":{\"id\":\"1394\",\"type\":\"LinearScale\"}},\"id\":\"1387\",\"subtype\":\"Figure\",\"type\":\"Plot\"},{\"attributes\":{},\"id\":\"1444\",\"type\":\"UnionRenderers\"},{\"attributes\":{\"palette\":[\"#000000\",\"#252525\",\"#525252\",\"#737373\",\"#969696\",\"#bdbdbd\",\"#d9d9d9\",\"#f0f0f0\",\"#ffffff\"]},\"id\":\"1398\",\"type\":\"LinearColorMapper\"},{\"attributes\":{\"ticks\":[0.5,1.5,2.5,3.5,4.5,5.5,6.5,7.5,8.5,9.5,10.5]},\"id\":\"1405\",\"type\":\"FixedTicker\"},{\"attributes\":{\"axis_label\":\"translation tokens\",\"formatter\":{\"id\":\"1443\",\"type\":\"BasicTickFormatter\"},\"major_label_overrides\":{\"0.5\":\"_EOS_\",\"1.5\":\".\",\"10.5\":\"there\",\"11.5\":\"_BOS_\",\"2.5\":\"kitchen\",\"3.5\":\"shared\",\"4.5\":\"a\",\"5.5\":\"and\",\"6.5\":\"kitchen\",\"7.5\":\"shared\",\"8.5\":\"a\",\"9.5\":\"is\"},\"plot\":{\"id\":\"1387\",\"subtype\":\"Figure\",\"type\":\"Plot\"},\"ticker\":{\"id\":\"1408\",\"type\":\"FixedTicker\"}},\"id\":\"1407\",\"type\":\"LinearAxis\"},{\"attributes\":{},\"id\":\"1392\",\"type\":\"LinearScale\"},{\"attributes\":{},\"id\":\"1394\",\"type\":\"LinearScale\"},{\"attributes\":{\"plot\":null,\"text\":\"\"},\"id\":\"1440\",\"type\":\"Title\"},{\"attributes\":{\"color_mapper\":{\"id\":\"1400\",\"type\":\"LinearColorMapper\"},\"dh\":{\"units\":\"data\",\"value\":12},\"dw\":{\"units\":\"data\",\"value\":11},\"image\":{\"field\":\"image\"},\"x\":{\"value\":0},\"y\":{\"value\":0}},\"id\":\"1401\",\"type\":\"Image\"},{\"attributes\":{\"palette\":[\"#000000\",\"#252525\",\"#525252\",\"#737373\",\"#969696\",\"#bdbdbd\",\"#d9d9d9\",\"#f0f0f0\",\"#ffffff\"]},\"id\":\"1400\",\"type\":\"LinearColorMapper\"},{\"attributes\":{\"data_source\":{\"id\":\"1397\",\"type\":\"ColumnDataSource\"},\"glyph\":{\"id\":\"1399\",\"type\":\"Image\"},\"hover_glyph\":null,\"muted_glyph\":null,\"nonselection_glyph\":{\"id\":\"1401\",\"type\":\"Image\"},\"selection_glyph\":null,\"view\":{\"id\":\"1403\",\"type\":\"CDSView\"}},\"id\":\"1402\",\"type\":\"GlyphRenderer\"},{\"attributes\":{\"callback\":null,\"data\":{\"image\":[{\"__ndarray__\":\"oaIaPQsTnDw5/NI7pSO3Omr+xDrCpgY7qGKCPPhNZDy0mrI+Vb6xPu7mUj42yVg+A4HAPcd2yz1yqBY9n0D5OgxKRDwG1BY9DTacOxobNz5v3Xs+05SfPUjnsDwZmvg7uqXnOw7J2ju2xxc758rWPIa3kz2Q4QY8FZQgPjoVED97nwM+SBvKPG14ajxKJyc8ctnqO0LOuzx80J08Ai4bPVFdwT6oO50+QPAKPhypMD2Qrok85F3/O5EJ+DsWIf07QkqQO1NfiTw4Qas+kHHbPRjnyT3WiVw+Dr87PtCHMT4JQN09aNO5PQSuUD0Iy2E88glxPSIW5D7paY88fU4lPNsKmDwzQE88LL3fPAECGT3dQgw9IGqjPPoBbz2Cfg4/c+h/PjxOQjuVJ4s7l8z4O2UFvzqepAQ8wAUePAvySjy+W088QUzcPE1bDz914Lg+LssNOnS/jDvq6Hw7mGwROiDFBD0BogE9J8lQPR9hNj35XRM+mayJPh1Ssz58s5U7Ayv8PCyTuDwC1588/nD4PB6mAz1uzbM9ZBTuPWX0kz60y68+9LqmPYKu3jtnofI7uO6DOzblxzqluEU+OSbaPdUWOD5XXDY+7fHdPecD8z2SaNI9rHwkPKnyAjs5hrc5bhDFOaW4RT45Jto91RY4PldcNj7t8d095wPzPZJo0j2sfCQ8qfICOzmGtzluEMU5\",\"dtype\":\"float32\",\"shape\":[12,11]}]},\"selected\":{\"id\":\"1445\",\"type\":\"Selection\"},\"selection_policy\":{\"id\":\"1444\",\"type\":\"UnionRenderers\"}},\"id\":\"1397\",\"type\":\"ColumnDataSource\"},{\"attributes\":{},\"id\":\"1445\",\"type\":\"Selection\"},{\"attributes\":{\"axis_label\":\"source tokens\",\"formatter\":{\"id\":\"1442\",\"type\":\"BasicTickFormatter\"},\"major_label_orientation\":45,\"major_label_overrides\":{\"0.5\":\"_BOS_\",\"1.5\":\"\\u0432\",\"10.5\":\"_EOS_\",\"2.5\":\"\\u0440\\u0430\\u0441\\u043f\\u043e\\u0440\\u044f\\u0436\\u0435\\u043d\\u0438\\u0438\",\"3.5\":\"\\u0433\\u043e\\u0441\\u0442\\u0435\\u0439\",\"4.5\":\"\\u043e\\u0431\\u0449\\u0430\\u044f\",\"5.5\":\"\\u043a\\u0443\\u0445\\u043d\\u044f\",\"6.5\":\"\\u0438\",\"7.5\":\"\\u043e\\u0431\\u0449\\u0430\\u044f\",\"8.5\":\"\\u0433\\u043e\\u0441\\u0442\\u0438\\u043d\\u0430\\u044f\",\"9.5\":\".\"},\"plot\":{\"id\":\"1387\",\"subtype\":\"Figure\",\"type\":\"Plot\"},\"ticker\":{\"id\":\"1405\",\"type\":\"FixedTicker\"}},\"id\":\"1404\",\"type\":\"LinearAxis\"},{\"attributes\":{\"color_mapper\":{\"id\":\"1398\",\"type\":\"LinearColorMapper\"},\"dh\":{\"units\":\"data\",\"value\":12},\"dw\":{\"units\":\"data\",\"value\":11},\"image\":{\"field\":\"image\"},\"x\":{\"value\":0},\"y\":{\"value\":0}},\"id\":\"1399\",\"type\":\"Image\"},{\"attributes\":{\"source\":{\"id\":\"1397\",\"type\":\"ColumnDataSource\"}},\"id\":\"1403\",\"type\":\"CDSView\"},{\"attributes\":{\"active_drag\":\"auto\",\"active_inspect\":\"auto\",\"active_multi\":null,\"active_scroll\":\"auto\",\"active_tap\":\"auto\"},\"id\":\"1396\",\"type\":\"Toolbar\"},{\"attributes\":{\"ticks\":[0.5,1.5,2.5,3.5,4.5,5.5,6.5,7.5,8.5,9.5,10.5,11.5]},\"id\":\"1408\",\"type\":\"FixedTicker\"},{\"attributes\":{\"callback\":null,\"end\":11},\"id\":\"1388\",\"type\":\"Range1d\"},{\"attributes\":{},\"id\":\"1443\",\"type\":\"BasicTickFormatter\"},{\"attributes\":{},\"id\":\"1442\",\"type\":\"BasicTickFormatter\"},{\"attributes\":{\"callback\":null,\"end\":12},\"id\":\"1390\",\"type\":\"Range1d\"}],\"root_ids\":[\"1387\"]},\"title\":\"Bokeh Application\",\"version\":\"1.0.3\"}};\n",
              "  var render_items = [{\"docid\":\"60772b4e-210a-4364-9ee8-529b86976717\",\"roots\":{\"1387\":\"edbb88e6-9e02-4603-a998-abe4b78042e9\"}}];\n",
              "  root.Bokeh.embed.embed_items_notebook(docs_json, render_items);\n",
              "\n",
              "  }\n",
              "  if (root.Bokeh !== undefined) {\n",
              "    embed_document(root);\n",
              "  } else {\n",
              "    var attempts = 0;\n",
              "    var timer = setInterval(function(root) {\n",
              "      if (root.Bokeh !== undefined) {\n",
              "        embed_document(root);\n",
              "        clearInterval(timer);\n",
              "      }\n",
              "      attempts++;\n",
              "      if (attempts > 100) {\n",
              "        console.log(\"Bokeh: ERROR: Unable to run BokehJS code because BokehJS library is missing\");\n",
              "        clearInterval(timer);\n",
              "      }\n",
              "    }, 10, root)\n",
              "  }\n",
              "})(window);"
            ],
            "application/vnd.bokehjs_exec.v0+json": ""
          },
          "metadata": {
            "tags": [],
            "application/vnd.bokehjs_exec.v0+json": {
              "id": "1387"
            }
          }
        },
        {
          "output_type": "display_data",
          "data": {
            "text/html": [
              "\n",
              "\n",
              "\n",
              "\n",
              "\n",
              "\n",
              "  <div class=\"bk-root\" id=\"1d1db198-22a7-45ac-9d44-a327b08b06fe\" data-root-id=\"1482\"></div>\n"
            ]
          },
          "metadata": {
            "tags": []
          }
        },
        {
          "output_type": "display_data",
          "data": {
            "application/javascript": [
              "(function(root) {\n",
              "  function embed_document(root) {\n",
              "    \n",
              "  var docs_json = {\"a147d3fa-62cc-4b75-8ec5-8faa4f4fe9c0\":{\"roots\":{\"references\":[{\"attributes\":{\"above\":[{\"id\":\"1499\",\"type\":\"LinearAxis\"}],\"left\":[{\"id\":\"1502\",\"type\":\"LinearAxis\"}],\"renderers\":[{\"id\":\"1497\",\"type\":\"GlyphRenderer\"},{\"id\":\"1499\",\"type\":\"LinearAxis\"},{\"id\":\"1502\",\"type\":\"LinearAxis\"}],\"title\":{\"id\":\"1541\",\"type\":\"Title\"},\"toolbar\":{\"id\":\"1491\",\"type\":\"Toolbar\"},\"x_range\":{\"id\":\"1483\",\"type\":\"Range1d\"},\"x_scale\":{\"id\":\"1487\",\"type\":\"LinearScale\"},\"y_range\":{\"id\":\"1485\",\"type\":\"Range1d\"},\"y_scale\":{\"id\":\"1489\",\"type\":\"LinearScale\"}},\"id\":\"1482\",\"subtype\":\"Figure\",\"type\":\"Plot\"},{\"attributes\":{\"data_source\":{\"id\":\"1492\",\"type\":\"ColumnDataSource\"},\"glyph\":{\"id\":\"1494\",\"type\":\"Image\"},\"hover_glyph\":null,\"muted_glyph\":null,\"nonselection_glyph\":{\"id\":\"1496\",\"type\":\"Image\"},\"selection_glyph\":null,\"view\":{\"id\":\"1498\",\"type\":\"CDSView\"}},\"id\":\"1497\",\"type\":\"GlyphRenderer\"},{\"attributes\":{},\"id\":\"1487\",\"type\":\"LinearScale\"},{\"attributes\":{\"palette\":[\"#000000\",\"#252525\",\"#525252\",\"#737373\",\"#969696\",\"#bdbdbd\",\"#d9d9d9\",\"#f0f0f0\",\"#ffffff\"]},\"id\":\"1493\",\"type\":\"LinearColorMapper\"},{\"attributes\":{\"axis_label\":\"translation tokens\",\"formatter\":{\"id\":\"1544\",\"type\":\"BasicTickFormatter\"},\"major_label_overrides\":{\"0.5\":\"_EOS_\",\"1.5\":\".\",\"10.5\":\"rental\",\"11.5\":\"bicycle\",\"12.5\":\"_BOS_\",\"2.5\":\"available\",\"3.5\":\"are\",\"4.5\":\"parking\",\"5.5\":\"free\",\"6.5\":\"and\",\"7.5\":\"service\",\"8.5\":\"shuttle\",\"9.5\":\",\"},\"plot\":{\"id\":\"1482\",\"subtype\":\"Figure\",\"type\":\"Plot\"},\"ticker\":{\"id\":\"1503\",\"type\":\"FixedTicker\"}},\"id\":\"1502\",\"type\":\"LinearAxis\"},{\"attributes\":{\"callback\":null,\"data\":{\"image\":[{\"__ndarray__\":\"y0H1PR5BID4Pt1I+bIX3PcgWOT2pjwc840SkOSJ5jzph1ds5uPjGO/3WBz0IrJ86C2YtPCFyqD07ilU+ytVgPaE+lj0nvSk+IhckPi84Hj7psuU8F7LnOopmWjwb62M7QXcLPGKLDj1Mtaw6KpzRPGIF1z0EeS0++ho9PiyRbT6qmpA+6U7BPcu3Mz1myMk7Z4YgOihcRzkB1EA68posPEnYDjuafv069yr6PG7AIj1GZI89h2WYPKcsQzy8Oj08ViNyPDXLaTwtL6c77L4+O+OYEztAjB4732brO+XdRD0WC4Q8RihYPUBkrj4iJec+e7CsPU4SAz0BuZQ85vRQPDy12zsg3Ow6MPDrOjx/CTuRLn07UlwBPJTEXz1Ja/48aaATPhe13D7Ysys+EfL4PA74fzzI9S08rhiEO2jNlTqnW247M5ojOxVgZzraP6c7j7ePPQTl2jtAvZQ+pnz7PtS9mDxJO0g9JaXmPPGHfjybehk8887WO4XjAzun/Eo74BlPO+/chDrOJf07uTZoPpkyBDyW5ps+E1mSPtijMz34nl493346PL4G/zvSPq07ZAdEPPsbmTzK22I8sHotPCBUVTyHhwY9N9oCPuseZz4tC3s9PB22Pcz/kz5/lqc9Gv2+PGHSOjwn8OM7jIiOO6zTATsLV00729fZOry67zqNqyY9wbXSPr+HGT2ZbVE+3h8zPphsXD1ddbc8GW31PL1PJDzWOsg75XKsOnvl5zosxig7dQ6POjyqIzpt3q8+ooXyPoEZfT0HIAg9EiCjPAhqyTsIggc88FCLO7ymMDtcVgk7975HPFszGj2RKlw9bnOcPl/NmD7LQ/I9ZpSaPW2UnT3HZk47A8rtOslnwDt44uw6Vx7fO2th2ztek6Q7s5lXPC+1DD2qI2U+qxwuPsT20j4FJcQ9KkjHPC2zzjsFxL054KAKOgn2PDqbWtg4Vx7fO2th2ztek6Q7s5lXPC+1DD2qI2U+qxwuPsT20j4FJcQ9KkjHPC2zzjsFxL054KAKOgn2PDqbWtg4\",\"dtype\":\"float32\",\"shape\":[13,15]}]},\"selected\":{\"id\":\"1546\",\"type\":\"Selection\"},\"selection_policy\":{\"id\":\"1545\",\"type\":\"UnionRenderers\"}},\"id\":\"1492\",\"type\":\"ColumnDataSource\"},{\"attributes\":{\"source\":{\"id\":\"1492\",\"type\":\"ColumnDataSource\"}},\"id\":\"1498\",\"type\":\"CDSView\"},{\"attributes\":{\"callback\":null,\"end\":15},\"id\":\"1483\",\"type\":\"Range1d\"},{\"attributes\":{\"color_mapper\":{\"id\":\"1493\",\"type\":\"LinearColorMapper\"},\"dh\":{\"units\":\"data\",\"value\":13},\"dw\":{\"units\":\"data\",\"value\":15},\"image\":{\"field\":\"image\"},\"x\":{\"value\":0},\"y\":{\"value\":0}},\"id\":\"1494\",\"type\":\"Image\"},{\"attributes\":{},\"id\":\"1544\",\"type\":\"BasicTickFormatter\"},{\"attributes\":{\"axis_label\":\"source tokens\",\"formatter\":{\"id\":\"1543\",\"type\":\"BasicTickFormatter\"},\"major_label_orientation\":45,\"major_label_overrides\":{\"0.5\":\"_BOS_\",\"1.5\":\"\\u043a\\u0440\\u043e\\u043c\\u0435\",\"10.5\":\"\\u0438\",\"11.5\":\"\\u0431\\u0435\\u0441\\u043f\\u043b\\u0430\\u0442\\u043d\\u0430\\u044f\",\"12.5\":\"\\u043f\\u0430\\u0440\\u043a\\u043e\\u0432\\u043a\\u0430\",\"13.5\":\".\",\"14.5\":\"_EOS_\",\"2.5\":\"\\u0442\\u043e\\u0433\\u043e\",\"3.5\":\",\",\"4.5\":\"\\u043f\\u0440\\u0435\\u0434\\u043e\\u0441\\u0442\\u0430\\u0432\\u043b\\u044f\\u0435\\u0442\\u0441\\u044f\",\"5.5\":\"\\u043f\\u0440\\u043e\\u043a\\u0430\\u0442\",\"6.5\":\"\\u0432\\u0435\\u043b\\u043e\\u0441\\u0438\\u043f\\u0435\\u0434\\u043e\\u0432\",\"7.5\":\",\",\"8.5\":\"\\u0443\\u0441\\u043b\\u0443\\u0433\\u0438\",\"9.5\":\"\\u0442\\u0440\\u0430\\u043d\\u0441\\u0444\\u0435\\u0440\\u0430\"},\"plot\":{\"id\":\"1482\",\"subtype\":\"Figure\",\"type\":\"Plot\"},\"ticker\":{\"id\":\"1500\",\"type\":\"FixedTicker\"}},\"id\":\"1499\",\"type\":\"LinearAxis\"},{\"attributes\":{\"plot\":null,\"text\":\"\"},\"id\":\"1541\",\"type\":\"Title\"},{\"attributes\":{},\"id\":\"1489\",\"type\":\"LinearScale\"},{\"attributes\":{\"palette\":[\"#000000\",\"#252525\",\"#525252\",\"#737373\",\"#969696\",\"#bdbdbd\",\"#d9d9d9\",\"#f0f0f0\",\"#ffffff\"]},\"id\":\"1495\",\"type\":\"LinearColorMapper\"},{\"attributes\":{},\"id\":\"1543\",\"type\":\"BasicTickFormatter\"},{\"attributes\":{\"active_drag\":\"auto\",\"active_inspect\":\"auto\",\"active_multi\":null,\"active_scroll\":\"auto\",\"active_tap\":\"auto\"},\"id\":\"1491\",\"type\":\"Toolbar\"},{\"attributes\":{\"callback\":null,\"end\":13},\"id\":\"1485\",\"type\":\"Range1d\"},{\"attributes\":{},\"id\":\"1545\",\"type\":\"UnionRenderers\"},{\"attributes\":{\"color_mapper\":{\"id\":\"1495\",\"type\":\"LinearColorMapper\"},\"dh\":{\"units\":\"data\",\"value\":13},\"dw\":{\"units\":\"data\",\"value\":15},\"image\":{\"field\":\"image\"},\"x\":{\"value\":0},\"y\":{\"value\":0}},\"id\":\"1496\",\"type\":\"Image\"},{\"attributes\":{\"ticks\":[0.5,1.5,2.5,3.5,4.5,5.5,6.5,7.5,8.5,9.5,10.5,11.5,12.5]},\"id\":\"1503\",\"type\":\"FixedTicker\"},{\"attributes\":{},\"id\":\"1546\",\"type\":\"Selection\"},{\"attributes\":{\"ticks\":[0.5,1.5,2.5,3.5,4.5,5.5,6.5,7.5,8.5,9.5,10.5,11.5,12.5,13.5,14.5]},\"id\":\"1500\",\"type\":\"FixedTicker\"}],\"root_ids\":[\"1482\"]},\"title\":\"Bokeh Application\",\"version\":\"1.0.3\"}};\n",
              "  var render_items = [{\"docid\":\"a147d3fa-62cc-4b75-8ec5-8faa4f4fe9c0\",\"roots\":{\"1482\":\"1d1db198-22a7-45ac-9d44-a327b08b06fe\"}}];\n",
              "  root.Bokeh.embed.embed_items_notebook(docs_json, render_items);\n",
              "\n",
              "  }\n",
              "  if (root.Bokeh !== undefined) {\n",
              "    embed_document(root);\n",
              "  } else {\n",
              "    var attempts = 0;\n",
              "    var timer = setInterval(function(root) {\n",
              "      if (root.Bokeh !== undefined) {\n",
              "        embed_document(root);\n",
              "        clearInterval(timer);\n",
              "      }\n",
              "      attempts++;\n",
              "      if (attempts > 100) {\n",
              "        console.log(\"Bokeh: ERROR: Unable to run BokehJS code because BokehJS library is missing\");\n",
              "        clearInterval(timer);\n",
              "      }\n",
              "    }, 10, root)\n",
              "  }\n",
              "})(window);"
            ],
            "application/vnd.bokehjs_exec.v0+json": ""
          },
          "metadata": {
            "tags": [],
            "application/vnd.bokehjs_exec.v0+json": {
              "id": "1482"
            }
          }
        },
        {
          "output_type": "display_data",
          "data": {
            "text/html": [
              "\n",
              "\n",
              "\n",
              "\n",
              "\n",
              "\n",
              "  <div class=\"bk-root\" id=\"c323807c-7c75-489e-8590-896d961b6140\" data-root-id=\"1583\"></div>\n"
            ]
          },
          "metadata": {
            "tags": []
          }
        },
        {
          "output_type": "display_data",
          "data": {
            "application/javascript": [
              "(function(root) {\n",
              "  function embed_document(root) {\n",
              "    \n",
              "  var docs_json = {\"f1f38c27-f51b-45f1-b52d-96522503890b\":{\"roots\":{\"references\":[{\"attributes\":{\"above\":[{\"id\":\"1600\",\"type\":\"LinearAxis\"}],\"left\":[{\"id\":\"1603\",\"type\":\"LinearAxis\"}],\"renderers\":[{\"id\":\"1598\",\"type\":\"GlyphRenderer\"},{\"id\":\"1600\",\"type\":\"LinearAxis\"},{\"id\":\"1603\",\"type\":\"LinearAxis\"}],\"title\":{\"id\":\"1648\",\"type\":\"Title\"},\"toolbar\":{\"id\":\"1592\",\"type\":\"Toolbar\"},\"x_range\":{\"id\":\"1584\",\"type\":\"Range1d\"},\"x_scale\":{\"id\":\"1588\",\"type\":\"LinearScale\"},\"y_range\":{\"id\":\"1586\",\"type\":\"Range1d\"},\"y_scale\":{\"id\":\"1590\",\"type\":\"LinearScale\"}},\"id\":\"1583\",\"subtype\":\"Figure\",\"type\":\"Plot\"},{\"attributes\":{},\"id\":\"1650\",\"type\":\"BasicTickFormatter\"},{\"attributes\":{\"color_mapper\":{\"id\":\"1596\",\"type\":\"LinearColorMapper\"},\"dh\":{\"units\":\"data\",\"value\":12},\"dw\":{\"units\":\"data\",\"value\":13},\"image\":{\"field\":\"image\"},\"x\":{\"value\":0},\"y\":{\"value\":0}},\"id\":\"1597\",\"type\":\"Image\"},{\"attributes\":{\"callback\":null,\"end\":12},\"id\":\"1586\",\"type\":\"Range1d\"},{\"attributes\":{},\"id\":\"1590\",\"type\":\"LinearScale\"},{\"attributes\":{},\"id\":\"1651\",\"type\":\"BasicTickFormatter\"},{\"attributes\":{\"color_mapper\":{\"id\":\"1594\",\"type\":\"LinearColorMapper\"},\"dh\":{\"units\":\"data\",\"value\":12},\"dw\":{\"units\":\"data\",\"value\":13},\"image\":{\"field\":\"image\"},\"x\":{\"value\":0},\"y\":{\"value\":0}},\"id\":\"1595\",\"type\":\"Image\"},{\"attributes\":{\"ticks\":[0.5,1.5,2.5,3.5,4.5,5.5,6.5,7.5,8.5,9.5,10.5,11.5,12.5]},\"id\":\"1601\",\"type\":\"FixedTicker\"},{\"attributes\":{\"plot\":null,\"text\":\"\"},\"id\":\"1648\",\"type\":\"Title\"},{\"attributes\":{\"ticks\":[0.5,1.5,2.5,3.5,4.5,5.5,6.5,7.5,8.5,9.5,10.5,11.5]},\"id\":\"1604\",\"type\":\"FixedTicker\"},{\"attributes\":{\"source\":{\"id\":\"1593\",\"type\":\"ColumnDataSource\"}},\"id\":\"1599\",\"type\":\"CDSView\"},{\"attributes\":{\"palette\":[\"#000000\",\"#252525\",\"#525252\",\"#737373\",\"#969696\",\"#bdbdbd\",\"#d9d9d9\",\"#f0f0f0\",\"#ffffff\"]},\"id\":\"1594\",\"type\":\"LinearColorMapper\"},{\"attributes\":{},\"id\":\"1588\",\"type\":\"LinearScale\"},{\"attributes\":{\"axis_label\":\"translation tokens\",\"formatter\":{\"id\":\"1651\",\"type\":\"BasicTickFormatter\"},\"major_label_overrides\":{\"0.5\":\"_EOS_\",\"1.5\":\".\",\"10.5\":\"la@@\",\"11.5\":\"_BOS_\",\"2.5\":\"property\",\"3.5\":\"the\",\"4.5\":\"from\",\"5.5\":\"km\",\"6.5\":\"26\",\"7.5\":\"is\",\"8.5\":\"al\",\"9.5\":\"th@@\"},\"plot\":{\"id\":\"1583\",\"subtype\":\"Figure\",\"type\":\"Plot\"},\"ticker\":{\"id\":\"1604\",\"type\":\"FixedTicker\"}},\"id\":\"1603\",\"type\":\"LinearAxis\"},{\"attributes\":{\"axis_label\":\"source tokens\",\"formatter\":{\"id\":\"1650\",\"type\":\"BasicTickFormatter\"},\"major_label_orientation\":45,\"major_label_overrides\":{\"0.5\":\"_BOS_\",\"1.5\":\"\\u0440\\u0430\\u0441\\u0441\\u0442\\u043e\\u044f\\u043d\\u0438\\u0435\",\"10.5\":\"\\u043a\\u043c\",\"11.5\":\".\",\"12.5\":\"_EOS_\",\"2.5\":\"\\u0434\\u043e\",\"3.5\":\"\\u0433\\u043e\\u0440\\u043e\\u0434\\u0430\",\"4.5\":\"\\u043a\\u0438@@\",\"5.5\":\"\\u0441\\u0441\\u0438@@\",\"6.5\":\"\\u043c@@\",\"7.5\":\"\\u043c\\u0438\",\"8.5\":\"\\u0441\\u043e\\u0441\\u0442\\u0430\\u0432\\u043b\\u044f\\u0435\\u0442\",\"9.5\":\"26\"},\"plot\":{\"id\":\"1583\",\"subtype\":\"Figure\",\"type\":\"Plot\"},\"ticker\":{\"id\":\"1601\",\"type\":\"FixedTicker\"}},\"id\":\"1600\",\"type\":\"LinearAxis\"},{\"attributes\":{\"active_drag\":\"auto\",\"active_inspect\":\"auto\",\"active_multi\":null,\"active_scroll\":\"auto\",\"active_tap\":\"auto\"},\"id\":\"1592\",\"type\":\"Toolbar\"},{\"attributes\":{},\"id\":\"1652\",\"type\":\"UnionRenderers\"},{\"attributes\":{\"callback\":null,\"data\":{\"image\":[{\"__ndarray__\":\"XC1SPdz+ST10HQw91twsPbfiEz57uHQ9GtMHPdkrgjyPRnE9IbKcPl5TGT4VKVo81P0qPUQA1D3gDKQ9ugR5PcjVOT27Wc89rOCXPjYYXT2Nl2M+bwOcPPbRhDqGZhQ7XWLyOhJpQzxG5IU6gIaMOrOdyzoM/BY7ARMaPOf9JT/D9h8+SngEPukJ0Dzek745dswsOi1YxDoHUbo8ZXSdPob43j1M29I9EX4ePQwy5T0sbJ8+G6iFO0vO7DuKCjQ6aGVSOb/l3Dmkb086BEasOw2UhD3IxSM9hXCCPQJJ0DtWrHg8j8QVPK8gTzrwd+A7CcpaPBbE2TqyZxI8UGnLPTGFKz+9FBI5ynQJOUs9XDpqV2w6uogCOgyDLjvFc/o52Ui5OlRsQDmhmJ09BSxhP/0LED1BVYo6wFZOPAxuNTyJxuw86Bq9PAQRjTy+3/A5cee4Od52Jjz8XgA9VCuuPrCk9j5US/k8CX5MPNX1uTtdmpY7mtaQPAizPz1Zw1k9Xq3OPaH4GD7nVQk+uERTPm8ruj3S9oU9Hg3iPT8XcDyAqpw3/emoN4eDGzkUHzc6YjOFOtKtIT49KPE+H2LzPdK9YD6hUVI6ZaClOnSFsTySP+o73nqyOcr9hzlNeCQ6gvnWOhHeizy77Os+ItahPu5Tjj3UN4Y8LvrkPG/mGDwif289uIOwPOywTTvKEQA7dCZHO01u4jtGkxE9J0pHPzAUwD06h5M8Hgr6PD0PHjwJlNI7b/bJO1E+0TvssE07yhEAO3QmRztNbuI7RpMRPSdKRz8wFMA9OoeTPB4K+jw9Dx48CZTSO2/2yTtRPtE7\",\"dtype\":\"float32\",\"shape\":[12,13]}]},\"selected\":{\"id\":\"1653\",\"type\":\"Selection\"},\"selection_policy\":{\"id\":\"1652\",\"type\":\"UnionRenderers\"}},\"id\":\"1593\",\"type\":\"ColumnDataSource\"},{\"attributes\":{\"data_source\":{\"id\":\"1593\",\"type\":\"ColumnDataSource\"},\"glyph\":{\"id\":\"1595\",\"type\":\"Image\"},\"hover_glyph\":null,\"muted_glyph\":null,\"nonselection_glyph\":{\"id\":\"1597\",\"type\":\"Image\"},\"selection_glyph\":null,\"view\":{\"id\":\"1599\",\"type\":\"CDSView\"}},\"id\":\"1598\",\"type\":\"GlyphRenderer\"},{\"attributes\":{\"palette\":[\"#000000\",\"#252525\",\"#525252\",\"#737373\",\"#969696\",\"#bdbdbd\",\"#d9d9d9\",\"#f0f0f0\",\"#ffffff\"]},\"id\":\"1596\",\"type\":\"LinearColorMapper\"},{\"attributes\":{\"callback\":null,\"end\":13},\"id\":\"1584\",\"type\":\"Range1d\"},{\"attributes\":{},\"id\":\"1653\",\"type\":\"Selection\"}],\"root_ids\":[\"1583\"]},\"title\":\"Bokeh Application\",\"version\":\"1.0.3\"}};\n",
              "  var render_items = [{\"docid\":\"f1f38c27-f51b-45f1-b52d-96522503890b\",\"roots\":{\"1583\":\"c323807c-7c75-489e-8590-896d961b6140\"}}];\n",
              "  root.Bokeh.embed.embed_items_notebook(docs_json, render_items);\n",
              "\n",
              "  }\n",
              "  if (root.Bokeh !== undefined) {\n",
              "    embed_document(root);\n",
              "  } else {\n",
              "    var attempts = 0;\n",
              "    var timer = setInterval(function(root) {\n",
              "      if (root.Bokeh !== undefined) {\n",
              "        embed_document(root);\n",
              "        clearInterval(timer);\n",
              "      }\n",
              "      attempts++;\n",
              "      if (attempts > 100) {\n",
              "        console.log(\"Bokeh: ERROR: Unable to run BokehJS code because BokehJS library is missing\");\n",
              "        clearInterval(timer);\n",
              "      }\n",
              "    }, 10, root)\n",
              "  }\n",
              "})(window);"
            ],
            "application/vnd.bokehjs_exec.v0+json": ""
          },
          "metadata": {
            "tags": [],
            "application/vnd.bokehjs_exec.v0+json": {
              "id": "1583"
            }
          }
        },
        {
          "output_type": "display_data",
          "data": {
            "text/html": [
              "\n",
              "\n",
              "\n",
              "\n",
              "\n",
              "\n",
              "  <div class=\"bk-root\" id=\"624f8f9e-55f9-4bd3-8568-ae8d7cb5c62c\" data-root-id=\"1690\"></div>\n"
            ]
          },
          "metadata": {
            "tags": []
          }
        },
        {
          "output_type": "display_data",
          "data": {
            "application/javascript": [
              "(function(root) {\n",
              "  function embed_document(root) {\n",
              "    \n",
              "  var docs_json = {\"ffcea405-88d0-41a4-be83-9da592178b4d\":{\"roots\":{\"references\":[{\"attributes\":{\"above\":[{\"id\":\"1707\",\"type\":\"LinearAxis\"}],\"left\":[{\"id\":\"1710\",\"type\":\"LinearAxis\"}],\"renderers\":[{\"id\":\"1705\",\"type\":\"GlyphRenderer\"},{\"id\":\"1707\",\"type\":\"LinearAxis\"},{\"id\":\"1710\",\"type\":\"LinearAxis\"}],\"title\":{\"id\":\"1761\",\"type\":\"Title\"},\"toolbar\":{\"id\":\"1699\",\"type\":\"Toolbar\"},\"x_range\":{\"id\":\"1691\",\"type\":\"Range1d\"},\"x_scale\":{\"id\":\"1695\",\"type\":\"LinearScale\"},\"y_range\":{\"id\":\"1693\",\"type\":\"Range1d\"},\"y_scale\":{\"id\":\"1697\",\"type\":\"LinearScale\"}},\"id\":\"1690\",\"subtype\":\"Figure\",\"type\":\"Plot\"},{\"attributes\":{\"plot\":null,\"text\":\"\"},\"id\":\"1761\",\"type\":\"Title\"},{\"attributes\":{\"color_mapper\":{\"id\":\"1703\",\"type\":\"LinearColorMapper\"},\"dh\":{\"units\":\"data\",\"value\":29},\"dw\":{\"units\":\"data\",\"value\":32},\"image\":{\"field\":\"image\"},\"x\":{\"value\":0},\"y\":{\"value\":0}},\"id\":\"1704\",\"type\":\"Image\"},{\"attributes\":{\"palette\":[\"#000000\",\"#252525\",\"#525252\",\"#737373\",\"#969696\",\"#bdbdbd\",\"#d9d9d9\",\"#f0f0f0\",\"#ffffff\"]},\"id\":\"1701\",\"type\":\"LinearColorMapper\"},{\"attributes\":{},\"id\":\"1763\",\"type\":\"BasicTickFormatter\"},{\"attributes\":{},\"id\":\"1697\",\"type\":\"LinearScale\"},{\"attributes\":{\"callback\":null,\"end\":29},\"id\":\"1693\",\"type\":\"Range1d\"},{\"attributes\":{\"axis_label\":\"source tokens\",\"formatter\":{\"id\":\"1763\",\"type\":\"BasicTickFormatter\"},\"major_label_orientation\":45,\"major_label_overrides\":{\"0.5\":\"_BOS_\",\"1.5\":\"\\u0430\\u043f\\u0430\\u0440\\u0442\\u0430\\u043c\\u0435\\u043d\\u0442\\u044b\",\"10.5\":\"\\u0441\\u0430\\u0434\\u043e\\u043c\",\"11.5\":\",\",\"12.5\":\"\\u043a\\u043e\\u043d\\u0434\\u0438\\u0446\\u0438\\u043e\\u043d\\u0435\\u0440\\u043e\\u043c\",\"13.5\":\"\\u0438\",\"14.5\":\"\\u0442\\u0435\\u0440\\u0440\\u0430\\u0441\\u043e\\u0439\",\"15.5\":\"\\u0434\\u043b\\u044f\",\"16.5\":\"\\u0437\\u0430\\u0433\\u0430\\u0440\\u0430\",\"17.5\":\"\\u0440\\u0430\\u0441\\u043f\\u043e\\u043b\\u043e\\u0436\\u0435\\u043d\\u044b\",\"18.5\":\"\\u0432\",\"19.5\":\"5\",\"2.5\":\"\\u0432\",\"20.5\":\"\\u043c\\u0438\\u043d\\u0443\\u0442\\u0430\\u0445\",\"21.5\":\"\\u0445\\u043e\\u0434\\u044c\\u0431\\u044b\",\"22.5\":\"\\u043e\\u0442\",\"23.5\":\"\\u043f\\u043b\\u044f\\u0436\\u0430\",\"24.5\":\"\\u043d\\u0430\",\"25.5\":\"\\u043a\\u0443\\u0440\\u043e\\u0440\\u0442\\u0435\",\"26.5\":\"\\u043a\\u0430@@\",\"27.5\":\"\\u0431\\u043e\",\"28.5\":\"-\",\"29.5\":\"\\u0440\\u043e\\u0439\",\"3.5\":\"\\u043f\\u0435\\u043d\\u0442@@\",\"30.5\":\".\",\"31.5\":\"_EOS_\",\"4.5\":\"\\u0445\\u0430\\u0443\\u0441\\u0435\",\"5.5\":\"\\u0441\",\"6.5\":\"\\u043e\\u0431\\u0449\\u0438\\u043c\",\"7.5\":\"\\u043e\\u0442\\u043a\\u0440\\u044b\\u0442\\u044b\\u043c\",\"8.5\":\"\\u0431\\u0430\\u0441\\u0441\\u0435\\u0439\\u043d\\u043e\\u043c\",\"9.5\":\",\"},\"plot\":{\"id\":\"1690\",\"subtype\":\"Figure\",\"type\":\"Plot\"},\"ticker\":{\"id\":\"1708\",\"type\":\"FixedTicker\"}},\"id\":\"1707\",\"type\":\"LinearAxis\"},{\"attributes\":{},\"id\":\"1695\",\"type\":\"LinearScale\"},{\"attributes\":{\"axis_label\":\"translation tokens\",\"formatter\":{\"id\":\"1764\",\"type\":\"BasicTickFormatter\"},\"major_label_overrides\":{\"0.5\":\"_EOS_\",\"1.5\":\".\",\"10.5\":\"shared\",\"11.5\":\"a\",\"12.5\":\"features\",\"13.5\":\"apartment\",\"14.5\":\"this\",\"15.5\":\",\",\"16.5\":\"ava\",\"17.5\":\"j@@\",\"18.5\":\"in\",\"19.5\":\"beach\",\"2.5\":\"terrace\",\"20.5\":\"the\",\"21.5\":\"from\",\"22.5\":\"walk\",\"23.5\":\"minute\",\"24.5\":\"-\",\"25.5\":\"5\",\"26.5\":\"a\",\"27.5\":\"located\",\"28.5\":\"_BOS_\",\"3.5\":\"sun\",\"4.5\":\"a\",\"5.5\":\"and\",\"6.5\":\"garden\",\"7.5\":\",\",\"8.5\":\"pool\",\"9.5\":\"outdoor\"},\"plot\":{\"id\":\"1690\",\"subtype\":\"Figure\",\"type\":\"Plot\"},\"ticker\":{\"id\":\"1711\",\"type\":\"FixedTicker\"}},\"id\":\"1710\",\"type\":\"LinearAxis\"},{\"attributes\":{\"data_source\":{\"id\":\"1700\",\"type\":\"ColumnDataSource\"},\"glyph\":{\"id\":\"1702\",\"type\":\"Image\"},\"hover_glyph\":null,\"muted_glyph\":null,\"nonselection_glyph\":{\"id\":\"1704\",\"type\":\"Image\"},\"selection_glyph\":null,\"view\":{\"id\":\"1706\",\"type\":\"CDSView\"}},\"id\":\"1705\",\"type\":\"GlyphRenderer\"},{\"attributes\":{\"palette\":[\"#000000\",\"#252525\",\"#525252\",\"#737373\",\"#969696\",\"#bdbdbd\",\"#d9d9d9\",\"#f0f0f0\",\"#ffffff\"]},\"id\":\"1703\",\"type\":\"LinearColorMapper\"},{\"attributes\":{\"active_drag\":\"auto\",\"active_inspect\":\"auto\",\"active_multi\":null,\"active_scroll\":\"auto\",\"active_tap\":\"auto\"},\"id\":\"1699\",\"type\":\"Toolbar\"},{\"attributes\":{\"callback\":null,\"data\":{\"image\":[{\"__ndarray__\":\"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\",\"dtype\":\"float32\",\"shape\":[29,32]}]},\"selected\":{\"id\":\"1766\",\"type\":\"Selection\"},\"selection_policy\":{\"id\":\"1765\",\"type\":\"UnionRenderers\"}},\"id\":\"1700\",\"type\":\"ColumnDataSource\"},{\"attributes\":{},\"id\":\"1766\",\"type\":\"Selection\"},{\"attributes\":{\"callback\":null,\"end\":32},\"id\":\"1691\",\"type\":\"Range1d\"},{\"attributes\":{\"ticks\":[0.5,1.5,2.5,3.5,4.5,5.5,6.5,7.5,8.5,9.5,10.5,11.5,12.5,13.5,14.5,15.5,16.5,17.5,18.5,19.5,20.5,21.5,22.5,23.5,24.5,25.5,26.5,27.5,28.5,29.5,30.5,31.5]},\"id\":\"1708\",\"type\":\"FixedTicker\"},{\"attributes\":{},\"id\":\"1764\",\"type\":\"BasicTickFormatter\"},{\"attributes\":{\"ticks\":[0.5,1.5,2.5,3.5,4.5,5.5,6.5,7.5,8.5,9.5,10.5,11.5,12.5,13.5,14.5,15.5,16.5,17.5,18.5,19.5,20.5,21.5,22.5,23.5,24.5,25.5,26.5,27.5,28.5]},\"id\":\"1711\",\"type\":\"FixedTicker\"},{\"attributes\":{\"source\":{\"id\":\"1700\",\"type\":\"ColumnDataSource\"}},\"id\":\"1706\",\"type\":\"CDSView\"},{\"attributes\":{},\"id\":\"1765\",\"type\":\"UnionRenderers\"},{\"attributes\":{\"color_mapper\":{\"id\":\"1701\",\"type\":\"LinearColorMapper\"},\"dh\":{\"units\":\"data\",\"value\":29},\"dw\":{\"units\":\"data\",\"value\":32},\"image\":{\"field\":\"image\"},\"x\":{\"value\":0},\"y\":{\"value\":0}},\"id\":\"1702\",\"type\":\"Image\"}],\"root_ids\":[\"1690\"]},\"title\":\"Bokeh Application\",\"version\":\"1.0.3\"}};\n",
              "  var render_items = [{\"docid\":\"ffcea405-88d0-41a4-be83-9da592178b4d\",\"roots\":{\"1690\":\"624f8f9e-55f9-4bd3-8568-ae8d7cb5c62c\"}}];\n",
              "  root.Bokeh.embed.embed_items_notebook(docs_json, render_items);\n",
              "\n",
              "  }\n",
              "  if (root.Bokeh !== undefined) {\n",
              "    embed_document(root);\n",
              "  } else {\n",
              "    var attempts = 0;\n",
              "    var timer = setInterval(function(root) {\n",
              "      if (root.Bokeh !== undefined) {\n",
              "        embed_document(root);\n",
              "        clearInterval(timer);\n",
              "      }\n",
              "      attempts++;\n",
              "      if (attempts > 100) {\n",
              "        console.log(\"Bokeh: ERROR: Unable to run BokehJS code because BokehJS library is missing\");\n",
              "        clearInterval(timer);\n",
              "      }\n",
              "    }, 10, root)\n",
              "  }\n",
              "})(window);"
            ],
            "application/vnd.bokehjs_exec.v0+json": ""
          },
          "metadata": {
            "tags": [],
            "application/vnd.bokehjs_exec.v0+json": {
              "id": "1690"
            }
          }
        },
        {
          "output_type": "display_data",
          "data": {
            "text/html": [
              "\n",
              "\n",
              "\n",
              "\n",
              "\n",
              "\n",
              "  <div class=\"bk-root\" id=\"471a85b6-6119-4dd5-977e-d82b39b57343\" data-root-id=\"1803\"></div>\n"
            ]
          },
          "metadata": {
            "tags": []
          }
        },
        {
          "output_type": "display_data",
          "data": {
            "application/javascript": [
              "(function(root) {\n",
              "  function embed_document(root) {\n",
              "    \n",
              "  var docs_json = {\"13d05ba2-ce67-4a1a-9cc6-045d8fd9dc99\":{\"roots\":{\"references\":[{\"attributes\":{\"above\":[{\"id\":\"1820\",\"type\":\"LinearAxis\"}],\"left\":[{\"id\":\"1823\",\"type\":\"LinearAxis\"}],\"renderers\":[{\"id\":\"1818\",\"type\":\"GlyphRenderer\"},{\"id\":\"1820\",\"type\":\"LinearAxis\"},{\"id\":\"1823\",\"type\":\"LinearAxis\"}],\"title\":{\"id\":\"1880\",\"type\":\"Title\"},\"toolbar\":{\"id\":\"1812\",\"type\":\"Toolbar\"},\"x_range\":{\"id\":\"1804\",\"type\":\"Range1d\"},\"x_scale\":{\"id\":\"1808\",\"type\":\"LinearScale\"},\"y_range\":{\"id\":\"1806\",\"type\":\"Range1d\"},\"y_scale\":{\"id\":\"1810\",\"type\":\"LinearScale\"}},\"id\":\"1803\",\"subtype\":\"Figure\",\"type\":\"Plot\"},{\"attributes\":{\"axis_label\":\"source tokens\",\"formatter\":{\"id\":\"1882\",\"type\":\"BasicTickFormatter\"},\"major_label_orientation\":45,\"major_label_overrides\":{\"0.5\":\"_BOS_\",\"1.5\":\"\\u0430\\u043f\\u0430\\u0440\\u0442\\u0430\\u043c\\u0435\\u043d\\u0442\\u044b\",\"10.5\":\"square\",\"11.5\":\"\\u043d\\u0430\\u0445\\u043e\\u0434\\u044f\\u0442\\u0441\\u044f\",\"12.5\":\"\\u0432\",\"13.5\":\"\\u043c\\u043e\\u0441\\u043a\\u0432\\u0435\",\"14.5\":\",\",\"15.5\":\"\\u0432\",\"16.5\":\"200\",\"17.5\":\"\\u043c\\u0435\\u0442\\u0440\\u0430\\u0445\",\"18.5\":\"\\u043e\\u0442\",\"19.5\":\"\\u0431\\u043e\\u043b\\u044c\\u0448\\u043e\\u0433\\u043e\",\"2.5\":\"mo@@\",\"20.5\":\"\\u0442\\u0435\\u0430\\u0442\\u0440\\u0430\",\"21.5\":\".\",\"22.5\":\"_EOS_\",\"3.5\":\"s@@\",\"4.5\":\"co@@\",\"5.5\":\"w\",\"6.5\":\"point\",\"7.5\":\"-\",\"8.5\":\"loft\",\"9.5\":\"red\"},\"plot\":{\"id\":\"1803\",\"subtype\":\"Figure\",\"type\":\"Plot\"},\"ticker\":{\"id\":\"1821\",\"type\":\"FixedTicker\"}},\"id\":\"1820\",\"type\":\"LinearAxis\"},{\"attributes\":{\"ticks\":[0.5,1.5,2.5,3.5,4.5,5.5,6.5,7.5,8.5,9.5,10.5,11.5,12.5,13.5,14.5,15.5,16.5,17.5,18.5,19.5,20.5,21.5,22.5]},\"id\":\"1821\",\"type\":\"FixedTicker\"},{\"attributes\":{\"data_source\":{\"id\":\"1813\",\"type\":\"ColumnDataSource\"},\"glyph\":{\"id\":\"1815\",\"type\":\"Image\"},\"hover_glyph\":null,\"muted_glyph\":null,\"nonselection_glyph\":{\"id\":\"1817\",\"type\":\"Image\"},\"selection_glyph\":null,\"view\":{\"id\":\"1819\",\"type\":\"CDSView\"}},\"id\":\"1818\",\"type\":\"GlyphRenderer\"},{\"attributes\":{},\"id\":\"1882\",\"type\":\"BasicTickFormatter\"},{\"attributes\":{\"active_drag\":\"auto\",\"active_inspect\":\"auto\",\"active_multi\":null,\"active_scroll\":\"auto\",\"active_tap\":\"auto\"},\"id\":\"1812\",\"type\":\"Toolbar\"},{\"attributes\":{\"callback\":null,\"end\":29},\"id\":\"1806\",\"type\":\"Range1d\"},{\"attributes\":{\"palette\":[\"#000000\",\"#252525\",\"#525252\",\"#737373\",\"#969696\",\"#bdbdbd\",\"#d9d9d9\",\"#f0f0f0\",\"#ffffff\"]},\"id\":\"1816\",\"type\":\"LinearColorMapper\"},{\"attributes\":{\"palette\":[\"#000000\",\"#252525\",\"#525252\",\"#737373\",\"#969696\",\"#bdbdbd\",\"#d9d9d9\",\"#f0f0f0\",\"#ffffff\"]},\"id\":\"1814\",\"type\":\"LinearColorMapper\"},{\"attributes\":{\"callback\":null,\"data\":{\"image\":[{\"__ndarray__\":\"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\",\"dtype\":\"float32\",\"shape\":[29,23]}]},\"selected\":{\"id\":\"1885\",\"type\":\"Selection\"},\"selection_policy\":{\"id\":\"1884\",\"type\":\"UnionRenderers\"}},\"id\":\"1813\",\"type\":\"ColumnDataSource\"},{\"attributes\":{\"ticks\":[0.5,1.5,2.5,3.5,4.5,5.5,6.5,7.5,8.5,9.5,10.5,11.5,12.5,13.5,14.5,15.5,16.5,17.5,18.5,19.5,20.5,21.5,22.5,23.5,24.5,25.5,26.5,27.5,28.5]},\"id\":\"1824\",\"type\":\"FixedTicker\"},{\"attributes\":{\"axis_label\":\"translation tokens\",\"formatter\":{\"id\":\"1883\",\"type\":\"BasicTickFormatter\"},\"major_label_overrides\":{\"0.5\":\"_EOS_\",\"1.5\":\".\",\"10.5\":\",\",\"11.5\":\"budapest\",\"12.5\":\"in\",\"13.5\":\"accommodation\",\"14.5\":\"offers\",\"15.5\":\"apartment\",\"16.5\":\"an\",\"17.5\":\"len@@\",\"18.5\":\"na\",\"19.5\":\"plaza\",\"2.5\":\"theatre\",\"20.5\":\",\",\"21.5\":\"gate\",\"22.5\":\"s\",\"23.5\":\"\\u2019\",\"24.5\":\"moscow\",\"25.5\":\"the\",\"26.5\":\"in\",\"27.5\":\"located\",\"28.5\":\"_BOS_\",\"3.5\":\"ballet\",\"4.5\":\"and\",\"5.5\":\"opera\",\"6.5\":\"the\",\"7.5\":\"from\",\"8.5\":\"metres\",\"9.5\":\"200\"},\"plot\":{\"id\":\"1803\",\"subtype\":\"Figure\",\"type\":\"Plot\"},\"ticker\":{\"id\":\"1824\",\"type\":\"FixedTicker\"}},\"id\":\"1823\",\"type\":\"LinearAxis\"},{\"attributes\":{},\"id\":\"1884\",\"type\":\"UnionRenderers\"},{\"attributes\":{\"plot\":null,\"text\":\"\"},\"id\":\"1880\",\"type\":\"Title\"},{\"attributes\":{},\"id\":\"1810\",\"type\":\"LinearScale\"},{\"attributes\":{},\"id\":\"1808\",\"type\":\"LinearScale\"},{\"attributes\":{\"color_mapper\":{\"id\":\"1814\",\"type\":\"LinearColorMapper\"},\"dh\":{\"units\":\"data\",\"value\":29},\"dw\":{\"units\":\"data\",\"value\":23},\"image\":{\"field\":\"image\"},\"x\":{\"value\":0},\"y\":{\"value\":0}},\"id\":\"1815\",\"type\":\"Image\"},{\"attributes\":{\"color_mapper\":{\"id\":\"1816\",\"type\":\"LinearColorMapper\"},\"dh\":{\"units\":\"data\",\"value\":29},\"dw\":{\"units\":\"data\",\"value\":23},\"image\":{\"field\":\"image\"},\"x\":{\"value\":0},\"y\":{\"value\":0}},\"id\":\"1817\",\"type\":\"Image\"},{\"attributes\":{\"source\":{\"id\":\"1813\",\"type\":\"ColumnDataSource\"}},\"id\":\"1819\",\"type\":\"CDSView\"},{\"attributes\":{},\"id\":\"1883\",\"type\":\"BasicTickFormatter\"},{\"attributes\":{},\"id\":\"1885\",\"type\":\"Selection\"},{\"attributes\":{\"callback\":null,\"end\":23},\"id\":\"1804\",\"type\":\"Range1d\"}],\"root_ids\":[\"1803\"]},\"title\":\"Bokeh Application\",\"version\":\"1.0.3\"}};\n",
              "  var render_items = [{\"docid\":\"13d05ba2-ce67-4a1a-9cc6-045d8fd9dc99\",\"roots\":{\"1803\":\"471a85b6-6119-4dd5-977e-d82b39b57343\"}}];\n",
              "  root.Bokeh.embed.embed_items_notebook(docs_json, render_items);\n",
              "\n",
              "  }\n",
              "  if (root.Bokeh !== undefined) {\n",
              "    embed_document(root);\n",
              "  } else {\n",
              "    var attempts = 0;\n",
              "    var timer = setInterval(function(root) {\n",
              "      if (root.Bokeh !== undefined) {\n",
              "        embed_document(root);\n",
              "        clearInterval(timer);\n",
              "      }\n",
              "      attempts++;\n",
              "      if (attempts > 100) {\n",
              "        console.log(\"Bokeh: ERROR: Unable to run BokehJS code because BokehJS library is missing\");\n",
              "        clearInterval(timer);\n",
              "      }\n",
              "    }, 10, root)\n",
              "  }\n",
              "})(window);"
            ],
            "application/vnd.bokehjs_exec.v0+json": ""
          },
          "metadata": {
            "tags": [],
            "application/vnd.bokehjs_exec.v0+json": {
              "id": "1803"
            }
          }
        },
        {
          "output_type": "display_data",
          "data": {
            "text/html": [
              "\n",
              "    <div class=\"bk-root\">\n",
              "        <a href=\"https://bokeh.pydata.org\" target=\"_blank\" class=\"bk-logo bk-logo-small bk-logo-notebook\"></a>\n",
              "        <span id=\"1922\">Loading BokehJS ...</span>\n",
              "    </div>"
            ]
          },
          "metadata": {
            "tags": []
          }
        },
        {
          "output_type": "display_data",
          "data": {
            "application/javascript": [
              "\n",
              "(function(root) {\n",
              "  function now() {\n",
              "    return new Date();\n",
              "  }\n",
              "\n",
              "  var force = true;\n",
              "\n",
              "  if (typeof (root._bokeh_onload_callbacks) === \"undefined\" || force === true) {\n",
              "    root._bokeh_onload_callbacks = [];\n",
              "    root._bokeh_is_loading = undefined;\n",
              "  }\n",
              "\n",
              "  var JS_MIME_TYPE = 'application/javascript';\n",
              "  var HTML_MIME_TYPE = 'text/html';\n",
              "  var EXEC_MIME_TYPE = 'application/vnd.bokehjs_exec.v0+json';\n",
              "  var CLASS_NAME = 'output_bokeh rendered_html';\n",
              "\n",
              "  /**\n",
              "   * Render data to the DOM node\n",
              "   */\n",
              "  function render(props, node) {\n",
              "    var script = document.createElement(\"script\");\n",
              "    node.appendChild(script);\n",
              "  }\n",
              "\n",
              "  /**\n",
              "   * Handle when an output is cleared or removed\n",
              "   */\n",
              "  function handleClearOutput(event, handle) {\n",
              "    var cell = handle.cell;\n",
              "\n",
              "    var id = cell.output_area._bokeh_element_id;\n",
              "    var server_id = cell.output_area._bokeh_server_id;\n",
              "    // Clean up Bokeh references\n",
              "    if (id != null && id in Bokeh.index) {\n",
              "      Bokeh.index[id].model.document.clear();\n",
              "      delete Bokeh.index[id];\n",
              "    }\n",
              "\n",
              "    if (server_id !== undefined) {\n",
              "      // Clean up Bokeh references\n",
              "      var cmd = \"from bokeh.io.state import curstate; print(curstate().uuid_to_server['\" + server_id + \"'].get_sessions()[0].document.roots[0]._id)\";\n",
              "      cell.notebook.kernel.execute(cmd, {\n",
              "        iopub: {\n",
              "          output: function(msg) {\n",
              "            var id = msg.content.text.trim();\n",
              "            if (id in Bokeh.index) {\n",
              "              Bokeh.index[id].model.document.clear();\n",
              "              delete Bokeh.index[id];\n",
              "            }\n",
              "          }\n",
              "        }\n",
              "      });\n",
              "      // Destroy server and session\n",
              "      var cmd = \"import bokeh.io.notebook as ion; ion.destroy_server('\" + server_id + \"')\";\n",
              "      cell.notebook.kernel.execute(cmd);\n",
              "    }\n",
              "  }\n",
              "\n",
              "  /**\n",
              "   * Handle when a new output is added\n",
              "   */\n",
              "  function handleAddOutput(event, handle) {\n",
              "    var output_area = handle.output_area;\n",
              "    var output = handle.output;\n",
              "\n",
              "    // limit handleAddOutput to display_data with EXEC_MIME_TYPE content only\n",
              "    if ((output.output_type != \"display_data\") || (!output.data.hasOwnProperty(EXEC_MIME_TYPE))) {\n",
              "      return\n",
              "    }\n",
              "\n",
              "    var toinsert = output_area.element.find(\".\" + CLASS_NAME.split(' ')[0]);\n",
              "\n",
              "    if (output.metadata[EXEC_MIME_TYPE][\"id\"] !== undefined) {\n",
              "      toinsert[toinsert.length - 1].firstChild.textContent = output.data[JS_MIME_TYPE];\n",
              "      // store reference to embed id on output_area\n",
              "      output_area._bokeh_element_id = output.metadata[EXEC_MIME_TYPE][\"id\"];\n",
              "    }\n",
              "    if (output.metadata[EXEC_MIME_TYPE][\"server_id\"] !== undefined) {\n",
              "      var bk_div = document.createElement(\"div\");\n",
              "      bk_div.innerHTML = output.data[HTML_MIME_TYPE];\n",
              "      var script_attrs = bk_div.children[0].attributes;\n",
              "      for (var i = 0; i < script_attrs.length; i++) {\n",
              "        toinsert[toinsert.length - 1].firstChild.setAttribute(script_attrs[i].name, script_attrs[i].value);\n",
              "      }\n",
              "      // store reference to server id on output_area\n",
              "      output_area._bokeh_server_id = output.metadata[EXEC_MIME_TYPE][\"server_id\"];\n",
              "    }\n",
              "  }\n",
              "\n",
              "  function register_renderer(events, OutputArea) {\n",
              "\n",
              "    function append_mime(data, metadata, element) {\n",
              "      // create a DOM node to render to\n",
              "      var toinsert = this.create_output_subarea(\n",
              "        metadata,\n",
              "        CLASS_NAME,\n",
              "        EXEC_MIME_TYPE\n",
              "      );\n",
              "      this.keyboard_manager.register_events(toinsert);\n",
              "      // Render to node\n",
              "      var props = {data: data, metadata: metadata[EXEC_MIME_TYPE]};\n",
              "      render(props, toinsert[toinsert.length - 1]);\n",
              "      element.append(toinsert);\n",
              "      return toinsert\n",
              "    }\n",
              "\n",
              "    /* Handle when an output is cleared or removed */\n",
              "    events.on('clear_output.CodeCell', handleClearOutput);\n",
              "    events.on('delete.Cell', handleClearOutput);\n",
              "\n",
              "    /* Handle when a new output is added */\n",
              "    events.on('output_added.OutputArea', handleAddOutput);\n",
              "\n",
              "    /**\n",
              "     * Register the mime type and append_mime function with output_area\n",
              "     */\n",
              "    OutputArea.prototype.register_mime_type(EXEC_MIME_TYPE, append_mime, {\n",
              "      /* Is output safe? */\n",
              "      safe: true,\n",
              "      /* Index of renderer in `output_area.display_order` */\n",
              "      index: 0\n",
              "    });\n",
              "  }\n",
              "\n",
              "  // register the mime type if in Jupyter Notebook environment and previously unregistered\n",
              "  if (root.Jupyter !== undefined) {\n",
              "    var events = require('base/js/events');\n",
              "    var OutputArea = require('notebook/js/outputarea').OutputArea;\n",
              "\n",
              "    if (OutputArea.prototype.mime_types().indexOf(EXEC_MIME_TYPE) == -1) {\n",
              "      register_renderer(events, OutputArea);\n",
              "    }\n",
              "  }\n",
              "\n",
              "  \n",
              "  if (typeof (root._bokeh_timeout) === \"undefined\" || force === true) {\n",
              "    root._bokeh_timeout = Date.now() + 5000;\n",
              "    root._bokeh_failed_load = false;\n",
              "  }\n",
              "\n",
              "  var NB_LOAD_WARNING = {'data': {'text/html':\n",
              "     \"<div style='background-color: #fdd'>\\n\"+\n",
              "     \"<p>\\n\"+\n",
              "     \"BokehJS does not appear to have successfully loaded. If loading BokehJS from CDN, this \\n\"+\n",
              "     \"may be due to a slow or bad network connection. Possible fixes:\\n\"+\n",
              "     \"</p>\\n\"+\n",
              "     \"<ul>\\n\"+\n",
              "     \"<li>re-rerun `output_notebook()` to attempt to load from CDN again, or</li>\\n\"+\n",
              "     \"<li>use INLINE resources instead, as so:</li>\\n\"+\n",
              "     \"</ul>\\n\"+\n",
              "     \"<code>\\n\"+\n",
              "     \"from bokeh.resources import INLINE\\n\"+\n",
              "     \"output_notebook(resources=INLINE)\\n\"+\n",
              "     \"</code>\\n\"+\n",
              "     \"</div>\"}};\n",
              "\n",
              "  function display_loaded() {\n",
              "    var el = document.getElementById(\"1922\");\n",
              "    if (el != null) {\n",
              "      el.textContent = \"BokehJS is loading...\";\n",
              "    }\n",
              "    if (root.Bokeh !== undefined) {\n",
              "      if (el != null) {\n",
              "        el.textContent = \"BokehJS \" + root.Bokeh.version + \" successfully loaded.\";\n",
              "      }\n",
              "    } else if (Date.now() < root._bokeh_timeout) {\n",
              "      setTimeout(display_loaded, 100)\n",
              "    }\n",
              "  }\n",
              "\n",
              "\n",
              "  function run_callbacks() {\n",
              "    try {\n",
              "      root._bokeh_onload_callbacks.forEach(function(callback) { callback() });\n",
              "    }\n",
              "    finally {\n",
              "      delete root._bokeh_onload_callbacks\n",
              "    }\n",
              "    console.info(\"Bokeh: all callbacks have finished\");\n",
              "  }\n",
              "\n",
              "  function load_libs(js_urls, callback) {\n",
              "    root._bokeh_onload_callbacks.push(callback);\n",
              "    if (root._bokeh_is_loading > 0) {\n",
              "      console.log(\"Bokeh: BokehJS is being loaded, scheduling callback at\", now());\n",
              "      return null;\n",
              "    }\n",
              "    if (js_urls == null || js_urls.length === 0) {\n",
              "      run_callbacks();\n",
              "      return null;\n",
              "    }\n",
              "    console.log(\"Bokeh: BokehJS not loaded, scheduling load and callback at\", now());\n",
              "    root._bokeh_is_loading = js_urls.length;\n",
              "    for (var i = 0; i < js_urls.length; i++) {\n",
              "      var url = js_urls[i];\n",
              "      var s = document.createElement('script');\n",
              "      s.src = url;\n",
              "      s.async = false;\n",
              "      s.onreadystatechange = s.onload = function() {\n",
              "        root._bokeh_is_loading--;\n",
              "        if (root._bokeh_is_loading === 0) {\n",
              "          console.log(\"Bokeh: all BokehJS libraries loaded\");\n",
              "          run_callbacks()\n",
              "        }\n",
              "      };\n",
              "      s.onerror = function() {\n",
              "        console.warn(\"failed to load library \" + url);\n",
              "      };\n",
              "      console.log(\"Bokeh: injecting script tag for BokehJS library: \", url);\n",
              "      document.getElementsByTagName(\"head\")[0].appendChild(s);\n",
              "    }\n",
              "  };var element = document.getElementById(\"1922\");\n",
              "  if (element == null) {\n",
              "    console.log(\"Bokeh: ERROR: autoload.js configured with elementid '1922' but no matching script tag was found. \")\n",
              "    return false;\n",
              "  }\n",
              "\n",
              "  var js_urls = [\"https://cdn.pydata.org/bokeh/release/bokeh-1.0.3.min.js\", \"https://cdn.pydata.org/bokeh/release/bokeh-widgets-1.0.3.min.js\", \"https://cdn.pydata.org/bokeh/release/bokeh-tables-1.0.3.min.js\", \"https://cdn.pydata.org/bokeh/release/bokeh-gl-1.0.3.min.js\"];\n",
              "\n",
              "  var inline_js = [\n",
              "    function(Bokeh) {\n",
              "      Bokeh.set_log_level(\"info\");\n",
              "    },\n",
              "    \n",
              "    function(Bokeh) {\n",
              "      \n",
              "    },\n",
              "    function(Bokeh) {\n",
              "      console.log(\"Bokeh: injecting CSS: https://cdn.pydata.org/bokeh/release/bokeh-1.0.3.min.css\");\n",
              "      Bokeh.embed.inject_css(\"https://cdn.pydata.org/bokeh/release/bokeh-1.0.3.min.css\");\n",
              "      console.log(\"Bokeh: injecting CSS: https://cdn.pydata.org/bokeh/release/bokeh-widgets-1.0.3.min.css\");\n",
              "      Bokeh.embed.inject_css(\"https://cdn.pydata.org/bokeh/release/bokeh-widgets-1.0.3.min.css\");\n",
              "      console.log(\"Bokeh: injecting CSS: https://cdn.pydata.org/bokeh/release/bokeh-tables-1.0.3.min.css\");\n",
              "      Bokeh.embed.inject_css(\"https://cdn.pydata.org/bokeh/release/bokeh-tables-1.0.3.min.css\");\n",
              "    }\n",
              "  ];\n",
              "\n",
              "  function run_inline_js() {\n",
              "    \n",
              "    if ((root.Bokeh !== undefined) || (force === true)) {\n",
              "      for (var i = 0; i < inline_js.length; i++) {\n",
              "        inline_js[i].call(root, root.Bokeh);\n",
              "      }if (force === true) {\n",
              "        display_loaded();\n",
              "      }} else if (Date.now() < root._bokeh_timeout) {\n",
              "      setTimeout(run_inline_js, 100);\n",
              "    } else if (!root._bokeh_failed_load) {\n",
              "      console.log(\"Bokeh: BokehJS failed to load within specified timeout.\");\n",
              "      root._bokeh_failed_load = true;\n",
              "    } else if (force !== true) {\n",
              "      var cell = $(document.getElementById(\"1922\")).parents('.cell').data().cell;\n",
              "      cell.output_area.append_execute_result(NB_LOAD_WARNING)\n",
              "    }\n",
              "\n",
              "  }\n",
              "\n",
              "  if (root._bokeh_is_loading === 0) {\n",
              "    console.log(\"Bokeh: BokehJS loaded, going straight to plotting\");\n",
              "    run_inline_js();\n",
              "  } else {\n",
              "    load_libs(js_urls, function() {\n",
              "      console.log(\"Bokeh: BokehJS plotting callback run at\", now());\n",
              "      run_inline_js();\n",
              "    });\n",
              "  }\n",
              "}(window));"
            ],
            "application/vnd.bokehjs_load.v0+json": "\n(function(root) {\n  function now() {\n    return new Date();\n  }\n\n  var force = true;\n\n  if (typeof (root._bokeh_onload_callbacks) === \"undefined\" || force === true) {\n    root._bokeh_onload_callbacks = [];\n    root._bokeh_is_loading = undefined;\n  }\n\n  \n\n  \n  if (typeof (root._bokeh_timeout) === \"undefined\" || force === true) {\n    root._bokeh_timeout = Date.now() + 5000;\n    root._bokeh_failed_load = false;\n  }\n\n  var NB_LOAD_WARNING = {'data': {'text/html':\n     \"<div style='background-color: #fdd'>\\n\"+\n     \"<p>\\n\"+\n     \"BokehJS does not appear to have successfully loaded. If loading BokehJS from CDN, this \\n\"+\n     \"may be due to a slow or bad network connection. Possible fixes:\\n\"+\n     \"</p>\\n\"+\n     \"<ul>\\n\"+\n     \"<li>re-rerun `output_notebook()` to attempt to load from CDN again, or</li>\\n\"+\n     \"<li>use INLINE resources instead, as so:</li>\\n\"+\n     \"</ul>\\n\"+\n     \"<code>\\n\"+\n     \"from bokeh.resources import INLINE\\n\"+\n     \"output_notebook(resources=INLINE)\\n\"+\n     \"</code>\\n\"+\n     \"</div>\"}};\n\n  function display_loaded() {\n    var el = document.getElementById(\"1922\");\n    if (el != null) {\n      el.textContent = \"BokehJS is loading...\";\n    }\n    if (root.Bokeh !== undefined) {\n      if (el != null) {\n        el.textContent = \"BokehJS \" + root.Bokeh.version + \" successfully loaded.\";\n      }\n    } else if (Date.now() < root._bokeh_timeout) {\n      setTimeout(display_loaded, 100)\n    }\n  }\n\n\n  function run_callbacks() {\n    try {\n      root._bokeh_onload_callbacks.forEach(function(callback) { callback() });\n    }\n    finally {\n      delete root._bokeh_onload_callbacks\n    }\n    console.info(\"Bokeh: all callbacks have finished\");\n  }\n\n  function load_libs(js_urls, callback) {\n    root._bokeh_onload_callbacks.push(callback);\n    if (root._bokeh_is_loading > 0) {\n      console.log(\"Bokeh: BokehJS is being loaded, scheduling callback at\", now());\n      return null;\n    }\n    if (js_urls == null || js_urls.length === 0) {\n      run_callbacks();\n      return null;\n    }\n    console.log(\"Bokeh: BokehJS not loaded, scheduling load and callback at\", now());\n    root._bokeh_is_loading = js_urls.length;\n    for (var i = 0; i < js_urls.length; i++) {\n      var url = js_urls[i];\n      var s = document.createElement('script');\n      s.src = url;\n      s.async = false;\n      s.onreadystatechange = s.onload = function() {\n        root._bokeh_is_loading--;\n        if (root._bokeh_is_loading === 0) {\n          console.log(\"Bokeh: all BokehJS libraries loaded\");\n          run_callbacks()\n        }\n      };\n      s.onerror = function() {\n        console.warn(\"failed to load library \" + url);\n      };\n      console.log(\"Bokeh: injecting script tag for BokehJS library: \", url);\n      document.getElementsByTagName(\"head\")[0].appendChild(s);\n    }\n  };var element = document.getElementById(\"1922\");\n  if (element == null) {\n    console.log(\"Bokeh: ERROR: autoload.js configured with elementid '1922' but no matching script tag was found. \")\n    return false;\n  }\n\n  var js_urls = [\"https://cdn.pydata.org/bokeh/release/bokeh-1.0.3.min.js\", \"https://cdn.pydata.org/bokeh/release/bokeh-widgets-1.0.3.min.js\", \"https://cdn.pydata.org/bokeh/release/bokeh-tables-1.0.3.min.js\", \"https://cdn.pydata.org/bokeh/release/bokeh-gl-1.0.3.min.js\"];\n\n  var inline_js = [\n    function(Bokeh) {\n      Bokeh.set_log_level(\"info\");\n    },\n    \n    function(Bokeh) {\n      \n    },\n    function(Bokeh) {\n      console.log(\"Bokeh: injecting CSS: https://cdn.pydata.org/bokeh/release/bokeh-1.0.3.min.css\");\n      Bokeh.embed.inject_css(\"https://cdn.pydata.org/bokeh/release/bokeh-1.0.3.min.css\");\n      console.log(\"Bokeh: injecting CSS: https://cdn.pydata.org/bokeh/release/bokeh-widgets-1.0.3.min.css\");\n      Bokeh.embed.inject_css(\"https://cdn.pydata.org/bokeh/release/bokeh-widgets-1.0.3.min.css\");\n      console.log(\"Bokeh: injecting CSS: https://cdn.pydata.org/bokeh/release/bokeh-tables-1.0.3.min.css\");\n      Bokeh.embed.inject_css(\"https://cdn.pydata.org/bokeh/release/bokeh-tables-1.0.3.min.css\");\n    }\n  ];\n\n  function run_inline_js() {\n    \n    if ((root.Bokeh !== undefined) || (force === true)) {\n      for (var i = 0; i < inline_js.length; i++) {\n        inline_js[i].call(root, root.Bokeh);\n      }if (force === true) {\n        display_loaded();\n      }} else if (Date.now() < root._bokeh_timeout) {\n      setTimeout(run_inline_js, 100);\n    } else if (!root._bokeh_failed_load) {\n      console.log(\"Bokeh: BokehJS failed to load within specified timeout.\");\n      root._bokeh_failed_load = true;\n    } else if (force !== true) {\n      var cell = $(document.getElementById(\"1922\")).parents('.cell').data().cell;\n      cell.output_area.append_execute_result(NB_LOAD_WARNING)\n    }\n\n  }\n\n  if (root._bokeh_is_loading === 0) {\n    console.log(\"Bokeh: BokehJS loaded, going straight to plotting\");\n    run_inline_js();\n  } else {\n    load_libs(js_urls, function() {\n      console.log(\"Bokeh: BokehJS plotting callback run at\", now());\n      run_inline_js();\n    });\n  }\n}(window));"
          },
          "metadata": {
            "tags": []
          }
        }
      ]
    },
    {
      "metadata": {
        "id": "BGdvUFVCXsNw",
        "colab_type": "text"
      },
      "cell_type": "markdown",
      "source": [
        "## Grand Finale (4+ points)\n",
        "\n",
        "We want you to find the best model for the task. Use everything you know.\n",
        "\n",
        "* different recurrent units: rnn/gru/lstm; deeper architectures\n",
        "* bidirectional encoder, different attention methods for decoder\n",
        "* word dropout, training schedules, anything you can imagine\n",
        "\n",
        "As usual, we want you to describe what you tried and what results you obtained."
      ]
    },
    {
      "metadata": {
        "collapsed": true,
        "id": "EQ6PJTgQXsNx",
        "colab_type": "text"
      },
      "cell_type": "markdown",
      "source": [
        "`[your report/log here or anywhere you please]`"
      ]
    },
    {
      "metadata": {
        "id": "2ERGssItXsNx",
        "colab_type": "code",
        "colab": {}
      },
      "cell_type": "code",
      "source": [
        ""
      ],
      "execution_count": 0,
      "outputs": []
    }
  ]
}