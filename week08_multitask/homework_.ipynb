{
  "nbformat": 4,
  "nbformat_minor": 0,
  "metadata": {
    "colab": {
      "name": "“homework.ipynb”的副本",
      "version": "0.3.2",
      "provenance": [],
      "collapsed_sections": []
    },
    "kernelspec": {
      "name": "python3",
      "display_name": "Python 3"
    },
    "accelerator": "GPU"
  },
  "cells": [
    {
      "metadata": {
        "id": "Ib-edks4tOuh",
        "colab_type": "text"
      },
      "cell_type": "markdown",
      "source": [
        "# Homework: Multi-task Learning & Domain Adaptation\n",
        "##  Named Entity Recognition\n",
        "\n",
        "Today we're gonna solve the problem of named entity recognition. Here's what it does in one picture:\n",
        "![img](https://commons.bmstu.wiki/images/0/00/NER1.png)\n",
        "[image source](https://bit.ly/2Pmg7L2)\n",
        "\n",
        "\n",
        "For each word, in a sentence, your model should predict a named entity class:\n"
      ]
    },
    {
      "metadata": {
        "id": "PdIFPkgctOuk",
        "colab_type": "code",
        "colab": {}
      },
      "cell_type": "code",
      "source": [
        "import numpy as np\n",
        "import tensorflow as tf\n",
        "tf.reset_default_graph()\n",
        "sess = tf.InteractiveSession()"
      ],
      "execution_count": 0,
      "outputs": []
    },
    {
      "metadata": {
        "id": "D1hRuyDQtOun",
        "colab_type": "text"
      },
      "cell_type": "markdown",
      "source": [
        "## Data\n",
        "\n",
        "### Train set\n",
        "\n",
        "Our model will train on a [Groningen Meaning Bank corpus](https://www.kaggle.com/abhinavwalia95/entity-annotated-corpus).\n",
        "\n",
        "Each word of every sentence is labelled with named entity class and a part-of-speech tag.\n",
        "\n",
        "### Source domain testset\n",
        "\n",
        "Our train set consists from texts from different news sources. Therefore as source-domain testset we will use data from [CoNLL-2003 Shared Task](https://github.com/Franck-Dernoncourt/NeuroNER/blob/master/data/conll2003/en). More information about the task can be found [here](https://www.clips.uantwerpen.be/conll2003/ner/).\n",
        "\n",
        "### Target domain (in-domain) data\n",
        "\n",
        "As target-domain data we will use data from [WNUT17 Emerging and Rare entity recognition task](http://noisy-text.github.io/2017/emerging-rare-entities.html). This shared task focuses on identifying unusual, previously-unseen entities in the context of emerging discussions. The data were mined from mined from Twitter, Reddit,\n",
        "YouTube and StackExchange. Results of different competitors of the task were published [here](https://noisy-text.github.io/2017/pdf/WNUT18.pdf).\n",
        "\n",
        "### Named entity classes\n",
        "\n",
        "* PER - _person_: names of people (e.g. Alexander S. Pushkin)\n",
        "* ORG - _organization_: names of corporations (e.g. Yandex), names of non-profit organizations (e.g. UNICEF)\n",
        "Google).\n",
        "* LOC - _location_ : e.g. Russia\n",
        "* MISC - _miscellaneous_ : other named entities including names of products (e.g. iPhone) and creative works (e.g. Bohemian Rhapsody)\n",
        "\n",
        "### Evaluation metrics\n",
        "\n",
        "As evaluation metrics we will F1 measure on exact matched NEs. It means that partially overlapped enitities of same class are considered as mismatch.\n",
        "For example, LOC entities below is partially overlapped. And it is a mismatch:\n",
        "\n",
        "__O, B-LOC, I-LOC, O__\n",
        "\n",
        "__O, B-LOC, I-LOC, I-LOC__\n",
        "\n",
        "Details can be found in the code of _conlleval.py_\n",
        "\n",
        "### Data format\n",
        "\n",
        "The format of all dataset follows popular [IOB format](https://en.wikipedia.org/wiki/Inside–outside–beginning_(tagging)). The B- prefix before a tag indicates that the tag is the beginning of a chunk, and an I- prefix before a tag indicates that the tag is inside a chunk. The B- tag is used only when a tag is followed by a tag of the same type without O tokens between them. An O tag indicates that a token belongs to no chunk.\n",
        "\n",
        "The named entity labels include:\n",
        "* __B-LOC__ - location - first token\n",
        "* __I-LOC__ - location - subsequent tokens\n",
        "* __B-ORG__ - organization - first token\n",
        "* __O__ - not a named entity\n",
        "\n",
        "Take a look for yourself:"
      ]
    },
    {
      "metadata": {
        "id": "Z8aWNO0stOuo",
        "colab_type": "code",
        "outputId": "2f6f42b7-e441-4421-d28e-23b18a5a37c4",
        "colab": {
          "base_uri": "https://localhost:8080/",
          "height": 1397
        }
      },
      "cell_type": "code",
      "source": [
        "# Train:\n",
        "!wget https://www.dropbox.com/s/xobyz6jgovvz3dm/kaggle-train.conll?dl=1 -O kaggle-train.conll\n",
        "\n",
        "# Source domain testset:\n",
        "!wget https://www.dropbox.com/s/1l8b9iy78cglrw3/source-domain-test.conll?dl=1 -O source-domain-test.conll\n",
        "\n",
        "# Target domain testset:\n",
        "!wget https://www.dropbox.com/s/oxfkdy23ux5hfz5/target-domain-test.conll?dl=1 -O target-domain-test.conll\n",
        "    \n",
        "# Target domain monolingual data:\n",
        "!wget https://www.dropbox.com/s/ysdrotjdfljydbr/target-domain-monolingual.conll?dl=1 -O target-domain-monolingual.conll\n"
      ],
      "execution_count": 2,
      "outputs": [
        {
          "output_type": "stream",
          "text": [
            "--2019-01-21 01:00:29--  https://www.dropbox.com/s/xobyz6jgovvz3dm/kaggle-train.conll?dl=1\n",
            "Resolving www.dropbox.com (www.dropbox.com)... 162.125.1.1, 2620:100:6016:1::a27d:101\n",
            "Connecting to www.dropbox.com (www.dropbox.com)|162.125.1.1|:443... connected.\n",
            "HTTP request sent, awaiting response... 301 Moved Permanently\n",
            "Location: /s/dl/xobyz6jgovvz3dm/kaggle-train.conll [following]\n",
            "--2019-01-21 01:00:34--  https://www.dropbox.com/s/dl/xobyz6jgovvz3dm/kaggle-train.conll\n",
            "Reusing existing connection to www.dropbox.com:443.\n",
            "HTTP request sent, awaiting response... 302 Found\n",
            "Location: https://ucd6d80099673a83f34b6a082588.dl.dropboxusercontent.com/cd/0/get/AZzNZlPqE8Rv5gfYf44ns0ELaApXIrQLdX0syZ6s3UfUj8ppuw4mJJNWrBaxyrvVgYT8SFNezVjyUa29mAZbwgGLOMpyPtbKuCBCdNMQkk6p1RHcB1H9Cb91HGeEzoxtQfnSZOHIN1mL-PtykDeRpEllYCuEexkqJhu1-mr7rct7QijaFEhw8wnH9jL5zDDAdBU/file?dl=1# [following]\n",
            "--2019-01-21 01:00:34--  https://ucd6d80099673a83f34b6a082588.dl.dropboxusercontent.com/cd/0/get/AZzNZlPqE8Rv5gfYf44ns0ELaApXIrQLdX0syZ6s3UfUj8ppuw4mJJNWrBaxyrvVgYT8SFNezVjyUa29mAZbwgGLOMpyPtbKuCBCdNMQkk6p1RHcB1H9Cb91HGeEzoxtQfnSZOHIN1mL-PtykDeRpEllYCuEexkqJhu1-mr7rct7QijaFEhw8wnH9jL5zDDAdBU/file?dl=1\n",
            "Resolving ucd6d80099673a83f34b6a082588.dl.dropboxusercontent.com (ucd6d80099673a83f34b6a082588.dl.dropboxusercontent.com)... 162.125.8.6, 2620:100:6016:6::a27d:106\n",
            "Connecting to ucd6d80099673a83f34b6a082588.dl.dropboxusercontent.com (ucd6d80099673a83f34b6a082588.dl.dropboxusercontent.com)|162.125.8.6|:443... connected.\n",
            "HTTP request sent, awaiting response... 200 OK\n",
            "Length: 12200095 (12M) [application/binary]\n",
            "Saving to: ‘kaggle-train.conll’\n",
            "\n",
            "kaggle-train.conll  100%[===================>]  11.63M  26.0MB/s    in 0.4s    \n",
            "\n",
            "2019-01-21 01:00:35 (26.0 MB/s) - ‘kaggle-train.conll’ saved [12200095/12200095]\n",
            "\n",
            "--2019-01-21 01:00:36--  https://www.dropbox.com/s/1l8b9iy78cglrw3/source-domain-test.conll?dl=1\n",
            "Resolving www.dropbox.com (www.dropbox.com)... 162.125.1.1, 2620:100:6016:1::a27d:101\n",
            "Connecting to www.dropbox.com (www.dropbox.com)|162.125.1.1|:443... connected.\n",
            "HTTP request sent, awaiting response... 301 Moved Permanently\n",
            "Location: /s/dl/1l8b9iy78cglrw3/source-domain-test.conll [following]\n",
            "--2019-01-21 01:00:36--  https://www.dropbox.com/s/dl/1l8b9iy78cglrw3/source-domain-test.conll\n",
            "Reusing existing connection to www.dropbox.com:443.\n",
            "HTTP request sent, awaiting response... 302 Found\n",
            "Location: https://uc6eafe409070185b23d1e238234.dl.dropboxusercontent.com/cd/0/get/AZxBSzkto9j7yqC_CN6wtimIfYZL44-kUe4R80eBspxvguz_QDddJHK6tpHuVH-znQEzmruvXHTqb4kBjJaEm6VmtqKbR5YfmeXrQE30IRpF7_Ee1krRd1TzDddG5MAHsiW0yfmJ2cngbjyMeOcP1u9oC-cEPkvhy9FfIQGJMgbORjk7b2KXm5gax21-G_09J5Q/file?dl=1# [following]\n",
            "--2019-01-21 01:00:36--  https://uc6eafe409070185b23d1e238234.dl.dropboxusercontent.com/cd/0/get/AZxBSzkto9j7yqC_CN6wtimIfYZL44-kUe4R80eBspxvguz_QDddJHK6tpHuVH-znQEzmruvXHTqb4kBjJaEm6VmtqKbR5YfmeXrQE30IRpF7_Ee1krRd1TzDddG5MAHsiW0yfmJ2cngbjyMeOcP1u9oC-cEPkvhy9FfIQGJMgbORjk7b2KXm5gax21-G_09J5Q/file?dl=1\n",
            "Resolving uc6eafe409070185b23d1e238234.dl.dropboxusercontent.com (uc6eafe409070185b23d1e238234.dl.dropboxusercontent.com)... 162.125.7.6, 2620:100:601a:6::a27d:706\n",
            "Connecting to uc6eafe409070185b23d1e238234.dl.dropboxusercontent.com (uc6eafe409070185b23d1e238234.dl.dropboxusercontent.com)|162.125.7.6|:443... connected.\n",
            "HTTP request sent, awaiting response... 200 OK\n",
            "Length: 526358 (514K) [application/binary]\n",
            "Saving to: ‘source-domain-test.conll’\n",
            "\n",
            "source-domain-test. 100%[===================>] 514.02K  --.-KB/s    in 0.09s   \n",
            "\n",
            "2019-01-21 01:00:37 (5.64 MB/s) - ‘source-domain-test.conll’ saved [526358/526358]\n",
            "\n",
            "--2019-01-21 01:00:38--  https://www.dropbox.com/s/oxfkdy23ux5hfz5/target-domain-test.conll?dl=1\n",
            "Resolving www.dropbox.com (www.dropbox.com)... 162.125.1.1, 2620:100:6016:1::a27d:101\n",
            "Connecting to www.dropbox.com (www.dropbox.com)|162.125.1.1|:443... connected.\n",
            "HTTP request sent, awaiting response... 301 Moved Permanently\n",
            "Location: /s/dl/oxfkdy23ux5hfz5/target-domain-test.conll [following]\n",
            "--2019-01-21 01:00:38--  https://www.dropbox.com/s/dl/oxfkdy23ux5hfz5/target-domain-test.conll\n",
            "Reusing existing connection to www.dropbox.com:443.\n",
            "HTTP request sent, awaiting response... 302 Found\n",
            "Location: https://uce7ebad833e999b5f3cb85c665c.dl.dropboxusercontent.com/cd/0/get/AZwkmye9kQro0Hm6kf8MWBUGd8DDlB67jmeLhFhS4SnqF4740hGtUdOwki0j4MZWbK2OLXhX_vzlOOENaSYaKtVz8UQpAm5m-qZj61FjPcIhlE-_j4SFEwRyQqAUEAhGtaQKqyLNCK-4lSSraKIPE6pcb58bXP2iGBCCSLXSWcC-BSea1Yq1PgRH-2-tr6hKTXU/file?dl=1# [following]\n",
            "--2019-01-21 01:00:38--  https://uce7ebad833e999b5f3cb85c665c.dl.dropboxusercontent.com/cd/0/get/AZwkmye9kQro0Hm6kf8MWBUGd8DDlB67jmeLhFhS4SnqF4740hGtUdOwki0j4MZWbK2OLXhX_vzlOOENaSYaKtVz8UQpAm5m-qZj61FjPcIhlE-_j4SFEwRyQqAUEAhGtaQKqyLNCK-4lSSraKIPE6pcb58bXP2iGBCCSLXSWcC-BSea1Yq1PgRH-2-tr6hKTXU/file?dl=1\n",
            "Resolving uce7ebad833e999b5f3cb85c665c.dl.dropboxusercontent.com (uce7ebad833e999b5f3cb85c665c.dl.dropboxusercontent.com)... 162.125.8.6, 2620:100:6016:6::a27d:106\n",
            "Connecting to uce7ebad833e999b5f3cb85c665c.dl.dropboxusercontent.com (uce7ebad833e999b5f3cb85c665c.dl.dropboxusercontent.com)|162.125.8.6|:443... connected.\n",
            "HTTP request sent, awaiting response... 200 OK\n",
            "Length: 183185 (179K) [application/binary]\n",
            "Saving to: ‘target-domain-test.conll’\n",
            "\n",
            "target-domain-test. 100%[===================>] 178.89K  1.05MB/s    in 0.2s    \n",
            "\n",
            "2019-01-21 01:00:39 (1.05 MB/s) - ‘target-domain-test.conll’ saved [183185/183185]\n",
            "\n",
            "--2019-01-21 01:00:40--  https://www.dropbox.com/s/ysdrotjdfljydbr/target-domain-monolingual.conll?dl=1\n",
            "Resolving www.dropbox.com (www.dropbox.com)... 162.125.1.1, 2620:100:6016:1::a27d:101\n",
            "Connecting to www.dropbox.com (www.dropbox.com)|162.125.1.1|:443... connected.\n",
            "HTTP request sent, awaiting response... 301 Moved Permanently\n",
            "Location: /s/dl/ysdrotjdfljydbr/target-domain-monolingual.conll [following]\n",
            "--2019-01-21 01:00:40--  https://www.dropbox.com/s/dl/ysdrotjdfljydbr/target-domain-monolingual.conll\n",
            "Reusing existing connection to www.dropbox.com:443.\n",
            "HTTP request sent, awaiting response... 302 Found\n",
            "Location: https://ucf58594be452e97d2b3a83bea03.dl.dropboxusercontent.com/cd/0/get/AZyFXriH7udIdYxCxUDhHGEj13hNBkXR0SGrTzckgbfvIXBzkYkTVAZBdTwNdpZGsavuBZqCvIntblPd1iIR3A3NmbgIbo5MjHgujbxF3pXfGHDVdC1wfGfbLIAa2BGAsLgzefWGsGSoivHrEsNc075mwHZExKrQxX2MUkAmHXW-IJQ_rTErRqNfkG2owe-Mga8/file?dl=1# [following]\n",
            "--2019-01-21 01:00:40--  https://ucf58594be452e97d2b3a83bea03.dl.dropboxusercontent.com/cd/0/get/AZyFXriH7udIdYxCxUDhHGEj13hNBkXR0SGrTzckgbfvIXBzkYkTVAZBdTwNdpZGsavuBZqCvIntblPd1iIR3A3NmbgIbo5MjHgujbxF3pXfGHDVdC1wfGfbLIAa2BGAsLgzefWGsGSoivHrEsNc075mwHZExKrQxX2MUkAmHXW-IJQ_rTErRqNfkG2owe-Mga8/file?dl=1\n",
            "Resolving ucf58594be452e97d2b3a83bea03.dl.dropboxusercontent.com (ucf58594be452e97d2b3a83bea03.dl.dropboxusercontent.com)... 162.125.7.6, 2620:100:6016:6::a27d:106\n",
            "Connecting to ucf58594be452e97d2b3a83bea03.dl.dropboxusercontent.com (ucf58594be452e97d2b3a83bea03.dl.dropboxusercontent.com)|162.125.7.6|:443... connected.\n",
            "HTTP request sent, awaiting response... 200 OK\n",
            "Length: 338533 (331K) [application/binary]\n",
            "Saving to: ‘target-domain-monolingual.conll’\n",
            "\n",
            "target-domain-monol 100%[===================>] 330.60K  --.-KB/s    in 0.08s   \n",
            "\n",
            "2019-01-21 01:00:41 (4.16 MB/s) - ‘target-domain-monolingual.conll’ saved [338533/338533]\n",
            "\n"
          ],
          "name": "stdout"
        }
      ]
    },
    {
      "metadata": {
        "id": "7K6ro76ntOuq",
        "colab_type": "code",
        "outputId": "0a8c63bd-0b3e-4e2f-d33b-c00e39fac73a",
        "colab": {
          "base_uri": "https://localhost:8080/",
          "height": 88
        }
      },
      "cell_type": "code",
      "source": [
        "from conlleval import evaluate\n",
        "from utils import read_conll\n",
        "data = read_conll('./kaggle-train.conll', lower_words=True)\n",
        "\n",
        "data[333]"
      ],
      "execution_count": 3,
      "outputs": [
        {
          "output_type": "execute_result",
          "data": {
            "text/plain": [
              "{'ne': 'O O O O O O B-ORG I-ORG O O O B-LOC O B-LOC O B-LOC I-LOC O B-LOC O B-LOC O B-LOC O B-LOC O B-LOC O B-LOC O B-LOC O B-LOC O B-LOC O B-LOC O B-LOC O B-LOC O B-LOC O B-LOC O',\n",
              " 'pos': 'DT CD NNS RB JJ IN NNP NNP NN NN VBP NNP , NNP , NNP NNP , NNP , NNP , NNP , NNP , NNP , NNP , NNP , NNP , NNP , NNP , NNP , NNP , NNP CC NNP .',\n",
              " 'word': 'the 17 countries now eligible for world bank debt relief are benin , bolivia , burkina faso , ethiopia , ghana , guyana , honduras , madagascar , mali , mozambique , nicaragua , niger , rwanda , senegal , tanzania , uganda and zambia .'}"
            ]
          },
          "metadata": {
            "tags": []
          },
          "execution_count": 3
        }
      ]
    },
    {
      "metadata": {
        "id": "BFiRuUe8tOut",
        "colab_type": "code",
        "colab": {}
      },
      "cell_type": "code",
      "source": [
        "test_outdomain_data = read_conll('./source-domain-test.conll', lower_words=True)\n",
        "test_indomain_data = read_conll('./target-domain-test.conll', column_names=['word', 'ne'], lower_words=True)\n",
        "monolingual_indomain_data = read_conll('./target-domain-monolingual.conll', column_names=['word'], lower_words=True)"
      ],
      "execution_count": 0,
      "outputs": []
    },
    {
      "metadata": {
        "id": "BbzZv_vbtOuv",
        "colab_type": "code",
        "outputId": "3d8c803a-7a0e-4ade-b68f-5c8cbe201e10",
        "colab": {
          "base_uri": "https://localhost:8080/",
          "height": 34
        }
      },
      "cell_type": "code",
      "source": [
        "from sklearn.model_selection import train_test_split\n",
        "train_data, dev_data = train_test_split(data, test_size=0.25, random_state=42)\n",
        "print(\"train: {}, dev: {}\".format(len(train_data), len(dev_data)))"
      ],
      "execution_count": 5,
      "outputs": [
        {
          "output_type": "stream",
          "text": [
            "train: 35967, dev: 11989\n"
          ],
          "name": "stdout"
        }
      ]
    },
    {
      "metadata": {
        "id": "zZr6oZCMtOux",
        "colab_type": "code",
        "colab": {}
      },
      "cell_type": "code",
      "source": [
        "from utils import Vocab\n",
        "vocabs = {\n",
        "    key: Vocab.from_lines([row[key] for row in train_data])\n",
        "    for key in ['word', 'pos', 'ne']\n",
        "}\n",
        "\n",
        "def prepare_batch(data):\n",
        "    keys = data[0].keys()\n",
        "    return {\n",
        "        key: vocabs[key].to_matrix(row[key] for row in data)\n",
        "        for key in keys\n",
        "    }"
      ],
      "execution_count": 0,
      "outputs": []
    },
    {
      "metadata": {
        "id": "isaFageztOuz",
        "colab_type": "code",
        "outputId": "076bbc39-58b9-4464-d076-98b1ae5624ac",
        "colab": {
          "base_uri": "https://localhost:8080/",
          "height": 153
        }
      },
      "cell_type": "code",
      "source": [
        "dummy_rows = sorted(data, key=lambda row: len(row['word']))[100:102]\n",
        "print(dummy_rows[0])\n",
        "print(dummy_rows[1])\n",
        "prepare_batch(dummy_rows)"
      ],
      "execution_count": 7,
      "outputs": [
        {
          "output_type": "stream",
          "text": [
            "{'word': 'well , it could happen !', 'pos': 'RB , PRP MD VB .', 'ne': 'O O O O O O'}\n",
            "{'word': 'sudan denies the claim .', 'pos': 'NNP VBZ DT NN .', 'ne': 'B-LOC O O O O'}\n"
          ],
          "name": "stdout"
        },
        {
          "output_type": "execute_result",
          "data": {
            "text/plain": [
              "{'ne': array([[10, 10, 10, 10, 10, 10],\n",
              "        [ 2, 10, 10, 10, 10,  0]], dtype=int32),\n",
              " 'pos': array([[26,  4, 24, 17, 33,  5],\n",
              "        [19, 38, 10, 18,  5,  0]], dtype=int32),\n",
              " 'word': array([[27512,   289, 13824,  7061, 12084,     2],\n",
              "        [24626,  7884, 25433,  6090,   292,     0]], dtype=int32)}"
            ]
          },
          "metadata": {
            "tags": []
          },
          "execution_count": 7
        }
      ]
    },
    {
      "metadata": {
        "id": "Do2gTQuKtOu1",
        "colab_type": "text"
      },
      "cell_type": "markdown",
      "source": [
        "## Baseline: single-task model (1.5 points)\n",
        "\n",
        "![img](https://github.com/yandexdataschool/nlp_course/raw/master/resources/gorynich_ne.png)\n",
        "\n",
        "Let's start with a straightforward model that does named entity recognition.\n",
        "\n",
        "\n",
        "The image will make sense later :)"
      ]
    },
    {
      "metadata": {
        "id": "ijuqBntAtOu2",
        "colab_type": "code",
        "colab": {}
      },
      "cell_type": "code",
      "source": [
        "import keras, keras.layers as L\n",
        "\n",
        "class SimpleModel:\n",
        "    def __init__(self, name, emb_size=128, hid_size=128):\n",
        "        \"\"\" \n",
        "        A model that predicts named entity class for each word\n",
        "        We recommend the following model:\n",
        "        * Embedding\n",
        "        * Bi-directional LSTM\n",
        "        * Linear layer to predict logits\n",
        "        \"\"\"\n",
        "        \n",
        "        # define layers\n",
        "        self.emb = L.Embedding(len(vocabs['word']), emb_size)\n",
        "        \n",
        "        self.lstm=L.Bidirectional(L.LSTM(hid_size,return_sequences=True))\n",
        "        \n",
        "        self.linear=L.Dense(len(vocabs['ne']))\n",
        "    \n",
        "    def __call__(self, input_ix):\n",
        "        \"\"\"\n",
        "        Compute logits for named entity recognition\n",
        "        :param input_ix: a matrix of token indices, int32[batch_size, seq_length]\n",
        "        \"\"\"\n",
        "        emb=self.emb(input_ix)\n",
        "        lstm=self.lstm(emb)\n",
        "        ner_logits=self.linear(lstm)\n",
        "        return {'ne': ner_logits}\n"
      ],
      "execution_count": 0,
      "outputs": []
    },
    {
      "metadata": {
        "id": "P4jGRBq_tOu4",
        "colab_type": "code",
        "colab": {}
      },
      "cell_type": "code",
      "source": [
        "model = SimpleModel('mod1')\n",
        "\n",
        "\n",
        "\n",
        "dummy_ix = tf.constant(prepare_batch(train_data[:3])['word'])\n",
        "dummy_out = model(dummy_ix)\n",
        "\n",
        "sess.run(tf.global_variables_initializer())\n",
        "dummy_logits = sess.run(dummy_out['ne'])\n",
        "\n",
        "assert dummy_logits.shape == (3, dummy_ix.shape[1], len(vocabs['ne']))\n",
        "assert dummy_logits.min() < 0 and dummy_logits.max() > 0, \"you ~may~ have added nonlinearity after logits.\"\\\n",
        "                                                          \"Make sure they're just a linear layer\""
      ],
      "execution_count": 0,
      "outputs": []
    },
    {
      "metadata": {
        "id": "19ZMwk45tOu6",
        "colab_type": "code",
        "colab": {}
      },
      "cell_type": "code",
      "source": [
        "from utils import infer_mask\n",
        "\n",
        "class trainer:\n",
        "    \"\"\" A bunch of tensorflow operations used for model training \"\"\"\n",
        "    \n",
        "    ph = {\n",
        "        'word': tf.placeholder('int32', [None, None], name='input_tokens'),\n",
        "        'ne': tf.placeholder('int32', [None, None], name='named_entities'),\n",
        "    }\n",
        "\n",
        "    logits = model(ph['word'])\n",
        "    mask = infer_mask(ph['word'])\n",
        "    \n",
        "    loss = -tf.nn.log_softmax(logits['ne'], -1) * tf.one_hot(ph['ne'], len(vocabs['ne']))\n",
        "    loss = tf.reduce_sum(loss * mask[:, :, None]) / tf.reduce_sum(mask)\n",
        "\n",
        "    step = tf.train.AdamOptimizer().minimize(loss)"
      ],
      "execution_count": 0,
      "outputs": []
    },
    {
      "metadata": {
        "id": "bkZRWygctOu9",
        "colab_type": "text"
      },
      "cell_type": "markdown",
      "source": [
        "### Training loop\n",
        "\n",
        "Nothin' special: sample random batches and perform SGD steps"
      ]
    },
    {
      "metadata": {
        "id": "jhh3T_S2tOu-",
        "colab_type": "code",
        "colab": {}
      },
      "cell_type": "code",
      "source": [
        "def iterate_minibatches(data, batch_size=128, shuffle=True, cycle=False, max_batches=None):\n",
        "    indices = np.arange(len(data))\n",
        "    total_batches = 0\n",
        "    while True:\n",
        "        if shuffle: indices = np.random.permutation(indices)\n",
        "        for start_i in range(0, len(data), batch_size):\n",
        "            batch_ix = indices[start_i: start_i + batch_size]\n",
        "            yield prepare_batch(data[batch_ix])\n",
        "            total_batches += 1\n",
        "            if max_batches and total_batches >= max_batches:\n",
        "                return\n",
        "        if not cycle: break\n",
        "            \n",
        "\n",
        "def compute_error_rate(trainer, data, batch_size=128, key='ne'):\n",
        "    numerator = denominator = 0.0\n",
        "    for batch in iterate_minibatches(data, batch_size, shuffle=False, cycle=False):\n",
        "        batch_ne_logits, batch_mask = sess.run([trainer.logits[key], trainer.mask], \n",
        "                                               {trainer.ph['word']: batch['word']})\n",
        "        numerator += np.sum((batch[key] == batch_ne_logits.argmax(-1)) * batch_mask)\n",
        "        denominator += batch_mask.sum()\n",
        "    return (1.0 - numerator / denominator) * 100\n",
        "\n",
        "def decode_greedy(trainer, data, vocabs, batch_size=128, key='ne'):\n",
        "    result = []\n",
        "    for batch in iterate_minibatches(data, batch_size, shuffle=False, cycle=False):\n",
        "        batch_logits = sess.run(trainer.logits[key], \n",
        "                                {trainer.ph['word']: batch['word']})\n",
        "        result.extend(vocabs[key].to_lines(batch_logits.argmax(-1)))\n",
        "    return result\n",
        "\n",
        "def compute_stats(trainer, data, vocabs, batch_size=128, key='ne', verbose=False):\n",
        "    pred_seqs = decode_greedy(trainer, data, vocabs, batch_size, key)\n",
        "    true_seqs = [r[key] for r in data]\n",
        "    precision, recall, f1 = evaluate(true_seqs, pred_seqs, verbose)\n",
        "    return precision, recall, f1\n",
        "    "
      ],
      "execution_count": 0,
      "outputs": []
    },
    {
      "metadata": {
        "id": "i2UjrskitOu_",
        "colab_type": "code",
        "colab": {}
      },
      "cell_type": "code",
      "source": [
        "class StatsHistory:\n",
        "    def __init__(self):\n",
        "        self.precision = []\n",
        "        self.recall = []\n",
        "        self.f1 = []"
      ],
      "execution_count": 0,
      "outputs": []
    },
    {
      "metadata": {
        "id": "lUyabLKHtOvC",
        "colab_type": "code",
        "colab": {}
      },
      "cell_type": "code",
      "source": [
        "from tqdm import tqdm\n",
        "from IPython.display import clear_output\n",
        "import matplotlib.pyplot as plt\n",
        "%matplotlib inline\n",
        "eval_every = 100\n",
        "\n",
        "loss_history = []\n",
        "dev_stats_history = StatsHistory()\n",
        "indomain_stats_history = StatsHistory()\n",
        "outdomain_stats_history = StatsHistory()\n",
        "\n",
        "sess.run(tf.global_variables_initializer())"
      ],
      "execution_count": 0,
      "outputs": []
    },
    {
      "metadata": {
        "id": "ja9QWBlhtOvE",
        "colab_type": "code",
        "outputId": "be4ee43c-9eb7-4a1e-f6e3-b441497b3c89",
        "colab": {
          "base_uri": "https://localhost:8080/",
          "height": 34
        }
      },
      "cell_type": "code",
      "source": [
        "len(dev_data)"
      ],
      "execution_count": 12,
      "outputs": [
        {
          "output_type": "execute_result",
          "data": {
            "text/plain": [
              "11989"
            ]
          },
          "metadata": {
            "tags": []
          },
          "execution_count": 12
        }
      ]
    },
    {
      "metadata": {
        "scrolled": false,
        "id": "v202_idztOvG",
        "colab_type": "code",
        "outputId": "c5f2590a-e86e-46cf-820d-f2c7101878df",
        "colab": {
          "base_uri": "https://localhost:8080/",
          "height": 644
        }
      },
      "cell_type": "code",
      "source": [
        "for batch in tqdm(iterate_minibatches(train_data, cycle=True, max_batches=2500), total=2500):\n",
        "    loss_t, _ = sess.run([trainer.loss, trainer.step],\n",
        "                         {trainer.ph[key]: batch[key] for key in trainer.ph})\n",
        "    loss_history.append(loss_t)\n",
        "    \n",
        "    if len(loss_history) % eval_every == 0:\n",
        "        precision, recall, f1 = compute_stats(trainer, dev_data, vocabs, verbose=True)\n",
        "        dev_stats_history.precision.append(precision)\n",
        "        dev_stats_history.recall.append(recall)\n",
        "        dev_stats_history.f1.append(f1)\n",
        "        \n",
        "        clear_output(True)\n",
        "        \n",
        "        _, _, f1 = compute_stats(trainer, test_outdomain_data, vocabs, verbose=True)\n",
        "        outdomain_stats_history.f1.append(f1)\n",
        "        \n",
        "        _, _, f1 = compute_stats(trainer, test_indomain_data, vocabs, verbose=True)\n",
        "        indomain_stats_history.f1.append(f1)\n",
        "\n",
        "        plt.figure(figsize=[12, 6])\n",
        "        plt.subplot(1, 2, 1)\n",
        "        plt.plot(loss_history)\n",
        "        plt.title('train loss'), plt.grid()\n",
        "        plt.subplot(1, 2, 2)\n",
        "        \n",
        "        plt.plot(np.arange(1, len(dev_stats_history.f1) + 1) * eval_every, dev_stats_history.f1, label=\"dev f1\")\n",
        "        plt.plot(np.arange(1, len(outdomain_stats_history.f1) + 1) * eval_every, outdomain_stats_history.f1, label=\"outdomain f1\")\n",
        "        plt.plot(np.arange(1, len(indomain_stats_history.f1) + 1) * eval_every, indomain_stats_history.f1, label=\"indomain f1\")\n",
        "\n",
        "        plt.legend()\n",
        "        plt.title('dev stats %'), plt.grid()\n",
        "        plt.show()"
      ],
      "execution_count": 0,
      "outputs": [
        {
          "output_type": "stream",
          "text": [
            "processed 46394 tokens with 5644 phrases; found: 4429 phrases; correct: 1926.\n",
            "accuracy:  37.93%; (non-O)\n",
            "accuracy:  87.15%; precision:  43.49%; recall:  34.12%; FB1:  38.24\n",
            "              LOC: precision:  49.89%; recall:  68.51%; FB1:  57.74  2289\n",
            "             MISC: precision:   5.56%; recall:   0.86%; FB1:   1.48  108\n",
            "              ORG: precision:  28.21%; recall:  17.35%; FB1:  21.48  1021\n",
            "              PER: precision:  48.47%; recall:  30.32%; FB1:  37.30  1011\n",
            "processed 23394 tokens with 992 phrases; found: 770 phrases; correct: 124.\n",
            "accuracy:  12.95%; (non-O)\n",
            "accuracy:  91.70%; precision:  16.10%; recall:  12.50%; FB1:  14.07\n",
            "              LOC: precision:  26.88%; recall:  34.68%; FB1:  30.28  160\n",
            "             MISC: precision:   0.00%; recall:   0.00%; FB1:   0.00  65\n",
            "              ORG: precision:   5.62%; recall:   6.88%; FB1:   6.19  267\n",
            "              PER: precision:  23.74%; recall:  18.54%; FB1:  20.82  278\n"
          ],
          "name": "stdout"
        },
        {
          "output_type": "display_data",
          "data": {
            "image/png": "[encoded data removed]",
            "text/plain": [
              "<Figure size 864x432 with 2 Axes>"
            ]
          },
          "metadata": {
            "tags": []
          }
        },
        {
          "output_type": "stream",
          "text": [
            "\r100%|██████████| 2500/2500 [14:26<00:00,  2.44s/it]\n"
          ],
          "name": "stderr"
        }
      ]
    },
    {
      "metadata": {
        "id": "LGjCnIcbtOvI",
        "colab_type": "code",
        "outputId": "e046548e-fd8e-42d3-dee3-256b2ffd7362",
        "colab": {
          "base_uri": "https://localhost:8080/",
          "height": 68
        }
      },
      "cell_type": "code",
      "source": [
        "print(\"Best dev f1 = %.3f%%\" % max(dev_stats_history.f1),\n",
        "      \"\\nBest in-domain f1 = %.3f%%\" % max(indomain_stats_history.f1),\n",
        "      \"\\nBest out-of-domain f1 = %.3f%%\" % max(outdomain_stats_history.f1))\n",
        "assert max(dev_stats_history.f1) > 75, \"you can do better\""
      ],
      "execution_count": 0,
      "outputs": [
        {
          "output_type": "stream",
          "text": [
            "Best dev f1 = 78.201% \n",
            "Best in-domain f1 = 16.774% \n",
            "Best out-of-domain f1 = 39.697%\n"
          ],
          "name": "stdout"
        }
      ]
    },
    {
      "metadata": {
        "id": "-bJJgqi0tOvK",
        "colab_type": "text"
      },
      "cell_type": "markdown",
      "source": [
        "# Multitask model: NER + POS (1.5 points)\n",
        "\n",
        "Our data contains not only named entity labels, but also part-of-speech tags. Those problems are similar in nature, making it a good candidate for multi-tasking. With any luck, ouyr model will become better at named entity recognition by learning for POS-tagging.\n",
        "\n",
        "![model2](https://github.com/yandexdataschool/nlp_course/raw/master/resources/gorynich_2.png)"
      ]
    },
    {
      "metadata": {
        "id": "rDQBY1igtOvL",
        "colab_type": "code",
        "colab": {}
      },
      "cell_type": "code",
      "source": [
        "import keras, keras.layers as L\n",
        "\n",
        "class MultitaskModel:\n",
        "    def __init__(self, name, emb_size=128, hid_size=128):\n",
        "        \"\"\" \n",
        "        Equivalent to the SimpleModel above, but with two \n",
        "        linear \"heads\": one for \"ne\" logits and another for \"pos\".\n",
        "        Both heads should grow from the same intermediate \"body\" layer\n",
        "        \"\"\"\n",
        "        self.emb = L.Embedding(len(vocabs['word']), emb_size)\n",
        "        \n",
        "        self.lstm=L.Bidirectional(L.LSTM(hid_size,return_sequences=True))\n",
        "        \n",
        "        self.linear_ne=L.Dense(len(vocabs['ne']))\n",
        "        self.linear_pos=L.Dense(len(vocabs['pos']))\n",
        "        \n",
        "    \n",
        "    def __call__(self, input_ix):\n",
        "        \"\"\"\n",
        "        Compute logits for named entity recognition\n",
        "        \"\"\"\n",
        "        emb=self.emb(input_ix)\n",
        "        lstm=self.lstm(emb)\n",
        "        ner_logits=self.linear_ne(lstm)\n",
        "        pos_logits = self.linear_pos(lstm)\n",
        "        return {'ne': ner_logits, 'pos': pos_logits}"
      ],
      "execution_count": 0,
      "outputs": []
    },
    {
      "metadata": {
        "id": "m1bLtbsWtOvP",
        "colab_type": "code",
        "colab": {}
      },
      "cell_type": "code",
      "source": [
        "model = MultitaskModel('mod2')\n",
        "\n",
        "dummy_ix = tf.constant(prepare_batch(train_data[:3])['word'])\n",
        "dummy_out = model(dummy_ix)\n",
        "assert 'ne' in dummy_out and 'pos' in dummy_out\n",
        "\n",
        "sess.run(tf.global_variables_initializer())\n",
        "\n",
        "for key, logits in sess.run(dummy_out).items():\n",
        "    assert logits.shape == (3, dummy_ix.shape[1], len(vocabs[key]))"
      ],
      "execution_count": 0,
      "outputs": []
    },
    {
      "metadata": {
        "id": "rzF5PnfEtOvR",
        "colab_type": "code",
        "colab": {}
      },
      "cell_type": "code",
      "source": [
        "from utils import infer_mask\n",
        "\n",
        "class multitask_trainer:\n",
        "    \"\"\" A trainer that computes losses for both NER and POS tasks and adds them together. \"\"\"    \n",
        "    ph = {\n",
        "        'word': tf.placeholder('int32', [None, None], name='input_tokens'),\n",
        "        'ne': tf.placeholder('int32', [None, None], name='named_entities'),\n",
        "        'pos': tf.placeholder('int32', [None, None], name='part_of_speech_tags'),\n",
        "    }\n",
        "\n",
        "    logits = model(ph['word'])\n",
        "    mask = infer_mask(ph['word'])\n",
        "    \n",
        "    # Compute loss for NER. Feel free to reuse the code from original trainer\n",
        "    ner_loss = -tf.nn.log_softmax(logits['ne'], -1) * tf.one_hot(ph['ne'], len(vocabs['ne']))\n",
        "    ner_loss = tf.reduce_sum(ner_loss * mask[:, :, None]) / tf.reduce_sum(mask)\n",
        "\n",
        "    # Compute the same kind of loss for POS.  (key: 'pos')\n",
        "    pos_loss = -tf.nn.log_softmax(logits['pos'], -1) * tf.one_hot(ph['pos'], len(vocabs['pos']))\n",
        "    pos_loss = tf.reduce_sum(pos_loss * mask[:, :, None]) / tf.reduce_sum(mask)    \n",
        "    \n",
        "    # The total loss is just a sum of two losses.\n",
        "    # Note: you can use weighted combination of losses to squeeze a few more %%\n",
        "    loss = ner_loss + pos_loss\n",
        "    step = tf.train.AdamOptimizer().minimize(loss)"
      ],
      "execution_count": 0,
      "outputs": []
    },
    {
      "metadata": {
        "id": "f2ihYTrDtOvS",
        "colab_type": "code",
        "colab": {}
      },
      "cell_type": "code",
      "source": [
        "dummy_batch = prepare_batch(train_data[:3])\n",
        "ner_loss, pos_loss = sess.run([multitask_trainer.ner_loss, multitask_trainer.pos_loss], \n",
        "                              {multitask_trainer.ph[key]: dummy_batch[key] for key in multitask_trainer.ph})\n",
        "\n",
        "assert ner_loss > 0 and np.shape(ner_loss) == (), \"loss must be a positive scalar\"\n",
        "assert pos_loss > 0 and np.shape(pos_loss) == (), \"loss must be a positive scalar\""
      ],
      "execution_count": 0,
      "outputs": []
    },
    {
      "metadata": {
        "id": "0s3KhsQKtOvT",
        "colab_type": "code",
        "colab": {}
      },
      "cell_type": "code",
      "source": [
        "from tqdm import tqdm\n",
        "from IPython.display import clear_output\n",
        "import matplotlib.pyplot as plt\n",
        "%matplotlib inline\n",
        "\n",
        "loss_history = []\n",
        "dev_stats_history = StatsHistory()\n",
        "indomain_stats_history = StatsHistory()\n",
        "outdomain_stats_history = StatsHistory()\n",
        "\n",
        "sess.run(tf.global_variables_initializer())"
      ],
      "execution_count": 0,
      "outputs": []
    },
    {
      "metadata": {
        "id": "y36g7G05tOvV",
        "colab_type": "code",
        "outputId": "91536bc7-def9-4a4c-9dee-262b0903212a",
        "colab": {
          "base_uri": "https://localhost:8080/",
          "height": 644
        }
      },
      "cell_type": "code",
      "source": [
        "for batch in tqdm(iterate_minibatches(train_data, cycle=True, max_batches=2500), total=2500):\n",
        "    loss_t, _ = sess.run([multitask_trainer.loss, multitask_trainer.step], \n",
        "                         {multitask_trainer.ph[key]: batch[key] for key in multitask_trainer.ph})\n",
        "    loss_history.append(loss_t)\n",
        "    \n",
        "    if len(loss_history) % 100 == 0:\n",
        "        precision, recall, f1 = compute_stats(multitask_trainer, dev_data, vocabs, verbose=True)\n",
        "        dev_stats_history.precision.append(precision)\n",
        "        dev_stats_history.recall.append(recall)\n",
        "        dev_stats_history.f1.append(f1)\n",
        "        \n",
        "        clear_output(True)\n",
        "        \n",
        "        _, _, f1 = compute_stats(multitask_trainer, test_outdomain_data, vocabs, verbose=True)\n",
        "        outdomain_stats_history.f1.append(f1)\n",
        "        \n",
        "        _, _, f1 = compute_stats(multitask_trainer, test_indomain_data, vocabs, verbose=True)\n",
        "        indomain_stats_history.f1.append(f1)\n",
        "        \n",
        "        plt.figure(figsize=[12, 6])\n",
        "        plt.subplot(1, 2, 1)\n",
        "        plt.plot(loss_history)\n",
        "        plt.title('train loss'), plt.grid()\n",
        "        plt.subplot(1, 2, 2)\n",
        "        \n",
        "        plt.plot(np.arange(1, len(dev_stats_history.f1) + 1) * eval_every, dev_stats_history.f1, label=\"dev f1\")\n",
        "        plt.plot(np.arange(1, len(outdomain_stats_history.f1) + 1) * eval_every, outdomain_stats_history.f1, label=\"outdomain f1\")\n",
        "        plt.plot(np.arange(1, len(indomain_stats_history.f1) + 1) * eval_every, indomain_stats_history.f1, label=\"indomain f1\")\n",
        "        \n",
        "        plt.title('dev stats %'), plt.grid()\n",
        "        plt.show()"
      ],
      "execution_count": 0,
      "outputs": [
        {
          "output_type": "stream",
          "text": [
            "processed 46394 tokens with 5644 phrases; found: 5230 phrases; correct: 1923.\n",
            "accuracy:  39.89%; (non-O)\n",
            "accuracy:  86.11%; precision:  36.77%; recall:  34.07%; FB1:  35.37\n",
            "              LOC: precision:  52.97%; recall:  59.87%; FB1:  56.21  1884\n",
            "             MISC: precision:   1.72%; recall:   0.86%; FB1:   1.14  348\n",
            "              ORG: precision:  25.20%; recall:  27.95%; FB1:  26.51  1841\n",
            "              PER: precision:  39.33%; recall:  28.16%; FB1:  32.82  1157\n",
            "processed 23394 tokens with 992 phrases; found: 1278 phrases; correct: 126.\n",
            "accuracy:  13.01%; (non-O)\n",
            "accuracy:  88.96%; precision:   9.86%; recall:  12.70%; FB1:  11.10\n",
            "              LOC: precision:  25.86%; recall:  36.29%; FB1:  30.20  174\n",
            "             MISC: precision:   1.45%; recall:   0.68%; FB1:   0.93  138\n",
            "              ORG: precision:   3.05%; recall:   7.80%; FB1:   4.38  558\n",
            "              PER: precision:  15.20%; recall:  17.42%; FB1:  16.23  408\n"
          ],
          "name": "stdout"
        },
        {
          "output_type": "display_data",
          "data": {
            "image/png": "[encoded data removed]",
            "text/plain": [
              "<Figure size 864x432 with 2 Axes>"
            ]
          },
          "metadata": {
            "tags": []
          }
        },
        {
          "output_type": "stream",
          "text": [
            "\r100%|██████████| 2500/2500 [15:15<00:00,  2.56s/it]\n"
          ],
          "name": "stderr"
        }
      ]
    },
    {
      "metadata": {
        "id": "fLqNyH9JtOvW",
        "colab_type": "code",
        "outputId": "ba36e165-45d6-4308-e04a-f512a78e03b6",
        "colab": {
          "base_uri": "https://localhost:8080/",
          "height": 68
        }
      },
      "cell_type": "code",
      "source": [
        "print(\"Best dev f1 = %.3f%%\" % max(dev_stats_history.f1),\n",
        "      \"\\nBest indomain f1 = %.3f%%\" % max(indomain_stats_history.f1),\n",
        "      \"\\nBest outdomain f1 = %.3f%%\" % max(outdomain_stats_history.f1))\n",
        "assert max(dev_stats_history.f1) > 75, \"you can do better\""
      ],
      "execution_count": 0,
      "outputs": [
        {
          "output_type": "stream",
          "text": [
            "Best dev f1 = 78.391% \n",
            "Best indomain f1 = 14.793% \n",
            "Best outdomain f1 = 37.494%\n"
          ],
          "name": "stdout"
        }
      ]
    },
    {
      "metadata": {
        "id": "w_KoKrNNtOvX",
        "colab_type": "text"
      },
      "cell_type": "markdown",
      "source": [
        "# Multitask model: NER + POS + LM (2 points)\n",
        "\n",
        "Two heads are great, but three's even better! Let's add language modeling to the task.\n",
        "\n",
        "With language models, however, there are a few complications:\n",
        "* Our data is too small for LM training. Let's use [1 billion word benchmark](http://www.statmt.org/lm-benchmark/) instead. It *may* even be a good idea to preserve cases.\n",
        "* Language models have some issues with being bidirectional. We recommend training forward and backward models separately and fusing them together. Or use the same approach as [ELMO](https://tfhub.dev/google/elmo/2).\n",
        "* The simplest scheme is to pre-train as a language model and fine-tune for NER and POS. We recommend starting from that.\n",
        "\n",
        "__IMPORTANT!__ NER/POS dataset comes pre-tokenized.  Make sure you apply {almost} the same tokenization when training language model. Alternatively, you can re-tokenize ner/pos data.\n",
        "\n",
        "\n",
        "![model3](https://github.com/yandexdataschool/nlp_course/raw/master/resources/gorynich_small.png)"
      ]
    },
    {
      "metadata": {
        "id": "o82BEDR2tOvY",
        "colab_type": "code",
        "colab": {}
      },
      "cell_type": "code",
      "source": [
        "import tensorflow_hub as hub\n",
        "import keras, keras.layers as L\n",
        "\n",
        "class MultitaskModel:\n",
        "    def __init__(self, name, emb_size=128, hid_size=128):\n",
        "        \"\"\" \n",
        "        Equivalent to the SimpleModel above, but with three\n",
        "        linear \"heads\": one for \"ne\" logits, second for \"pos\" and last for language modelling.\n",
        "        Both heads should grow from the same intermediate \"body\" layer\n",
        "        \"\"\"\n",
        "        # define layers:\n",
        "        self.elmo = hub.Module(\"https://tfhub.dev/google/elmo/2\", trainable=True)\n",
        "        self.linear_ne=L.Dense(len(vocabs['ne']))\n",
        "        self.linear_pos=L.Dense(len(vocabs['pos']))\n",
        "        self.linear_lm=L.Dense(len(vocabs['word']))\n",
        "\n",
        "\n",
        "    def __call__(self, input_ix):\n",
        "        \"\"\"\n",
        "        Compute logits for named entity recognition\n",
        "        \"\"\"\n",
        "        embeddings = self.elmo(\n",
        "          input_ix,\n",
        "          signature=\"default\",\n",
        "          as_dict=True)[\"elmo\"]\n",
        "\n",
        "\n",
        "        ner_logits = self.linear_ne(embeddings)#<YOUR_CODE>\n",
        "        pos_logits = self.linear_pos(embeddings)#<YOUR_CODE>\n",
        "        lm_logits = self.linear_lm(embeddings)#<YOUR_CODE>\n",
        "        return {'ne': ner_logits, 'pos': pos_logits, 'lm': lm_logits}"
      ],
      "execution_count": 0,
      "outputs": []
    },
    {
      "metadata": {
        "id": "K09PTkOctOvZ",
        "colab_type": "code",
        "colab": {
          "base_uri": "https://localhost:8080/",
          "height": 34
        },
        "outputId": "a6a85c84-a912-4f5d-ed1c-3a1f7c14cea0"
      },
      "cell_type": "code",
      "source": [
        "model = MultitaskModel('mod3')\n",
        "\n",
        "dummy_ix = tf.constant(['hello world'])\n",
        "dummy_out = model(dummy_ix)\n",
        "assert 'ne' in dummy_out and 'pos' in dummy_out and 'lm' in dummy_out\n",
        "\n",
        "sess.run(tf.global_variables_initializer())"
      ],
      "execution_count": 33,
      "outputs": [
        {
          "output_type": "stream",
          "text": [
            "INFO:tensorflow:Saver not created because there are no variables in the graph to restore\n"
          ],
          "name": "stdout"
        }
      ]
    },
    {
      "metadata": {
        "id": "0Oq51OMCtOvc",
        "colab_type": "text"
      },
      "cell_type": "markdown",
      "source": [
        "Different schemes for multitask learning with Language Model component.\n",
        "\n",
        "You can try at least two of them:\n",
        "* Pretrain network using monolingual data as Language Model and then train model as NER and POS tagger.\n",
        "* Train network alternately: one step on NER and POS tasks, one step on LM tasks. \n"
      ]
    },
    {
      "metadata": {
        "id": "ceOcDmBmtOvc",
        "colab_type": "code",
        "colab": {
          "base_uri": "https://localhost:8080/",
          "height": 34
        },
        "outputId": "b78082cb-7f62-4342-c601-cf5f4cea438d"
      },
      "cell_type": "code",
      "source": [
        "from utils import infer_mask\n",
        "\n",
        "\n",
        "\n",
        "class multitask_trainer:\n",
        "    \"\"\" A trainer that computes losses for both NER, POS and LM tasks and adds them together. \"\"\"\n",
        "    ph = {\n",
        "        'real_word': tf.placeholder('string', [None], name='real_input_tokens'),\n",
        "        'word': tf.placeholder('int32', [None, None], name='input_tokens'),\n",
        "        'ne': tf.placeholder('int32', [None, None], name='named_entities'),\n",
        "        'pos': tf.placeholder('int32', [None, None], name='part_of_speech_tags'),\n",
        "        'lm': tf.placeholder('int32', [None, None], name='output_tokens'),\n",
        "    }\n",
        "\n",
        "    logits = model(ph['real_word'])\n",
        "    mask = infer_mask(ph['word'])\n",
        "\n",
        "    # Compute loss for NER. Feel free to reuse the code from original trainer\n",
        "    ner_loss = -tf.nn.log_softmax(logits['ne'], -1) * tf.one_hot(ph['ne'], len(vocabs['ne']))\n",
        "    ner_loss = tf.reduce_sum(ner_loss * mask[:, :, None]) / tf.reduce_sum(mask)\n",
        "\n",
        "    # Compute the same kind of loss for POS.  (key: 'pos')\n",
        "    pos_loss = -tf.nn.log_softmax(logits['pos'], -1) * tf.one_hot(ph['pos'], len(vocabs['pos']))\n",
        "    pos_loss = tf.reduce_sum(pos_loss * mask[:, :, None]) / tf.reduce_sum(mask) \n",
        "\n",
        "    # Compute the same kind of loss for LM.\n",
        "\n",
        "    lm_loss = -tf.nn.log_softmax(logits['lm'], -1) * tf.one_hot(ph['lm'], len(vocabs['word']))\n",
        "    lm_loss = tf.reduce_sum(lm_loss * mask[:, :, None]) / tf.reduce_sum(mask) \n",
        "\n",
        "    # YOUR CODE HERE\n",
        "    loss = ner_loss + pos_loss + lm_loss\n",
        "    step = tf.train.AdamOptimizer().minimize(loss)\n"
      ],
      "execution_count": 34,
      "outputs": [
        {
          "output_type": "stream",
          "text": [
            "INFO:tensorflow:Saver not created because there are no variables in the graph to restore\n"
          ],
          "name": "stdout"
        }
      ]
    },
    {
      "metadata": {
        "id": "nRJtZfDitOvf",
        "colab_type": "code",
        "colab": {}
      },
      "cell_type": "code",
      "source": [
        "from tqdm import tqdm\n",
        "from IPython.display import clear_output\n",
        "import matplotlib.pyplot as plt\n",
        "%matplotlib inline\n",
        "\n",
        "loss_history = []\n",
        "dev_stats_history = StatsHistory()\n",
        "indomain_stats_history = StatsHistory()\n",
        "outdomain_stats_history = StatsHistory()\n",
        "\n",
        "sess.run(tf.global_variables_initializer())"
      ],
      "execution_count": 0,
      "outputs": []
    },
    {
      "metadata": {
        "id": "O1YYLrqC_zT_",
        "colab_type": "code",
        "colab": {}
      },
      "cell_type": "code",
      "source": [
        "def iterate_minibatches(data, batch_size=128, shuffle=True, cycle=False, max_batches=None):\n",
        "    indices = np.arange(len(data))\n",
        "    total_batches = 0\n",
        "    while True:\n",
        "        if shuffle: indices = np.random.permutation(indices)\n",
        "        for start_i in range(0, len(data), batch_size):\n",
        "            batch_ix = indices[start_i: start_i + batch_size]\n",
        "            temp=prepare_batch(data[batch_ix])\n",
        "            temp['real_word']=list(map(lambda x:x['word'],data[batch_ix]))\n",
        "            temp['lm']=np.array(temp['word'][:,1:])\n",
        "            yield temp\n",
        "            total_batches += 1\n",
        "            if max_batches and total_batches >= max_batches:\n",
        "                return\n",
        "        if not cycle: break"
      ],
      "execution_count": 0,
      "outputs": []
    },
    {
      "metadata": {
        "id": "JAyKv6mGI__4",
        "colab_type": "code",
        "colab": {
          "base_uri": "https://localhost:8080/",
          "height": 2689
        },
        "outputId": "6032e9b3-aa82-4a55-ec08-0d061fd0a2e7"
      },
      "cell_type": "code",
      "source": [
        "batch"
      ],
      "execution_count": 43,
      "outputs": [
        {
          "output_type": "execute_result",
          "data": {
            "text/plain": [
              "{'lm': array([[ 1729, 24243, 19771, ..., 17296, 17519,   292],\n",
              "        [  284,  5479, 19118, ...,     0,     0,     0],\n",
              "        [16641, 26806,  5131, ...,     0,     0,     0],\n",
              "        ...,\n",
              "        [ 8172, 17998,  9146, ...,     0,     0,     0],\n",
              "        [26231,  7098, 22952, ...,     0,     0,     0],\n",
              "        [19622, 18247, 22488, ...,     0,     0,     0]], dtype=int32),\n",
              " 'ne': array([[10, 10, 10, ..., 10, 10, 10],\n",
              "        [ 4, 10,  5, ...,  0,  0,  0],\n",
              "        [10, 10, 10, ...,  0,  0,  0],\n",
              "        ...,\n",
              "        [10, 10, 10, ...,  0,  0,  0],\n",
              "        [10, 10, 10, ...,  0,  0,  0],\n",
              "        [10, 10, 10, ...,  0,  0,  0]], dtype=int32),\n",
              " 'pos': array([[12, 10, 18, ..., 19, 21,  5],\n",
              "        [19, 23, 19, ...,  0,  0,  0],\n",
              "        [ 8, 21, 34, ...,  0,  0,  0],\n",
              "        ...,\n",
              "        [24, 34, 26, ...,  0,  0,  0],\n",
              "        [10,  9, 21, ...,  0,  0,  0],\n",
              "        [10, 18, 18, ...,  0,  0,  0]], dtype=int32),\n",
              " 'real_word': ['in a statement posted saturday on an islamist internet site , the group al-qaida in iraq said it targeted the chief of the algerian mission in baghdad as part of a campaign to drive out diplomats from other muslim nations .',\n",
              "  \"voa 's carol pearson has more .\",\n",
              "  'but militants used bulldozers to tear down the barriers , and hundreds of people demonstrated to demand the border remain open .',\n",
              "  'in 1994 , he pardoned current president hugo chavez , who was in prison at the time for leading a coup two years earlier .',\n",
              "  \"ukrainian opposition presidential candidate viktor yushchenko has accused his rival of trying to steal last month 's flawed election .\",\n",
              "  'the ecc said the candidates were given a chance to fight their disqualification , but they failed to prove their eligibility to run in the september election .',\n",
              "  \"south korea 's joint chiefs of staff said in a statement , the south korean navy radioed a warning about the border crossing , and 25 minutes later the patrol boat crossed back into north korean waters .\",\n",
              "  'president bush is to deliver a speech in washington wednesday in which he will offer proposals aimed at reining in high energy prices .',\n",
              "  'iraqi authorities say they have foiled an insurgent plot to bomb the trial of saddam hussein , which resumes in baghdad monday .',\n",
              "  'former soldiers and rebels who helped force haitian president jean-bertrand aristide into exile in south africa last february still control parts of the countryside .',\n",
              "  \"the two leaders are to meet monday at the president 's texas ranch , for talks also expected to focus on israel 's plan to expand its largest west bank settlement .\",\n",
              "  \"local media say almost everyone in the town knew one or more of the marines killed in this week 's attacks .\",\n",
              "  'the protest comes as israeli and palestinian leaders prepare to meet in washington this week to resume stalled middle east peace talks .',\n",
              "  'they say the new party would win at least 33 seats in the 120-member parliament .',\n",
              "  'a spokesman for the u.s. embassy says the contractor was abducted near baghdad .',\n",
              "  \"president dilma rousseff has pledged to retain the previous administration 's commitment to inflation targeting by the central bank , a floating exchange rate , and fiscal restraint .\",\n",
              "  'the associated press quotes u.s. treasury secretary john snow as saying the trade gap reflects the fact that americans are becoming more prosperous .',\n",
              "  'police say the building had a gas cylinder storage area and an ice cream factory on the ground floor .',\n",
              "  'nato disputes the report of civilian deaths in the helmand province attack .',\n",
              "  'militants accused the man of working with u.s. forces across the border in afghanistan .',\n",
              "  'venezuelan president hugo chavez rejects the generally accepted account that bolivar died of tuberculosis almost 200 years ago in colombia .',\n",
              "  'ford is the second largest u.s. automaker , and number three in the world after general motors and toyota .',\n",
              "  'muslim separatists in kashmir have been fighting for independence or a merger with pakistan since 1989 .',\n",
              "  'military spokeswoman lieutenant tamara lawrence says an investigation is under way to determine the cause of the crash .',\n",
              "  'bells tolled and bagpipes played in new york at the moment eight years ago when the first of two hijacked airliners slammed into the world trade center .',\n",
              "  'mr. cheney today acknowledged the difficulties and media scrutiny the incident has caused .',\n",
              "  'judge rizkar mohammed amin quit last week , complaining of government interference .',\n",
              "  'the red cross says lefevre was taken captive after he and another staffer had just completed a trip to help local communities upgrade their water systems .',\n",
              "  'sanctions were also imposed on two indian companies and an austrian firm .',\n",
              "  'the study says it takes about two weeks from the date of inoculation for a vaccine to protect a flock .',\n",
              "  '\" behold ! how pride goeth before a fall . \"',\n",
              "  \"some french lawmakers have boycotted a meeting with libyan leader moammar gadhafi in protest against his country 's human rights record .\",\n",
              "  \"one woman who has been an inspiration for women in afghanistan is massouda jalal , who ran for the nation 's highest office in its first presidential election in october 2004 .\",\n",
              "  'the police chief said there were no casualties among the afghan or foreign troops .',\n",
              "  'the three-member presidential council must approve the list , before it can go to the 275-member national assembly for a vote of approval .',\n",
              "  'most greek cypriots are followers of the greek orthodox church , which split with the roman catholic church in the 11th century , but the island has a small catholic community .',\n",
              "  'but last month members of opec decided to delay possible supply cuts despite the steep drop in crude oil prices .',\n",
              "  'in the subsequent half century , the finns made a remarkable transformation from a farm / forest economy to a diversified modern industrial economy ; per capita income is now among the highest in western europe .',\n",
              "  'nano-technology is used to make micro-miniature equipment by manipulating atoms and molecules .',\n",
              "  'yet another major carmaker is slashing jobs .',\n",
              "  'indonesia was the nation hardest-hit by the december 26 tsunami .',\n",
              "  'the commissioner \\'s office says some \"218000\" burundians were forced out of their homeland by violence that year , and now he would like to get as many home as possible .',\n",
              "  'mr. castro has appointed his 74-year-old brother raul to be his successor .',\n",
              "  'medics said three members of the group were killed .',\n",
              "  'the u.s. military has not said whether it would release the six prisoners .',\n",
              "  'the seventh marine also died on monday , in a car bomb blast in hit , about 70 kilometers southeast of haditha .',\n",
              "  'but reporters have occasionally been allowed to enter the country for brief assignments .',\n",
              "  'al-zawahiri also says the united states ignored a truce offer made by al-qaida leader osama bin laden in an audiotape broadcast two weeks ago if american forces withdraw from iraq and afghanistan .',\n",
              "  'australia says it will investigate a botched military operation in afghanistan in 2002 that killed 11 civilians .',\n",
              "  'and turkish shipping magnate kahraman sadikoglu , who was abducted in southern iraq in december , has been freed after reports said his family paid a ransom to his kidnappers .',\n",
              "  'the global lender said the world economy could shrink as much as one percent .',\n",
              "  'general musharraf fired chaudhry in march , accusing him of abuse of power .',\n",
              "  'mr. olmert says he would prefer to do this as part of an agreement with the palestinians .',\n",
              "  'italian soldiers have begun arriving in western afghanistan , under plans by nato to expand its peacekeeping mission in the country .',\n",
              "  'iraqi police said a roadside bombing in the northern city of mosul wednesday killed three children on their way home from school .',\n",
              "  'he faces a possible one-year prison sentence if he is convicted .',\n",
              "  'but as china modernizes , some warn that one of its most traditional arts is in danger of disappearing .',\n",
              "  'farc , along with a smaller rebel group and rightist paramilitaries , is locked in a long-running war with the government that kills thousands of people each year .',\n",
              "  'the fastest time of the session was clocked by mclaren-mercedes test driver alexander wurz of austria .',\n",
              "  'nobel laureate and former u.s. vice president al gore has endorsed fellow democrat , senator barack obama , for president .',\n",
              "  'the ousted taleban regime and its supporters have recently stepped up insurgent activities mainly in southern and eastern afghanistan .',\n",
              "  \"president kaczynski declared three days of mourning and has canceled monday 's scheduled visit to the czech republic .\",\n",
              "  'former cuban president fidel castro has appeared at a special session of parliament for the first time since 2006 , when he ceded power to his younger brother , raul .',\n",
              "  'the wfp had hired the kenyan vessel to carry 850 metric tons of rice donated by japan and germany .',\n",
              "  \"european union lawmakers say they hope to question two u.s. senators and the cia director about reports of the agency 's use of secret prisons in europe to house accused terrorists .\",\n",
              "  'photographer gabriele torsello was kidnapped in helmand province last week .',\n",
              "  'medina garrigues raced to a 05-jan lead in the first set before cho won the next three games .',\n",
              "  'taleban militants are waging a bloody insurgency in afghanistan .',\n",
              "  \"attorney-general peter goldsmith says thursday the incident occurred on a road in al-u'zayra in may , 2003 .\",\n",
              "  \"the united states , britain and several of burma 's neighbors in southeast asia have urged the military to release aung san suu kyi and take steps toward political reconciliation in burma .\",\n",
              "  \"iran 's new president , mahmoud ahmadinejad , declared at his swearing-in ceremony saturday that the iranian nation can not be intimidated .\",\n",
              "  'the young man was testifying wednesday against thomas lubanga , the first suspect to go on trial at the international criminal court in the hague .',\n",
              "  'au officials say the suspension will last several weeks .',\n",
              "  'mr. chavez cursed at u.s. officials in a sunday broadcast saying venezuela is exercising the legal authority of a free nation .',\n",
              "  'mr. chavez has repeatedly accused washington of trying to topple his government , an accusation the united states denies .',\n",
              "  'crowds are gathering in the u.s. city of new orleans tuesday to celebrate mardi gras , which literally means \" fat tuesday \" .',\n",
              "  'officials say the earthquake was centered in the hindu kush mountains of neighboring afghanistan .',\n",
              "  'the new donors have joined a charitable project called the \" giving pledge \" started by billionaires warren buffett and bill gates .',\n",
              "  'investors remain concerned that madrid may need to bail out more troubled banks .',\n",
              "  'the new government has established a state agency for statistics , but gdp numbers and other figures are subject to wide margins of error .',\n",
              "  'the u.s. military in iraq has charged a former commander of a u.s. prison in baghdad with several counts of wrongdoing , including unauthorized possession of classified information .',\n",
              "  'democrats on the house energy and commerce committee have said they will examine the shutdown which cut u.s. oil production by about eight percent .',\n",
              "  \"police arrested labor 's chief fundraiser , michael levy , earlier this year in connection with the probe .\",\n",
              "  'reports say the palestinian leader underwent an angioplasty , or procedure aimed at opening clogged heart arteries to increase the blood flow to his heart .',\n",
              "  'they say they have sent 45-thousand electronic protest messages to google executives as well .',\n",
              "  'mr. al-assad also said he would welcome an increased russian role in the middle east .',\n",
              "  'the news agency says those who swapped clothes with the prisoners are being held for questioning .',\n",
              "  'meanwhile , insurgent attacks continue in iraq .',\n",
              "  'kevin costner is suing a music promoter , alleging the company breached a contract to back his fledgling music career .',\n",
              "  'hundreds of millions of christians worldwide are celebrating christmas saturday .',\n",
              "  'he has now won 15 latin grammys in his career .',\n",
              "  'australian prime minister john howard , british foreign secretary jack straw and chinese president hu jintao also condemned the attacks .',\n",
              "  'unidentified kidnappers abducted ms. hassan last month and called on britain to withdraw its troops from iraq .',\n",
              "  'the authorities say the claims are untrue .',\n",
              "  'a compact of free association with the us was approved in 1986 but not ratified until 1993 .',\n",
              "  'mr. soonthorn was taken to a provincial hospital after the shooting .',\n",
              "  'the decision comes just weeks ahead of a u.s. supreme court hearing in the case of jose medellin , one of five gang members sentenced to death for the rape and murder of two texas girls in 1993 .',\n",
              "  'authorities say three missiles struck a compound monday about 25 kilometers east of miranshah , the main town in north waziristan , a known insurgent stronghold .',\n",
              "  'in neighboring bangladesh , foreign minister m. morshed khan urged western countries \" to restrain israel \" from such attacks and said many western countries use a double standard in dealing with the middle east .',\n",
              "  'the military says it takes the deaths seriously .',\n",
              "  'in a letter to the white house , mr. kerik says he has uncovered information which has caused him to question the immigration status of a nanny he had employed .',\n",
              "  'the military issued a statement saying coalition forces staged the raid early friday , in the admhaiyah section of baghdad , about three kilometers northwest of sadr city .',\n",
              "  'the arabic language television network al-jazeera thursday broadcast what it said is a videotape of one of the bombers , mohammad sidique khan , made just before the attack .',\n",
              "  'prices for crude for future delivery went as high as $ 105.97 before easing slightly .',\n",
              "  'european markets gained between two and three percent by the close of trading .',\n",
              "  \"u.n. officials said monday burma 's military government had agreed to let outside donors pay local companies directly in dollars rather than via the official system involving foreign exchange certificates .\",\n",
              "  'it also says beijing has exported hundreds of military trucks to burma and sudan .',\n",
              "  'privatization goals remain limited .',\n",
              "  'organization officials say more than \"1170\" cases were reported last year compared to 784 in 2003 .',\n",
              "  'and officials say unknown gunmen shot to death two local government officials in the capital late wednesday .',\n",
              "  'witnesses say two bystanders also were killed .',\n",
              "  'orthodox christians across the globe who retain the julian calendar are celebrating christmas monday .',\n",
              "  'the airline also took six planes out of service recently .',\n",
              "  'their trial resumed briefly tuesday after a two week break with the defendants and their legal team present .',\n",
              "  'the kremlin has denied the charge .',\n",
              "  'despite evidence to suggest that high fuel prices are not justified -- weakening demand and growing supplies have been unable to stop skyrocketing prices .',\n",
              "  'i would remind you that it is not right to condemn a whole profession just because of \"350000\" bad apples .',\n",
              "  'election officials had been waiting until mr. yanukovych exhausted his appeals to the supreme court before officially declaring a winner .',\n",
              "  'the campaign of barack obama says the democratic presidential hopeful is about to choose a running mate and wants his supporters to be the first to know .',\n",
              "  'under the plan announced tuesday by interior minister kongsak wanthana , the government will install at least 500 television sets in local stores .',\n",
              "  \"some called for a boycott of this year 's olympics , but tibet 's exiled spiritual leader , the dalai lama , says he does not oppose beijing 's role as host of the summer games .\",\n",
              "  'the dispute has been intensified by the effect the proposed change could have on future supreme court nominations .',\n",
              "  'electoral officials say the southern gali district will hold a re-vote on october 17 because of voting problems .',\n",
              "  \"the un envoy is pushing for reconciliation between burma 's military rulers and pro-democracy forces let by aung san suu kyi .\",\n",
              "  'also in northern iraq , kurdish officials say search teams have located a small plane that crashed three days ago near sulaimaniyah .',\n",
              "  'he did not elaborate on what the two sides discussed .',\n",
              "  'the two countries severed ties in 1983 after north korean agents carried out a bombing in rangoon that killed more than 20 people during a visit by south korean president chun doo-hwan .',\n",
              "  'a police official says three police guards were killed and six others were wounded in the early morning attack wednesday .'],\n",
              " 'word': array([[13112,  1729, 24243, ..., 17296, 17519,   292],\n",
              "        [27172,   284,  5479, ...,     0,     0,     0],\n",
              "        [ 5209, 16641, 26806, ...,     0,     0,     0],\n",
              "        ...,\n",
              "        [12239,  8172, 17998, ...,     0,     0,     0],\n",
              "        [25433, 26231,  7098, ...,     0,     0,     0],\n",
              "        [ 1729, 19622, 18247, ...,     0,     0,     0]], dtype=int32)}"
            ]
          },
          "metadata": {
            "tags": []
          },
          "execution_count": 43
        }
      ]
    },
    {
      "metadata": {
        "id": "OBWNhRw-tOvg",
        "colab_type": "code",
        "colab": {
          "base_uri": "https://localhost:8080/",
          "height": 2228
        },
        "outputId": "4f71d179-8d4c-409a-d5aa-16e8493148e6"
      },
      "cell_type": "code",
      "source": [
        "for batch in tqdm(iterate_minibatches(train_data, cycle=True, max_batches=2500), total=2500):\n",
        "    loss_t, _ = sess.run([multitask_trainer.loss, multitask_trainer.step], \n",
        "                         {multitask_trainer.ph[key]: batch[key] for key in multitask_trainer.ph})\n",
        "    loss_history.append(loss_t)\n",
        "    \n",
        "    if len(loss_history) % 100 == 0:\n",
        "        # YOUR CODE HERE\n",
        "        \n",
        "        precision, recall, f1 = compute_stats(multitask_trainer, dev_data, vocabs, verbose=True)\n",
        "        dev_stats_history.precision.append(precision)\n",
        "        dev_stats_history.recall.append(recall)\n",
        "        dev_stats_history.f1.append(f1)\n",
        "        \n",
        "        clear_output(True)\n",
        "        \n",
        "        _, _, f1 = compute_stats(multitask_trainer, test_outdomain_data, vocabs, verbose=True)\n",
        "        outdomain_stats_history.f1.append(f1)\n",
        "        \n",
        "        _, _, f1 = compute_stats(multitask_trainer, test_indomain_data, vocabs, verbose=True)\n",
        "        indomain_stats_history.f1.append(f1)\n",
        "        \n",
        "        clear_output(True)\n",
        "        plt.figure(figsize=[12, 6])\n",
        "        plt.subplot(1, 2, 1)\n",
        "        plt.plot(loss_history)\n",
        "        plt.title('train loss'), plt.grid()\n",
        "        plt.subplot(1, 2, 2)\n",
        "        \n",
        "        plt.plot(np.arange(1, len(dev_stats_history.f1) + 1) * eval_every, dev_stats_history.f1, label=\"dev f1\")\n",
        "        plt.plot(np.arange(1, len(outdomain_stats_history.f1) + 1) * eval_every, outdomain_stats_history.f1, label=\"outdomain f1\")\n",
        "        plt.plot(np.arange(1, len(indomain_stats_history.f1) + 1) * eval_every, indomain_stats_history.f1, label=\"indomain f1\")\n",
        "        \n",
        "        plt.title('dev stats %'), plt.grid()\n",
        "        plt.show()"
      ],
      "execution_count": 42,
      "outputs": [
        {
          "output_type": "stream",
          "text": [
            "\r  0%|          | 0/2500 [00:00<?, ?it/s]\n"
          ],
          "name": "stderr"
        },
        {
          "output_type": "error",
          "ename": "InvalidArgumentError",
          "evalue": "ignored",
          "traceback": [
            "\u001b[0;31m---------------------------------------------------------------------------\u001b[0m",
            "\u001b[0;31mInvalidArgumentError\u001b[0m                      Traceback (most recent call last)",
            "\u001b[0;32m/usr/local/lib/python3.6/dist-packages/tensorflow/python/client/session.py\u001b[0m in \u001b[0;36m_do_call\u001b[0;34m(self, fn, *args)\u001b[0m\n\u001b[1;32m   1333\u001b[0m     \u001b[0;32mtry\u001b[0m\u001b[0;34m:\u001b[0m\u001b[0;34m\u001b[0m\u001b[0;34m\u001b[0m\u001b[0m\n\u001b[0;32m-> 1334\u001b[0;31m       \u001b[0;32mreturn\u001b[0m \u001b[0mfn\u001b[0m\u001b[0;34m(\u001b[0m\u001b[0;34m*\u001b[0m\u001b[0margs\u001b[0m\u001b[0;34m)\u001b[0m\u001b[0;34m\u001b[0m\u001b[0;34m\u001b[0m\u001b[0m\n\u001b[0m\u001b[1;32m   1335\u001b[0m     \u001b[0;32mexcept\u001b[0m \u001b[0merrors\u001b[0m\u001b[0;34m.\u001b[0m\u001b[0mOpError\u001b[0m \u001b[0;32mas\u001b[0m \u001b[0me\u001b[0m\u001b[0;34m:\u001b[0m\u001b[0;34m\u001b[0m\u001b[0;34m\u001b[0m\u001b[0m\n",
            "\u001b[0;32m/usr/local/lib/python3.6/dist-packages/tensorflow/python/client/session.py\u001b[0m in \u001b[0;36m_run_fn\u001b[0;34m(feed_dict, fetch_list, target_list, options, run_metadata)\u001b[0m\n\u001b[1;32m   1318\u001b[0m       return self._call_tf_sessionrun(\n\u001b[0;32m-> 1319\u001b[0;31m           options, feed_dict, fetch_list, target_list, run_metadata)\n\u001b[0m\u001b[1;32m   1320\u001b[0m \u001b[0;34m\u001b[0m\u001b[0m\n",
            "\u001b[0;32m/usr/local/lib/python3.6/dist-packages/tensorflow/python/client/session.py\u001b[0m in \u001b[0;36m_call_tf_sessionrun\u001b[0;34m(self, options, feed_dict, fetch_list, target_list, run_metadata)\u001b[0m\n\u001b[1;32m   1406\u001b[0m         \u001b[0mself\u001b[0m\u001b[0;34m.\u001b[0m\u001b[0m_session\u001b[0m\u001b[0;34m,\u001b[0m \u001b[0moptions\u001b[0m\u001b[0;34m,\u001b[0m \u001b[0mfeed_dict\u001b[0m\u001b[0;34m,\u001b[0m \u001b[0mfetch_list\u001b[0m\u001b[0;34m,\u001b[0m \u001b[0mtarget_list\u001b[0m\u001b[0;34m,\u001b[0m\u001b[0;34m\u001b[0m\u001b[0;34m\u001b[0m\u001b[0m\n\u001b[0;32m-> 1407\u001b[0;31m         run_metadata)\n\u001b[0m\u001b[1;32m   1408\u001b[0m \u001b[0;34m\u001b[0m\u001b[0m\n",
            "\u001b[0;31mInvalidArgumentError\u001b[0m: Could not colocate node with its resource and reference inputs; devices /job:localhost/replica:0/task:0/device:CPU:0 and /job:localhost/replica:0/task:0/device:GPU:0 are not compatible.\n\t [[{{node Adam_1/update_module_3/aggregation/weights/ResourceApplyAdam}} = ResourceApplyAdam[T=DT_FLOAT, _class=[\"loc:@Adam_1/update_module_3/aggregation/weights/Read/ReadVariableOp\"], use_locking=false, use_nesterov=false](module_3/aggregation/weights, module_3/aggregation/weights/Adam, module_3/aggregation/weights/Adam_1, beta1_power_1/read, beta2_power_1/read, Adam_1/learning_rate, Adam_1/beta1, Adam_1/beta2, Adam_1/epsilon, gradients_1/module_3_apply_default_1/aggregation/Reshape_grad/Reshape)]]",
            "\nDuring handling of the above exception, another exception occurred:\n",
            "\u001b[0;31mInvalidArgumentError\u001b[0m                      Traceback (most recent call last)",
            "\u001b[0;32m<ipython-input-42-866aad1fd5ff>\u001b[0m in \u001b[0;36m<module>\u001b[0;34m()\u001b[0m\n\u001b[1;32m      1\u001b[0m \u001b[0;32mfor\u001b[0m \u001b[0mbatch\u001b[0m \u001b[0;32min\u001b[0m \u001b[0mtqdm\u001b[0m\u001b[0;34m(\u001b[0m\u001b[0miterate_minibatches\u001b[0m\u001b[0;34m(\u001b[0m\u001b[0mtrain_data\u001b[0m\u001b[0;34m,\u001b[0m \u001b[0mcycle\u001b[0m\u001b[0;34m=\u001b[0m\u001b[0;32mTrue\u001b[0m\u001b[0;34m,\u001b[0m \u001b[0mmax_batches\u001b[0m\u001b[0;34m=\u001b[0m\u001b[0;36m2500\u001b[0m\u001b[0;34m)\u001b[0m\u001b[0;34m,\u001b[0m \u001b[0mtotal\u001b[0m\u001b[0;34m=\u001b[0m\u001b[0;36m2500\u001b[0m\u001b[0;34m)\u001b[0m\u001b[0;34m:\u001b[0m\u001b[0;34m\u001b[0m\u001b[0;34m\u001b[0m\u001b[0m\n\u001b[1;32m      2\u001b[0m     loss_t, _ = sess.run([multitask_trainer.loss, multitask_trainer.step], \n\u001b[0;32m----> 3\u001b[0;31m                          {multitask_trainer.ph[key]: batch[key] for key in multitask_trainer.ph})\n\u001b[0m\u001b[1;32m      4\u001b[0m     \u001b[0mloss_history\u001b[0m\u001b[0;34m.\u001b[0m\u001b[0mappend\u001b[0m\u001b[0;34m(\u001b[0m\u001b[0mloss_t\u001b[0m\u001b[0;34m)\u001b[0m\u001b[0;34m\u001b[0m\u001b[0;34m\u001b[0m\u001b[0m\n\u001b[1;32m      5\u001b[0m \u001b[0;34m\u001b[0m\u001b[0m\n",
            "\u001b[0;32m/usr/local/lib/python3.6/dist-packages/tensorflow/python/client/session.py\u001b[0m in \u001b[0;36mrun\u001b[0;34m(self, fetches, feed_dict, options, run_metadata)\u001b[0m\n\u001b[1;32m    927\u001b[0m     \u001b[0;32mtry\u001b[0m\u001b[0;34m:\u001b[0m\u001b[0;34m\u001b[0m\u001b[0;34m\u001b[0m\u001b[0m\n\u001b[1;32m    928\u001b[0m       result = self._run(None, fetches, feed_dict, options_ptr,\n\u001b[0;32m--> 929\u001b[0;31m                          run_metadata_ptr)\n\u001b[0m\u001b[1;32m    930\u001b[0m       \u001b[0;32mif\u001b[0m \u001b[0mrun_metadata\u001b[0m\u001b[0;34m:\u001b[0m\u001b[0;34m\u001b[0m\u001b[0;34m\u001b[0m\u001b[0m\n\u001b[1;32m    931\u001b[0m         \u001b[0mproto_data\u001b[0m \u001b[0;34m=\u001b[0m \u001b[0mtf_session\u001b[0m\u001b[0;34m.\u001b[0m\u001b[0mTF_GetBuffer\u001b[0m\u001b[0;34m(\u001b[0m\u001b[0mrun_metadata_ptr\u001b[0m\u001b[0;34m)\u001b[0m\u001b[0;34m\u001b[0m\u001b[0;34m\u001b[0m\u001b[0m\n",
            "\u001b[0;32m/usr/local/lib/python3.6/dist-packages/tensorflow/python/client/session.py\u001b[0m in \u001b[0;36m_run\u001b[0;34m(self, handle, fetches, feed_dict, options, run_metadata)\u001b[0m\n\u001b[1;32m   1150\u001b[0m     \u001b[0;32mif\u001b[0m \u001b[0mfinal_fetches\u001b[0m \u001b[0;32mor\u001b[0m \u001b[0mfinal_targets\u001b[0m \u001b[0;32mor\u001b[0m \u001b[0;34m(\u001b[0m\u001b[0mhandle\u001b[0m \u001b[0;32mand\u001b[0m \u001b[0mfeed_dict_tensor\u001b[0m\u001b[0;34m)\u001b[0m\u001b[0;34m:\u001b[0m\u001b[0;34m\u001b[0m\u001b[0;34m\u001b[0m\u001b[0m\n\u001b[1;32m   1151\u001b[0m       results = self._do_run(handle, final_targets, final_fetches,\n\u001b[0;32m-> 1152\u001b[0;31m                              feed_dict_tensor, options, run_metadata)\n\u001b[0m\u001b[1;32m   1153\u001b[0m     \u001b[0;32melse\u001b[0m\u001b[0;34m:\u001b[0m\u001b[0;34m\u001b[0m\u001b[0;34m\u001b[0m\u001b[0m\n\u001b[1;32m   1154\u001b[0m       \u001b[0mresults\u001b[0m \u001b[0;34m=\u001b[0m \u001b[0;34m[\u001b[0m\u001b[0;34m]\u001b[0m\u001b[0;34m\u001b[0m\u001b[0;34m\u001b[0m\u001b[0m\n",
            "\u001b[0;32m/usr/local/lib/python3.6/dist-packages/tensorflow/python/client/session.py\u001b[0m in \u001b[0;36m_do_run\u001b[0;34m(self, handle, target_list, fetch_list, feed_dict, options, run_metadata)\u001b[0m\n\u001b[1;32m   1326\u001b[0m     \u001b[0;32mif\u001b[0m \u001b[0mhandle\u001b[0m \u001b[0;32mis\u001b[0m \u001b[0;32mNone\u001b[0m\u001b[0;34m:\u001b[0m\u001b[0;34m\u001b[0m\u001b[0;34m\u001b[0m\u001b[0m\n\u001b[1;32m   1327\u001b[0m       return self._do_call(_run_fn, feeds, fetches, targets, options,\n\u001b[0;32m-> 1328\u001b[0;31m                            run_metadata)\n\u001b[0m\u001b[1;32m   1329\u001b[0m     \u001b[0;32melse\u001b[0m\u001b[0;34m:\u001b[0m\u001b[0;34m\u001b[0m\u001b[0;34m\u001b[0m\u001b[0m\n\u001b[1;32m   1330\u001b[0m       \u001b[0;32mreturn\u001b[0m \u001b[0mself\u001b[0m\u001b[0;34m.\u001b[0m\u001b[0m_do_call\u001b[0m\u001b[0;34m(\u001b[0m\u001b[0m_prun_fn\u001b[0m\u001b[0;34m,\u001b[0m \u001b[0mhandle\u001b[0m\u001b[0;34m,\u001b[0m \u001b[0mfeeds\u001b[0m\u001b[0;34m,\u001b[0m \u001b[0mfetches\u001b[0m\u001b[0;34m)\u001b[0m\u001b[0;34m\u001b[0m\u001b[0;34m\u001b[0m\u001b[0m\n",
            "\u001b[0;32m/usr/local/lib/python3.6/dist-packages/tensorflow/python/client/session.py\u001b[0m in \u001b[0;36m_do_call\u001b[0;34m(self, fn, *args)\u001b[0m\n\u001b[1;32m   1346\u001b[0m           \u001b[0;32mpass\u001b[0m\u001b[0;34m\u001b[0m\u001b[0;34m\u001b[0m\u001b[0m\n\u001b[1;32m   1347\u001b[0m       \u001b[0mmessage\u001b[0m \u001b[0;34m=\u001b[0m \u001b[0merror_interpolation\u001b[0m\u001b[0;34m.\u001b[0m\u001b[0minterpolate\u001b[0m\u001b[0;34m(\u001b[0m\u001b[0mmessage\u001b[0m\u001b[0;34m,\u001b[0m \u001b[0mself\u001b[0m\u001b[0;34m.\u001b[0m\u001b[0m_graph\u001b[0m\u001b[0;34m)\u001b[0m\u001b[0;34m\u001b[0m\u001b[0;34m\u001b[0m\u001b[0m\n\u001b[0;32m-> 1348\u001b[0;31m       \u001b[0;32mraise\u001b[0m \u001b[0mtype\u001b[0m\u001b[0;34m(\u001b[0m\u001b[0me\u001b[0m\u001b[0;34m)\u001b[0m\u001b[0;34m(\u001b[0m\u001b[0mnode_def\u001b[0m\u001b[0;34m,\u001b[0m \u001b[0mop\u001b[0m\u001b[0;34m,\u001b[0m \u001b[0mmessage\u001b[0m\u001b[0;34m)\u001b[0m\u001b[0;34m\u001b[0m\u001b[0;34m\u001b[0m\u001b[0m\n\u001b[0m\u001b[1;32m   1349\u001b[0m \u001b[0;34m\u001b[0m\u001b[0m\n\u001b[1;32m   1350\u001b[0m   \u001b[0;32mdef\u001b[0m \u001b[0m_extend_graph\u001b[0m\u001b[0;34m(\u001b[0m\u001b[0mself\u001b[0m\u001b[0;34m)\u001b[0m\u001b[0;34m:\u001b[0m\u001b[0;34m\u001b[0m\u001b[0;34m\u001b[0m\u001b[0m\n",
            "\u001b[0;31mInvalidArgumentError\u001b[0m: Could not colocate node with its resource and reference inputs; devices /job:localhost/replica:0/task:0/device:CPU:0 and /job:localhost/replica:0/task:0/device:GPU:0 are not compatible.\n\t [[node Adam_1/update_module_3/aggregation/weights/ResourceApplyAdam (defined at <ipython-input-34-39ea1b7ccb32>:33)  = ResourceApplyAdam[T=DT_FLOAT, _class=[\"loc:@Adam_1/update_module_3/aggregation/weights/Read/ReadVariableOp\"], use_locking=false, use_nesterov=false](module_3/aggregation/weights, module_3/aggregation/weights/Adam, module_3/aggregation/weights/Adam_1, beta1_power_1/read, beta2_power_1/read, Adam_1/learning_rate, Adam_1/beta1, Adam_1/beta2, Adam_1/epsilon, gradients_1/module_3_apply_default_1/aggregation/Reshape_grad/Reshape)]]\n\nCaused by op 'Adam_1/update_module_3/aggregation/weights/ResourceApplyAdam', defined at:\n  File \"/usr/lib/python3.6/runpy.py\", line 193, in _run_module_as_main\n    \"__main__\", mod_spec)\n  File \"/usr/lib/python3.6/runpy.py\", line 85, in _run_code\n    exec(code, run_globals)\n  File \"/usr/local/lib/python3.6/dist-packages/ipykernel_launcher.py\", line 16, in <module>\n    app.launch_new_instance()\n  File \"/usr/local/lib/python3.6/dist-packages/traitlets/config/application.py\", line 658, in launch_instance\n    app.start()\n  File \"/usr/local/lib/python3.6/dist-packages/ipykernel/kernelapp.py\", line 477, in start\n    ioloop.IOLoop.instance().start()\n  File \"/usr/local/lib/python3.6/dist-packages/tornado/ioloop.py\", line 888, in start\n    handler_func(fd_obj, events)\n  File \"/usr/local/lib/python3.6/dist-packages/tornado/stack_context.py\", line 277, in null_wrapper\n    return fn(*args, **kwargs)\n  File \"/usr/local/lib/python3.6/dist-packages/zmq/eventloop/zmqstream.py\", line 450, in _handle_events\n    self._handle_recv()\n  File \"/usr/local/lib/python3.6/dist-packages/zmq/eventloop/zmqstream.py\", line 480, in _handle_recv\n    self._run_callback(callback, msg)\n  File \"/usr/local/lib/python3.6/dist-packages/zmq/eventloop/zmqstream.py\", line 432, in _run_callback\n    callback(*args, **kwargs)\n  File \"/usr/local/lib/python3.6/dist-packages/tornado/stack_context.py\", line 277, in null_wrapper\n    return fn(*args, **kwargs)\n  File \"/usr/local/lib/python3.6/dist-packages/ipykernel/kernelbase.py\", line 283, in dispatcher\n    return self.dispatch_shell(stream, msg)\n  File \"/usr/local/lib/python3.6/dist-packages/ipykernel/kernelbase.py\", line 235, in dispatch_shell\n    handler(stream, idents, msg)\n  File \"/usr/local/lib/python3.6/dist-packages/ipykernel/kernelbase.py\", line 399, in execute_request\n    user_expressions, allow_stdin)\n  File \"/usr/local/lib/python3.6/dist-packages/ipykernel/ipkernel.py\", line 196, in do_execute\n    res = shell.run_cell(code, store_history=store_history, silent=silent)\n  File \"/usr/local/lib/python3.6/dist-packages/ipykernel/zmqshell.py\", line 533, in run_cell\n    return super(ZMQInteractiveShell, self).run_cell(*args, **kwargs)\n  File \"/usr/local/lib/python3.6/dist-packages/IPython/core/interactiveshell.py\", line 2718, in run_cell\n    interactivity=interactivity, compiler=compiler, result=result)\n  File \"/usr/local/lib/python3.6/dist-packages/IPython/core/interactiveshell.py\", line 2822, in run_ast_nodes\n    if self.run_code(code, result):\n  File \"/usr/local/lib/python3.6/dist-packages/IPython/core/interactiveshell.py\", line 2882, in run_code\n    exec(code_obj, self.user_global_ns, self.user_ns)\n  File \"<ipython-input-34-39ea1b7ccb32>\", line 5, in <module>\n    class multitask_trainer:\n  File \"<ipython-input-34-39ea1b7ccb32>\", line 33, in multitask_trainer\n    step = tf.train.AdamOptimizer().minimize(loss)\n  File \"/usr/local/lib/python3.6/dist-packages/tensorflow/python/training/optimizer.py\", line 410, in minimize\n    name=name)\n  File \"/usr/local/lib/python3.6/dist-packages/tensorflow/python/training/optimizer.py\", line 610, in apply_gradients\n    update_ops.append(processor.update_op(self, grad))\n  File \"/usr/local/lib/python3.6/dist-packages/tensorflow/python/training/optimizer.py\", line 167, in update_op\n    update_op = optimizer._resource_apply_dense(g, self._v)\n  File \"/usr/local/lib/python3.6/dist-packages/tensorflow/python/training/adam.py\", line 175, in _resource_apply_dense\n    grad, use_locking=self._use_locking)\n  File \"/usr/local/lib/python3.6/dist-packages/tensorflow/python/training/gen_training_ops.py\", line 1243, in resource_apply_adam\n    use_nesterov=use_nesterov, name=name)\n  File \"/usr/local/lib/python3.6/dist-packages/tensorflow/python/framework/op_def_library.py\", line 787, in _apply_op_helper\n    op_def=op_def)\n  File \"/usr/local/lib/python3.6/dist-packages/tensorflow/python/util/deprecation.py\", line 488, in new_func\n    return func(*args, **kwargs)\n  File \"/usr/local/lib/python3.6/dist-packages/tensorflow/python/framework/ops.py\", line 3274, in create_op\n    op_def=op_def)\n  File \"/usr/local/lib/python3.6/dist-packages/tensorflow/python/framework/ops.py\", line 1770, in __init__\n    self._traceback = tf_stack.extract_stack()\n\nInvalidArgumentError (see above for traceback): Could not colocate node with its resource and reference inputs; devices /job:localhost/replica:0/task:0/device:CPU:0 and /job:localhost/replica:0/task:0/device:GPU:0 are not compatible.\n\t [[node Adam_1/update_module_3/aggregation/weights/ResourceApplyAdam (defined at <ipython-input-34-39ea1b7ccb32>:33)  = ResourceApplyAdam[T=DT_FLOAT, _class=[\"loc:@Adam_1/update_module_3/aggregation/weights/Read/ReadVariableOp\"], use_locking=false, use_nesterov=false](module_3/aggregation/weights, module_3/aggregation/weights/Adam, module_3/aggregation/weights/Adam_1, beta1_power_1/read, beta2_power_1/read, Adam_1/learning_rate, Adam_1/beta1, Adam_1/beta2, Adam_1/epsilon, gradients_1/module_3_apply_default_1/aggregation/Reshape_grad/Reshape)]]\n"
          ]
        }
      ]
    },
    {
      "metadata": {
        "id": "WVTdgR3HtOvh",
        "colab_type": "text"
      },
      "cell_type": "markdown",
      "source": [
        "# Structured prediction for NEs (2 points)\n",
        "\n",
        "![lstm_crf_ner](https://github.com/yandexdataschool/nlp_course/raw/master/resources/lstm_crf_ner.png)\n",
        "\n",
        "[_Picture from  Lample et al._](https://arxiv.org/abs/1603.01360)\n",
        "\n",
        "A setup with seq2seq and cross-entropy loss for tagging is not so good. Because in the case tagging there is an important constraint: input and output sequence have same length, and the number of output token types is much less than the number of input token types.\n",
        "\n",
        "To use this constraint effectively it is good idea to try structured [CRF loss](https://github.com/tensorflow/tensorflow/tree/master/tensorflow/contrib/crf) for NER (and POS)\n",
        "\n",
        "\n",
        "A good example of TensorFlow implementation of NER NN with CRF loss can be found in the [blogpost](https://guillaumegenthial.github.io/sequence-tagging-with-tensorflow.html)"
      ]
    },
    {
      "metadata": {
        "id": "jhJEL-eetOvi",
        "colab_type": "text"
      },
      "cell_type": "markdown",
      "source": [
        "## Dealing with letter case and rare entities (1 points)\n",
        "\n",
        "![lstm_crf_ner](https://github.com/yandexdataschool/nlp_course/raw/master/resources/word_and_char_embedding_concat.png)\n",
        "\n",
        "[_Picture from  Lample et al._](https://arxiv.org/abs/1603.01360)\n",
        "\n",
        "First, in European languages (both English and Russian) personal names, companies, geographical names are capitalized traditionally. Thus the letter case carries a powerful signal for named entities recognition. So it is good to utilize it.\n",
        "\n",
        "Second, most of named entities are rare words. In testsets (both from source and target distributions) they are replaced by _UNK_. To deal with OOV words you can try different approaches (feel free!). For example:\n",
        "\n",
        "* You can use additional character-level recurrent layers to obtain character-aware word embeddings (see scheme on the picture above)\n",
        "* You can use pretrained embeddings with character ngram information ([FastText](https://github.com/facebookresearch/fastText/blob/master/pretrained-vectors.md))\n",
        "* You can split words by subword units using [BPE](https://arxiv.org/abs/1508.07909)"
      ]
    },
    {
      "metadata": {
        "id": "4p5EkoRrtOvj",
        "colab_type": "text"
      },
      "cell_type": "markdown",
      "source": [
        "## Domain adaptation via proxy-labels (2 points)"
      ]
    },
    {
      "metadata": {
        "id": "0pVEFuQPtOvk",
        "colab_type": "text"
      },
      "cell_type": "markdown",
      "source": [
        "As you can see above the quality of NER on the target domain (internet comments) is much worse than on the source domain (news). This is not surprising.\n",
        "\n",
        "To overcome the problem we offer you to implement any kind of proxy-label method. A good overview on this kind of methods can be found [here](https://arxiv.org/abs/1804.09530)\n",
        "\n",
        "__ATTENTION!!!__ For proxy-labeling use monolingual target-domain dataset (not testset!).\n",
        "\n",
        "Good luck!"
      ]
    },
    {
      "metadata": {
        "id": "whBfQr5JtOvk",
        "colab_type": "code",
        "colab": {}
      },
      "cell_type": "code",
      "source": [
        ""
      ],
      "execution_count": 0,
      "outputs": []
    }
  ]
}